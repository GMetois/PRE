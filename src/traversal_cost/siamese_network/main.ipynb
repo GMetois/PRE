{
 "cells": [
  {
   "cell_type": "code",
   "execution_count": 1,
   "metadata": {},
   "outputs": [],
   "source": [
    "# Import libraries\n",
    "import torch\n",
    "import torch.nn as nn\n",
    "from torch import optim\n",
    "from torch.utils.data import DataLoader, Dataset, Subset\n",
    "import torch.nn.functional as F\n",
    "\n",
    "# A module to print a model summary (outputs shape, number of parameters, ...)\n",
    "import torchsummary\n",
    "\n",
    "# TensorBoard for visualization\n",
    "from torch.utils.tensorboard import SummaryWriter\n",
    "\n",
    "from tqdm import tqdm\n",
    "\n",
    "import pandas as pd\n",
    "import numpy as np\n",
    "import os\n",
    "import io\n",
    "import matplotlib.pyplot as plt\n",
    "plt.rcParams.update({\n",
    "    \"pgf.texsystem\": \"pdflatex\",\n",
    "    'font.family': 'serif',\n",
    "    'text.usetex': True,\n",
    "    'pgf.rcfonts': False,\n",
    "})\n",
    "from sklearn.model_selection import train_test_split\n",
    "from PIL import Image\n",
    "from datetime import datetime\n",
    "\n",
    "\n",
    "# Custom modules and packages\n",
    "import params.siamese\n",
    "import traversalcost.utils\n",
    "from dataset import SiameseNetworkDataset\n",
    "from model import SiameseNetwork\n",
    "from loss import SiameseLoss\n",
    "from train import train\n",
    "from validate import validate\n",
    "from test import test\n",
    "from result import parameters_table, generate_log"
   ]
  },
  {
   "attachments": {},
   "cell_type": "markdown",
   "metadata": {},
   "source": [
    "## Load learning parameters"
   ]
  },
  {
   "cell_type": "code",
   "execution_count": 2,
   "metadata": {},
   "outputs": [],
   "source": [
    "LEARNING_PARAMS = params.siamese.LEARNING"
   ]
  },
  {
   "attachments": {},
   "cell_type": "markdown",
   "metadata": {},
   "source": [
    "## Prepare data"
   ]
  },
  {
   "cell_type": "code",
   "execution_count": 3,
   "metadata": {},
   "outputs": [],
   "source": [
    "# Create a Dataset for training\n",
    "train_set = SiameseNetworkDataset(\n",
    "    pairs_file=params.siamese.DATASET+\"pairs_train.csv\",\n",
    "    features_directory=params.siamese.DATASET+\"features\",\n",
    ")\n",
    "\n",
    "# Create a Dataset for validation\n",
    "# (same as training here since no transformation is applied to the data,\n",
    "# train and validation sets will be split later)\n",
    "val_set = SiameseNetworkDataset(\n",
    "    pairs_file=params.siamese.DATASET+\"pairs_train.csv\",\n",
    "    features_directory=params.siamese.DATASET+\"features\",\n",
    ")\n",
    "\n",
    "# Create a Dataset for testing\n",
    "test_set = SiameseNetworkDataset(\n",
    "    pairs_file=params.siamese.DATASET+\"pairs_test.csv\",\n",
    "    features_directory=params.siamese.DATASET+\"features\",\n",
    ")\n",
    "\n",
    "# Set the train dataset size\n",
    "train_size = params.siamese.TRAIN_SIZE/(1-params.siamese.TEST_SIZE)\n",
    "\n",
    "# Splits train data indices into train and validation data indices\n",
    "train_indices, val_indices = train_test_split(range(len(train_set)),\n",
    "                                              train_size=train_size)\n",
    "\n",
    "# Extract the corresponding subsets of the train dataset\n",
    "train_set = Subset(train_set, train_indices)\n",
    "val_set = Subset(val_set, val_indices)\n",
    "\n",
    "\n",
    "# Combine a dataset and a sampler, and provide an iterable over the dataset\n",
    "# (setting shuffle argument to True calls a RandomSampler, and avoids to\n",
    "# have to create a Sampler object)\n",
    "train_loader = DataLoader(\n",
    "    train_set,\n",
    "    batch_size=LEARNING_PARAMS[\"batch_size\"],\n",
    "    shuffle=True,\n",
    "    num_workers=12,  # Asynchronous data loading and augmentation\n",
    "    pin_memory=True,  # Increase the transferring speed of the data to the GPU\n",
    ")\n",
    "\n",
    "val_loader = DataLoader(\n",
    "    val_set,\n",
    "    batch_size=LEARNING_PARAMS[\"batch_size\"],\n",
    "    shuffle=True,\n",
    "    num_workers=12,\n",
    "    pin_memory=True,\n",
    ")\n",
    "\n",
    "test_loader = DataLoader(\n",
    "    test_set,\n",
    "    batch_size=LEARNING_PARAMS[\"batch_size\"],\n",
    "    shuffle=False,  # SequentialSampler\n",
    "    num_workers=12,\n",
    "    pin_memory=True,\n",
    ")"
   ]
  },
  {
   "cell_type": "code",
   "execution_count": 4,
   "metadata": {},
   "outputs": [],
   "source": [
    "# Get the number of samples per split\n",
    "NB_TRAIN = len(train_set)\n",
    "NB_VAL = len(val_set)\n",
    "NB_TEST = len(test_set)"
   ]
  },
  {
   "cell_type": "code",
   "execution_count": 5,
   "metadata": {},
   "outputs": [
    {
     "name": "stdout",
     "output_type": "stream",
     "text": [
      "70.0 % of the data for training (302 samples)\n",
      "15.0 % of the data for validation (65 samples)\n",
      "15.0 % of the data for testing (65 samples)\n"
     ]
    }
   ],
   "source": [
    "# Display the splits ratio\n",
    "NB_SAMPLES = NB_TRAIN + NB_VAL + NB_TEST\n",
    "\n",
    "print(f\"{np.round(NB_TRAIN/NB_SAMPLES*100)} % of the data for training ({NB_TRAIN} samples)\")\n",
    "print(f\"{np.round(NB_VAL/NB_SAMPLES*100)} % of the data for validation ({NB_VAL} samples)\")\n",
    "print(f\"{np.round(NB_TEST/NB_SAMPLES*100)} % of the data for testing ({NB_TEST} samples)\")"
   ]
  },
  {
   "attachments": {},
   "cell_type": "markdown",
   "metadata": {},
   "source": [
    "## GPU?"
   ]
  },
  {
   "cell_type": "code",
   "execution_count": 6,
   "metadata": {},
   "outputs": [
    {
     "name": "stdout",
     "output_type": "stream",
     "text": [
      "Device: cuda\n",
      "\n"
     ]
    }
   ],
   "source": [
    "# Use a GPU if available\n",
    "# device = \"cpu\"\n",
    "device = \"cuda\" if torch.cuda.is_available() else \"cpu\"\n",
    "print(f\"Device: {device}\\n\")"
   ]
  },
  {
   "attachments": {},
   "cell_type": "markdown",
   "metadata": {},
   "source": [
    "## Training and validation"
   ]
  },
  {
   "cell_type": "code",
   "execution_count": 7,
   "metadata": {},
   "outputs": [],
   "source": [
    "# Create a model\n",
    "nb_input_features = len(train_set[0][0])\n",
    "model = SiameseNetwork(input_size=nb_input_features).to(device=device)"
   ]
  },
  {
   "cell_type": "code",
   "execution_count": 8,
   "metadata": {},
   "outputs": [],
   "source": [
    "# Create a loss function\n",
    "criterion = SiameseLoss(margin=LEARNING_PARAMS[\"margin\"]).to(device=device)"
   ]
  },
  {
   "cell_type": "code",
   "execution_count": 9,
   "metadata": {},
   "outputs": [
    {
     "name": "stderr",
     "output_type": "stream",
     "text": [
      "Epoch 0 [train]: 100%|██████████| 38/38 [00:01<00:00, 19.74batch/s, batch_loss=0.121]\n",
      "Epoch 0 [val]: 100%|██████████| 9/9 [00:00<00:00, 13.26batch/s, batch_loss=0.131]\n"
     ]
    },
    {
     "name": "stdout",
     "output_type": "stream",
     "text": [
      "Train loss:  0.14126766296593765\n",
      "Validation loss:  0.12712083674139446\n",
      "Train accuracy:  72.18543046357615\n",
      "Validation accuracy:  78.46153846153847\n"
     ]
    },
    {
     "name": "stderr",
     "output_type": "stream",
     "text": [
      "Epoch 1 [train]: 100%|██████████| 38/38 [00:01<00:00, 36.44batch/s, batch_loss=0.119] \n",
      "Epoch 1 [val]: 100%|██████████| 9/9 [00:00<00:00, 12.56batch/s, batch_loss=0.034] \n"
     ]
    },
    {
     "name": "stdout",
     "output_type": "stream",
     "text": [
      "Train loss:  0.10593993706922782\n",
      "Validation loss:  0.08017384219500753\n",
      "Train accuracy:  77.81456953642385\n",
      "Validation accuracy:  81.53846153846153\n"
     ]
    },
    {
     "name": "stderr",
     "output_type": "stream",
     "text": [
      "Epoch 2 [train]: 100%|██████████| 38/38 [00:01<00:00, 36.51batch/s, batch_loss=0.0123] \n",
      "Epoch 2 [val]: 100%|██████████| 9/9 [00:00<00:00, 12.90batch/s, batch_loss=0.152] \n"
     ]
    },
    {
     "name": "stdout",
     "output_type": "stream",
     "text": [
      "Train loss:  0.07588020207262353\n",
      "Validation loss:  0.08377084467146131\n",
      "Train accuracy:  81.45695364238411\n",
      "Validation accuracy:  80.0\n"
     ]
    },
    {
     "name": "stderr",
     "output_type": "stream",
     "text": [
      "Epoch 3 [train]: 100%|██████████| 38/38 [00:01<00:00, 32.07batch/s, batch_loss=0.0696]\n",
      "Epoch 3 [val]: 100%|██████████| 9/9 [00:00<00:00, 11.62batch/s, batch_loss=0.146] \n"
     ]
    },
    {
     "name": "stdout",
     "output_type": "stream",
     "text": [
      "Train loss:  0.06780246919707249\n",
      "Validation loss:  0.07786197173926565\n",
      "Train accuracy:  82.45033112582782\n",
      "Validation accuracy:  86.15384615384616\n"
     ]
    },
    {
     "name": "stderr",
     "output_type": "stream",
     "text": [
      "Epoch 4 [train]: 100%|██████████| 38/38 [00:01<00:00, 34.34batch/s, batch_loss=0.0726]\n",
      "Epoch 4 [val]: 100%|██████████| 9/9 [00:00<00:00, 12.34batch/s, batch_loss=0]     \n"
     ]
    },
    {
     "name": "stdout",
     "output_type": "stream",
     "text": [
      "Train loss:  0.06184279036365057\n",
      "Validation loss:  0.0596378528409534\n",
      "Train accuracy:  83.44370860927152\n",
      "Validation accuracy:  83.07692307692308\n"
     ]
    },
    {
     "name": "stderr",
     "output_type": "stream",
     "text": [
      "Epoch 5 [train]: 100%|██████████| 38/38 [00:01<00:00, 34.73batch/s, batch_loss=0.0844]\n",
      "Epoch 5 [val]: 100%|██████████| 9/9 [00:00<00:00, 11.25batch/s, batch_loss=0.0154] \n"
     ]
    },
    {
     "name": "stdout",
     "output_type": "stream",
     "text": [
      "Train loss:  0.055802674032747746\n",
      "Validation loss:  0.05859509358803431\n",
      "Train accuracy:  85.09933774834437\n",
      "Validation accuracy:  84.61538461538461\n"
     ]
    },
    {
     "name": "stderr",
     "output_type": "stream",
     "text": [
      "Epoch 6 [train]: 100%|██████████| 38/38 [00:01<00:00, 33.15batch/s, batch_loss=0]     \n",
      "Epoch 6 [val]: 100%|██████████| 9/9 [00:00<00:00, 13.00batch/s, batch_loss=0]     \n"
     ]
    },
    {
     "name": "stdout",
     "output_type": "stream",
     "text": [
      "Train loss:  0.05126256696683796\n",
      "Validation loss:  0.054311501069201365\n",
      "Train accuracy:  85.76158940397352\n",
      "Validation accuracy:  84.61538461538461\n"
     ]
    },
    {
     "name": "stderr",
     "output_type": "stream",
     "text": [
      "Epoch 7 [train]: 100%|██████████| 38/38 [00:01<00:00, 35.23batch/s, batch_loss=0.0139] \n",
      "Epoch 7 [val]: 100%|██████████| 9/9 [00:00<00:00, 13.13batch/s, batch_loss=0.0566] \n"
     ]
    },
    {
     "name": "stdout",
     "output_type": "stream",
     "text": [
      "Train loss:  0.04789469459731328\n",
      "Validation loss:  0.05853408026612467\n",
      "Train accuracy:  86.75496688741723\n",
      "Validation accuracy:  84.61538461538461\n"
     ]
    },
    {
     "name": "stderr",
     "output_type": "stream",
     "text": [
      "Epoch 8 [train]: 100%|██████████| 38/38 [00:01<00:00, 34.92batch/s, batch_loss=0.146] \n",
      "Epoch 8 [val]: 100%|██████████| 9/9 [00:00<00:00, 13.69batch/s, batch_loss=0]      \n"
     ]
    },
    {
     "name": "stdout",
     "output_type": "stream",
     "text": [
      "Train loss:  0.04498360320729645\n",
      "Validation loss:  0.05003724650790294\n",
      "Train accuracy:  88.0794701986755\n",
      "Validation accuracy:  84.61538461538461\n"
     ]
    },
    {
     "name": "stderr",
     "output_type": "stream",
     "text": [
      "Epoch 9 [train]: 100%|██████████| 38/38 [00:01<00:00, 37.36batch/s, batch_loss=0.0592]  \n",
      "Epoch 9 [val]: 100%|██████████| 9/9 [00:00<00:00, 13.13batch/s, batch_loss=0]     \n"
     ]
    },
    {
     "name": "stdout",
     "output_type": "stream",
     "text": [
      "Train loss:  0.04056434879863733\n",
      "Validation loss:  0.04923363174829218\n",
      "Train accuracy:  89.0728476821192\n",
      "Validation accuracy:  84.61538461538461\n"
     ]
    },
    {
     "name": "stderr",
     "output_type": "stream",
     "text": [
      "Epoch 10 [train]: 100%|██████████| 38/38 [00:01<00:00, 35.94batch/s, batch_loss=0.00742] \n",
      "Epoch 10 [val]: 100%|██████████| 9/9 [00:00<00:00, 12.67batch/s, batch_loss=0]      \n"
     ]
    },
    {
     "name": "stdout",
     "output_type": "stream",
     "text": [
      "Train loss:  0.03674518359874032\n",
      "Validation loss:  0.045008078010545835\n",
      "Train accuracy:  91.72185430463576\n",
      "Validation accuracy:  86.15384615384616\n"
     ]
    },
    {
     "name": "stderr",
     "output_type": "stream",
     "text": [
      "Epoch 11 [train]: 100%|██████████| 38/38 [00:01<00:00, 36.20batch/s, batch_loss=0.00139]\n",
      "Epoch 11 [val]: 100%|██████████| 9/9 [00:00<00:00, 13.17batch/s, batch_loss=0]     \n"
     ]
    },
    {
     "name": "stdout",
     "output_type": "stream",
     "text": [
      "Train loss:  0.033239310429627564\n",
      "Validation loss:  0.04276253096759319\n",
      "Train accuracy:  92.05298013245033\n",
      "Validation accuracy:  86.15384615384616\n"
     ]
    },
    {
     "name": "stderr",
     "output_type": "stream",
     "text": [
      "Epoch 12 [train]: 100%|██████████| 38/38 [00:01<00:00, 36.50batch/s, batch_loss=0.0162] \n",
      "Epoch 12 [val]: 100%|██████████| 9/9 [00:00<00:00, 12.34batch/s, batch_loss=0]     \n"
     ]
    },
    {
     "name": "stdout",
     "output_type": "stream",
     "text": [
      "Train loss:  0.029085416028178053\n",
      "Validation loss:  0.04082343334125148\n",
      "Train accuracy:  92.71523178807946\n",
      "Validation accuracy:  83.07692307692308\n"
     ]
    },
    {
     "name": "stderr",
     "output_type": "stream",
     "text": [
      "Epoch 13 [train]: 100%|██████████| 38/38 [00:01<00:00, 36.37batch/s, batch_loss=0.0568] \n",
      "Epoch 13 [val]: 100%|██████████| 9/9 [00:00<00:00, 12.42batch/s, batch_loss=0]     \n"
     ]
    },
    {
     "name": "stdout",
     "output_type": "stream",
     "text": [
      "Train loss:  0.02709564189181516\n",
      "Validation loss:  0.03619601567172342\n",
      "Train accuracy:  93.37748344370861\n",
      "Validation accuracy:  89.23076923076923\n"
     ]
    },
    {
     "name": "stderr",
     "output_type": "stream",
     "text": [
      "Epoch 14 [train]: 100%|██████████| 38/38 [00:01<00:00, 37.28batch/s, batch_loss=0.0438] \n",
      "Epoch 14 [val]: 100%|██████████| 9/9 [00:00<00:00, 13.03batch/s, batch_loss=0.197]  \n"
     ]
    },
    {
     "name": "stdout",
     "output_type": "stream",
     "text": [
      "Train loss:  0.027221565772044033\n",
      "Validation loss:  0.05502990633249283\n",
      "Train accuracy:  92.71523178807946\n",
      "Validation accuracy:  86.15384615384616\n"
     ]
    },
    {
     "name": "stderr",
     "output_type": "stream",
     "text": [
      "Epoch 15 [train]: 100%|██████████| 38/38 [00:01<00:00, 36.23batch/s, batch_loss=0.0249] \n",
      "Epoch 15 [val]: 100%|██████████| 9/9 [00:00<00:00, 13.05batch/s, batch_loss=0]      \n"
     ]
    },
    {
     "name": "stdout",
     "output_type": "stream",
     "text": [
      "Train loss:  0.021476971671769495\n",
      "Validation loss:  0.03509709321790271\n",
      "Train accuracy:  94.70198675496688\n",
      "Validation accuracy:  89.23076923076923\n"
     ]
    },
    {
     "name": "stderr",
     "output_type": "stream",
     "text": [
      "Epoch 16 [train]: 100%|██████████| 38/38 [00:01<00:00, 37.95batch/s, batch_loss=0]      \n",
      "Epoch 16 [val]: 100%|██████████| 9/9 [00:00<00:00, 12.09batch/s, batch_loss=0]      \n"
     ]
    },
    {
     "name": "stdout",
     "output_type": "stream",
     "text": [
      "Train loss:  0.02186815514180221\n",
      "Validation loss:  0.027716635002030268\n",
      "Train accuracy:  94.37086092715232\n",
      "Validation accuracy:  90.76923076923077\n"
     ]
    },
    {
     "name": "stderr",
     "output_type": "stream",
     "text": [
      "Epoch 17 [train]: 100%|██████████| 38/38 [00:01<00:00, 34.61batch/s, batch_loss=0]      \n",
      "Epoch 17 [val]: 100%|██████████| 9/9 [00:00<00:00, 13.33batch/s, batch_loss=0.265]  \n"
     ]
    },
    {
     "name": "stdout",
     "output_type": "stream",
     "text": [
      "Train loss:  0.017151727365623964\n",
      "Validation loss:  0.04957029140657849\n",
      "Train accuracy:  95.03311258278146\n",
      "Validation accuracy:  90.76923076923077\n"
     ]
    },
    {
     "name": "stderr",
     "output_type": "stream",
     "text": [
      "Epoch 18 [train]: 100%|██████████| 38/38 [00:01<00:00, 35.20batch/s, batch_loss=0]       \n",
      "Epoch 18 [val]: 100%|██████████| 9/9 [00:00<00:00, 12.92batch/s, batch_loss=0]      \n"
     ]
    },
    {
     "name": "stdout",
     "output_type": "stream",
     "text": [
      "Train loss:  0.016059488744327898\n",
      "Validation loss:  0.022718677918116253\n",
      "Train accuracy:  95.36423841059603\n",
      "Validation accuracy:  90.76923076923077\n"
     ]
    },
    {
     "name": "stderr",
     "output_type": "stream",
     "text": [
      "Epoch 19 [train]: 100%|██████████| 38/38 [00:01<00:00, 35.42batch/s, batch_loss=0.0443]  \n",
      "Epoch 19 [val]: 100%|██████████| 9/9 [00:00<00:00, 13.31batch/s, batch_loss=0]     \n"
     ]
    },
    {
     "name": "stdout",
     "output_type": "stream",
     "text": [
      "Train loss:  0.015286646660809455\n",
      "Validation loss:  0.016891698870393965\n",
      "Train accuracy:  96.02649006622516\n",
      "Validation accuracy:  93.84615384615384\n"
     ]
    },
    {
     "name": "stderr",
     "output_type": "stream",
     "text": [
      "Epoch 20 [train]: 100%|██████████| 38/38 [00:01<00:00, 36.08batch/s, batch_loss=0.0439]  \n",
      "Epoch 20 [val]: 100%|██████████| 9/9 [00:00<00:00, 13.50batch/s, batch_loss=0]     \n"
     ]
    },
    {
     "name": "stdout",
     "output_type": "stream",
     "text": [
      "Train loss:  0.01304716058075428\n",
      "Validation loss:  0.013453113122118844\n",
      "Train accuracy:  96.35761589403974\n",
      "Validation accuracy:  95.38461538461539\n"
     ]
    },
    {
     "name": "stderr",
     "output_type": "stream",
     "text": [
      "Epoch 21 [train]: 100%|██████████| 38/38 [00:01<00:00, 36.41batch/s, batch_loss=0]       \n",
      "Epoch 21 [val]: 100%|██████████| 9/9 [00:00<00:00, 12.53batch/s, batch_loss=0]      \n"
     ]
    },
    {
     "name": "stdout",
     "output_type": "stream",
     "text": [
      "Train loss:  0.009415394234422007\n",
      "Validation loss:  0.010183539448512925\n",
      "Train accuracy:  97.35099337748345\n",
      "Validation accuracy:  95.38461538461539\n"
     ]
    },
    {
     "name": "stderr",
     "output_type": "stream",
     "text": [
      "Epoch 22 [train]: 100%|██████████| 38/38 [00:01<00:00, 36.26batch/s, batch_loss=0.0344]  \n",
      "Epoch 22 [val]: 100%|██████████| 9/9 [00:00<00:00, 12.68batch/s, batch_loss=0]       \n"
     ]
    },
    {
     "name": "stdout",
     "output_type": "stream",
     "text": [
      "Train loss:  0.008408995467777314\n",
      "Validation loss:  0.010864968929025862\n",
      "Train accuracy:  98.01324503311258\n",
      "Validation accuracy:  95.38461538461539\n"
     ]
    },
    {
     "name": "stderr",
     "output_type": "stream",
     "text": [
      "Epoch 23 [train]: 100%|██████████| 38/38 [00:01<00:00, 36.26batch/s, batch_loss=0]      \n",
      "Epoch 23 [val]: 100%|██████████| 9/9 [00:00<00:00, 12.08batch/s, batch_loss=0]      \n"
     ]
    },
    {
     "name": "stdout",
     "output_type": "stream",
     "text": [
      "Train loss:  0.008054877557840786\n",
      "Validation loss:  0.007371637556287978\n",
      "Train accuracy:  98.67549668874172\n",
      "Validation accuracy:  98.46153846153847\n"
     ]
    },
    {
     "name": "stderr",
     "output_type": "stream",
     "text": [
      "Epoch 24 [train]: 100%|██████████| 38/38 [00:01<00:00, 37.09batch/s, batch_loss=0.0184] \n",
      "Epoch 24 [val]: 100%|██████████| 9/9 [00:00<00:00, 11.95batch/s, batch_loss=0]       \n"
     ]
    },
    {
     "name": "stdout",
     "output_type": "stream",
     "text": [
      "Train loss:  0.006199411018506477\n",
      "Validation loss:  0.0063491856886280906\n",
      "Train accuracy:  99.33774834437087\n",
      "Validation accuracy:  98.46153846153847\n"
     ]
    },
    {
     "name": "stderr",
     "output_type": "stream",
     "text": [
      "Epoch 25 [train]: 100%|██████████| 38/38 [00:01<00:00, 35.07batch/s, batch_loss=0]      \n",
      "Epoch 25 [val]: 100%|██████████| 9/9 [00:00<00:00, 12.43batch/s, batch_loss=0]      \n"
     ]
    },
    {
     "name": "stdout",
     "output_type": "stream",
     "text": [
      "Train loss:  0.004940021194909748\n",
      "Validation loss:  0.007114343759086397\n",
      "Train accuracy:  99.66887417218543\n",
      "Validation accuracy:  100.0\n"
     ]
    },
    {
     "name": "stderr",
     "output_type": "stream",
     "text": [
      "Epoch 26 [train]: 100%|██████████| 38/38 [00:01<00:00, 33.52batch/s, batch_loss=0.0976]  \n",
      "Epoch 26 [val]: 100%|██████████| 9/9 [00:00<00:00, 12.01batch/s, batch_loss=0]     \n"
     ]
    },
    {
     "name": "stdout",
     "output_type": "stream",
     "text": [
      "Train loss:  0.004733513942674587\n",
      "Validation loss:  0.006331219441360897\n",
      "Train accuracy:  99.66887417218543\n",
      "Validation accuracy:  98.46153846153847\n"
     ]
    },
    {
     "name": "stderr",
     "output_type": "stream",
     "text": [
      "Epoch 27 [train]: 100%|██████████| 38/38 [00:01<00:00, 35.56batch/s, batch_loss=0]      \n",
      "Epoch 27 [val]: 100%|██████████| 9/9 [00:00<00:00, 12.46batch/s, batch_loss=0]       \n"
     ]
    },
    {
     "name": "stdout",
     "output_type": "stream",
     "text": [
      "Train loss:  0.00343195422503509\n",
      "Validation loss:  0.0020487563063700995\n",
      "Train accuracy:  99.66887417218543\n",
      "Validation accuracy:  100.0\n"
     ]
    },
    {
     "name": "stderr",
     "output_type": "stream",
     "text": [
      "Epoch 28 [train]: 100%|██████████| 38/38 [00:01<00:00, 35.47batch/s, batch_loss=0]      \n",
      "Epoch 28 [val]: 100%|██████████| 9/9 [00:00<00:00, 12.69batch/s, batch_loss=0]      \n"
     ]
    },
    {
     "name": "stdout",
     "output_type": "stream",
     "text": [
      "Train loss:  0.002642518154492504\n",
      "Validation loss:  0.004116145376529958\n",
      "Train accuracy:  99.66887417218543\n",
      "Validation accuracy:  100.0\n"
     ]
    },
    {
     "name": "stderr",
     "output_type": "stream",
     "text": [
      "Epoch 29 [train]: 100%|██████████| 38/38 [00:01<00:00, 33.96batch/s, batch_loss=0]      \n",
      "Epoch 29 [val]: 100%|██████████| 9/9 [00:00<00:00, 11.90batch/s, batch_loss=0]       \n"
     ]
    },
    {
     "name": "stdout",
     "output_type": "stream",
     "text": [
      "Train loss:  0.0021133139533431908\n",
      "Validation loss:  0.002017348590824339\n",
      "Train accuracy:  99.66887417218543\n",
      "Validation accuracy:  100.0\n"
     ]
    },
    {
     "name": "stderr",
     "output_type": "stream",
     "text": [
      "Epoch 30 [train]: 100%|██████████| 38/38 [00:01<00:00, 34.90batch/s, batch_loss=0]      \n",
      "Epoch 30 [val]: 100%|██████████| 9/9 [00:00<00:00, 11.51batch/s, batch_loss=0]      \n"
     ]
    },
    {
     "name": "stdout",
     "output_type": "stream",
     "text": [
      "Train loss:  0.0014408598408887261\n",
      "Validation loss:  0.002258432408173879\n",
      "Train accuracy:  99.66887417218543\n",
      "Validation accuracy:  100.0\n"
     ]
    },
    {
     "name": "stderr",
     "output_type": "stream",
     "text": [
      "Epoch 31 [train]: 100%|██████████| 38/38 [00:01<00:00, 37.54batch/s, batch_loss=0]       \n",
      "Epoch 31 [val]: 100%|██████████| 9/9 [00:00<00:00, 12.57batch/s, batch_loss=0]      \n"
     ]
    },
    {
     "name": "stdout",
     "output_type": "stream",
     "text": [
      "Train loss:  0.0016295430005380982\n",
      "Validation loss:  0.003851839237742954\n",
      "Train accuracy:  99.66887417218543\n",
      "Validation accuracy:  100.0\n"
     ]
    },
    {
     "name": "stderr",
     "output_type": "stream",
     "text": [
      "Epoch 32 [train]: 100%|██████████| 38/38 [00:01<00:00, 33.51batch/s, batch_loss=0]      \n",
      "Epoch 32 [val]: 100%|██████████| 9/9 [00:00<00:00, 11.98batch/s, batch_loss=0]       \n"
     ]
    },
    {
     "name": "stdout",
     "output_type": "stream",
     "text": [
      "Train loss:  0.00164413893301236\n",
      "Validation loss:  0.00267689178387324\n",
      "Train accuracy:  99.66887417218543\n",
      "Validation accuracy:  100.0\n"
     ]
    },
    {
     "name": "stderr",
     "output_type": "stream",
     "text": [
      "Epoch 33 [train]: 100%|██████████| 38/38 [00:01<00:00, 35.58batch/s, batch_loss=0.00156] \n",
      "Epoch 33 [val]: 100%|██████████| 9/9 [00:00<00:00, 12.16batch/s, batch_loss=0]       \n"
     ]
    },
    {
     "name": "stdout",
     "output_type": "stream",
     "text": [
      "Train loss:  0.002062230551688883\n",
      "Validation loss:  0.0026499188194672265\n",
      "Train accuracy:  99.66887417218543\n",
      "Validation accuracy:  100.0\n"
     ]
    },
    {
     "name": "stderr",
     "output_type": "stream",
     "text": [
      "Epoch 34 [train]: 100%|██████████| 38/38 [00:01<00:00, 37.17batch/s, batch_loss=0]       \n",
      "Epoch 34 [val]: 100%|██████████| 9/9 [00:00<00:00, 11.32batch/s, batch_loss=0]      \n"
     ]
    },
    {
     "name": "stdout",
     "output_type": "stream",
     "text": [
      "Train loss:  0.0014065020766697433\n",
      "Validation loss:  0.0023531499836179945\n",
      "Train accuracy:  99.66887417218543\n",
      "Validation accuracy:  100.0\n"
     ]
    },
    {
     "name": "stderr",
     "output_type": "stream",
     "text": [
      "Epoch 35 [train]: 100%|██████████| 38/38 [00:00<00:00, 38.12batch/s, batch_loss=0.00211] \n",
      "Epoch 35 [val]: 100%|██████████| 9/9 [00:00<00:00, 12.22batch/s, batch_loss=0]      \n"
     ]
    },
    {
     "name": "stdout",
     "output_type": "stream",
     "text": [
      "Train loss:  0.0018650686160024059\n",
      "Validation loss:  0.005686430674460199\n",
      "Train accuracy:  99.66887417218543\n",
      "Validation accuracy:  98.46153846153847\n"
     ]
    },
    {
     "name": "stderr",
     "output_type": "stream",
     "text": [
      "Epoch 36 [train]: 100%|██████████| 38/38 [00:01<00:00, 35.17batch/s, batch_loss=0]      \n",
      "Epoch 36 [val]: 100%|██████████| 9/9 [00:00<00:00, 12.47batch/s, batch_loss=0]      \n"
     ]
    },
    {
     "name": "stdout",
     "output_type": "stream",
     "text": [
      "Train loss:  0.0028971340507268906\n",
      "Validation loss:  0.002380260162883335\n",
      "Train accuracy:  99.66887417218543\n",
      "Validation accuracy:  100.0\n"
     ]
    },
    {
     "name": "stderr",
     "output_type": "stream",
     "text": [
      "Epoch 37 [train]: 100%|██████████| 38/38 [00:01<00:00, 35.61batch/s, batch_loss=0]      \n",
      "Epoch 37 [val]: 100%|██████████| 9/9 [00:00<00:00, 13.20batch/s, batch_loss=0]       \n"
     ]
    },
    {
     "name": "stdout",
     "output_type": "stream",
     "text": [
      "Train loss:  0.0019411180952661916\n",
      "Validation loss:  0.001429987864361869\n",
      "Train accuracy:  99.66887417218543\n",
      "Validation accuracy:  100.0\n"
     ]
    },
    {
     "name": "stderr",
     "output_type": "stream",
     "text": [
      "Epoch 38 [train]: 100%|██████████| 38/38 [00:01<00:00, 36.28batch/s, batch_loss=0]      \n",
      "Epoch 38 [val]: 100%|██████████| 9/9 [00:00<00:00, 12.36batch/s, batch_loss=0]      \n"
     ]
    },
    {
     "name": "stdout",
     "output_type": "stream",
     "text": [
      "Train loss:  0.0023123178827135185\n",
      "Validation loss:  0.0020599129299322763\n",
      "Train accuracy:  99.66887417218543\n",
      "Validation accuracy:  100.0\n"
     ]
    },
    {
     "name": "stderr",
     "output_type": "stream",
     "text": [
      "Epoch 39 [train]: 100%|██████████| 38/38 [00:01<00:00, 35.97batch/s, batch_loss=0.000351]\n",
      "Epoch 39 [val]: 100%|██████████| 9/9 [00:00<00:00, 12.91batch/s, batch_loss=0]      \n"
     ]
    },
    {
     "name": "stdout",
     "output_type": "stream",
     "text": [
      "Train loss:  0.001685584814128417\n",
      "Validation loss:  0.003724097791645262\n",
      "Train accuracy:  99.66887417218543\n",
      "Validation accuracy:  98.46153846153847\n"
     ]
    },
    {
     "name": "stderr",
     "output_type": "stream",
     "text": [
      "Epoch 40 [train]: 100%|██████████| 38/38 [00:01<00:00, 37.20batch/s, batch_loss=0]       \n",
      "Epoch 40 [val]: 100%|██████████| 9/9 [00:00<00:00, 12.58batch/s, batch_loss=0.152]  \n"
     ]
    },
    {
     "name": "stdout",
     "output_type": "stream",
     "text": [
      "Train loss:  0.0014875486100974836\n",
      "Validation loss:  0.017526034265756607\n",
      "Train accuracy:  99.66887417218543\n",
      "Validation accuracy:  98.46153846153847\n"
     ]
    },
    {
     "name": "stderr",
     "output_type": "stream",
     "text": [
      "Epoch 41 [train]: 100%|██████████| 38/38 [00:01<00:00, 35.01batch/s, batch_loss=0]       \n",
      "Epoch 41 [val]: 100%|██████████| 9/9 [00:00<00:00, 11.75batch/s, batch_loss=0]       \n"
     ]
    },
    {
     "name": "stdout",
     "output_type": "stream",
     "text": [
      "Train loss:  0.0013279776628080167\n",
      "Validation loss:  0.0016454618631137742\n",
      "Train accuracy:  99.66887417218543\n",
      "Validation accuracy:  100.0\n"
     ]
    },
    {
     "name": "stderr",
     "output_type": "stream",
     "text": [
      "Epoch 42 [train]: 100%|██████████| 38/38 [00:01<00:00, 35.94batch/s, batch_loss=0.00197]\n",
      "Epoch 42 [val]: 100%|██████████| 9/9 [00:00<00:00, 13.11batch/s, batch_loss=0]      \n"
     ]
    },
    {
     "name": "stdout",
     "output_type": "stream",
     "text": [
      "Train loss:  0.0026038378219757426\n",
      "Validation loss:  0.0011803238756126827\n",
      "Train accuracy:  99.66887417218543\n",
      "Validation accuracy:  100.0\n"
     ]
    },
    {
     "name": "stderr",
     "output_type": "stream",
     "text": [
      "Epoch 43 [train]: 100%|██████████| 38/38 [00:01<00:00, 35.35batch/s, batch_loss=0]      \n",
      "Epoch 43 [val]: 100%|██████████| 9/9 [00:00<00:00, 12.75batch/s, batch_loss=0]       \n"
     ]
    },
    {
     "name": "stdout",
     "output_type": "stream",
     "text": [
      "Train loss:  0.00204023356108289\n",
      "Validation loss:  0.00018185956610573662\n",
      "Train accuracy:  99.66887417218543\n",
      "Validation accuracy:  100.0\n"
     ]
    },
    {
     "name": "stderr",
     "output_type": "stream",
     "text": [
      "Epoch 44 [train]: 100%|██████████| 38/38 [00:01<00:00, 35.92batch/s, batch_loss=0]      \n",
      "Epoch 44 [val]: 100%|██████████| 9/9 [00:00<00:00, 13.51batch/s, batch_loss=0]      \n"
     ]
    },
    {
     "name": "stdout",
     "output_type": "stream",
     "text": [
      "Train loss:  0.001651746760073461\n",
      "Validation loss:  0.0009793750941753387\n",
      "Train accuracy:  99.66887417218543\n",
      "Validation accuracy:  100.0\n"
     ]
    },
    {
     "name": "stderr",
     "output_type": "stream",
     "text": [
      "Epoch 45 [train]: 100%|██████████| 38/38 [00:01<00:00, 34.87batch/s, batch_loss=0]      \n",
      "Epoch 45 [val]: 100%|██████████| 9/9 [00:00<00:00, 13.23batch/s, batch_loss=0]       \n"
     ]
    },
    {
     "name": "stdout",
     "output_type": "stream",
     "text": [
      "Train loss:  0.0015709948676981423\n",
      "Validation loss:  9.835635622342427e-05\n",
      "Train accuracy:  99.66887417218543\n",
      "Validation accuracy:  100.0\n"
     ]
    },
    {
     "name": "stderr",
     "output_type": "stream",
     "text": [
      "Epoch 46 [train]: 100%|██████████| 38/38 [00:00<00:00, 39.14batch/s, batch_loss=0]      \n",
      "Epoch 46 [val]: 100%|██████████| 9/9 [00:00<00:00, 12.64batch/s, batch_loss=0]      \n"
     ]
    },
    {
     "name": "stdout",
     "output_type": "stream",
     "text": [
      "Train loss:  0.001392596156189316\n",
      "Validation loss:  0.0003860019561317232\n",
      "Train accuracy:  99.66887417218543\n",
      "Validation accuracy:  100.0\n"
     ]
    },
    {
     "name": "stderr",
     "output_type": "stream",
     "text": [
      "Epoch 47 [train]: 100%|██████████| 38/38 [00:01<00:00, 35.49batch/s, batch_loss=0]     \n",
      "Epoch 47 [val]: 100%|██████████| 9/9 [00:00<00:00, 12.78batch/s, batch_loss=0]      \n"
     ]
    },
    {
     "name": "stdout",
     "output_type": "stream",
     "text": [
      "Train loss:  0.0012348972653087817\n",
      "Validation loss:  0.0007129304317964448\n",
      "Train accuracy:  99.66887417218543\n",
      "Validation accuracy:  100.0\n"
     ]
    },
    {
     "name": "stderr",
     "output_type": "stream",
     "text": [
      "Epoch 48 [train]: 100%|██████████| 38/38 [00:01<00:00, 35.65batch/s, batch_loss=0]      \n",
      "Epoch 48 [val]: 100%|██████████| 9/9 [00:00<00:00, 12.13batch/s, batch_loss=0]      \n"
     ]
    },
    {
     "name": "stdout",
     "output_type": "stream",
     "text": [
      "Train loss:  0.0009700218705754531\n",
      "Validation loss:  0.001215798987282647\n",
      "Train accuracy:  99.66887417218543\n",
      "Validation accuracy:  100.0\n"
     ]
    },
    {
     "name": "stderr",
     "output_type": "stream",
     "text": [
      "Epoch 49 [train]: 100%|██████████| 38/38 [00:01<00:00, 34.47batch/s, batch_loss=0.00799]\n",
      "Epoch 49 [val]: 100%|██████████| 9/9 [00:00<00:00, 12.53batch/s, batch_loss=0]       "
     ]
    },
    {
     "name": "stdout",
     "output_type": "stream",
     "text": [
      "Train loss:  0.0015763315911355772\n",
      "Validation loss:  0.0006769717567496829\n",
      "Train accuracy:  99.66887417218543\n",
      "Validation accuracy:  100.0\n"
     ]
    },
    {
     "name": "stderr",
     "output_type": "stream",
     "text": [
      "\n"
     ]
    }
   ],
   "source": [
    "# Define the optimizer\n",
    "optimizer = optim.SGD(model.parameters(),\n",
    "                      lr=LEARNING_PARAMS[\"learning_rate\"],\n",
    "                      momentum=LEARNING_PARAMS[\"momentum\"],\n",
    "                      weight_decay=LEARNING_PARAMS[\"weight_decay\"])\n",
    "\n",
    "# Create tensors to store the loss values\n",
    "loss_values = torch.zeros(2, LEARNING_PARAMS[\"nb_epochs\"])\n",
    "\n",
    "# Create tensors to store the accuracy values\n",
    "accuracy_values = torch.zeros(2, LEARNING_PARAMS[\"nb_epochs\"])\n",
    "\n",
    "# Loop over the epochs\n",
    "for epoch in range(LEARNING_PARAMS[\"nb_epochs\"]):\n",
    "    \n",
    "    # Training\n",
    "    train_loss, train_accuracy = train(model,\n",
    "                                       device,\n",
    "                                       train_loader,\n",
    "                                       optimizer,\n",
    "                                       criterion,\n",
    "                                       epoch)\n",
    "    \n",
    "    # Validation\n",
    "    val_loss, val_accuracy = validate(model,\n",
    "                                      device,\n",
    "                                      val_loader,\n",
    "                                      criterion,\n",
    "                                      epoch) \n",
    "    \n",
    "    print(\"Train loss: \", train_loss)\n",
    "    print(\"Validation loss: \", val_loss)\n",
    "    print(\"Train accuracy: \", train_accuracy)\n",
    "    print(\"Validation accuracy: \", val_accuracy)\n",
    "    \n",
    "    # Store the computed losses\n",
    "    loss_values[0, epoch] = train_loss\n",
    "    loss_values[1, epoch] = val_loss\n",
    "    \n",
    "    # Store the computed accuracies\n",
    "    accuracy_values[0, epoch] = train_accuracy\n",
    "    accuracy_values[1, epoch] = val_accuracy"
   ]
  },
  {
   "attachments": {},
   "cell_type": "markdown",
   "metadata": {},
   "source": [
    "### Visualization"
   ]
  },
  {
   "cell_type": "code",
   "execution_count": 10,
   "metadata": {},
   "outputs": [
    {
     "data": {
      "text/plain": [
       "Text(0.5, 0, 'Epoch')"
      ]
     },
     "execution_count": 10,
     "metadata": {},
     "output_type": "execute_result"
    },
    {
     "data": {
      "image/png": "[encoded data removed]",
      "text/plain": [
       "<Figure size 640x480 with 1 Axes>"
      ]
     },
     "metadata": {},
     "output_type": "display_data"
    }
   ],
   "source": [
    "# Loss\n",
    "train_losses = loss_values[0]\n",
    "val_losses = loss_values[1]\n",
    "\n",
    "figure = plt.figure()\n",
    "\n",
    "plt.plot(train_losses, \"b\", label=\"train loss\")\n",
    "plt.plot(val_losses, \"r\", label=\"validation loss\")\n",
    "\n",
    "plt.legend()\n",
    "plt.xlabel(\"Epoch\")\n",
    "\n",
    "# # Converts the figure to an image\n",
    "# learning_curve = io.BytesIO()\n",
    "# figure.savefig(learning_curve, format=\"png\")\n",
    "# learning_curve.seek(0)\n",
    "\n",
    "# # Create a PIL image from the image stream\n",
    "# learning_curve = Image.open(learning_curve)"
   ]
  },
  {
   "cell_type": "code",
   "execution_count": 11,
   "metadata": {},
   "outputs": [
    {
     "data": {
      "text/plain": [
       "Text(0.5, 0, 'Epoch')"
      ]
     },
     "execution_count": 11,
     "metadata": {},
     "output_type": "execute_result"
    },
    {
     "data": {
      "image/png": "[encoded data removed]",
      "text/plain": [
       "<Figure size 640x480 with 1 Axes>"
      ]
     },
     "metadata": {},
     "output_type": "display_data"
    }
   ],
   "source": [
    "# Accuracy\n",
    "train_accuracies = accuracy_values[0]\n",
    "val_accuracies = accuracy_values[1]\n",
    "\n",
    "plt.plot(train_accuracies, \"b\", label=\"train accuracy\")\n",
    "plt.plot(val_accuracies, \"r\", label=\"validation accuracy\")\n",
    "\n",
    "plt.legend()\n",
    "plt.xlabel(\"Epoch\")"
   ]
  },
  {
   "attachments": {},
   "cell_type": "markdown",
   "metadata": {},
   "source": [
    "## Testing"
   ]
  },
  {
   "cell_type": "code",
   "execution_count": 12,
   "metadata": {},
   "outputs": [
    {
     "name": "stdout",
     "output_type": "stream",
     "text": [
      "Test loss:  0.016393287314309016\n",
      "Test accuracy:  95.38461538461539\n"
     ]
    }
   ],
   "source": [
    "# Test the model\n",
    "test_loss, test_accuracy = test(model,\n",
    "                                device,\n",
    "                                test_loader,\n",
    "                                criterion)\n",
    "\n",
    "print(\"Test loss: \", test_loss)\n",
    "print(\"Test accuracy: \", test_accuracy)"
   ]
  },
  {
   "attachments": {},
   "cell_type": "markdown",
   "metadata": {},
   "source": [
    "## Compute and display traversal costs"
   ]
  },
  {
   "cell_type": "code",
   "execution_count": 13,
   "metadata": {},
   "outputs": [],
   "source": [
    "# Compute the traversal costs from the features of the dataset\n",
    "costs_df = traversalcost.utils.compute_traversal_costs(\n",
    "    dataset=params.siamese.DATASET,\n",
    "    cost_function=model.to(device=\"cpu\"),\n",
    "    to_tensor=True\n",
    ")"
   ]
  },
  {
   "cell_type": "code",
   "execution_count": 14,
   "metadata": {},
   "outputs": [
    {
     "data": {
      "image/png": "[encoded data removed]",
      "text/plain": [
       "<Figure size 640x480 with 1 Axes>"
      ]
     },
     "metadata": {},
     "output_type": "display_data"
    }
   ],
   "source": [
    "# Display the traversal costs\n",
    "cost_graph = traversalcost.utils.display_traversal_costs(costs_df)"
   ]
  },
  {
   "attachments": {},
   "cell_type": "markdown",
   "metadata": {},
   "source": [
    "## Generate a log directory"
   ]
  },
  {
   "cell_type": "code",
   "execution_count": 15,
   "metadata": {},
   "outputs": [
    {
     "data": {
      "image/png": "[encoded data removed]",
      "text/plain": [
       "<Figure size 640x480 with 1 Axes>"
      ]
     },
     "metadata": {},
     "output_type": "display_data"
    },
    {
     "data": {
      "image/png": "[encoded data removed]",
      "text/plain": [
       "<Figure size 640x480 with 1 Axes>"
      ]
     },
     "metadata": {},
     "output_type": "display_data"
    },
    {
     "data": {
      "image/png": "[encoded data removed]",
      "text/plain": [
       "<Figure size 640x480 with 1 Axes>"
      ]
     },
     "metadata": {},
     "output_type": "display_data"
    },
    {
     "data": {
      "image/png": "[encoded data removed]",
      "text/plain": [
       "<Figure size 640x480 with 1 Axes>"
      ]
     },
     "metadata": {},
     "output_type": "display_data"
    }
   ],
   "source": [
    "# Get the learning parameters table\n",
    "params_table = parameters_table(dataset=params.siamese.DATASET,\n",
    "                                learning_params=LEARNING_PARAMS)\n",
    "\n",
    "# Set the path to the results directory\n",
    "if params.siamese.LOG_DIR:\n",
    "    results_directory = \"logs/_\" +\\\n",
    "                        params.siamese.LOG_DIR\n",
    "else:\n",
    "    results_directory = \"logs/_\" +\\\n",
    "                        datetime.now().strftime(\"%Y-%m-%d-%H-%M-%S\")\n",
    "                        \n",
    "# Generate the log directory\n",
    "generate_log(dataset_directory=params.siamese.DATASET,\n",
    "             results_directory=results_directory,\n",
    "             test_loss=test_loss,\n",
    "             test_accuracy=test_accuracy,\n",
    "             parameters_table=params_table,\n",
    "             model=model,\n",
    "             loss_values=loss_values,\n",
    "             accuracy_values=accuracy_values)"
   ]
  }
 ],
 "metadata": {
  "kernelspec": {
   "display_name": "Python 3",
   "language": "python",
   "name": "python3"
  },
  "language_info": {
   "codemirror_mode": {
    "name": "ipython",
    "version": 3
   },
   "file_extension": ".py",
   "mimetype": "text/x-python",
   "name": "python",
   "nbconvert_exporter": "python",
   "pygments_lexer": "ipython3",
   "version": "3.8.10"
  },
  "orig_nbformat": 4
 },
 "nbformat": 4,
 "nbformat_minor": 2
}
