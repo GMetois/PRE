{
 "cells": [
  {
   "cell_type": "code",
   "execution_count": 1,
   "metadata": {},
   "outputs": [],
   "source": [
    "# Import libraries\n",
    "import torch\n",
    "import torch.nn as nn\n",
    "from torch import optim\n",
    "from torch.utils.data import DataLoader, Dataset, Subset\n",
    "import torch.nn.functional as F\n",
    "\n",
    "# A module to print a model summary (outputs shape, number of parameters, ...)\n",
    "import torchsummary\n",
    "\n",
    "# TensorBoard for visualization\n",
    "from torch.utils.tensorboard import SummaryWriter\n",
    "\n",
    "from tqdm import tqdm\n",
    "\n",
    "import pandas as pd\n",
    "import numpy as np\n",
    "import os\n",
    "import matplotlib.pyplot as plt\n",
    "plt.rcParams.update({\n",
    "    \"pgf.texsystem\": \"pdflatex\",\n",
    "    'font.family': 'serif',\n",
    "    'text.usetex': True,\n",
    "    'pgf.rcfonts': False,\n",
    "})\n",
    "from sklearn.model_selection import train_test_split\n",
    "\n",
    "\n",
    "# Custom modules and packages\n",
    "import params.siamese\n",
    "from dataset import SiameseNetworkDataset\n",
    "from model import SiameseNetwork\n",
    "from loss import SiameseLoss\n",
    "from train import train\n",
    "from validate import validate\n",
    "from test import test"
   ]
  },
  {
   "attachments": {},
   "cell_type": "markdown",
   "metadata": {},
   "source": [
    "## Prepare data"
   ]
  },
  {
   "cell_type": "code",
   "execution_count": 2,
   "metadata": {},
   "outputs": [],
   "source": [
    "# Create a Dataset for training\n",
    "train_set = SiameseNetworkDataset(\n",
    "    pairs_file=params.siamese.DATASET+\"pairs_train.csv\",\n",
    "    features_directory=params.siamese.DATASET+\"features\",\n",
    ")\n",
    "\n",
    "# Create a Dataset for validation\n",
    "# (same as training here since no transformation is applied to the data,\n",
    "# train and validation sets will be split later)\n",
    "val_set = SiameseNetworkDataset(\n",
    "    pairs_file=params.siamese.DATASET+\"pairs_train.csv\",\n",
    "    features_directory=params.siamese.DATASET+\"features\",\n",
    ")\n",
    "\n",
    "# Create a Dataset for testing\n",
    "test_set = SiameseNetworkDataset(\n",
    "    pairs_file=params.siamese.DATASET+\"pairs_test.csv\",\n",
    "    features_directory=params.siamese.DATASET+\"features\",\n",
    ")\n",
    "\n",
    "# Set the train dataset size\n",
    "train_size = params.siamese.TRAIN_SIZE/(1-params.siamese.TEST_SIZE)\n",
    "\n",
    "# Splits train data indices into train and validation data indices\n",
    "train_indices, val_indices = train_test_split(range(len(train_set)),\n",
    "                                              train_size=train_size)\n",
    "\n",
    "# Extract the corresponding subsets of the train dataset\n",
    "train_set = Subset(train_set, train_indices)\n",
    "val_set = Subset(val_set, val_indices)\n",
    "\n",
    "\n",
    "# Combine a dataset and a sampler, and provide an iterable over the dataset\n",
    "# (setting shuffle argument to True calls a RandomSampler, and avoids to\n",
    "# have to create a Sampler object)\n",
    "train_loader = DataLoader(\n",
    "    train_set,\n",
    "    batch_size=params.siamese.BATCH_SIZE,\n",
    "    shuffle=True,\n",
    "    num_workers=12,  # Asynchronous data loading and augmentation\n",
    "    pin_memory=True,  # Increase the transferring speed of the data to the GPU\n",
    ")\n",
    "\n",
    "val_loader = DataLoader(\n",
    "    val_set,\n",
    "    batch_size=params.siamese.BATCH_SIZE,\n",
    "    shuffle=True,\n",
    "    num_workers=12,\n",
    "    pin_memory=True,\n",
    ")\n",
    "\n",
    "test_loader = DataLoader(\n",
    "    test_set,\n",
    "    batch_size=params.siamese.BATCH_SIZE,\n",
    "    shuffle=False,  # SequentialSampler\n",
    "    num_workers=12,\n",
    "    pin_memory=True,\n",
    ")"
   ]
  },
  {
   "cell_type": "code",
   "execution_count": 3,
   "metadata": {},
   "outputs": [],
   "source": [
    "# Get the number of samples per split\n",
    "NB_TRAIN = len(train_set)\n",
    "NB_VAL = len(val_set)\n",
    "NB_TEST = len(test_set)"
   ]
  },
  {
   "cell_type": "code",
   "execution_count": 4,
   "metadata": {},
   "outputs": [
    {
     "name": "stdout",
     "output_type": "stream",
     "text": [
      "70.0 % of the data for training (504 samples)\n",
      "15.0 % of the data for validation (108 samples)\n",
      "15.0 % of the data for testing (108 samples)\n"
     ]
    }
   ],
   "source": [
    "# Display the splits ratio\n",
    "NB_SAMPLES = NB_TRAIN + NB_VAL + NB_TEST\n",
    "\n",
    "print(f\"{np.round(NB_TRAIN/NB_SAMPLES*100)} % of the data for training ({NB_TRAIN} samples)\")\n",
    "print(f\"{np.round(NB_VAL/NB_SAMPLES*100)} % of the data for validation ({NB_VAL} samples)\")\n",
    "print(f\"{np.round(NB_TEST/NB_SAMPLES*100)} % of the data for testing ({NB_TEST} samples)\")"
   ]
  },
  {
   "attachments": {},
   "cell_type": "markdown",
   "metadata": {},
   "source": [
    "## GPU?"
   ]
  },
  {
   "cell_type": "code",
   "execution_count": 5,
   "metadata": {},
   "outputs": [
    {
     "name": "stdout",
     "output_type": "stream",
     "text": [
      "Device: cuda\n",
      "\n"
     ]
    }
   ],
   "source": [
    "# Use a GPU if available\n",
    "# device = \"cpu\"\n",
    "device = \"cuda\" if torch.cuda.is_available() else \"cpu\"\n",
    "print(f\"Device: {device}\\n\")"
   ]
  },
  {
   "attachments": {},
   "cell_type": "markdown",
   "metadata": {},
   "source": [
    "## Training and validation"
   ]
  },
  {
   "cell_type": "code",
   "execution_count": 6,
   "metadata": {},
   "outputs": [],
   "source": [
    "# Create a model\n",
    "model = SiameseNetwork(nb_input_features=3).to(device=device)"
   ]
  },
  {
   "cell_type": "code",
   "execution_count": 7,
   "metadata": {},
   "outputs": [],
   "source": [
    "# Create a loss function\n",
    "criterion = SiameseLoss(margin=params.siamese.MARGIN).to(device=device)"
   ]
  },
  {
   "cell_type": "code",
   "execution_count": 8,
   "metadata": {},
   "outputs": [
    {
     "name": "stderr",
     "output_type": "stream",
     "text": [
      "Epoch 0 [train]: 100%|██████████| 168/168 [00:02<00:00, 62.98batch/s, batch_loss=1.2]   \n",
      "Epoch 0 [val]: 100%|██████████| 36/36 [00:00<00:00, 46.82batch/s, batch_loss=0.903]\n"
     ]
    },
    {
     "name": "stdout",
     "output_type": "stream",
     "text": [
      "Train loss:  1.7301210072778521\n",
      "Validation loss:  1.4360022048155467\n"
     ]
    },
    {
     "name": "stderr",
     "output_type": "stream",
     "text": [
      "Epoch 1 [train]: 100%|██████████| 168/168 [00:01<00:00, 100.99batch/s, batch_loss=1.54] \n",
      "Epoch 1 [val]: 100%|██████████| 36/36 [00:00<00:00, 47.12batch/s, batch_loss=1.27] \n"
     ]
    },
    {
     "name": "stdout",
     "output_type": "stream",
     "text": [
      "Train loss:  1.418711558605234\n",
      "Validation loss:  1.313648972246382\n"
     ]
    },
    {
     "name": "stderr",
     "output_type": "stream",
     "text": [
      "Epoch 2 [train]: 100%|██████████| 168/168 [00:01<00:00, 92.56batch/s, batch_loss=0.665] \n",
      "Epoch 2 [val]: 100%|██████████| 36/36 [00:00<00:00, 49.69batch/s, batch_loss=1.69] \n"
     ]
    },
    {
     "name": "stdout",
     "output_type": "stream",
     "text": [
      "Train loss:  1.3637586899900012\n",
      "Validation loss:  1.2780713281697698\n"
     ]
    },
    {
     "name": "stderr",
     "output_type": "stream",
     "text": [
      "Epoch 3 [train]: 100%|██████████| 168/168 [00:01<00:00, 94.37batch/s, batch_loss=1.06]  \n",
      "Epoch 3 [val]: 100%|██████████| 36/36 [00:00<00:00, 45.51batch/s, batch_loss=2.93] \n"
     ]
    },
    {
     "name": "stdout",
     "output_type": "stream",
     "text": [
      "Train loss:  1.341998319540705\n",
      "Validation loss:  1.2644038498401642\n"
     ]
    },
    {
     "name": "stderr",
     "output_type": "stream",
     "text": [
      "Epoch 4 [train]: 100%|██████████| 168/168 [00:01<00:00, 90.68batch/s, batch_loss=2.01]  \n",
      "Epoch 4 [val]: 100%|██████████| 36/36 [00:00<00:00, 50.45batch/s, batch_loss=1.97] \n"
     ]
    },
    {
     "name": "stdout",
     "output_type": "stream",
     "text": [
      "Train loss:  1.3309945648624784\n",
      "Validation loss:  1.2537731611066394\n"
     ]
    },
    {
     "name": "stderr",
     "output_type": "stream",
     "text": [
      "Epoch 5 [train]: 100%|██████████| 168/168 [00:01<00:00, 92.07batch/s, batch_loss=3.01]   \n",
      "Epoch 5 [val]: 100%|██████████| 36/36 [00:00<00:00, 49.92batch/s, batch_loss=1.53] \n"
     ]
    },
    {
     "name": "stdout",
     "output_type": "stream",
     "text": [
      "Train loss:  1.322021442775925\n",
      "Validation loss:  1.2456375451551542\n"
     ]
    },
    {
     "name": "stderr",
     "output_type": "stream",
     "text": [
      "Epoch 6 [train]: 100%|██████████| 168/168 [00:01<00:00, 87.72batch/s, batch_loss=0.843]  \n",
      "Epoch 6 [val]: 100%|██████████| 36/36 [00:00<00:00, 44.28batch/s, batch_loss=1.58]  \n"
     ]
    },
    {
     "name": "stdout",
     "output_type": "stream",
     "text": [
      "Train loss:  1.3159637117447953\n",
      "Validation loss:  1.2404918672723904\n"
     ]
    },
    {
     "name": "stderr",
     "output_type": "stream",
     "text": [
      "Epoch 7 [train]: 100%|██████████| 168/168 [00:01<00:00, 93.04batch/s, batch_loss=1.33]    \n",
      "Epoch 7 [val]: 100%|██████████| 36/36 [00:00<00:00, 50.24batch/s, batch_loss=0.257]\n"
     ]
    },
    {
     "name": "stdout",
     "output_type": "stream",
     "text": [
      "Train loss:  1.3119166503027027\n",
      "Validation loss:  1.2372702120078936\n"
     ]
    },
    {
     "name": "stderr",
     "output_type": "stream",
     "text": [
      "Epoch 8 [train]: 100%|██████████| 168/168 [00:01<00:00, 97.41batch/s, batch_loss=1.16]   \n",
      "Epoch 8 [val]: 100%|██████████| 36/36 [00:00<00:00, 45.76batch/s, batch_loss=1.9]  \n"
     ]
    },
    {
     "name": "stdout",
     "output_type": "stream",
     "text": [
      "Train loss:  1.3102046239766336\n",
      "Validation loss:  1.2358979524837599\n"
     ]
    },
    {
     "name": "stderr",
     "output_type": "stream",
     "text": [
      "Epoch 9 [train]: 100%|██████████| 168/168 [00:01<00:00, 100.33batch/s, batch_loss=3.44] \n",
      "Epoch 9 [val]: 100%|██████████| 36/36 [00:00<00:00, 50.65batch/s, batch_loss=0]    "
     ]
    },
    {
     "name": "stdout",
     "output_type": "stream",
     "text": [
      "Train loss:  1.3091409234330058\n",
      "Validation loss:  1.23433837460147\n"
     ]
    },
    {
     "name": "stderr",
     "output_type": "stream",
     "text": [
      "\n"
     ]
    }
   ],
   "source": [
    "# Define the optimizer\n",
    "optimizer = optim.SGD(model.parameters(),\n",
    "                      lr=params.siamese.LEARNING_RATE,\n",
    "                      momentum=params.siamese.MOMENTUM,\n",
    "                      weight_decay=params.siamese.WEIGHT_DECAY)\n",
    "\n",
    "# Create tensors to store the loss values\n",
    "loss_values = torch.zeros(2, params.siamese.NB_EPOCHS)\n",
    "\n",
    "# Loop over the epochs\n",
    "for epoch in range(params.siamese.NB_EPOCHS):\n",
    "    \n",
    "    # Training\n",
    "    train_loss = train(model,\n",
    "                       device,\n",
    "                       train_loader,\n",
    "                       optimizer,\n",
    "                       criterion,\n",
    "                       epoch)\n",
    "    \n",
    "    # Validation\n",
    "    val_loss = validate(model,\n",
    "                        device,\n",
    "                        val_loader,\n",
    "                        criterion,\n",
    "                        epoch) \n",
    "    \n",
    "    print(\"Train loss: \", train_loss)\n",
    "    print(\"Validation loss: \", val_loss)\n",
    "    \n",
    "    # Store the computed losses\n",
    "    loss_values[0, epoch] = train_loss\n",
    "    loss_values[1, epoch] = val_loss"
   ]
  },
  {
   "attachments": {},
   "cell_type": "markdown",
   "metadata": {},
   "source": [
    "### Visualization"
   ]
  },
  {
   "cell_type": "code",
   "execution_count": 9,
   "metadata": {},
   "outputs": [
    {
     "data": {
      "text/plain": [
       "Text(0.5, 0, 'Epoch')"
      ]
     },
     "execution_count": 9,
     "metadata": {},
     "output_type": "execute_result"
    },
    {
     "data": {
      "image/png": "[encoded data removed]",
      "text/plain": [
       "<Figure size 640x480 with 1 Axes>"
      ]
     },
     "metadata": {},
     "output_type": "display_data"
    }
   ],
   "source": [
    "# Loss\n",
    "train_losses = loss_values[0]\n",
    "val_losses = loss_values[1]\n",
    "\n",
    "plt.plot(train_losses, \"b\", label=\"train loss\")\n",
    "plt.plot(val_losses, \"r\", label=\"validation loss\")\n",
    "\n",
    "plt.legend()\n",
    "plt.xlabel(\"Epoch\")"
   ]
  },
  {
   "attachments": {},
   "cell_type": "markdown",
   "metadata": {},
   "source": [
    "## Testing"
   ]
  },
  {
   "cell_type": "code",
   "execution_count": 10,
   "metadata": {},
   "outputs": [
    {
     "name": "stdout",
     "output_type": "stream",
     "text": [
      "Test loss:  1.2636084391011133\n"
     ]
    }
   ],
   "source": [
    "# Test the model\n",
    "test_loss = test(model,\n",
    "                 device,\n",
    "                 test_loader,\n",
    "                 criterion)\n",
    "\n",
    "print(\"Test loss: \", test_loss)"
   ]
  },
  {
   "attachments": {},
   "cell_type": "markdown",
   "metadata": {},
   "source": [
    "## Save model parameters"
   ]
  },
  {
   "cell_type": "code",
   "execution_count": null,
   "metadata": {},
   "outputs": [],
   "source": [
    "# Save the model parameters\n",
    "torch.save(model.state_dict(), \"siamese.params\")"
   ]
  }
 ],
 "metadata": {
  "kernelspec": {
   "display_name": "Python 3",
   "language": "python",
   "name": "python3"
  },
  "language_info": {
   "codemirror_mode": {
    "name": "ipython",
    "version": 3
   },
   "file_extension": ".py",
   "mimetype": "text/x-python",
   "name": "python",
   "nbconvert_exporter": "python",
   "pygments_lexer": "ipython3",
   "version": "3.8.10"
  },
  "orig_nbformat": 4
 },
 "nbformat": 4,
 "nbformat_minor": 2
}
