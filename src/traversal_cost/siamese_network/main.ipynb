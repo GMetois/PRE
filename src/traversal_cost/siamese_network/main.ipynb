{
 "cells": [
  {
   "cell_type": "code",
   "execution_count": 1,
   "metadata": {},
   "outputs": [],
   "source": [
    "# Import libraries\n",
    "import torch\n",
    "import torch.nn as nn\n",
    "from torch import optim\n",
    "from torch.utils.data import DataLoader, Dataset, Subset\n",
    "import torch.nn.functional as F\n",
    "\n",
    "# A module to print a model summary (outputs shape, number of parameters, ...)\n",
    "import torchsummary\n",
    "\n",
    "# TensorBoard for visualization\n",
    "from torch.utils.tensorboard import SummaryWriter\n",
    "\n",
    "from tqdm import tqdm\n",
    "\n",
    "import pandas as pd\n",
    "import numpy as np\n",
    "import os\n",
    "import io\n",
    "import matplotlib.pyplot as plt\n",
    "plt.rcParams.update({\n",
    "    \"pgf.texsystem\": \"pdflatex\",\n",
    "    'font.family': 'serif',\n",
    "    'text.usetex': True,\n",
    "    'pgf.rcfonts': False,\n",
    "})\n",
    "from sklearn.model_selection import train_test_split\n",
    "from PIL import Image\n",
    "from datetime import datetime\n",
    "\n",
    "\n",
    "# Custom modules and packages\n",
    "import params.siamese\n",
    "import traversalcost.utils\n",
    "from dataset import SiameseNetworkDataset\n",
    "from model import SiameseNetwork\n",
    "from loss import SiameseLoss\n",
    "from train import train\n",
    "from validate import validate\n",
    "from test import test\n",
    "from result import parameters_table, generate_log"
   ]
  },
  {
   "attachments": {},
   "cell_type": "markdown",
   "metadata": {},
   "source": [
    "## Load learning parameters"
   ]
  },
  {
   "cell_type": "code",
   "execution_count": 2,
   "metadata": {},
   "outputs": [],
   "source": [
    "LEARNING_PARAMS = params.siamese.LEARNING"
   ]
  },
  {
   "attachments": {},
   "cell_type": "markdown",
   "metadata": {},
   "source": [
    "## Prepare data"
   ]
  },
  {
   "cell_type": "code",
   "execution_count": 3,
   "metadata": {},
   "outputs": [],
   "source": [
    "# Create a Dataset for training\n",
    "train_set = SiameseNetworkDataset(\n",
    "    pairs_file=params.siamese.DATASET+\"pairs_train.csv\",\n",
    "    features_directory=params.siamese.DATASET+\"features\",\n",
    ")\n",
    "\n",
    "# Create a Dataset for validation\n",
    "# (same as training here since no transformation is applied to the data,\n",
    "# train and validation sets will be split later)\n",
    "val_set = SiameseNetworkDataset(\n",
    "    pairs_file=params.siamese.DATASET+\"pairs_train.csv\",\n",
    "    features_directory=params.siamese.DATASET+\"features\",\n",
    ")\n",
    "\n",
    "# Create a Dataset for testing\n",
    "test_set = SiameseNetworkDataset(\n",
    "    pairs_file=params.siamese.DATASET+\"pairs_test.csv\",\n",
    "    features_directory=params.siamese.DATASET+\"features\",\n",
    ")\n",
    "\n",
    "# Set the train dataset size\n",
    "train_size = params.siamese.TRAIN_SIZE/(1-params.siamese.TEST_SIZE)\n",
    "\n",
    "# Splits train data indices into train and validation data indices\n",
    "train_indices, val_indices = train_test_split(range(len(train_set)),\n",
    "                                              train_size=train_size)\n",
    "\n",
    "# Extract the corresponding subsets of the train dataset\n",
    "train_set = Subset(train_set, train_indices)\n",
    "val_set = Subset(val_set, val_indices)\n",
    "\n",
    "\n",
    "# Combine a dataset and a sampler, and provide an iterable over the dataset\n",
    "# (setting shuffle argument to True calls a RandomSampler, and avoids to\n",
    "# have to create a Sampler object)\n",
    "train_loader = DataLoader(\n",
    "    train_set,\n",
    "    batch_size=LEARNING_PARAMS[\"batch_size\"],\n",
    "    shuffle=True,\n",
    "    num_workers=12,  # Asynchronous data loading and augmentation\n",
    "    pin_memory=True,  # Increase the transferring speed of the data to the GPU\n",
    ")\n",
    "\n",
    "val_loader = DataLoader(\n",
    "    val_set,\n",
    "    batch_size=LEARNING_PARAMS[\"batch_size\"],\n",
    "    shuffle=True,\n",
    "    num_workers=12,\n",
    "    pin_memory=True,\n",
    ")\n",
    "\n",
    "test_loader = DataLoader(\n",
    "    test_set,\n",
    "    batch_size=LEARNING_PARAMS[\"batch_size\"],\n",
    "    shuffle=False,  # SequentialSampler\n",
    "    num_workers=12,\n",
    "    pin_memory=True,\n",
    ")"
   ]
  },
  {
   "cell_type": "code",
   "execution_count": 4,
   "metadata": {},
   "outputs": [],
   "source": [
    "# Get the number of samples per split\n",
    "NB_TRAIN = len(train_set)\n",
    "NB_VAL = len(val_set)\n",
    "NB_TEST = len(test_set)"
   ]
  },
  {
   "cell_type": "code",
   "execution_count": 5,
   "metadata": {},
   "outputs": [
    {
     "name": "stdout",
     "output_type": "stream",
     "text": [
      "70.0 % of the data for training (302 samples)\n",
      "15.0 % of the data for validation (65 samples)\n",
      "15.0 % of the data for testing (65 samples)\n"
     ]
    }
   ],
   "source": [
    "# Display the splits ratio\n",
    "NB_SAMPLES = NB_TRAIN + NB_VAL + NB_TEST\n",
    "\n",
    "print(f\"{np.round(NB_TRAIN/NB_SAMPLES*100)} % of the data for training ({NB_TRAIN} samples)\")\n",
    "print(f\"{np.round(NB_VAL/NB_SAMPLES*100)} % of the data for validation ({NB_VAL} samples)\")\n",
    "print(f\"{np.round(NB_TEST/NB_SAMPLES*100)} % of the data for testing ({NB_TEST} samples)\")"
   ]
  },
  {
   "attachments": {},
   "cell_type": "markdown",
   "metadata": {},
   "source": [
    "## GPU?"
   ]
  },
  {
   "cell_type": "code",
   "execution_count": 6,
   "metadata": {},
   "outputs": [
    {
     "name": "stdout",
     "output_type": "stream",
     "text": [
      "Device: cuda\n",
      "\n"
     ]
    }
   ],
   "source": [
    "# Use a GPU if available\n",
    "# device = \"cpu\"\n",
    "device = \"cuda\" if torch.cuda.is_available() else \"cpu\"\n",
    "print(f\"Device: {device}\\n\")"
   ]
  },
  {
   "attachments": {},
   "cell_type": "markdown",
   "metadata": {},
   "source": [
    "## Training and validation"
   ]
  },
  {
   "cell_type": "code",
   "execution_count": 7,
   "metadata": {},
   "outputs": [],
   "source": [
    "# Create a model\n",
    "nb_input_features = len(train_set[0][0])\n",
    "model = SiameseNetwork(input_size=nb_input_features).to(device=device)"
   ]
  },
  {
   "cell_type": "code",
   "execution_count": 8,
   "metadata": {},
   "outputs": [],
   "source": [
    "# Create a loss function\n",
    "criterion = SiameseLoss(margin=LEARNING_PARAMS[\"margin\"]).to(device=device)"
   ]
  },
  {
   "cell_type": "code",
   "execution_count": 9,
   "metadata": {},
   "outputs": [
    {
     "name": "stderr",
     "output_type": "stream",
     "text": [
      "Epoch 0 [train]: 100%|██████████| 38/38 [00:01<00:00, 19.93batch/s, batch_loss=0.148]\n",
      "Epoch 0 [val]: 100%|██████████| 9/9 [00:00<00:00, 14.14batch/s, batch_loss=0.15] \n"
     ]
    },
    {
     "name": "stdout",
     "output_type": "stream",
     "text": [
      "Train loss:  0.14910832831734105\n",
      "Validation loss:  0.1436226252052519\n",
      "Train accuracy:  52.317880794701985\n",
      "Validation accuracy:  67.6923076923077\n"
     ]
    },
    {
     "name": "stderr",
     "output_type": "stream",
     "text": [
      "Epoch 1 [train]: 100%|██████████| 38/38 [00:00<00:00, 38.67batch/s, batch_loss=0.13] \n",
      "Epoch 1 [val]: 100%|██████████| 9/9 [00:00<00:00, 14.39batch/s, batch_loss=0.15] \n"
     ]
    },
    {
     "name": "stdout",
     "output_type": "stream",
     "text": [
      "Train loss:  0.14515279743232226\n",
      "Validation loss:  0.1390101040403048\n",
      "Train accuracy:  61.258278145695364\n",
      "Validation accuracy:  60.0\n"
     ]
    },
    {
     "name": "stderr",
     "output_type": "stream",
     "text": [
      "Epoch 2 [train]: 100%|██████████| 38/38 [00:00<00:00, 39.26batch/s, batch_loss=0.148]\n",
      "Epoch 2 [val]: 100%|██████████| 9/9 [00:00<00:00, 14.10batch/s, batch_loss=0.148]\n"
     ]
    },
    {
     "name": "stdout",
     "output_type": "stream",
     "text": [
      "Train loss:  0.1409334946227701\n",
      "Validation loss:  0.13417747451199424\n",
      "Train accuracy:  64.56953642384106\n",
      "Validation accuracy:  67.6923076923077\n"
     ]
    },
    {
     "name": "stderr",
     "output_type": "stream",
     "text": [
      "Epoch 3 [train]: 100%|██████████| 38/38 [00:00<00:00, 38.70batch/s, batch_loss=0.141]\n",
      "Epoch 3 [val]: 100%|██████████| 9/9 [00:00<00:00, 14.32batch/s, batch_loss=0.145] \n"
     ]
    },
    {
     "name": "stdout",
     "output_type": "stream",
     "text": [
      "Train loss:  0.13539297055256994\n",
      "Validation loss:  0.12612393663989174\n",
      "Train accuracy:  67.54966887417218\n",
      "Validation accuracy:  70.76923076923077\n"
     ]
    },
    {
     "name": "stderr",
     "output_type": "stream",
     "text": [
      "Epoch 4 [train]: 100%|██████████| 38/38 [00:01<00:00, 36.84batch/s, batch_loss=0.13]  \n",
      "Epoch 4 [val]: 100%|██████████| 9/9 [00:00<00:00, 12.90batch/s, batch_loss=0.151]\n"
     ]
    },
    {
     "name": "stdout",
     "output_type": "stream",
     "text": [
      "Train loss:  0.12764670366519376\n",
      "Validation loss:  0.1212662077612347\n",
      "Train accuracy:  69.86754966887418\n",
      "Validation accuracy:  70.76923076923077\n"
     ]
    },
    {
     "name": "stderr",
     "output_type": "stream",
     "text": [
      "Epoch 5 [train]: 100%|██████████| 38/38 [00:00<00:00, 38.58batch/s, batch_loss=0.0901]\n",
      "Epoch 5 [val]: 100%|██████████| 9/9 [00:00<00:00, 12.33batch/s, batch_loss=0.000745]\n"
     ]
    },
    {
     "name": "stdout",
     "output_type": "stream",
     "text": [
      "Train loss:  0.11811686954215954\n",
      "Validation loss:  0.10328289618094762\n",
      "Train accuracy:  73.17880794701986\n",
      "Validation accuracy:  75.38461538461539\n"
     ]
    },
    {
     "name": "stderr",
     "output_type": "stream",
     "text": [
      "Epoch 6 [train]: 100%|██████████| 38/38 [00:00<00:00, 38.03batch/s, batch_loss=0.0971]\n",
      "Epoch 6 [val]: 100%|██████████| 9/9 [00:00<00:00, 14.50batch/s, batch_loss=0.0806]\n"
     ]
    },
    {
     "name": "stdout",
     "output_type": "stream",
     "text": [
      "Train loss:  0.10660855864223681\n",
      "Validation loss:  0.10711244824859831\n",
      "Train accuracy:  79.47019867549669\n",
      "Validation accuracy:  76.92307692307692\n"
     ]
    },
    {
     "name": "stderr",
     "output_type": "stream",
     "text": [
      "Epoch 7 [train]: 100%|██████████| 38/38 [00:00<00:00, 39.48batch/s, batch_loss=0.0948]\n",
      "Epoch 7 [val]: 100%|██████████| 9/9 [00:00<00:00, 11.50batch/s, batch_loss=0.142] \n"
     ]
    },
    {
     "name": "stdout",
     "output_type": "stream",
     "text": [
      "Train loss:  0.0971292736695001\n",
      "Validation loss:  0.11039849826031262\n",
      "Train accuracy:  78.1456953642384\n",
      "Validation accuracy:  76.92307692307692\n"
     ]
    },
    {
     "name": "stderr",
     "output_type": "stream",
     "text": [
      "Epoch 8 [train]: 100%|██████████| 38/38 [00:00<00:00, 40.20batch/s, batch_loss=0.0326]\n",
      "Epoch 8 [val]: 100%|██████████| 9/9 [00:00<00:00, 14.01batch/s, batch_loss=0.149] \n"
     ]
    },
    {
     "name": "stdout",
     "output_type": "stream",
     "text": [
      "Train loss:  0.08812251392948\n",
      "Validation loss:  0.10473930421802732\n",
      "Train accuracy:  80.79470198675497\n",
      "Validation accuracy:  75.38461538461539\n"
     ]
    },
    {
     "name": "stderr",
     "output_type": "stream",
     "text": [
      "Epoch 9 [train]: 100%|██████████| 38/38 [00:00<00:00, 38.02batch/s, batch_loss=0.0744]\n",
      "Epoch 9 [val]: 100%|██████████| 9/9 [00:00<00:00, 13.97batch/s, batch_loss=0.147] \n"
     ]
    },
    {
     "name": "stdout",
     "output_type": "stream",
     "text": [
      "Train loss:  0.08012344727390691\n",
      "Validation loss:  0.09886946611934239\n",
      "Train accuracy:  83.44370860927152\n",
      "Validation accuracy:  76.92307692307692\n"
     ]
    },
    {
     "name": "stderr",
     "output_type": "stream",
     "text": [
      "Epoch 10 [train]: 100%|██████████| 38/38 [00:00<00:00, 39.02batch/s, batch_loss=0.14]  \n",
      "Epoch 10 [val]: 100%|██████████| 9/9 [00:00<00:00, 14.35batch/s, batch_loss=0.159] \n"
     ]
    },
    {
     "name": "stdout",
     "output_type": "stream",
     "text": [
      "Train loss:  0.07442428470638238\n",
      "Validation loss:  0.09803473701079686\n",
      "Train accuracy:  83.11258278145695\n",
      "Validation accuracy:  76.92307692307692\n"
     ]
    },
    {
     "name": "stderr",
     "output_type": "stream",
     "text": [
      "Epoch 11 [train]: 100%|██████████| 38/38 [00:00<00:00, 39.68batch/s, batch_loss=0.105] \n",
      "Epoch 11 [val]: 100%|██████████| 9/9 [00:00<00:00, 14.13batch/s, batch_loss=0]     \n"
     ]
    },
    {
     "name": "stdout",
     "output_type": "stream",
     "text": [
      "Train loss:  0.07025460251852085\n",
      "Validation loss:  0.08066917003856765\n",
      "Train accuracy:  83.11258278145695\n",
      "Validation accuracy:  73.84615384615384\n"
     ]
    },
    {
     "name": "stderr",
     "output_type": "stream",
     "text": [
      "Epoch 12 [train]: 100%|██████████| 38/38 [00:00<00:00, 39.78batch/s, batch_loss=0.0973] \n",
      "Epoch 12 [val]: 100%|██████████| 9/9 [00:00<00:00, 14.43batch/s, batch_loss=0.144] \n"
     ]
    },
    {
     "name": "stdout",
     "output_type": "stream",
     "text": [
      "Train loss:  0.06588819760241006\n",
      "Validation loss:  0.09526260942220688\n",
      "Train accuracy:  84.76821192052981\n",
      "Validation accuracy:  80.0\n"
     ]
    },
    {
     "name": "stderr",
     "output_type": "stream",
     "text": [
      "Epoch 13 [train]: 100%|██████████| 38/38 [00:00<00:00, 38.01batch/s, batch_loss=0.0375] \n",
      "Epoch 13 [val]: 100%|██████████| 9/9 [00:00<00:00, 14.41batch/s, batch_loss=0.234] \n"
     ]
    },
    {
     "name": "stdout",
     "output_type": "stream",
     "text": [
      "Train loss:  0.06402030052911294\n",
      "Validation loss:  0.1009591134885947\n",
      "Train accuracy:  85.43046357615894\n",
      "Validation accuracy:  80.0\n"
     ]
    },
    {
     "name": "stderr",
     "output_type": "stream",
     "text": [
      "Epoch 14 [train]: 100%|██████████| 38/38 [00:00<00:00, 39.61batch/s, batch_loss=0.0671] \n",
      "Epoch 14 [val]: 100%|██████████| 9/9 [00:00<00:00, 14.24batch/s, batch_loss=0.216] \n"
     ]
    },
    {
     "name": "stdout",
     "output_type": "stream",
     "text": [
      "Train loss:  0.06191548391392356\n",
      "Validation loss:  0.10094503975576824\n",
      "Train accuracy:  85.09933774834437\n",
      "Validation accuracy:  75.38461538461539\n"
     ]
    },
    {
     "name": "stderr",
     "output_type": "stream",
     "text": [
      "Epoch 15 [train]: 100%|██████████| 38/38 [00:01<00:00, 36.98batch/s, batch_loss=0.0275]\n",
      "Epoch 15 [val]: 100%|██████████| 9/9 [00:00<00:00, 13.58batch/s, batch_loss=0]     \n"
     ]
    },
    {
     "name": "stdout",
     "output_type": "stream",
     "text": [
      "Train loss:  0.06048733456746528\n",
      "Validation loss:  0.0778522930211491\n",
      "Train accuracy:  85.09933774834437\n",
      "Validation accuracy:  75.38461538461539\n"
     ]
    },
    {
     "name": "stderr",
     "output_type": "stream",
     "text": [
      "Epoch 16 [train]: 100%|██████████| 38/38 [00:00<00:00, 42.51batch/s, batch_loss=0.0495]\n",
      "Epoch 16 [val]: 100%|██████████| 9/9 [00:00<00:00, 13.52batch/s, batch_loss=0.00031]\n"
     ]
    },
    {
     "name": "stdout",
     "output_type": "stream",
     "text": [
      "Train loss:  0.059576413054999555\n",
      "Validation loss:  0.07927755949397881\n",
      "Train accuracy:  84.43708609271523\n",
      "Validation accuracy:  73.84615384615384\n"
     ]
    },
    {
     "name": "stderr",
     "output_type": "stream",
     "text": [
      "Epoch 17 [train]: 100%|██████████| 38/38 [00:00<00:00, 39.60batch/s, batch_loss=0.0493] \n",
      "Epoch 17 [val]: 100%|██████████| 9/9 [00:00<00:00, 14.21batch/s, batch_loss=0.0059]\n"
     ]
    },
    {
     "name": "stdout",
     "output_type": "stream",
     "text": [
      "Train loss:  0.0580511906331307\n",
      "Validation loss:  0.07861663442518976\n",
      "Train accuracy:  83.7748344370861\n",
      "Validation accuracy:  75.38461538461539\n"
     ]
    },
    {
     "name": "stderr",
     "output_type": "stream",
     "text": [
      "Epoch 18 [train]: 100%|██████████| 38/38 [00:00<00:00, 38.56batch/s, batch_loss=0]     \n",
      "Epoch 18 [val]: 100%|██████████| 9/9 [00:00<00:00, 14.18batch/s, batch_loss=0.216] \n"
     ]
    },
    {
     "name": "stdout",
     "output_type": "stream",
     "text": [
      "Train loss:  0.05679373477438563\n",
      "Validation loss:  0.09759609649578731\n",
      "Train accuracy:  84.43708609271523\n",
      "Validation accuracy:  75.38461538461539\n"
     ]
    },
    {
     "name": "stderr",
     "output_type": "stream",
     "text": [
      "Epoch 19 [train]: 100%|██████████| 38/38 [00:00<00:00, 38.28batch/s, batch_loss=0.0792] \n",
      "Epoch 19 [val]: 100%|██████████| 9/9 [00:00<00:00, 14.07batch/s, batch_loss=0.0105]\n"
     ]
    },
    {
     "name": "stdout",
     "output_type": "stream",
     "text": [
      "Train loss:  0.057353901333714784\n",
      "Validation loss:  0.0788465469247765\n",
      "Train accuracy:  85.09933774834437\n",
      "Validation accuracy:  75.38461538461539\n"
     ]
    },
    {
     "name": "stderr",
     "output_type": "stream",
     "text": [
      "Epoch 20 [train]: 100%|██████████| 38/38 [00:00<00:00, 38.38batch/s, batch_loss=0.0707] \n",
      "Epoch 20 [val]: 100%|██████████| 9/9 [00:00<00:00, 14.35batch/s, batch_loss=0]     \n"
     ]
    },
    {
     "name": "stdout",
     "output_type": "stream",
     "text": [
      "Train loss:  0.05542408493592551\n",
      "Validation loss:  0.07815030879444546\n",
      "Train accuracy:  84.43708609271523\n",
      "Validation accuracy:  73.84615384615384\n"
     ]
    },
    {
     "name": "stderr",
     "output_type": "stream",
     "text": [
      "Epoch 21 [train]: 100%|██████████| 38/38 [00:00<00:00, 40.04batch/s, batch_loss=0.0486] \n",
      "Epoch 21 [val]: 100%|██████████| 9/9 [00:00<00:00, 14.38batch/s, batch_loss=0]     \n"
     ]
    },
    {
     "name": "stdout",
     "output_type": "stream",
     "text": [
      "Train loss:  0.055634187289366595\n",
      "Validation loss:  0.07763661526971394\n",
      "Train accuracy:  84.10596026490066\n",
      "Validation accuracy:  73.84615384615384\n"
     ]
    },
    {
     "name": "stderr",
     "output_type": "stream",
     "text": [
      "Epoch 22 [train]: 100%|██████████| 38/38 [00:00<00:00, 40.15batch/s, batch_loss=0.0208]\n",
      "Epoch 22 [val]: 100%|██████████| 9/9 [00:00<00:00, 13.98batch/s, batch_loss=0]     \n"
     ]
    },
    {
     "name": "stdout",
     "output_type": "stream",
     "text": [
      "Train loss:  0.05383844163857008\n",
      "Validation loss:  0.07461104542016983\n",
      "Train accuracy:  85.09933774834437\n",
      "Validation accuracy:  75.38461538461539\n"
     ]
    },
    {
     "name": "stderr",
     "output_type": "stream",
     "text": [
      "Epoch 23 [train]: 100%|██████████| 38/38 [00:00<00:00, 38.51batch/s, batch_loss=0.0524] \n",
      "Epoch 23 [val]: 100%|██████████| 9/9 [00:00<00:00, 14.46batch/s, batch_loss=0.159] \n"
     ]
    },
    {
     "name": "stdout",
     "output_type": "stream",
     "text": [
      "Train loss:  0.05375196618077002\n",
      "Validation loss:  0.08958828076720238\n",
      "Train accuracy:  85.43046357615894\n",
      "Validation accuracy:  75.38461538461539\n"
     ]
    },
    {
     "name": "stderr",
     "output_type": "stream",
     "text": [
      "Epoch 24 [train]: 100%|██████████| 38/38 [00:00<00:00, 38.73batch/s, batch_loss=0]      \n",
      "Epoch 24 [val]: 100%|██████████| 9/9 [00:00<00:00, 13.71batch/s, batch_loss=0]     \n"
     ]
    },
    {
     "name": "stdout",
     "output_type": "stream",
     "text": [
      "Train loss:  0.053025067195688426\n",
      "Validation loss:  0.07376839593052864\n",
      "Train accuracy:  84.76821192052981\n",
      "Validation accuracy:  76.92307692307692\n"
     ]
    },
    {
     "name": "stderr",
     "output_type": "stream",
     "text": [
      "Epoch 25 [train]: 100%|██████████| 38/38 [00:00<00:00, 39.97batch/s, batch_loss=0.0278]  \n",
      "Epoch 25 [val]: 100%|██████████| 9/9 [00:00<00:00, 14.11batch/s, batch_loss=0.0702]\n"
     ]
    },
    {
     "name": "stdout",
     "output_type": "stream",
     "text": [
      "Train loss:  0.05228787209642561\n",
      "Validation loss:  0.08361903060641554\n",
      "Train accuracy:  86.42384105960265\n",
      "Validation accuracy:  76.92307692307692\n"
     ]
    },
    {
     "name": "stderr",
     "output_type": "stream",
     "text": [
      "Epoch 26 [train]: 100%|██████████| 38/38 [00:00<00:00, 39.19batch/s, batch_loss=0.0399] \n",
      "Epoch 26 [val]: 100%|██████████| 9/9 [00:00<00:00, 14.38batch/s, batch_loss=0]     \n"
     ]
    },
    {
     "name": "stdout",
     "output_type": "stream",
     "text": [
      "Train loss:  0.05219962384159628\n",
      "Validation loss:  0.07107619879146417\n",
      "Train accuracy:  87.41721854304636\n",
      "Validation accuracy:  81.53846153846153\n"
     ]
    },
    {
     "name": "stderr",
     "output_type": "stream",
     "text": [
      "Epoch 27 [train]: 100%|██████████| 38/38 [00:00<00:00, 39.87batch/s, batch_loss=0.0204]\n",
      "Epoch 27 [val]: 100%|██████████| 9/9 [00:00<00:00, 14.41batch/s, batch_loss=0.0593]\n"
     ]
    },
    {
     "name": "stdout",
     "output_type": "stream",
     "text": [
      "Train loss:  0.05275469405674621\n",
      "Validation loss:  0.0781228155311611\n",
      "Train accuracy:  85.76158940397352\n",
      "Validation accuracy:  76.92307692307692\n"
     ]
    },
    {
     "name": "stderr",
     "output_type": "stream",
     "text": [
      "Epoch 28 [train]: 100%|██████████| 38/38 [00:00<00:00, 38.97batch/s, batch_loss=0.157]  \n",
      "Epoch 28 [val]: 100%|██████████| 9/9 [00:00<00:00, 14.11batch/s, batch_loss=0]     \n"
     ]
    },
    {
     "name": "stdout",
     "output_type": "stream",
     "text": [
      "Train loss:  0.05267900414764881\n",
      "Validation loss:  0.07292166497144434\n",
      "Train accuracy:  86.09271523178808\n",
      "Validation accuracy:  76.92307692307692\n"
     ]
    },
    {
     "name": "stderr",
     "output_type": "stream",
     "text": [
      "Epoch 29 [train]: 100%|██████████| 38/38 [00:00<00:00, 39.10batch/s, batch_loss=0.0494] \n",
      "Epoch 29 [val]: 100%|██████████| 9/9 [00:00<00:00, 13.54batch/s, batch_loss=0.31]  \n"
     ]
    },
    {
     "name": "stdout",
     "output_type": "stream",
     "text": [
      "Train loss:  0.05291257445749484\n",
      "Validation loss:  0.1007688662244214\n",
      "Train accuracy:  85.76158940397352\n",
      "Validation accuracy:  76.92307692307692\n"
     ]
    },
    {
     "name": "stderr",
     "output_type": "stream",
     "text": [
      "Epoch 30 [train]: 100%|██████████| 38/38 [00:00<00:00, 38.65batch/s, batch_loss=0.026]  \n",
      "Epoch 30 [val]: 100%|██████████| 9/9 [00:00<00:00, 14.64batch/s, batch_loss=0.0434]\n"
     ]
    },
    {
     "name": "stdout",
     "output_type": "stream",
     "text": [
      "Train loss:  0.0527979863905593\n",
      "Validation loss:  0.0768563561141491\n",
      "Train accuracy:  85.76158940397352\n",
      "Validation accuracy:  76.92307692307692\n"
     ]
    },
    {
     "name": "stderr",
     "output_type": "stream",
     "text": [
      "Epoch 31 [train]: 100%|██████████| 38/38 [00:00<00:00, 39.69batch/s, batch_loss=0.0962]  \n",
      "Epoch 31 [val]: 100%|██████████| 9/9 [00:00<00:00, 14.58batch/s, batch_loss=0.0739]\n"
     ]
    },
    {
     "name": "stdout",
     "output_type": "stream",
     "text": [
      "Train loss:  0.05226428414645948\n",
      "Validation loss:  0.0784364930457539\n",
      "Train accuracy:  85.76158940397352\n",
      "Validation accuracy:  76.92307692307692\n"
     ]
    },
    {
     "name": "stderr",
     "output_type": "stream",
     "text": [
      "Epoch 32 [train]: 100%|██████████| 38/38 [00:00<00:00, 39.83batch/s, batch_loss=0.0657] \n",
      "Epoch 32 [val]: 100%|██████████| 9/9 [00:00<00:00, 14.17batch/s, batch_loss=0]     \n"
     ]
    },
    {
     "name": "stdout",
     "output_type": "stream",
     "text": [
      "Train loss:  0.050715226336921514\n",
      "Validation loss:  0.06953270898924933\n",
      "Train accuracy:  86.09271523178808\n",
      "Validation accuracy:  76.92307692307692\n"
     ]
    },
    {
     "name": "stderr",
     "output_type": "stream",
     "text": [
      "Epoch 33 [train]: 100%|██████████| 38/38 [00:00<00:00, 39.26batch/s, batch_loss=0]      \n",
      "Epoch 33 [val]: 100%|██████████| 9/9 [00:00<00:00, 13.87batch/s, batch_loss=0]     \n"
     ]
    },
    {
     "name": "stdout",
     "output_type": "stream",
     "text": [
      "Train loss:  0.051302456198946425\n",
      "Validation loss:  0.07004234608676699\n",
      "Train accuracy:  85.76158940397352\n",
      "Validation accuracy:  76.92307692307692\n"
     ]
    },
    {
     "name": "stderr",
     "output_type": "stream",
     "text": [
      "Epoch 34 [train]: 100%|██████████| 38/38 [00:00<00:00, 38.46batch/s, batch_loss=0.0557]\n",
      "Epoch 34 [val]: 100%|██████████| 9/9 [00:00<00:00, 14.20batch/s, batch_loss=0.0947]\n"
     ]
    },
    {
     "name": "stdout",
     "output_type": "stream",
     "text": [
      "Train loss:  0.05121133059851433\n",
      "Validation loss:  0.08226564940479067\n",
      "Train accuracy:  86.09271523178808\n",
      "Validation accuracy:  76.92307692307692\n"
     ]
    },
    {
     "name": "stderr",
     "output_type": "stream",
     "text": [
      "Epoch 35 [train]: 100%|██████████| 38/38 [00:00<00:00, 39.16batch/s, batch_loss=0.0399]\n",
      "Epoch 35 [val]: 100%|██████████| 9/9 [00:00<00:00, 14.13batch/s, batch_loss=0.0419]\n"
     ]
    },
    {
     "name": "stdout",
     "output_type": "stream",
     "text": [
      "Train loss:  0.04965298318941342\n",
      "Validation loss:  0.0719585737420453\n",
      "Train accuracy:  86.42384105960265\n",
      "Validation accuracy:  81.53846153846153\n"
     ]
    },
    {
     "name": "stderr",
     "output_type": "stream",
     "text": [
      "Epoch 36 [train]: 100%|██████████| 38/38 [00:00<00:00, 39.77batch/s, batch_loss=0.0672] \n",
      "Epoch 36 [val]: 100%|██████████| 9/9 [00:00<00:00, 14.21batch/s, batch_loss=0.179] \n"
     ]
    },
    {
     "name": "stdout",
     "output_type": "stream",
     "text": [
      "Train loss:  0.04988353998449288\n",
      "Validation loss:  0.08680854654974407\n",
      "Train accuracy:  87.08609271523179\n",
      "Validation accuracy:  78.46153846153847\n"
     ]
    },
    {
     "name": "stderr",
     "output_type": "stream",
     "text": [
      "Epoch 37 [train]: 100%|██████████| 38/38 [00:00<00:00, 40.34batch/s, batch_loss=0.0521]\n",
      "Epoch 37 [val]: 100%|██████████| 9/9 [00:00<00:00, 14.44batch/s, batch_loss=0.126] \n"
     ]
    },
    {
     "name": "stdout",
     "output_type": "stream",
     "text": [
      "Train loss:  0.050202889564005954\n",
      "Validation loss:  0.08302956322828929\n",
      "Train accuracy:  87.08609271523179\n",
      "Validation accuracy:  80.0\n"
     ]
    },
    {
     "name": "stderr",
     "output_type": "stream",
     "text": [
      "Epoch 38 [train]: 100%|██████████| 38/38 [00:00<00:00, 38.39batch/s, batch_loss=0.0172] \n",
      "Epoch 38 [val]: 100%|██████████| 9/9 [00:00<00:00, 14.51batch/s, batch_loss=0.124] \n"
     ]
    },
    {
     "name": "stdout",
     "output_type": "stream",
     "text": [
      "Train loss:  0.049253914652294235\n",
      "Validation loss:  0.08127438214917977\n",
      "Train accuracy:  86.42384105960265\n",
      "Validation accuracy:  78.46153846153847\n"
     ]
    },
    {
     "name": "stderr",
     "output_type": "stream",
     "text": [
      "Epoch 39 [train]: 100%|██████████| 38/38 [00:00<00:00, 38.13batch/s, batch_loss=0.0342]\n",
      "Epoch 39 [val]: 100%|██████████| 9/9 [00:00<00:00, 14.11batch/s, batch_loss=0]     \n"
     ]
    },
    {
     "name": "stdout",
     "output_type": "stream",
     "text": [
      "Train loss:  0.048169113597587535\n",
      "Validation loss:  0.07132850049270524\n",
      "Train accuracy:  87.41721854304636\n",
      "Validation accuracy:  78.46153846153847\n"
     ]
    },
    {
     "name": "stderr",
     "output_type": "stream",
     "text": [
      "Epoch 40 [train]: 100%|██████████| 38/38 [00:00<00:00, 39.18batch/s, batch_loss=0.0875]  \n",
      "Epoch 40 [val]: 100%|██████████| 9/9 [00:00<00:00, 14.45batch/s, batch_loss=0]     \n"
     ]
    },
    {
     "name": "stdout",
     "output_type": "stream",
     "text": [
      "Train loss:  0.048504449231059926\n",
      "Validation loss:  0.0662525828099913\n",
      "Train accuracy:  86.75496688741723\n",
      "Validation accuracy:  78.46153846153847\n"
     ]
    },
    {
     "name": "stderr",
     "output_type": "stream",
     "text": [
      "Epoch 41 [train]: 100%|██████████| 38/38 [00:00<00:00, 38.96batch/s, batch_loss=0.0238]\n",
      "Epoch 41 [val]: 100%|██████████| 9/9 [00:00<00:00, 14.50batch/s, batch_loss=0.0951]\n"
     ]
    },
    {
     "name": "stdout",
     "output_type": "stream",
     "text": [
      "Train loss:  0.048815920801931305\n",
      "Validation loss:  0.07416434834400813\n",
      "Train accuracy:  86.75496688741723\n",
      "Validation accuracy:  78.46153846153847\n"
     ]
    },
    {
     "name": "stderr",
     "output_type": "stream",
     "text": [
      "Epoch 42 [train]: 100%|██████████| 38/38 [00:00<00:00, 38.07batch/s, batch_loss=0.0771]\n",
      "Epoch 42 [val]: 100%|██████████| 9/9 [00:00<00:00, 14.28batch/s, batch_loss=0.121] \n"
     ]
    },
    {
     "name": "stdout",
     "output_type": "stream",
     "text": [
      "Train loss:  0.04764707675693851\n",
      "Validation loss:  0.08352380742629369\n",
      "Train accuracy:  88.0794701986755\n",
      "Validation accuracy:  76.92307692307692\n"
     ]
    },
    {
     "name": "stderr",
     "output_type": "stream",
     "text": [
      "Epoch 43 [train]: 100%|██████████| 38/38 [00:00<00:00, 39.70batch/s, batch_loss=0.0511]\n",
      "Epoch 43 [val]: 100%|██████████| 9/9 [00:00<00:00, 14.50batch/s, batch_loss=0]     \n"
     ]
    },
    {
     "name": "stdout",
     "output_type": "stream",
     "text": [
      "Train loss:  0.04879170523858384\n",
      "Validation loss:  0.06506169401109219\n",
      "Train accuracy:  87.08609271523179\n",
      "Validation accuracy:  84.61538461538461\n"
     ]
    },
    {
     "name": "stderr",
     "output_type": "stream",
     "text": [
      "Epoch 44 [train]: 100%|██████████| 38/38 [00:00<00:00, 38.92batch/s, batch_loss=0.0232]\n",
      "Epoch 44 [val]: 100%|██████████| 9/9 [00:00<00:00, 13.81batch/s, batch_loss=0]     \n"
     ]
    },
    {
     "name": "stdout",
     "output_type": "stream",
     "text": [
      "Train loss:  0.049541233646634375\n",
      "Validation loss:  0.06606016639206144\n",
      "Train accuracy:  88.74172185430463\n",
      "Validation accuracy:  80.0\n"
     ]
    },
    {
     "name": "stderr",
     "output_type": "stream",
     "text": [
      "Epoch 45 [train]: 100%|██████████| 38/38 [00:00<00:00, 39.05batch/s, batch_loss=0.00523]\n",
      "Epoch 45 [val]: 100%|██████████| 9/9 [00:00<00:00, 14.50batch/s, batch_loss=0]     \n"
     ]
    },
    {
     "name": "stdout",
     "output_type": "stream",
     "text": [
      "Train loss:  0.04637682754056234\n",
      "Validation loss:  0.06568172718915674\n",
      "Train accuracy:  87.74834437086092\n",
      "Validation accuracy:  78.46153846153847\n"
     ]
    },
    {
     "name": "stderr",
     "output_type": "stream",
     "text": [
      "Epoch 46 [train]: 100%|██████████| 38/38 [00:00<00:00, 39.74batch/s, batch_loss=0.152]  \n",
      "Epoch 46 [val]: 100%|██████████| 9/9 [00:00<00:00, 14.22batch/s, batch_loss=0]     \n"
     ]
    },
    {
     "name": "stdout",
     "output_type": "stream",
     "text": [
      "Train loss:  0.049147940730970154\n",
      "Validation loss:  0.07103993329736921\n",
      "Train accuracy:  86.75496688741723\n",
      "Validation accuracy:  78.46153846153847\n"
     ]
    },
    {
     "name": "stderr",
     "output_type": "stream",
     "text": [
      "Epoch 47 [train]: 100%|██████████| 38/38 [00:00<00:00, 40.28batch/s, batch_loss=0.0695] \n",
      "Epoch 47 [val]: 100%|██████████| 9/9 [00:00<00:00, 13.79batch/s, batch_loss=0.147] \n"
     ]
    },
    {
     "name": "stdout",
     "output_type": "stream",
     "text": [
      "Train loss:  0.04759653299850853\n",
      "Validation loss:  0.0778615220139424\n",
      "Train accuracy:  87.41721854304636\n",
      "Validation accuracy:  84.61538461538461\n"
     ]
    },
    {
     "name": "stderr",
     "output_type": "stream",
     "text": [
      "Epoch 48 [train]: 100%|██████████| 38/38 [00:00<00:00, 39.70batch/s, batch_loss=0.0873]\n",
      "Epoch 48 [val]: 100%|██████████| 9/9 [00:00<00:00, 13.96batch/s, batch_loss=0.183] \n"
     ]
    },
    {
     "name": "stdout",
     "output_type": "stream",
     "text": [
      "Train loss:  0.04679214238728348\n",
      "Validation loss:  0.08064819168713358\n",
      "Train accuracy:  88.74172185430463\n",
      "Validation accuracy:  83.07692307692308\n"
     ]
    },
    {
     "name": "stderr",
     "output_type": "stream",
     "text": [
      "Epoch 49 [train]: 100%|██████████| 38/38 [00:00<00:00, 38.65batch/s, batch_loss=0.108]  \n",
      "Epoch 49 [val]: 100%|██████████| 9/9 [00:00<00:00, 14.45batch/s, batch_loss=0]     \n"
     ]
    },
    {
     "name": "stdout",
     "output_type": "stream",
     "text": [
      "Train loss:  0.04687151489289183\n",
      "Validation loss:  0.06650804686877462\n",
      "Train accuracy:  87.74834437086092\n",
      "Validation accuracy:  80.0\n"
     ]
    },
    {
     "name": "stderr",
     "output_type": "stream",
     "text": [
      "Epoch 50 [train]: 100%|██████████| 38/38 [00:01<00:00, 37.85batch/s, batch_loss=0.0601]\n",
      "Epoch 50 [val]: 100%|██████████| 9/9 [00:00<00:00, 14.49batch/s, batch_loss=0.0371]\n"
     ]
    },
    {
     "name": "stdout",
     "output_type": "stream",
     "text": [
      "Train loss:  0.04628165326032199\n",
      "Validation loss:  0.06883564094702403\n",
      "Train accuracy:  88.0794701986755\n",
      "Validation accuracy:  80.0\n"
     ]
    },
    {
     "name": "stderr",
     "output_type": "stream",
     "text": [
      "Epoch 51 [train]: 100%|██████████| 38/38 [00:00<00:00, 39.43batch/s, batch_loss=0.15]   \n",
      "Epoch 51 [val]: 100%|██████████| 9/9 [00:00<00:00, 14.29batch/s, batch_loss=0]     \n"
     ]
    },
    {
     "name": "stdout",
     "output_type": "stream",
     "text": [
      "Train loss:  0.04527984432091838\n",
      "Validation loss:  0.064702733937237\n",
      "Train accuracy:  87.41721854304636\n",
      "Validation accuracy:  78.46153846153847\n"
     ]
    },
    {
     "name": "stderr",
     "output_type": "stream",
     "text": [
      "Epoch 52 [train]: 100%|██████████| 38/38 [00:00<00:00, 39.94batch/s, batch_loss=0.0284] \n",
      "Epoch 52 [val]: 100%|██████████| 9/9 [00:00<00:00, 14.14batch/s, batch_loss=0.271] \n"
     ]
    },
    {
     "name": "stdout",
     "output_type": "stream",
     "text": [
      "Train loss:  0.04548328556120396\n",
      "Validation loss:  0.0870875476135148\n",
      "Train accuracy:  87.74834437086092\n",
      "Validation accuracy:  86.15384615384616\n"
     ]
    },
    {
     "name": "stderr",
     "output_type": "stream",
     "text": [
      "Epoch 53 [train]: 100%|██████████| 38/38 [00:00<00:00, 39.43batch/s, batch_loss=0.0214]\n",
      "Epoch 53 [val]: 100%|██████████| 9/9 [00:00<00:00, 14.78batch/s, batch_loss=0]     \n"
     ]
    },
    {
     "name": "stdout",
     "output_type": "stream",
     "text": [
      "Train loss:  0.046269102953374386\n",
      "Validation loss:  0.06060011084708902\n",
      "Train accuracy:  87.41721854304636\n",
      "Validation accuracy:  84.61538461538461\n"
     ]
    },
    {
     "name": "stderr",
     "output_type": "stream",
     "text": [
      "Epoch 54 [train]: 100%|██████████| 38/38 [00:00<00:00, 38.84batch/s, batch_loss=0.09]   \n",
      "Epoch 54 [val]: 100%|██████████| 9/9 [00:00<00:00, 14.48batch/s, batch_loss=0]     \n"
     ]
    },
    {
     "name": "stdout",
     "output_type": "stream",
     "text": [
      "Train loss:  0.04529035316878244\n",
      "Validation loss:  0.06005874607298109\n",
      "Train accuracy:  88.0794701986755\n",
      "Validation accuracy:  86.15384615384616\n"
     ]
    },
    {
     "name": "stderr",
     "output_type": "stream",
     "text": [
      "Epoch 55 [train]: 100%|██████████| 38/38 [00:00<00:00, 38.66batch/s, batch_loss=0.0572]  \n",
      "Epoch 55 [val]: 100%|██████████| 9/9 [00:00<00:00, 14.47batch/s, batch_loss=0]     \n"
     ]
    },
    {
     "name": "stdout",
     "output_type": "stream",
     "text": [
      "Train loss:  0.04526909470166031\n",
      "Validation loss:  0.05821140151884821\n",
      "Train accuracy:  89.73509933774834\n",
      "Validation accuracy:  87.6923076923077\n"
     ]
    },
    {
     "name": "stderr",
     "output_type": "stream",
     "text": [
      "Epoch 56 [train]: 100%|██████████| 38/38 [00:00<00:00, 39.27batch/s, batch_loss=0]     \n",
      "Epoch 56 [val]: 100%|██████████| 9/9 [00:00<00:00, 14.34batch/s, batch_loss=0]     \n"
     ]
    },
    {
     "name": "stdout",
     "output_type": "stream",
     "text": [
      "Train loss:  0.04844644763752034\n",
      "Validation loss:  0.06838902210195859\n",
      "Train accuracy:  87.41721854304636\n",
      "Validation accuracy:  81.53846153846153\n"
     ]
    },
    {
     "name": "stderr",
     "output_type": "stream",
     "text": [
      "Epoch 57 [train]: 100%|██████████| 38/38 [00:00<00:00, 39.26batch/s, batch_loss=0.141]  \n",
      "Epoch 57 [val]: 100%|██████████| 9/9 [00:00<00:00, 13.91batch/s, batch_loss=0.0674]\n"
     ]
    },
    {
     "name": "stdout",
     "output_type": "stream",
     "text": [
      "Train loss:  0.04536765789319026\n",
      "Validation loss:  0.06475374061200354\n",
      "Train accuracy:  87.74834437086092\n",
      "Validation accuracy:  83.07692307692308\n"
     ]
    },
    {
     "name": "stderr",
     "output_type": "stream",
     "text": [
      "Epoch 58 [train]: 100%|██████████| 38/38 [00:00<00:00, 39.51batch/s, batch_loss=0.0897] \n",
      "Epoch 58 [val]: 100%|██████████| 9/9 [00:00<00:00, 14.06batch/s, batch_loss=0]     \n"
     ]
    },
    {
     "name": "stdout",
     "output_type": "stream",
     "text": [
      "Train loss:  0.043718839113257434\n",
      "Validation loss:  0.05811424512002203\n",
      "Train accuracy:  88.41059602649007\n",
      "Validation accuracy:  87.6923076923077\n"
     ]
    },
    {
     "name": "stderr",
     "output_type": "stream",
     "text": [
      "Epoch 59 [train]: 100%|██████████| 38/38 [00:00<00:00, 38.95batch/s, batch_loss=0.0112]\n",
      "Epoch 59 [val]: 100%|██████████| 9/9 [00:00<00:00, 14.32batch/s, batch_loss=0]     \n"
     ]
    },
    {
     "name": "stdout",
     "output_type": "stream",
     "text": [
      "Train loss:  0.04478758806362748\n",
      "Validation loss:  0.05701384445031484\n",
      "Train accuracy:  88.41059602649007\n",
      "Validation accuracy:  87.6923076923077\n"
     ]
    },
    {
     "name": "stderr",
     "output_type": "stream",
     "text": [
      "Epoch 60 [train]: 100%|██████████| 38/38 [00:00<00:00, 39.52batch/s, batch_loss=0.0287]\n",
      "Epoch 60 [val]: 100%|██████████| 9/9 [00:00<00:00, 14.45batch/s, batch_loss=0]     \n"
     ]
    },
    {
     "name": "stdout",
     "output_type": "stream",
     "text": [
      "Train loss:  0.04314884528713791\n",
      "Validation loss:  0.06609081559711033\n",
      "Train accuracy:  88.41059602649007\n",
      "Validation accuracy:  81.53846153846153\n"
     ]
    },
    {
     "name": "stderr",
     "output_type": "stream",
     "text": [
      "Epoch 61 [train]: 100%|██████████| 38/38 [00:00<00:00, 38.95batch/s, batch_loss=0]      \n",
      "Epoch 61 [val]: 100%|██████████| 9/9 [00:00<00:00, 14.24batch/s, batch_loss=0]     \n"
     ]
    },
    {
     "name": "stdout",
     "output_type": "stream",
     "text": [
      "Train loss:  0.043844001710807025\n",
      "Validation loss:  0.06124429052902593\n",
      "Train accuracy:  87.74834437086092\n",
      "Validation accuracy:  83.07692307692308\n"
     ]
    },
    {
     "name": "stderr",
     "output_type": "stream",
     "text": [
      "Epoch 62 [train]: 100%|██████████| 38/38 [00:00<00:00, 39.45batch/s, batch_loss=0.0287]\n",
      "Epoch 62 [val]: 100%|██████████| 9/9 [00:00<00:00, 14.37batch/s, batch_loss=0]     \n"
     ]
    },
    {
     "name": "stdout",
     "output_type": "stream",
     "text": [
      "Train loss:  0.043035941835688915\n",
      "Validation loss:  0.06031787788702382\n",
      "Train accuracy:  89.40397350993378\n",
      "Validation accuracy:  86.15384615384616\n"
     ]
    },
    {
     "name": "stderr",
     "output_type": "stream",
     "text": [
      "Epoch 63 [train]: 100%|██████████| 38/38 [00:00<00:00, 38.68batch/s, batch_loss=0.0371]\n",
      "Epoch 63 [val]: 100%|██████████| 9/9 [00:00<00:00, 14.23batch/s, batch_loss=0]     \n"
     ]
    },
    {
     "name": "stdout",
     "output_type": "stream",
     "text": [
      "Train loss:  0.04252252389529818\n",
      "Validation loss:  0.058381016469664045\n",
      "Train accuracy:  88.41059602649007\n",
      "Validation accuracy:  86.15384615384616\n"
     ]
    },
    {
     "name": "stderr",
     "output_type": "stream",
     "text": [
      "Epoch 64 [train]: 100%|██████████| 38/38 [00:00<00:00, 39.46batch/s, batch_loss=0.0834] \n",
      "Epoch 64 [val]: 100%|██████████| 9/9 [00:00<00:00, 14.48batch/s, batch_loss=0.027] \n"
     ]
    },
    {
     "name": "stdout",
     "output_type": "stream",
     "text": [
      "Train loss:  0.042389984193601106\n",
      "Validation loss:  0.06298860162496567\n",
      "Train accuracy:  89.40397350993378\n",
      "Validation accuracy:  84.61538461538461\n"
     ]
    },
    {
     "name": "stderr",
     "output_type": "stream",
     "text": [
      "Epoch 65 [train]: 100%|██████████| 38/38 [00:01<00:00, 37.76batch/s, batch_loss=0.0192]\n",
      "Epoch 65 [val]: 100%|██████████| 9/9 [00:00<00:00, 14.29batch/s, batch_loss=0]     \n"
     ]
    },
    {
     "name": "stdout",
     "output_type": "stream",
     "text": [
      "Train loss:  0.04169442244854413\n",
      "Validation loss:  0.0603974892033471\n",
      "Train accuracy:  89.73509933774834\n",
      "Validation accuracy:  81.53846153846153\n"
     ]
    },
    {
     "name": "stderr",
     "output_type": "stream",
     "text": [
      "Epoch 66 [train]: 100%|██████████| 38/38 [00:00<00:00, 39.19batch/s, batch_loss=0.169]  \n",
      "Epoch 66 [val]: 100%|██████████| 9/9 [00:00<00:00, 14.26batch/s, batch_loss=0]     \n"
     ]
    },
    {
     "name": "stdout",
     "output_type": "stream",
     "text": [
      "Train loss:  0.044447232380901515\n",
      "Validation loss:  0.06166553787059254\n",
      "Train accuracy:  89.40397350993378\n",
      "Validation accuracy:  81.53846153846153\n"
     ]
    },
    {
     "name": "stderr",
     "output_type": "stream",
     "text": [
      "Epoch 67 [train]: 100%|██████████| 38/38 [00:00<00:00, 39.05batch/s, batch_loss=0.0214]  \n",
      "Epoch 67 [val]: 100%|██████████| 9/9 [00:00<00:00, 14.04batch/s, batch_loss=0.0984]\n"
     ]
    },
    {
     "name": "stdout",
     "output_type": "stream",
     "text": [
      "Train loss:  0.04458374383026048\n",
      "Validation loss:  0.06994168667329682\n",
      "Train accuracy:  88.41059602649007\n",
      "Validation accuracy:  83.07692307692308\n"
     ]
    },
    {
     "name": "stderr",
     "output_type": "stream",
     "text": [
      "Epoch 68 [train]: 100%|██████████| 38/38 [00:00<00:00, 40.32batch/s, batch_loss=0.0428]  \n",
      "Epoch 68 [val]: 100%|██████████| 9/9 [00:00<00:00, 14.58batch/s, batch_loss=0.173] \n"
     ]
    },
    {
     "name": "stdout",
     "output_type": "stream",
     "text": [
      "Train loss:  0.04015703107181348\n",
      "Validation loss:  0.06922123684651321\n",
      "Train accuracy:  89.73509933774834\n",
      "Validation accuracy:  89.23076923076923\n"
     ]
    },
    {
     "name": "stderr",
     "output_type": "stream",
     "text": [
      "Epoch 69 [train]: 100%|██████████| 38/38 [00:00<00:00, 38.41batch/s, batch_loss=0.0339] \n",
      "Epoch 69 [val]: 100%|██████████| 9/9 [00:00<00:00, 14.54batch/s, batch_loss=0]     \n"
     ]
    },
    {
     "name": "stdout",
     "output_type": "stream",
     "text": [
      "Train loss:  0.04044241389553798\n",
      "Validation loss:  0.051029021127356425\n",
      "Train accuracy:  90.06622516556291\n",
      "Validation accuracy:  89.23076923076923\n"
     ]
    },
    {
     "name": "stderr",
     "output_type": "stream",
     "text": [
      "Epoch 70 [train]: 100%|██████████| 38/38 [00:00<00:00, 38.45batch/s, batch_loss=0.0251] \n",
      "Epoch 70 [val]: 100%|██████████| 9/9 [00:00<00:00, 13.73batch/s, batch_loss=0]     \n"
     ]
    },
    {
     "name": "stdout",
     "output_type": "stream",
     "text": [
      "Train loss:  0.03998682393055213\n",
      "Validation loss:  0.06616402417421341\n",
      "Train accuracy:  89.73509933774834\n",
      "Validation accuracy:  80.0\n"
     ]
    },
    {
     "name": "stderr",
     "output_type": "stream",
     "text": [
      "Epoch 71 [train]: 100%|██████████| 38/38 [00:00<00:00, 39.25batch/s, batch_loss=0.0481] \n",
      "Epoch 71 [val]: 100%|██████████| 9/9 [00:00<00:00, 14.14batch/s, batch_loss=0]     \n"
     ]
    },
    {
     "name": "stdout",
     "output_type": "stream",
     "text": [
      "Train loss:  0.038902136056046734\n",
      "Validation loss:  0.05302220686442322\n",
      "Train accuracy:  90.06622516556291\n",
      "Validation accuracy:  89.23076923076923\n"
     ]
    },
    {
     "name": "stderr",
     "output_type": "stream",
     "text": [
      "Epoch 72 [train]: 100%|██████████| 38/38 [00:00<00:00, 38.31batch/s, batch_loss=0.0522]\n",
      "Epoch 72 [val]: 100%|██████████| 9/9 [00:00<00:00, 13.82batch/s, batch_loss=0]     \n"
     ]
    },
    {
     "name": "stdout",
     "output_type": "stream",
     "text": [
      "Train loss:  0.040491144761051\n",
      "Validation loss:  0.055781105533242226\n",
      "Train accuracy:  90.06622516556291\n",
      "Validation accuracy:  86.15384615384616\n"
     ]
    },
    {
     "name": "stderr",
     "output_type": "stream",
     "text": [
      "Epoch 73 [train]: 100%|██████████| 38/38 [00:00<00:00, 39.28batch/s, batch_loss=0.0657] \n",
      "Epoch 73 [val]: 100%|██████████| 9/9 [00:00<00:00, 14.69batch/s, batch_loss=0]     \n"
     ]
    },
    {
     "name": "stdout",
     "output_type": "stream",
     "text": [
      "Train loss:  0.041329316990940196\n",
      "Validation loss:  0.054669953882694244\n",
      "Train accuracy:  89.73509933774834\n",
      "Validation accuracy:  86.15384615384616\n"
     ]
    },
    {
     "name": "stderr",
     "output_type": "stream",
     "text": [
      "Epoch 74 [train]: 100%|██████████| 38/38 [00:00<00:00, 38.87batch/s, batch_loss=0.0917] \n",
      "Epoch 74 [val]: 100%|██████████| 9/9 [00:00<00:00, 14.38batch/s, batch_loss=0]     \n"
     ]
    },
    {
     "name": "stdout",
     "output_type": "stream",
     "text": [
      "Train loss:  0.04343952861075338\n",
      "Validation loss:  0.05743099417951372\n",
      "Train accuracy:  89.40397350993378\n",
      "Validation accuracy:  87.6923076923077\n"
     ]
    },
    {
     "name": "stderr",
     "output_type": "stream",
     "text": [
      "Epoch 75 [train]: 100%|██████████| 38/38 [00:00<00:00, 38.78batch/s, batch_loss=0.0386] \n",
      "Epoch 75 [val]: 100%|██████████| 9/9 [00:00<00:00, 14.22batch/s, batch_loss=0]     \n"
     ]
    },
    {
     "name": "stdout",
     "output_type": "stream",
     "text": [
      "Train loss:  0.04081227860756611\n",
      "Validation loss:  0.05466181826260355\n",
      "Train accuracy:  90.06622516556291\n",
      "Validation accuracy:  87.6923076923077\n"
     ]
    },
    {
     "name": "stderr",
     "output_type": "stream",
     "text": [
      "Epoch 76 [train]: 100%|██████████| 38/38 [00:00<00:00, 38.22batch/s, batch_loss=0.0548] \n",
      "Epoch 76 [val]: 100%|██████████| 9/9 [00:00<00:00, 14.00batch/s, batch_loss=0]     \n"
     ]
    },
    {
     "name": "stdout",
     "output_type": "stream",
     "text": [
      "Train loss:  0.041430962713141194\n",
      "Validation loss:  0.06205070349905226\n",
      "Train accuracy:  90.39735099337749\n",
      "Validation accuracy:  78.46153846153847\n"
     ]
    },
    {
     "name": "stderr",
     "output_type": "stream",
     "text": [
      "Epoch 77 [train]: 100%|██████████| 38/38 [00:00<00:00, 38.60batch/s, batch_loss=0.0779] \n",
      "Epoch 77 [val]: 100%|██████████| 9/9 [00:00<00:00, 14.19batch/s, batch_loss=0]     \n"
     ]
    },
    {
     "name": "stdout",
     "output_type": "stream",
     "text": [
      "Train loss:  0.03855971844964906\n",
      "Validation loss:  0.049921746055285134\n",
      "Train accuracy:  89.73509933774834\n",
      "Validation accuracy:  89.23076923076923\n"
     ]
    },
    {
     "name": "stderr",
     "output_type": "stream",
     "text": [
      "Epoch 78 [train]: 100%|██████████| 38/38 [00:00<00:00, 39.64batch/s, batch_loss=0.105]  \n",
      "Epoch 78 [val]: 100%|██████████| 9/9 [00:00<00:00, 14.04batch/s, batch_loss=0.00312]\n"
     ]
    },
    {
     "name": "stdout",
     "output_type": "stream",
     "text": [
      "Train loss:  0.03882350944178669\n",
      "Validation loss:  0.051603525049156614\n",
      "Train accuracy:  90.06622516556291\n",
      "Validation accuracy:  89.23076923076923\n"
     ]
    },
    {
     "name": "stderr",
     "output_type": "stream",
     "text": [
      "Epoch 79 [train]: 100%|██████████| 38/38 [00:00<00:00, 38.71batch/s, batch_loss=0.0675] \n",
      "Epoch 79 [val]: 100%|██████████| 9/9 [00:00<00:00, 13.70batch/s, batch_loss=0]      \n"
     ]
    },
    {
     "name": "stdout",
     "output_type": "stream",
     "text": [
      "Train loss:  0.03669722324335262\n",
      "Validation loss:  0.05298927550514539\n",
      "Train accuracy:  90.06622516556291\n",
      "Validation accuracy:  86.15384615384616\n"
     ]
    },
    {
     "name": "stderr",
     "output_type": "stream",
     "text": [
      "Epoch 80 [train]: 100%|██████████| 38/38 [00:00<00:00, 38.86batch/s, batch_loss=0.0236] \n",
      "Epoch 80 [val]: 100%|██████████| 9/9 [00:00<00:00, 14.38batch/s, batch_loss=0]     \n"
     ]
    },
    {
     "name": "stdout",
     "output_type": "stream",
     "text": [
      "Train loss:  0.03964122237735673\n",
      "Validation loss:  0.05488710726300875\n",
      "Train accuracy:  89.73509933774834\n",
      "Validation accuracy:  87.6923076923077\n"
     ]
    },
    {
     "name": "stderr",
     "output_type": "stream",
     "text": [
      "Epoch 81 [train]: 100%|██████████| 38/38 [00:00<00:00, 38.82batch/s, batch_loss=0.0491]  \n",
      "Epoch 81 [val]: 100%|██████████| 9/9 [00:00<00:00, 14.52batch/s, batch_loss=0.0747]\n"
     ]
    },
    {
     "name": "stdout",
     "output_type": "stream",
     "text": [
      "Train loss:  0.038312239327320925\n",
      "Validation loss:  0.056134245875808925\n",
      "Train accuracy:  90.06622516556291\n",
      "Validation accuracy:  89.23076923076923\n"
     ]
    },
    {
     "name": "stderr",
     "output_type": "stream",
     "text": [
      "Epoch 82 [train]: 100%|██████████| 38/38 [00:00<00:00, 39.28batch/s, batch_loss=0.064]  \n",
      "Epoch 82 [val]: 100%|██████████| 9/9 [00:00<00:00, 14.32batch/s, batch_loss=0]     \n"
     ]
    },
    {
     "name": "stdout",
     "output_type": "stream",
     "text": [
      "Train loss:  0.03796361484809926\n",
      "Validation loss:  0.05510710241893927\n",
      "Train accuracy:  90.39735099337749\n",
      "Validation accuracy:  83.07692307692308\n"
     ]
    },
    {
     "name": "stderr",
     "output_type": "stream",
     "text": [
      "Epoch 83 [train]: 100%|██████████| 38/38 [00:00<00:00, 39.58batch/s, batch_loss=0.00628]\n",
      "Epoch 83 [val]: 100%|██████████| 9/9 [00:00<00:00, 14.19batch/s, batch_loss=0.0542] \n"
     ]
    },
    {
     "name": "stdout",
     "output_type": "stream",
     "text": [
      "Train loss:  0.03532785750729473\n",
      "Validation loss:  0.05181767294804255\n",
      "Train accuracy:  91.72185430463576\n",
      "Validation accuracy:  87.6923076923077\n"
     ]
    },
    {
     "name": "stderr",
     "output_type": "stream",
     "text": [
      "Epoch 84 [train]: 100%|██████████| 38/38 [00:00<00:00, 39.60batch/s, batch_loss=0.0573] \n",
      "Epoch 84 [val]: 100%|██████████| 9/9 [00:00<00:00, 14.31batch/s, batch_loss=0.183] \n"
     ]
    },
    {
     "name": "stdout",
     "output_type": "stream",
     "text": [
      "Train loss:  0.04136237497196386\n",
      "Validation loss:  0.08415983203384611\n",
      "Train accuracy:  88.41059602649007\n",
      "Validation accuracy:  81.53846153846153\n"
     ]
    },
    {
     "name": "stderr",
     "output_type": "stream",
     "text": [
      "Epoch 85 [train]: 100%|██████████| 38/38 [00:00<00:00, 39.35batch/s, batch_loss=0.0984] \n",
      "Epoch 85 [val]: 100%|██████████| 9/9 [00:00<00:00, 14.28batch/s, batch_loss=0]     \n"
     ]
    },
    {
     "name": "stdout",
     "output_type": "stream",
     "text": [
      "Train loss:  0.040589772409906515\n",
      "Validation loss:  0.05768947448167536\n",
      "Train accuracy:  89.0728476821192\n",
      "Validation accuracy:  83.07692307692308\n"
     ]
    },
    {
     "name": "stderr",
     "output_type": "stream",
     "text": [
      "Epoch 86 [train]: 100%|██████████| 38/38 [00:00<00:00, 39.10batch/s, batch_loss=0.0439] \n",
      "Epoch 86 [val]: 100%|██████████| 9/9 [00:00<00:00, 14.35batch/s, batch_loss=0.0846]\n"
     ]
    },
    {
     "name": "stdout",
     "output_type": "stream",
     "text": [
      "Train loss:  0.037490227406746464\n",
      "Validation loss:  0.059773569719658956\n",
      "Train accuracy:  90.39735099337749\n",
      "Validation accuracy:  89.23076923076923\n"
     ]
    },
    {
     "name": "stderr",
     "output_type": "stream",
     "text": [
      "Epoch 87 [train]: 100%|██████████| 38/38 [00:00<00:00, 38.35batch/s, batch_loss=0.0672] \n",
      "Epoch 87 [val]: 100%|██████████| 9/9 [00:00<00:00, 14.59batch/s, batch_loss=0.0195]\n"
     ]
    },
    {
     "name": "stdout",
     "output_type": "stream",
     "text": [
      "Train loss:  0.03875808099186734\n",
      "Validation loss:  0.05368598674734434\n",
      "Train accuracy:  89.40397350993378\n",
      "Validation accuracy:  89.23076923076923\n"
     ]
    },
    {
     "name": "stderr",
     "output_type": "stream",
     "text": [
      "Epoch 88 [train]: 100%|██████████| 38/38 [00:00<00:00, 38.59batch/s, batch_loss=0.00874]\n",
      "Epoch 88 [val]: 100%|██████████| 9/9 [00:00<00:00, 14.47batch/s, batch_loss=0.27]  \n"
     ]
    },
    {
     "name": "stdout",
     "output_type": "stream",
     "text": [
      "Train loss:  0.03981485117324873\n",
      "Validation loss:  0.0790940448641777\n",
      "Train accuracy:  89.73509933774834\n",
      "Validation accuracy:  89.23076923076923\n"
     ]
    },
    {
     "name": "stderr",
     "output_type": "stream",
     "text": [
      "Epoch 89 [train]: 100%|██████████| 38/38 [00:00<00:00, 38.42batch/s, batch_loss=0.0344] \n",
      "Epoch 89 [val]: 100%|██████████| 9/9 [00:00<00:00, 14.36batch/s, batch_loss=0]     \n"
     ]
    },
    {
     "name": "stdout",
     "output_type": "stream",
     "text": [
      "Train loss:  0.04225848884762902\n",
      "Validation loss:  0.055078893072075315\n",
      "Train accuracy:  89.0728476821192\n",
      "Validation accuracy:  86.15384615384616\n"
     ]
    },
    {
     "name": "stderr",
     "output_type": "stream",
     "text": [
      "Epoch 90 [train]: 100%|██████████| 38/38 [00:01<00:00, 37.64batch/s, batch_loss=0]      \n",
      "Epoch 90 [val]: 100%|██████████| 9/9 [00:00<00:00, 13.76batch/s, batch_loss=0.179] \n"
     ]
    },
    {
     "name": "stdout",
     "output_type": "stream",
     "text": [
      "Train loss:  0.039847103290651976\n",
      "Validation loss:  0.07293814130955273\n",
      "Train accuracy:  89.0728476821192\n",
      "Validation accuracy:  86.15384615384616\n"
     ]
    },
    {
     "name": "stderr",
     "output_type": "stream",
     "text": [
      "Epoch 91 [train]: 100%|██████████| 38/38 [00:00<00:00, 39.31batch/s, batch_loss=0.11]   \n",
      "Epoch 91 [val]: 100%|██████████| 9/9 [00:00<00:00, 14.30batch/s, batch_loss=0.194] \n"
     ]
    },
    {
     "name": "stdout",
     "output_type": "stream",
     "text": [
      "Train loss:  0.038637060623027776\n",
      "Validation loss:  0.0789310952855481\n",
      "Train accuracy:  89.40397350993378\n",
      "Validation accuracy:  81.53846153846153\n"
     ]
    },
    {
     "name": "stderr",
     "output_type": "stream",
     "text": [
      "Epoch 92 [train]: 100%|██████████| 38/38 [00:00<00:00, 39.55batch/s, batch_loss=0.0721]  \n",
      "Epoch 92 [val]: 100%|██████████| 9/9 [00:00<00:00, 14.37batch/s, batch_loss=0]      \n"
     ]
    },
    {
     "name": "stdout",
     "output_type": "stream",
     "text": [
      "Train loss:  0.03762136978146277\n",
      "Validation loss:  0.051788667423857584\n",
      "Train accuracy:  89.40397350993378\n",
      "Validation accuracy:  87.6923076923077\n"
     ]
    },
    {
     "name": "stderr",
     "output_type": "stream",
     "text": [
      "Epoch 93 [train]: 100%|██████████| 38/38 [00:00<00:00, 39.06batch/s, batch_loss=0.0327] \n",
      "Epoch 93 [val]: 100%|██████████| 9/9 [00:00<00:00, 14.32batch/s, batch_loss=0]      \n"
     ]
    },
    {
     "name": "stdout",
     "output_type": "stream",
     "text": [
      "Train loss:  0.03474737850851134\n",
      "Validation loss:  0.05301255277461476\n",
      "Train accuracy:  90.72847682119205\n",
      "Validation accuracy:  86.15384615384616\n"
     ]
    },
    {
     "name": "stderr",
     "output_type": "stream",
     "text": [
      "Epoch 94 [train]: 100%|██████████| 38/38 [00:00<00:00, 38.91batch/s, batch_loss=0.00525]\n",
      "Epoch 94 [val]: 100%|██████████| 9/9 [00:00<00:00, 14.12batch/s, batch_loss=0.0435] \n"
     ]
    },
    {
     "name": "stdout",
     "output_type": "stream",
     "text": [
      "Train loss:  0.033448491784694945\n",
      "Validation loss:  0.05899135727021429\n",
      "Train accuracy:  91.05960264900662\n",
      "Validation accuracy:  86.15384615384616\n"
     ]
    },
    {
     "name": "stderr",
     "output_type": "stream",
     "text": [
      "Epoch 95 [train]: 100%|██████████| 38/38 [00:00<00:00, 38.35batch/s, batch_loss=0.017]  \n",
      "Epoch 95 [val]: 100%|██████████| 9/9 [00:00<00:00, 14.55batch/s, batch_loss=0]     \n"
     ]
    },
    {
     "name": "stdout",
     "output_type": "stream",
     "text": [
      "Train loss:  0.036200033745875486\n",
      "Validation loss:  0.055204772700866066\n",
      "Train accuracy:  90.72847682119205\n",
      "Validation accuracy:  87.6923076923077\n"
     ]
    },
    {
     "name": "stderr",
     "output_type": "stream",
     "text": [
      "Epoch 96 [train]: 100%|██████████| 38/38 [00:00<00:00, 38.33batch/s, batch_loss=0.171]  \n",
      "Epoch 96 [val]: 100%|██████████| 9/9 [00:00<00:00, 13.98batch/s, batch_loss=0.0909]\n"
     ]
    },
    {
     "name": "stdout",
     "output_type": "stream",
     "text": [
      "Train loss:  0.03659395510820966\n",
      "Validation loss:  0.05588998252318965\n",
      "Train accuracy:  90.72847682119205\n",
      "Validation accuracy:  89.23076923076923\n"
     ]
    },
    {
     "name": "stderr",
     "output_type": "stream",
     "text": [
      "Epoch 97 [train]: 100%|██████████| 38/38 [00:00<00:00, 39.37batch/s, batch_loss=0.00645]\n",
      "Epoch 97 [val]: 100%|██████████| 9/9 [00:00<00:00, 14.31batch/s, batch_loss=0]     \n"
     ]
    },
    {
     "name": "stdout",
     "output_type": "stream",
     "text": [
      "Train loss:  0.033496481783099864\n",
      "Validation loss:  0.056922829813427396\n",
      "Train accuracy:  90.72847682119205\n",
      "Validation accuracy:  83.07692307692308\n"
     ]
    },
    {
     "name": "stderr",
     "output_type": "stream",
     "text": [
      "Epoch 98 [train]: 100%|██████████| 38/38 [00:00<00:00, 39.63batch/s, batch_loss=0.08]   \n",
      "Epoch 98 [val]: 100%|██████████| 9/9 [00:00<00:00, 14.36batch/s, batch_loss=0.159]  \n"
     ]
    },
    {
     "name": "stdout",
     "output_type": "stream",
     "text": [
      "Train loss:  0.041507295381866004\n",
      "Validation loss:  0.07018175886736976\n",
      "Train accuracy:  88.41059602649007\n",
      "Validation accuracy:  81.53846153846153\n"
     ]
    },
    {
     "name": "stderr",
     "output_type": "stream",
     "text": [
      "Epoch 99 [train]: 100%|██████████| 38/38 [00:00<00:00, 39.74batch/s, batch_loss=0.0792] \n",
      "Epoch 99 [val]: 100%|██████████| 9/9 [00:00<00:00, 14.41batch/s, batch_loss=0]     \n"
     ]
    },
    {
     "name": "stdout",
     "output_type": "stream",
     "text": [
      "Train loss:  0.039818591830369676\n",
      "Validation loss:  0.06522370667921172\n",
      "Train accuracy:  90.39735099337749\n",
      "Validation accuracy:  80.0\n"
     ]
    },
    {
     "name": "stderr",
     "output_type": "stream",
     "text": [
      "Epoch 100 [train]: 100%|██████████| 38/38 [00:00<00:00, 40.30batch/s, batch_loss=0.0166]  \n",
      "Epoch 100 [val]: 100%|██████████| 9/9 [00:00<00:00, 14.21batch/s, batch_loss=0]     \n"
     ]
    },
    {
     "name": "stdout",
     "output_type": "stream",
     "text": [
      "Train loss:  0.036537869637341874\n",
      "Validation loss:  0.05415989665521516\n",
      "Train accuracy:  90.06622516556291\n",
      "Validation accuracy:  86.15384615384616\n"
     ]
    },
    {
     "name": "stderr",
     "output_type": "stream",
     "text": [
      "Epoch 101 [train]: 100%|██████████| 38/38 [00:00<00:00, 38.62batch/s, batch_loss=0]     \n",
      "Epoch 101 [val]: 100%|██████████| 9/9 [00:00<00:00, 14.18batch/s, batch_loss=0.0642]\n"
     ]
    },
    {
     "name": "stdout",
     "output_type": "stream",
     "text": [
      "Train loss:  0.04366146096665608\n",
      "Validation loss:  0.06026708996958203\n",
      "Train accuracy:  88.74172185430463\n",
      "Validation accuracy:  87.6923076923077\n"
     ]
    },
    {
     "name": "stderr",
     "output_type": "stream",
     "text": [
      "Epoch 102 [train]: 100%|██████████| 38/38 [00:01<00:00, 37.77batch/s, batch_loss=0.0449] \n",
      "Epoch 102 [val]: 100%|██████████| 9/9 [00:00<00:00, 14.16batch/s, batch_loss=0]      \n"
     ]
    },
    {
     "name": "stdout",
     "output_type": "stream",
     "text": [
      "Train loss:  0.036013600171396605\n",
      "Validation loss:  0.046206285142236285\n",
      "Train accuracy:  90.06622516556291\n",
      "Validation accuracy:  89.23076923076923\n"
     ]
    },
    {
     "name": "stderr",
     "output_type": "stream",
     "text": [
      "Epoch 103 [train]: 100%|██████████| 38/38 [00:00<00:00, 38.97batch/s, batch_loss=0.0742] \n",
      "Epoch 103 [val]: 100%|██████████| 9/9 [00:00<00:00, 14.17batch/s, batch_loss=0.0725]\n"
     ]
    },
    {
     "name": "stdout",
     "output_type": "stream",
     "text": [
      "Train loss:  0.04032037073844358\n",
      "Validation loss:  0.0656059624420272\n",
      "Train accuracy:  88.74172185430463\n",
      "Validation accuracy:  84.61538461538461\n"
     ]
    },
    {
     "name": "stderr",
     "output_type": "stream",
     "text": [
      "Epoch 104 [train]: 100%|██████████| 38/38 [00:00<00:00, 40.28batch/s, batch_loss=0.0288] \n",
      "Epoch 104 [val]: 100%|██████████| 9/9 [00:00<00:00, 14.58batch/s, batch_loss=0]     \n"
     ]
    },
    {
     "name": "stdout",
     "output_type": "stream",
     "text": [
      "Train loss:  0.038831283436401895\n",
      "Validation loss:  0.050328708357281156\n",
      "Train accuracy:  89.40397350993378\n",
      "Validation accuracy:  87.6923076923077\n"
     ]
    },
    {
     "name": "stderr",
     "output_type": "stream",
     "text": [
      "Epoch 105 [train]: 100%|██████████| 38/38 [00:00<00:00, 38.56batch/s, batch_loss=0.066]  \n",
      "Epoch 105 [val]: 100%|██████████| 9/9 [00:00<00:00, 14.52batch/s, batch_loss=0]     \n"
     ]
    },
    {
     "name": "stdout",
     "output_type": "stream",
     "text": [
      "Train loss:  0.0404970514539041\n",
      "Validation loss:  0.06967598530981275\n",
      "Train accuracy:  90.39735099337749\n",
      "Validation accuracy:  80.0\n"
     ]
    },
    {
     "name": "stderr",
     "output_type": "stream",
     "text": [
      "Epoch 106 [train]: 100%|██████████| 38/38 [00:00<00:00, 39.72batch/s, batch_loss=0.02]  \n",
      "Epoch 106 [val]: 100%|██████████| 9/9 [00:00<00:00, 14.38batch/s, batch_loss=0.0619]\n"
     ]
    },
    {
     "name": "stdout",
     "output_type": "stream",
     "text": [
      "Train loss:  0.04545565596536586\n",
      "Validation loss:  0.0628913256029288\n",
      "Train accuracy:  87.41721854304636\n",
      "Validation accuracy:  86.15384615384616\n"
     ]
    },
    {
     "name": "stderr",
     "output_type": "stream",
     "text": [
      "Epoch 107 [train]: 100%|██████████| 38/38 [00:00<00:00, 39.32batch/s, batch_loss=0.0115] \n",
      "Epoch 107 [val]: 100%|██████████| 9/9 [00:00<00:00, 14.00batch/s, batch_loss=0.0441]\n"
     ]
    },
    {
     "name": "stdout",
     "output_type": "stream",
     "text": [
      "Train loss:  0.038245659689173886\n",
      "Validation loss:  0.06793315874205695\n",
      "Train accuracy:  90.06622516556291\n",
      "Validation accuracy:  81.53846153846153\n"
     ]
    },
    {
     "name": "stderr",
     "output_type": "stream",
     "text": [
      "Epoch 108 [train]: 100%|██████████| 38/38 [00:00<00:00, 39.14batch/s, batch_loss=0.0707] \n",
      "Epoch 108 [val]: 100%|██████████| 9/9 [00:00<00:00, 14.43batch/s, batch_loss=0]      \n"
     ]
    },
    {
     "name": "stdout",
     "output_type": "stream",
     "text": [
      "Train loss:  0.04021683031398999\n",
      "Validation loss:  0.062045231047603816\n",
      "Train accuracy:  89.40397350993378\n",
      "Validation accuracy:  81.53846153846153\n"
     ]
    },
    {
     "name": "stderr",
     "output_type": "stream",
     "text": [
      "Epoch 109 [train]: 100%|██████████| 38/38 [00:00<00:00, 39.44batch/s, batch_loss=0]      \n",
      "Epoch 109 [val]: 100%|██████████| 9/9 [00:00<00:00, 14.43batch/s, batch_loss=0]     \n"
     ]
    },
    {
     "name": "stdout",
     "output_type": "stream",
     "text": [
      "Train loss:  0.036436686586392555\n",
      "Validation loss:  0.05288464410437478\n",
      "Train accuracy:  88.74172185430463\n",
      "Validation accuracy:  86.15384615384616\n"
     ]
    },
    {
     "name": "stderr",
     "output_type": "stream",
     "text": [
      "Epoch 110 [train]: 100%|██████████| 38/38 [00:01<00:00, 37.72batch/s, batch_loss=0.0432]  \n",
      "Epoch 110 [val]: 100%|██████████| 9/9 [00:00<00:00, 14.52batch/s, batch_loss=0]     \n"
     ]
    },
    {
     "name": "stdout",
     "output_type": "stream",
     "text": [
      "Train loss:  0.03841758019437915\n",
      "Validation loss:  0.060400510827700295\n",
      "Train accuracy:  89.73509933774834\n",
      "Validation accuracy:  81.53846153846153\n"
     ]
    },
    {
     "name": "stderr",
     "output_type": "stream",
     "text": [
      "Epoch 111 [train]: 100%|██████████| 38/38 [00:00<00:00, 39.50batch/s, batch_loss=0.0369] \n",
      "Epoch 111 [val]: 100%|██████████| 9/9 [00:00<00:00, 14.39batch/s, batch_loss=0.159] \n"
     ]
    },
    {
     "name": "stdout",
     "output_type": "stream",
     "text": [
      "Train loss:  0.03761788398811692\n",
      "Validation loss:  0.06746460869908333\n",
      "Train accuracy:  90.06622516556291\n",
      "Validation accuracy:  86.15384615384616\n"
     ]
    },
    {
     "name": "stderr",
     "output_type": "stream",
     "text": [
      "Epoch 112 [train]: 100%|██████████| 38/38 [00:00<00:00, 39.57batch/s, batch_loss=0.05]   \n",
      "Epoch 112 [val]: 100%|██████████| 9/9 [00:00<00:00, 14.41batch/s, batch_loss=0]     \n"
     ]
    },
    {
     "name": "stdout",
     "output_type": "stream",
     "text": [
      "Train loss:  0.03706642014807776\n",
      "Validation loss:  0.060110900551080704\n",
      "Train accuracy:  90.39735099337749\n",
      "Validation accuracy:  81.53846153846153\n"
     ]
    },
    {
     "name": "stderr",
     "output_type": "stream",
     "text": [
      "Epoch 113 [train]: 100%|██████████| 38/38 [00:00<00:00, 38.80batch/s, batch_loss=0.0387] \n",
      "Epoch 113 [val]: 100%|██████████| 9/9 [00:00<00:00, 14.15batch/s, batch_loss=0]     \n"
     ]
    },
    {
     "name": "stdout",
     "output_type": "stream",
     "text": [
      "Train loss:  0.034817181233512726\n",
      "Validation loss:  0.0734468623995781\n",
      "Train accuracy:  91.05960264900662\n",
      "Validation accuracy:  76.92307692307692\n"
     ]
    },
    {
     "name": "stderr",
     "output_type": "stream",
     "text": [
      "Epoch 114 [train]: 100%|██████████| 38/38 [00:00<00:00, 38.97batch/s, batch_loss=0.00827]\n",
      "Epoch 114 [val]: 100%|██████████| 9/9 [00:00<00:00, 14.02batch/s, batch_loss=0.0182]\n"
     ]
    },
    {
     "name": "stdout",
     "output_type": "stream",
     "text": [
      "Train loss:  0.03856481646040553\n",
      "Validation loss:  0.05656040873792437\n",
      "Train accuracy:  89.0728476821192\n",
      "Validation accuracy:  81.53846153846153\n"
     ]
    },
    {
     "name": "stderr",
     "output_type": "stream",
     "text": [
      "Epoch 115 [train]: 100%|██████████| 38/38 [00:00<00:00, 38.65batch/s, batch_loss=0.0325] \n",
      "Epoch 115 [val]: 100%|██████████| 9/9 [00:00<00:00, 14.53batch/s, batch_loss=0]     \n"
     ]
    },
    {
     "name": "stdout",
     "output_type": "stream",
     "text": [
      "Train loss:  0.03827983660525397\n",
      "Validation loss:  0.047954052686691284\n",
      "Train accuracy:  88.74172185430463\n",
      "Validation accuracy:  87.6923076923077\n"
     ]
    },
    {
     "name": "stderr",
     "output_type": "stream",
     "text": [
      "Epoch 116 [train]: 100%|██████████| 38/38 [00:00<00:00, 39.69batch/s, batch_loss=0.0455]  \n",
      "Epoch 116 [val]: 100%|██████████| 9/9 [00:00<00:00, 14.45batch/s, batch_loss=0]     \n"
     ]
    },
    {
     "name": "stdout",
     "output_type": "stream",
     "text": [
      "Train loss:  0.033720523217006734\n",
      "Validation loss:  0.06824877361456554\n",
      "Train accuracy:  90.39735099337749\n",
      "Validation accuracy:  76.92307692307692\n"
     ]
    },
    {
     "name": "stderr",
     "output_type": "stream",
     "text": [
      "Epoch 117 [train]: 100%|██████████| 38/38 [00:00<00:00, 38.47batch/s, batch_loss=0.0287] \n",
      "Epoch 117 [val]: 100%|██████████| 9/9 [00:00<00:00, 14.30batch/s, batch_loss=0.185]  \n"
     ]
    },
    {
     "name": "stdout",
     "output_type": "stream",
     "text": [
      "Train loss:  0.03669159545710212\n",
      "Validation loss:  0.06433773537476857\n",
      "Train accuracy:  88.41059602649007\n",
      "Validation accuracy:  89.23076923076923\n"
     ]
    },
    {
     "name": "stderr",
     "output_type": "stream",
     "text": [
      "Epoch 118 [train]: 100%|██████████| 38/38 [00:00<00:00, 38.54batch/s, batch_loss=0.0291] \n",
      "Epoch 118 [val]: 100%|██████████| 9/9 [00:00<00:00, 14.33batch/s, batch_loss=0]      \n"
     ]
    },
    {
     "name": "stdout",
     "output_type": "stream",
     "text": [
      "Train loss:  0.03091532545850465\n",
      "Validation loss:  0.04507644805643293\n",
      "Train accuracy:  90.06622516556291\n",
      "Validation accuracy:  87.6923076923077\n"
     ]
    },
    {
     "name": "stderr",
     "output_type": "stream",
     "text": [
      "Epoch 119 [train]: 100%|██████████| 38/38 [00:00<00:00, 39.11batch/s, batch_loss=0.00329]\n",
      "Epoch 119 [val]: 100%|██████████| 9/9 [00:00<00:00, 14.46batch/s, batch_loss=0]      \n"
     ]
    },
    {
     "name": "stdout",
     "output_type": "stream",
     "text": [
      "Train loss:  0.036138170680619384\n",
      "Validation loss:  0.043374343464771904\n",
      "Train accuracy:  89.73509933774834\n",
      "Validation accuracy:  87.6923076923077\n"
     ]
    },
    {
     "name": "stderr",
     "output_type": "stream",
     "text": [
      "Epoch 120 [train]: 100%|██████████| 38/38 [00:00<00:00, 39.55batch/s, batch_loss=0.0603] \n",
      "Epoch 120 [val]: 100%|██████████| 9/9 [00:00<00:00, 14.29batch/s, batch_loss=0]     \n"
     ]
    },
    {
     "name": "stdout",
     "output_type": "stream",
     "text": [
      "Train loss:  0.03395408362542328\n",
      "Validation loss:  0.05494711589482096\n",
      "Train accuracy:  89.40397350993378\n",
      "Validation accuracy:  78.46153846153847\n"
     ]
    },
    {
     "name": "stderr",
     "output_type": "stream",
     "text": [
      "Epoch 121 [train]: 100%|██████████| 38/38 [00:00<00:00, 39.21batch/s, batch_loss=0.065]  \n",
      "Epoch 121 [val]: 100%|██████████| 9/9 [00:00<00:00, 14.24batch/s, batch_loss=0.0845]\n"
     ]
    },
    {
     "name": "stdout",
     "output_type": "stream",
     "text": [
      "Train loss:  0.03978123486434158\n",
      "Validation loss:  0.06824507729874717\n",
      "Train accuracy:  87.74834437086092\n",
      "Validation accuracy:  81.53846153846153\n"
     ]
    },
    {
     "name": "stderr",
     "output_type": "stream",
     "text": [
      "Epoch 122 [train]: 100%|██████████| 38/38 [00:00<00:00, 39.19batch/s, batch_loss=0.0913] \n",
      "Epoch 122 [val]: 100%|██████████| 9/9 [00:00<00:00, 14.24batch/s, batch_loss=0]      \n"
     ]
    },
    {
     "name": "stdout",
     "output_type": "stream",
     "text": [
      "Train loss:  0.04186179871229749\n",
      "Validation loss:  0.06000942405727175\n",
      "Train accuracy:  87.41721854304636\n",
      "Validation accuracy:  80.0\n"
     ]
    },
    {
     "name": "stderr",
     "output_type": "stream",
     "text": [
      "Epoch 123 [train]: 100%|██████████| 38/38 [00:00<00:00, 38.51batch/s, batch_loss=0]       \n",
      "Epoch 123 [val]: 100%|██████████| 9/9 [00:00<00:00, 14.52batch/s, batch_loss=0]      \n"
     ]
    },
    {
     "name": "stdout",
     "output_type": "stream",
     "text": [
      "Train loss:  0.03273552058166579\n",
      "Validation loss:  0.0400185055202908\n",
      "Train accuracy:  91.05960264900662\n",
      "Validation accuracy:  89.23076923076923\n"
     ]
    },
    {
     "name": "stderr",
     "output_type": "stream",
     "text": [
      "Epoch 124 [train]: 100%|██████████| 38/38 [00:00<00:00, 38.23batch/s, batch_loss=0]       \n",
      "Epoch 124 [val]: 100%|██████████| 9/9 [00:00<00:00, 14.55batch/s, batch_loss=0.0365] \n"
     ]
    },
    {
     "name": "stdout",
     "output_type": "stream",
     "text": [
      "Train loss:  0.02735743563818304\n",
      "Validation loss:  0.04760079085826874\n",
      "Train accuracy:  91.72185430463576\n",
      "Validation accuracy:  87.6923076923077\n"
     ]
    },
    {
     "name": "stderr",
     "output_type": "stream",
     "text": [
      "Epoch 125 [train]: 100%|██████████| 38/38 [00:00<00:00, 39.01batch/s, batch_loss=0.018]  \n",
      "Epoch 125 [val]: 100%|██████████| 9/9 [00:00<00:00, 14.32batch/s, batch_loss=0.0521] \n"
     ]
    },
    {
     "name": "stdout",
     "output_type": "stream",
     "text": [
      "Train loss:  0.03193248347624352\n",
      "Validation loss:  0.07664828954471482\n",
      "Train accuracy:  91.05960264900662\n",
      "Validation accuracy:  76.92307692307692\n"
     ]
    },
    {
     "name": "stderr",
     "output_type": "stream",
     "text": [
      "Epoch 126 [train]: 100%|██████████| 38/38 [00:00<00:00, 40.28batch/s, batch_loss=0.0775]  \n",
      "Epoch 126 [val]: 100%|██████████| 9/9 [00:00<00:00, 14.10batch/s, batch_loss=0.339]  \n"
     ]
    },
    {
     "name": "stdout",
     "output_type": "stream",
     "text": [
      "Train loss:  0.032158418901656806\n",
      "Validation loss:  0.0778127954237991\n",
      "Train accuracy:  90.06622516556291\n",
      "Validation accuracy:  86.15384615384616\n"
     ]
    },
    {
     "name": "stderr",
     "output_type": "stream",
     "text": [
      "Epoch 127 [train]: 100%|██████████| 38/38 [00:00<00:00, 40.05batch/s, batch_loss=0.0612] \n",
      "Epoch 127 [val]: 100%|██████████| 9/9 [00:00<00:00, 14.35batch/s, batch_loss=0.0033]\n"
     ]
    },
    {
     "name": "stdout",
     "output_type": "stream",
     "text": [
      "Train loss:  0.031971128853528125\n",
      "Validation loss:  0.049447850634654365\n",
      "Train accuracy:  91.05960264900662\n",
      "Validation accuracy:  86.15384615384616\n"
     ]
    },
    {
     "name": "stderr",
     "output_type": "stream",
     "text": [
      "Epoch 128 [train]: 100%|██████████| 38/38 [00:00<00:00, 38.39batch/s, batch_loss=0.015]  \n",
      "Epoch 128 [val]: 100%|██████████| 9/9 [00:00<00:00, 13.96batch/s, batch_loss=0.0455]\n"
     ]
    },
    {
     "name": "stdout",
     "output_type": "stream",
     "text": [
      "Train loss:  0.03916140925139189\n",
      "Validation loss:  0.057357851415872574\n",
      "Train accuracy:  88.0794701986755\n",
      "Validation accuracy:  84.61538461538461\n"
     ]
    },
    {
     "name": "stderr",
     "output_type": "stream",
     "text": [
      "Epoch 129 [train]: 100%|██████████| 38/38 [00:00<00:00, 38.07batch/s, batch_loss=0.00408]\n",
      "Epoch 129 [val]: 100%|██████████| 9/9 [00:00<00:00, 14.24batch/s, batch_loss=0]     \n"
     ]
    },
    {
     "name": "stdout",
     "output_type": "stream",
     "text": [
      "Train loss:  0.03333640063034469\n",
      "Validation loss:  0.05557132719291581\n",
      "Train accuracy:  90.39735099337749\n",
      "Validation accuracy:  78.46153846153847\n"
     ]
    },
    {
     "name": "stderr",
     "output_type": "stream",
     "text": [
      "Epoch 130 [train]: 100%|██████████| 38/38 [00:00<00:00, 39.24batch/s, batch_loss=0.0388] \n",
      "Epoch 130 [val]: 100%|██████████| 9/9 [00:00<00:00, 14.24batch/s, batch_loss=0]     \n"
     ]
    },
    {
     "name": "stdout",
     "output_type": "stream",
     "text": [
      "Train loss:  0.03653102289689215\n",
      "Validation loss:  0.05341592513852649\n",
      "Train accuracy:  90.39735099337749\n",
      "Validation accuracy:  84.61538461538461\n"
     ]
    },
    {
     "name": "stderr",
     "output_type": "stream",
     "text": [
      "Epoch 131 [train]: 100%|██████████| 38/38 [00:00<00:00, 39.14batch/s, batch_loss=0.0595] \n",
      "Epoch 131 [val]: 100%|██████████| 9/9 [00:00<00:00, 14.21batch/s, batch_loss=0]     \n"
     ]
    },
    {
     "name": "stdout",
     "output_type": "stream",
     "text": [
      "Train loss:  0.033543350273057035\n",
      "Validation loss:  0.06092536118295458\n",
      "Train accuracy:  91.05960264900662\n",
      "Validation accuracy:  80.0\n"
     ]
    },
    {
     "name": "stderr",
     "output_type": "stream",
     "text": [
      "Epoch 132 [train]: 100%|██████████| 38/38 [00:01<00:00, 37.59batch/s, batch_loss=0]      \n",
      "Epoch 132 [val]: 100%|██████████| 9/9 [00:00<00:00, 14.24batch/s, batch_loss=0]     \n"
     ]
    },
    {
     "name": "stdout",
     "output_type": "stream",
     "text": [
      "Train loss:  0.03602711748527853\n",
      "Validation loss:  0.04738743727405866\n",
      "Train accuracy:  89.73509933774834\n",
      "Validation accuracy:  87.6923076923077\n"
     ]
    },
    {
     "name": "stderr",
     "output_type": "stream",
     "text": [
      "Epoch 133 [train]: 100%|██████████| 38/38 [00:01<00:00, 37.20batch/s, batch_loss=0.0225]  \n",
      "Epoch 133 [val]: 100%|██████████| 9/9 [00:00<00:00, 14.37batch/s, batch_loss=0.193]  \n"
     ]
    },
    {
     "name": "stdout",
     "output_type": "stream",
     "text": [
      "Train loss:  0.031064271681794996\n",
      "Validation loss:  0.07272468051976627\n",
      "Train accuracy:  91.05960264900662\n",
      "Validation accuracy:  80.0\n"
     ]
    },
    {
     "name": "stderr",
     "output_type": "stream",
     "text": [
      "Epoch 134 [train]: 100%|██████████| 38/38 [00:00<00:00, 38.58batch/s, batch_loss=0.00187]\n",
      "Epoch 134 [val]: 100%|██████████| 9/9 [00:00<00:00, 13.83batch/s, batch_loss=0.351]  \n"
     ]
    },
    {
     "name": "stdout",
     "output_type": "stream",
     "text": [
      "Train loss:  0.031842835869419536\n",
      "Validation loss:  0.08025705027911398\n",
      "Train accuracy:  90.06622516556291\n",
      "Validation accuracy:  87.6923076923077\n"
     ]
    },
    {
     "name": "stderr",
     "output_type": "stream",
     "text": [
      "Epoch 135 [train]: 100%|██████████| 38/38 [00:00<00:00, 39.31batch/s, batch_loss=0.0508] \n",
      "Epoch 135 [val]: 100%|██████████| 9/9 [00:00<00:00, 14.08batch/s, batch_loss=0]      \n"
     ]
    },
    {
     "name": "stdout",
     "output_type": "stream",
     "text": [
      "Train loss:  0.03382335632647339\n",
      "Validation loss:  0.045072437160544924\n",
      "Train accuracy:  90.06622516556291\n",
      "Validation accuracy:  87.6923076923077\n"
     ]
    },
    {
     "name": "stderr",
     "output_type": "stream",
     "text": [
      "Epoch 136 [train]: 100%|██████████| 38/38 [00:00<00:00, 38.54batch/s, batch_loss=0.0317] \n",
      "Epoch 136 [val]: 100%|██████████| 9/9 [00:00<00:00, 14.26batch/s, batch_loss=0]     \n"
     ]
    },
    {
     "name": "stdout",
     "output_type": "stream",
     "text": [
      "Train loss:  0.03525613493433124\n",
      "Validation loss:  0.04602385684847832\n",
      "Train accuracy:  90.72847682119205\n",
      "Validation accuracy:  87.6923076923077\n"
     ]
    },
    {
     "name": "stderr",
     "output_type": "stream",
     "text": [
      "Epoch 137 [train]: 100%|██████████| 38/38 [00:00<00:00, 38.95batch/s, batch_loss=0.025]   \n",
      "Epoch 137 [val]: 100%|██████████| 9/9 [00:00<00:00, 14.87batch/s, batch_loss=0]       \n"
     ]
    },
    {
     "name": "stdout",
     "output_type": "stream",
     "text": [
      "Train loss:  0.03007350322839461\n",
      "Validation loss:  0.04411035031080246\n",
      "Train accuracy:  91.72185430463576\n",
      "Validation accuracy:  87.6923076923077\n"
     ]
    },
    {
     "name": "stderr",
     "output_type": "stream",
     "text": [
      "Epoch 138 [train]: 100%|██████████| 38/38 [00:00<00:00, 39.33batch/s, batch_loss=0]      \n",
      "Epoch 138 [val]: 100%|██████████| 9/9 [00:00<00:00, 14.55batch/s, batch_loss=0.322] \n"
     ]
    },
    {
     "name": "stdout",
     "output_type": "stream",
     "text": [
      "Train loss:  0.03254212586111144\n",
      "Validation loss:  0.07390078612499767\n",
      "Train accuracy:  91.05960264900662\n",
      "Validation accuracy:  87.6923076923077\n"
     ]
    },
    {
     "name": "stderr",
     "output_type": "stream",
     "text": [
      "Epoch 139 [train]: 100%|██████████| 38/38 [00:00<00:00, 39.45batch/s, batch_loss=0]      \n",
      "Epoch 139 [val]: 100%|██████████| 9/9 [00:00<00:00, 14.35batch/s, batch_loss=0.111] \n"
     ]
    },
    {
     "name": "stdout",
     "output_type": "stream",
     "text": [
      "Train loss:  0.031434555587015654\n",
      "Validation loss:  0.07242813002732065\n",
      "Train accuracy:  90.39735099337749\n",
      "Validation accuracy:  86.15384615384616\n"
     ]
    },
    {
     "name": "stderr",
     "output_type": "stream",
     "text": [
      "Epoch 140 [train]: 100%|██████████| 38/38 [00:00<00:00, 39.19batch/s, batch_loss=0.0322] \n",
      "Epoch 140 [val]: 100%|██████████| 9/9 [00:00<00:00, 14.30batch/s, batch_loss=0.195] \n"
     ]
    },
    {
     "name": "stdout",
     "output_type": "stream",
     "text": [
      "Train loss:  0.03579202745305864\n",
      "Validation loss:  0.07070996736486752\n",
      "Train accuracy:  89.73509933774834\n",
      "Validation accuracy:  83.07692307692308\n"
     ]
    },
    {
     "name": "stderr",
     "output_type": "stream",
     "text": [
      "Epoch 141 [train]: 100%|██████████| 38/38 [00:00<00:00, 38.82batch/s, batch_loss=0.0587] \n",
      "Epoch 141 [val]: 100%|██████████| 9/9 [00:00<00:00, 14.62batch/s, batch_loss=0]     \n"
     ]
    },
    {
     "name": "stdout",
     "output_type": "stream",
     "text": [
      "Train loss:  0.03231327941543177\n",
      "Validation loss:  0.04556561758120855\n",
      "Train accuracy:  90.72847682119205\n",
      "Validation accuracy:  86.15384615384616\n"
     ]
    },
    {
     "name": "stderr",
     "output_type": "stream",
     "text": [
      "Epoch 142 [train]: 100%|██████████| 38/38 [00:00<00:00, 39.43batch/s, batch_loss=0.0154] \n",
      "Epoch 142 [val]: 100%|██████████| 9/9 [00:00<00:00, 14.21batch/s, batch_loss=0.0497]\n"
     ]
    },
    {
     "name": "stdout",
     "output_type": "stream",
     "text": [
      "Train loss:  0.029056209678712645\n",
      "Validation loss:  0.0689813709921307\n",
      "Train accuracy:  92.05298013245033\n",
      "Validation accuracy:  76.92307692307692\n"
     ]
    },
    {
     "name": "stderr",
     "output_type": "stream",
     "text": [
      "Epoch 143 [train]: 100%|██████████| 38/38 [00:00<00:00, 38.28batch/s, batch_loss=0.06]    \n",
      "Epoch 143 [val]: 100%|██████████| 9/9 [00:00<00:00, 14.28batch/s, batch_loss=0.333]  \n"
     ]
    },
    {
     "name": "stdout",
     "output_type": "stream",
     "text": [
      "Train loss:  0.028222495297852316\n",
      "Validation loss:  0.08340795420938069\n",
      "Train accuracy:  91.3907284768212\n",
      "Validation accuracy:  86.15384615384616\n"
     ]
    },
    {
     "name": "stderr",
     "output_type": "stream",
     "text": [
      "Epoch 144 [train]: 100%|██████████| 38/38 [00:00<00:00, 38.68batch/s, batch_loss=0.0479] \n",
      "Epoch 144 [val]: 100%|██████████| 9/9 [00:00<00:00, 13.90batch/s, batch_loss=0.178] \n"
     ]
    },
    {
     "name": "stdout",
     "output_type": "stream",
     "text": [
      "Train loss:  0.0307026470178052\n",
      "Validation loss:  0.07679603083266152\n",
      "Train accuracy:  90.72847682119205\n",
      "Validation accuracy:  83.07692307692308\n"
     ]
    },
    {
     "name": "stderr",
     "output_type": "stream",
     "text": [
      "Epoch 145 [train]: 100%|██████████| 38/38 [00:00<00:00, 38.66batch/s, batch_loss=0.0493] \n",
      "Epoch 145 [val]: 100%|██████████| 9/9 [00:00<00:00, 14.03batch/s, batch_loss=0]      \n"
     ]
    },
    {
     "name": "stdout",
     "output_type": "stream",
     "text": [
      "Train loss:  0.029662550476036574\n",
      "Validation loss:  0.04745184712939792\n",
      "Train accuracy:  91.72185430463576\n",
      "Validation accuracy:  84.61538461538461\n"
     ]
    },
    {
     "name": "stderr",
     "output_type": "stream",
     "text": [
      "Epoch 146 [train]: 100%|██████████| 38/38 [00:00<00:00, 39.23batch/s, batch_loss=0.0368] \n",
      "Epoch 146 [val]: 100%|██████████| 9/9 [00:00<00:00, 14.45batch/s, batch_loss=0]      \n"
     ]
    },
    {
     "name": "stdout",
     "output_type": "stream",
     "text": [
      "Train loss:  0.029319955330145985\n",
      "Validation loss:  0.03558827522728178\n",
      "Train accuracy:  90.39735099337749\n",
      "Validation accuracy:  87.6923076923077\n"
     ]
    },
    {
     "name": "stderr",
     "output_type": "stream",
     "text": [
      "Epoch 147 [train]: 100%|██████████| 38/38 [00:00<00:00, 39.30batch/s, batch_loss=0.0276] \n",
      "Epoch 147 [val]: 100%|██████████| 9/9 [00:00<00:00, 14.32batch/s, batch_loss=0]     \n"
     ]
    },
    {
     "name": "stdout",
     "output_type": "stream",
     "text": [
      "Train loss:  0.02755880826397946\n",
      "Validation loss:  0.03697567515903049\n",
      "Train accuracy:  91.72185430463576\n",
      "Validation accuracy:  87.6923076923077\n"
     ]
    },
    {
     "name": "stderr",
     "output_type": "stream",
     "text": [
      "Epoch 148 [train]: 100%|██████████| 38/38 [00:00<00:00, 39.44batch/s, batch_loss=0.00476]\n",
      "Epoch 148 [val]: 100%|██████████| 9/9 [00:00<00:00, 13.93batch/s, batch_loss=0]       \n"
     ]
    },
    {
     "name": "stdout",
     "output_type": "stream",
     "text": [
      "Train loss:  0.035990790157627905\n",
      "Validation loss:  0.03879819686214129\n",
      "Train accuracy:  88.0794701986755\n",
      "Validation accuracy:  87.6923076923077\n"
     ]
    },
    {
     "name": "stderr",
     "output_type": "stream",
     "text": [
      "Epoch 149 [train]: 100%|██████████| 38/38 [00:00<00:00, 38.89batch/s, batch_loss=0.0286] \n",
      "Epoch 149 [val]: 100%|██████████| 9/9 [00:00<00:00, 14.12batch/s, batch_loss=0]      \n"
     ]
    },
    {
     "name": "stdout",
     "output_type": "stream",
     "text": [
      "Train loss:  0.03236321854944292\n",
      "Validation loss:  0.04443432887395223\n",
      "Train accuracy:  90.06622516556291\n",
      "Validation accuracy:  87.6923076923077\n"
     ]
    },
    {
     "name": "stderr",
     "output_type": "stream",
     "text": [
      "Epoch 150 [train]: 100%|██████████| 38/38 [00:00<00:00, 39.61batch/s, batch_loss=0.0602]  \n",
      "Epoch 150 [val]: 100%|██████████| 9/9 [00:00<00:00, 14.43batch/s, batch_loss=0.033] \n"
     ]
    },
    {
     "name": "stdout",
     "output_type": "stream",
     "text": [
      "Train loss:  0.030371925352435363\n",
      "Validation loss:  0.06170211856563886\n",
      "Train accuracy:  91.72185430463576\n",
      "Validation accuracy:  80.0\n"
     ]
    },
    {
     "name": "stderr",
     "output_type": "stream",
     "text": [
      "Epoch 151 [train]: 100%|██████████| 38/38 [00:00<00:00, 38.70batch/s, batch_loss=0.0122]\n",
      "Epoch 151 [val]: 100%|██████████| 9/9 [00:00<00:00, 14.19batch/s, batch_loss=0.0204]\n"
     ]
    },
    {
     "name": "stdout",
     "output_type": "stream",
     "text": [
      "Train loss:  0.038534430639916344\n",
      "Validation loss:  0.0541231305234962\n",
      "Train accuracy:  89.73509933774834\n",
      "Validation accuracy:  86.15384615384616\n"
     ]
    },
    {
     "name": "stderr",
     "output_type": "stream",
     "text": [
      "Epoch 152 [train]: 100%|██████████| 38/38 [00:00<00:00, 38.79batch/s, batch_loss=0.0145]  \n",
      "Epoch 152 [val]: 100%|██████████| 9/9 [00:00<00:00, 14.41batch/s, batch_loss=0]      \n"
     ]
    },
    {
     "name": "stdout",
     "output_type": "stream",
     "text": [
      "Train loss:  0.031268230688415076\n",
      "Validation loss:  0.04716064780950546\n",
      "Train accuracy:  90.39735099337749\n",
      "Validation accuracy:  86.15384615384616\n"
     ]
    },
    {
     "name": "stderr",
     "output_type": "stream",
     "text": [
      "Epoch 153 [train]: 100%|██████████| 38/38 [00:00<00:00, 38.43batch/s, batch_loss=0.0677] \n",
      "Epoch 153 [val]: 100%|██████████| 9/9 [00:00<00:00, 14.34batch/s, batch_loss=0]     \n"
     ]
    },
    {
     "name": "stdout",
     "output_type": "stream",
     "text": [
      "Train loss:  0.028731035852902813\n",
      "Validation loss:  0.040738556534051895\n",
      "Train accuracy:  91.3907284768212\n",
      "Validation accuracy:  87.6923076923077\n"
     ]
    },
    {
     "name": "stderr",
     "output_type": "stream",
     "text": [
      "Epoch 154 [train]: 100%|██████████| 38/38 [00:00<00:00, 39.30batch/s, batch_loss=0]      \n",
      "Epoch 154 [val]: 100%|██████████| 9/9 [00:00<00:00, 14.21batch/s, batch_loss=0.0359]\n"
     ]
    },
    {
     "name": "stdout",
     "output_type": "stream",
     "text": [
      "Train loss:  0.024032816290855408\n",
      "Validation loss:  0.05623777831594149\n",
      "Train accuracy:  92.71523178807946\n",
      "Validation accuracy:  76.92307692307692\n"
     ]
    },
    {
     "name": "stderr",
     "output_type": "stream",
     "text": [
      "Epoch 155 [train]: 100%|██████████| 38/38 [00:00<00:00, 39.26batch/s, batch_loss=0]       \n",
      "Epoch 155 [val]: 100%|██████████| 9/9 [00:00<00:00, 14.56batch/s, batch_loss=0.221]  \n"
     ]
    },
    {
     "name": "stdout",
     "output_type": "stream",
     "text": [
      "Train loss:  0.027883965325982946\n",
      "Validation loss:  0.07347188931372431\n",
      "Train accuracy:  91.05960264900662\n",
      "Validation accuracy:  81.53846153846153\n"
     ]
    },
    {
     "name": "stderr",
     "output_type": "stream",
     "text": [
      "Epoch 156 [train]: 100%|██████████| 38/38 [00:00<00:00, 38.65batch/s, batch_loss=0.0704] \n",
      "Epoch 156 [val]: 100%|██████████| 9/9 [00:00<00:00, 14.91batch/s, batch_loss=0]      \n"
     ]
    },
    {
     "name": "stdout",
     "output_type": "stream",
     "text": [
      "Train loss:  0.02525584419306956\n",
      "Validation loss:  0.03339398942059941\n",
      "Train accuracy:  91.72185430463576\n",
      "Validation accuracy:  87.6923076923077\n"
     ]
    },
    {
     "name": "stderr",
     "output_type": "stream",
     "text": [
      "Epoch 157 [train]: 100%|██████████| 38/38 [00:01<00:00, 37.88batch/s, batch_loss=0]       \n",
      "Epoch 157 [val]: 100%|██████████| 9/9 [00:00<00:00, 13.92batch/s, batch_loss=0.181] \n"
     ]
    },
    {
     "name": "stdout",
     "output_type": "stream",
     "text": [
      "Train loss:  0.02791990918156348\n",
      "Validation loss:  0.05795359487334887\n",
      "Train accuracy:  90.72847682119205\n",
      "Validation accuracy:  86.15384615384616\n"
     ]
    },
    {
     "name": "stderr",
     "output_type": "stream",
     "text": [
      "Epoch 158 [train]: 100%|██████████| 38/38 [00:00<00:00, 38.70batch/s, batch_loss=0.00501] \n",
      "Epoch 158 [val]: 100%|██████████| 9/9 [00:00<00:00, 14.34batch/s, batch_loss=0]      \n"
     ]
    },
    {
     "name": "stdout",
     "output_type": "stream",
     "text": [
      "Train loss:  0.02175481497359119\n",
      "Validation loss:  0.03354754837022887\n",
      "Train accuracy:  93.04635761589404\n",
      "Validation accuracy:  87.6923076923077\n"
     ]
    },
    {
     "name": "stderr",
     "output_type": "stream",
     "text": [
      "Epoch 159 [train]: 100%|██████████| 38/38 [00:00<00:00, 39.80batch/s, batch_loss=0.0241] \n",
      "Epoch 159 [val]: 100%|██████████| 9/9 [00:00<00:00, 14.20batch/s, batch_loss=0.0999]\n"
     ]
    },
    {
     "name": "stdout",
     "output_type": "stream",
     "text": [
      "Train loss:  0.03239498713887051\n",
      "Validation loss:  0.07484035193920135\n",
      "Train accuracy:  89.40397350993378\n",
      "Validation accuracy:  81.53846153846153\n"
     ]
    },
    {
     "name": "stderr",
     "output_type": "stream",
     "text": [
      "Epoch 160 [train]: 100%|██████████| 38/38 [00:00<00:00, 39.57batch/s, batch_loss=0.0301] \n",
      "Epoch 160 [val]: 100%|██████████| 9/9 [00:00<00:00, 13.96batch/s, batch_loss=0]     \n"
     ]
    },
    {
     "name": "stdout",
     "output_type": "stream",
     "text": [
      "Train loss:  0.043997425585985184\n",
      "Validation loss:  0.06510543409321043\n",
      "Train accuracy:  88.0794701986755\n",
      "Validation accuracy:  76.92307692307692\n"
     ]
    },
    {
     "name": "stderr",
     "output_type": "stream",
     "text": [
      "Epoch 161 [train]: 100%|██████████| 38/38 [00:00<00:00, 39.33batch/s, batch_loss=0.0417] \n",
      "Epoch 161 [val]: 100%|██████████| 9/9 [00:00<00:00, 14.33batch/s, batch_loss=0.321]   \n"
     ]
    },
    {
     "name": "stdout",
     "output_type": "stream",
     "text": [
      "Train loss:  0.04528753184958508\n",
      "Validation loss:  0.10555972448653644\n",
      "Train accuracy:  88.74172185430463\n",
      "Validation accuracy:  78.46153846153847\n"
     ]
    },
    {
     "name": "stderr",
     "output_type": "stream",
     "text": [
      "Epoch 162 [train]: 100%|██████████| 38/38 [00:00<00:00, 38.57batch/s, batch_loss=0.0456] \n",
      "Epoch 162 [val]: 100%|██████████| 9/9 [00:00<00:00, 14.45batch/s, batch_loss=0]      \n"
     ]
    },
    {
     "name": "stdout",
     "output_type": "stream",
     "text": [
      "Train loss:  0.03676329013940535\n",
      "Validation loss:  0.049741139428483114\n",
      "Train accuracy:  90.06622516556291\n",
      "Validation accuracy:  86.15384615384616\n"
     ]
    },
    {
     "name": "stderr",
     "output_type": "stream",
     "text": [
      "Epoch 163 [train]: 100%|██████████| 38/38 [00:00<00:00, 38.55batch/s, batch_loss=0.104]  \n",
      "Epoch 163 [val]: 100%|██████████| 9/9 [00:00<00:00, 14.40batch/s, batch_loss=0]      \n"
     ]
    },
    {
     "name": "stdout",
     "output_type": "stream",
     "text": [
      "Train loss:  0.03393635683153805\n",
      "Validation loss:  0.04719318118360308\n",
      "Train accuracy:  91.72185430463576\n",
      "Validation accuracy:  86.15384615384616\n"
     ]
    },
    {
     "name": "stderr",
     "output_type": "stream",
     "text": [
      "Epoch 164 [train]: 100%|██████████| 38/38 [00:01<00:00, 37.34batch/s, batch_loss=0]      \n",
      "Epoch 164 [val]: 100%|██████████| 9/9 [00:00<00:00, 13.91batch/s, batch_loss=0]     \n"
     ]
    },
    {
     "name": "stdout",
     "output_type": "stream",
     "text": [
      "Train loss:  0.034017557964513175\n",
      "Validation loss:  0.05143019101685948\n",
      "Train accuracy:  91.3907284768212\n",
      "Validation accuracy:  81.53846153846153\n"
     ]
    },
    {
     "name": "stderr",
     "output_type": "stream",
     "text": [
      "Epoch 165 [train]: 100%|██████████| 38/38 [00:00<00:00, 38.42batch/s, batch_loss=0]      \n",
      "Epoch 165 [val]: 100%|██████████| 9/9 [00:00<00:00, 14.46batch/s, batch_loss=0.0259]\n"
     ]
    },
    {
     "name": "stdout",
     "output_type": "stream",
     "text": [
      "Train loss:  0.03191156636335348\n",
      "Validation loss:  0.048240498536162905\n",
      "Train accuracy:  91.72185430463576\n",
      "Validation accuracy:  86.15384615384616\n"
     ]
    },
    {
     "name": "stderr",
     "output_type": "stream",
     "text": [
      "Epoch 166 [train]: 100%|██████████| 38/38 [00:00<00:00, 40.16batch/s, batch_loss=0.0244] \n",
      "Epoch 166 [val]: 100%|██████████| 9/9 [00:00<00:00, 14.22batch/s, batch_loss=0]      \n"
     ]
    },
    {
     "name": "stdout",
     "output_type": "stream",
     "text": [
      "Train loss:  0.033073029774976406\n",
      "Validation loss:  0.04607695589462916\n",
      "Train accuracy:  90.72847682119205\n",
      "Validation accuracy:  89.23076923076923\n"
     ]
    },
    {
     "name": "stderr",
     "output_type": "stream",
     "text": [
      "Epoch 167 [train]: 100%|██████████| 38/38 [00:00<00:00, 39.09batch/s, batch_loss=0.0465] \n",
      "Epoch 167 [val]: 100%|██████████| 9/9 [00:00<00:00, 14.13batch/s, batch_loss=0]      \n"
     ]
    },
    {
     "name": "stdout",
     "output_type": "stream",
     "text": [
      "Train loss:  0.03276912328836165\n",
      "Validation loss:  0.04646566924121645\n",
      "Train accuracy:  90.72847682119205\n",
      "Validation accuracy:  86.15384615384616\n"
     ]
    },
    {
     "name": "stderr",
     "output_type": "stream",
     "text": [
      "Epoch 168 [train]: 100%|██████████| 38/38 [00:00<00:00, 39.27batch/s, batch_loss=0]      \n",
      "Epoch 168 [val]: 100%|██████████| 9/9 [00:00<00:00, 13.93batch/s, batch_loss=0.0425] \n"
     ]
    },
    {
     "name": "stdout",
     "output_type": "stream",
     "text": [
      "Train loss:  0.03257786600213302\n",
      "Validation loss:  0.044595611178212695\n",
      "Train accuracy:  91.3907284768212\n",
      "Validation accuracy:  89.23076923076923\n"
     ]
    },
    {
     "name": "stderr",
     "output_type": "stream",
     "text": [
      "Epoch 169 [train]: 100%|██████████| 38/38 [00:00<00:00, 39.52batch/s, batch_loss=0.0313] \n",
      "Epoch 169 [val]: 100%|██████████| 9/9 [00:00<00:00, 14.05batch/s, batch_loss=0]     \n"
     ]
    },
    {
     "name": "stdout",
     "output_type": "stream",
     "text": [
      "Train loss:  0.03737623077866278\n",
      "Validation loss:  0.051435055004225835\n",
      "Train accuracy:  89.0728476821192\n",
      "Validation accuracy:  87.6923076923077\n"
     ]
    },
    {
     "name": "stderr",
     "output_type": "stream",
     "text": [
      "Epoch 170 [train]: 100%|██████████| 38/38 [00:00<00:00, 38.30batch/s, batch_loss=0.0158] \n",
      "Epoch 170 [val]: 100%|██████████| 9/9 [00:00<00:00, 14.33batch/s, batch_loss=0]      \n"
     ]
    },
    {
     "name": "stdout",
     "output_type": "stream",
     "text": [
      "Train loss:  0.03544649883712593\n",
      "Validation loss:  0.052700146204895444\n",
      "Train accuracy:  90.06622516556291\n",
      "Validation accuracy:  86.15384615384616\n"
     ]
    },
    {
     "name": "stderr",
     "output_type": "stream",
     "text": [
      "Epoch 171 [train]: 100%|██████████| 38/38 [00:01<00:00, 36.89batch/s, batch_loss=0.0279] \n",
      "Epoch 171 [val]: 100%|██████████| 9/9 [00:00<00:00, 14.17batch/s, batch_loss=0.0106]\n"
     ]
    },
    {
     "name": "stdout",
     "output_type": "stream",
     "text": [
      "Train loss:  0.03696059798331637\n",
      "Validation loss:  0.05668486033876737\n",
      "Train accuracy:  89.73509933774834\n",
      "Validation accuracy:  84.61538461538461\n"
     ]
    },
    {
     "name": "stderr",
     "output_type": "stream",
     "text": [
      "Epoch 172 [train]: 100%|██████████| 38/38 [00:00<00:00, 38.86batch/s, batch_loss=0.0413] \n",
      "Epoch 172 [val]: 100%|██████████| 9/9 [00:00<00:00, 14.59batch/s, batch_loss=0]     \n"
     ]
    },
    {
     "name": "stdout",
     "output_type": "stream",
     "text": [
      "Train loss:  0.03387061320245266\n",
      "Validation loss:  0.04624147547615899\n",
      "Train accuracy:  90.06622516556291\n",
      "Validation accuracy:  86.15384615384616\n"
     ]
    },
    {
     "name": "stderr",
     "output_type": "stream",
     "text": [
      "Epoch 173 [train]: 100%|██████████| 38/38 [00:00<00:00, 39.59batch/s, batch_loss=0.0501] \n",
      "Epoch 173 [val]: 100%|██████████| 9/9 [00:00<00:00, 13.91batch/s, batch_loss=0.209]  \n"
     ]
    },
    {
     "name": "stdout",
     "output_type": "stream",
     "text": [
      "Train loss:  0.02893508755062756\n",
      "Validation loss:  0.0582865137192938\n",
      "Train accuracy:  93.37748344370861\n",
      "Validation accuracy:  89.23076923076923\n"
     ]
    },
    {
     "name": "stderr",
     "output_type": "stream",
     "text": [
      "Epoch 174 [train]: 100%|██████████| 38/38 [00:01<00:00, 37.90batch/s, batch_loss=0.121]  \n",
      "Epoch 174 [val]: 100%|██████████| 9/9 [00:00<00:00, 14.26batch/s, batch_loss=0.0242] \n"
     ]
    },
    {
     "name": "stdout",
     "output_type": "stream",
     "text": [
      "Train loss:  0.03173308270542245\n",
      "Validation loss:  0.05002769538097911\n",
      "Train accuracy:  90.39735099337749\n",
      "Validation accuracy:  83.07692307692308\n"
     ]
    },
    {
     "name": "stderr",
     "output_type": "stream",
     "text": [
      "Epoch 175 [train]: 100%|██████████| 38/38 [00:00<00:00, 38.84batch/s, batch_loss=0.00198] \n",
      "Epoch 175 [val]: 100%|██████████| 9/9 [00:00<00:00, 14.49batch/s, batch_loss=0]     \n"
     ]
    },
    {
     "name": "stdout",
     "output_type": "stream",
     "text": [
      "Train loss:  0.02609656601041359\n",
      "Validation loss:  0.04031417932775286\n",
      "Train accuracy:  92.71523178807946\n",
      "Validation accuracy:  87.6923076923077\n"
     ]
    },
    {
     "name": "stderr",
     "output_type": "stream",
     "text": [
      "Epoch 176 [train]: 100%|██████████| 38/38 [00:00<00:00, 38.19batch/s, batch_loss=0.0687] \n",
      "Epoch 176 [val]: 100%|██████████| 9/9 [00:00<00:00, 14.41batch/s, batch_loss=0]      \n"
     ]
    },
    {
     "name": "stdout",
     "output_type": "stream",
     "text": [
      "Train loss:  0.03154069606802965\n",
      "Validation loss:  0.035843119439151555\n",
      "Train accuracy:  90.39735099337749\n",
      "Validation accuracy:  89.23076923076923\n"
     ]
    },
    {
     "name": "stderr",
     "output_type": "stream",
     "text": [
      "Epoch 177 [train]: 100%|██████████| 38/38 [00:00<00:00, 39.03batch/s, batch_loss=0.0094] \n",
      "Epoch 177 [val]: 100%|██████████| 9/9 [00:00<00:00, 14.03batch/s, batch_loss=0]      \n"
     ]
    },
    {
     "name": "stdout",
     "output_type": "stream",
     "text": [
      "Train loss:  0.03389416605626282\n",
      "Validation loss:  0.04334611942370733\n",
      "Train accuracy:  89.40397350993378\n",
      "Validation accuracy:  87.6923076923077\n"
     ]
    },
    {
     "name": "stderr",
     "output_type": "stream",
     "text": [
      "Epoch 178 [train]: 100%|██████████| 38/38 [00:00<00:00, 38.93batch/s, batch_loss=0.00837]\n",
      "Epoch 178 [val]: 100%|██████████| 9/9 [00:00<00:00, 13.92batch/s, batch_loss=0.261]  \n"
     ]
    },
    {
     "name": "stdout",
     "output_type": "stream",
     "text": [
      "Train loss:  0.030930118512754377\n",
      "Validation loss:  0.06120517601569494\n",
      "Train accuracy:  90.39735099337749\n",
      "Validation accuracy:  89.23076923076923\n"
     ]
    },
    {
     "name": "stderr",
     "output_type": "stream",
     "text": [
      "Epoch 179 [train]: 100%|██████████| 38/38 [00:00<00:00, 38.99batch/s, batch_loss=0]      \n",
      "Epoch 179 [val]: 100%|██████████| 9/9 [00:00<00:00, 14.34batch/s, batch_loss=0]      \n"
     ]
    },
    {
     "name": "stdout",
     "output_type": "stream",
     "text": [
      "Train loss:  0.02287475421632591\n",
      "Validation loss:  0.031599310951100454\n",
      "Train accuracy:  93.37748344370861\n",
      "Validation accuracy:  87.6923076923077\n"
     ]
    },
    {
     "name": "stderr",
     "output_type": "stream",
     "text": [
      "Epoch 180 [train]: 100%|██████████| 38/38 [00:00<00:00, 39.08batch/s, batch_loss=0.0324] \n",
      "Epoch 180 [val]: 100%|██████████| 9/9 [00:00<00:00, 14.26batch/s, batch_loss=0]      \n"
     ]
    },
    {
     "name": "stdout",
     "output_type": "stream",
     "text": [
      "Train loss:  0.029602028919677986\n",
      "Validation loss:  0.0755350175831053\n",
      "Train accuracy:  91.05960264900662\n",
      "Validation accuracy:  78.46153846153847\n"
     ]
    },
    {
     "name": "stderr",
     "output_type": "stream",
     "text": [
      "Epoch 181 [train]: 100%|██████████| 38/38 [00:00<00:00, 39.17batch/s, batch_loss=0]      \n",
      "Epoch 181 [val]: 100%|██████████| 9/9 [00:00<00:00, 14.04batch/s, batch_loss=0]     \n"
     ]
    },
    {
     "name": "stdout",
     "output_type": "stream",
     "text": [
      "Train loss:  0.03924351685533398\n",
      "Validation loss:  0.08086078034506904\n",
      "Train accuracy:  88.74172185430463\n",
      "Validation accuracy:  69.23076923076923\n"
     ]
    },
    {
     "name": "stderr",
     "output_type": "stream",
     "text": [
      "Epoch 182 [train]: 100%|██████████| 38/38 [00:00<00:00, 39.55batch/s, batch_loss=0.0595] \n",
      "Epoch 182 [val]: 100%|██████████| 9/9 [00:00<00:00, 14.22batch/s, batch_loss=0]       \n"
     ]
    },
    {
     "name": "stdout",
     "output_type": "stream",
     "text": [
      "Train loss:  0.03898648496129011\n",
      "Validation loss:  0.041308794584539205\n",
      "Train accuracy:  87.08609271523179\n",
      "Validation accuracy:  87.6923076923077\n"
     ]
    },
    {
     "name": "stderr",
     "output_type": "stream",
     "text": [
      "Epoch 183 [train]: 100%|██████████| 38/38 [00:00<00:00, 39.59batch/s, batch_loss=0.0121]  \n",
      "Epoch 183 [val]: 100%|██████████| 9/9 [00:00<00:00, 14.23batch/s, batch_loss=0]      \n"
     ]
    },
    {
     "name": "stdout",
     "output_type": "stream",
     "text": [
      "Train loss:  0.02653170180948157\n",
      "Validation loss:  0.04710576559106509\n",
      "Train accuracy:  91.72185430463576\n",
      "Validation accuracy:  84.61538461538461\n"
     ]
    },
    {
     "name": "stderr",
     "output_type": "stream",
     "text": [
      "Epoch 184 [train]: 100%|██████████| 38/38 [00:01<00:00, 37.15batch/s, batch_loss=0.0456] \n",
      "Epoch 184 [val]: 100%|██████████| 9/9 [00:00<00:00, 14.31batch/s, batch_loss=0]     \n"
     ]
    },
    {
     "name": "stdout",
     "output_type": "stream",
     "text": [
      "Train loss:  0.03037419768148347\n",
      "Validation loss:  0.057285076214207545\n",
      "Train accuracy:  90.39735099337749\n",
      "Validation accuracy:  81.53846153846153\n"
     ]
    },
    {
     "name": "stderr",
     "output_type": "stream",
     "text": [
      "Epoch 185 [train]: 100%|██████████| 38/38 [00:00<00:00, 38.24batch/s, batch_loss=0]       \n",
      "Epoch 185 [val]: 100%|██████████| 9/9 [00:00<00:00, 14.22batch/s, batch_loss=0]      \n"
     ]
    },
    {
     "name": "stdout",
     "output_type": "stream",
     "text": [
      "Train loss:  0.02748797696671988\n",
      "Validation loss:  0.03342751620544328\n",
      "Train accuracy:  91.72185430463576\n",
      "Validation accuracy:  89.23076923076923\n"
     ]
    },
    {
     "name": "stderr",
     "output_type": "stream",
     "text": [
      "Epoch 186 [train]: 100%|██████████| 38/38 [00:00<00:00, 39.13batch/s, batch_loss=0.0141] \n",
      "Epoch 186 [val]: 100%|██████████| 9/9 [00:00<00:00, 14.16batch/s, batch_loss=0.376]   \n"
     ]
    },
    {
     "name": "stdout",
     "output_type": "stream",
     "text": [
      "Train loss:  0.021815017061798198\n",
      "Validation loss:  0.10026136661569278\n",
      "Train accuracy:  93.37748344370861\n",
      "Validation accuracy:  80.0\n"
     ]
    },
    {
     "name": "stderr",
     "output_type": "stream",
     "text": [
      "Epoch 187 [train]: 100%|██████████| 38/38 [00:00<00:00, 38.50batch/s, batch_loss=0.0338]  \n",
      "Epoch 187 [val]: 100%|██████████| 9/9 [00:00<00:00, 14.11batch/s, batch_loss=0]      \n"
     ]
    },
    {
     "name": "stdout",
     "output_type": "stream",
     "text": [
      "Train loss:  0.03178804220729753\n",
      "Validation loss:  0.03400472179055214\n",
      "Train accuracy:  90.39735099337749\n",
      "Validation accuracy:  87.6923076923077\n"
     ]
    },
    {
     "name": "stderr",
     "output_type": "stream",
     "text": [
      "Epoch 188 [train]: 100%|██████████| 38/38 [00:00<00:00, 39.30batch/s, batch_loss=0.0625] \n",
      "Epoch 188 [val]: 100%|██████████| 9/9 [00:00<00:00, 14.12batch/s, batch_loss=0.206]  \n"
     ]
    },
    {
     "name": "stdout",
     "output_type": "stream",
     "text": [
      "Train loss:  0.02296982666379527\n",
      "Validation loss:  0.05016456420222918\n",
      "Train accuracy:  93.04635761589404\n",
      "Validation accuracy:  89.23076923076923\n"
     ]
    },
    {
     "name": "stderr",
     "output_type": "stream",
     "text": [
      "Epoch 189 [train]: 100%|██████████| 38/38 [00:00<00:00, 38.74batch/s, batch_loss=0.0337]  \n",
      "Epoch 189 [val]: 100%|██████████| 9/9 [00:00<00:00, 14.34batch/s, batch_loss=0]     \n"
     ]
    },
    {
     "name": "stdout",
     "output_type": "stream",
     "text": [
      "Train loss:  0.02338224923924396\n",
      "Validation loss:  0.059071846306324005\n",
      "Train accuracy:  93.37748344370861\n",
      "Validation accuracy:  76.92307692307692\n"
     ]
    },
    {
     "name": "stderr",
     "output_type": "stream",
     "text": [
      "Epoch 190 [train]: 100%|██████████| 38/38 [00:00<00:00, 39.34batch/s, batch_loss=0.0242]  \n",
      "Epoch 190 [val]: 100%|██████████| 9/9 [00:00<00:00, 14.37batch/s, batch_loss=0]     \n"
     ]
    },
    {
     "name": "stdout",
     "output_type": "stream",
     "text": [
      "Train loss:  0.023326090537011623\n",
      "Validation loss:  0.039898951848347984\n",
      "Train accuracy:  92.3841059602649\n",
      "Validation accuracy:  84.61538461538461\n"
     ]
    },
    {
     "name": "stderr",
     "output_type": "stream",
     "text": [
      "Epoch 191 [train]: 100%|██████████| 38/38 [00:00<00:00, 39.42batch/s, batch_loss=0.0365] \n",
      "Epoch 191 [val]: 100%|██████████| 9/9 [00:00<00:00, 14.38batch/s, batch_loss=0]      \n"
     ]
    },
    {
     "name": "stdout",
     "output_type": "stream",
     "text": [
      "Train loss:  0.02354211722941775\n",
      "Validation loss:  0.03748271158999867\n",
      "Train accuracy:  91.72185430463576\n",
      "Validation accuracy:  89.23076923076923\n"
     ]
    },
    {
     "name": "stderr",
     "output_type": "stream",
     "text": [
      "Epoch 192 [train]: 100%|██████████| 38/38 [00:00<00:00, 39.32batch/s, batch_loss=0.0338] \n",
      "Epoch 192 [val]: 100%|██████████| 9/9 [00:00<00:00, 14.49batch/s, batch_loss=0]     \n"
     ]
    },
    {
     "name": "stdout",
     "output_type": "stream",
     "text": [
      "Train loss:  0.025167542656785565\n",
      "Validation loss:  0.04850285044974751\n",
      "Train accuracy:  93.70860927152317\n",
      "Validation accuracy:  78.46153846153847\n"
     ]
    },
    {
     "name": "stderr",
     "output_type": "stream",
     "text": [
      "Epoch 193 [train]: 100%|██████████| 38/38 [00:00<00:00, 39.43batch/s, batch_loss=0.00134]\n",
      "Epoch 193 [val]: 100%|██████████| 9/9 [00:00<00:00, 14.18batch/s, batch_loss=0]      \n"
     ]
    },
    {
     "name": "stdout",
     "output_type": "stream",
     "text": [
      "Train loss:  0.028027374297380447\n",
      "Validation loss:  0.030130139241615932\n",
      "Train accuracy:  91.05960264900662\n",
      "Validation accuracy:  89.23076923076923\n"
     ]
    },
    {
     "name": "stderr",
     "output_type": "stream",
     "text": [
      "Epoch 194 [train]: 100%|██████████| 38/38 [00:00<00:00, 38.88batch/s, batch_loss=0.0383]  \n",
      "Epoch 194 [val]: 100%|██████████| 9/9 [00:00<00:00, 13.90batch/s, batch_loss=0]      \n"
     ]
    },
    {
     "name": "stdout",
     "output_type": "stream",
     "text": [
      "Train loss:  0.02432134629864442\n",
      "Validation loss:  0.03427997438444032\n",
      "Train accuracy:  91.72185430463576\n",
      "Validation accuracy:  89.23076923076923\n"
     ]
    },
    {
     "name": "stderr",
     "output_type": "stream",
     "text": [
      "Epoch 195 [train]: 100%|██████████| 38/38 [00:00<00:00, 39.00batch/s, batch_loss=0.0154] \n",
      "Epoch 195 [val]: 100%|██████████| 9/9 [00:00<00:00, 14.37batch/s, batch_loss=0]     \n"
     ]
    },
    {
     "name": "stdout",
     "output_type": "stream",
     "text": [
      "Train loss:  0.022812479396203632\n",
      "Validation loss:  0.030758066309822932\n",
      "Train accuracy:  92.71523178807946\n",
      "Validation accuracy:  89.23076923076923\n"
     ]
    },
    {
     "name": "stderr",
     "output_type": "stream",
     "text": [
      "Epoch 196 [train]: 100%|██████████| 38/38 [00:00<00:00, 39.37batch/s, batch_loss=0.0694] \n",
      "Epoch 196 [val]: 100%|██████████| 9/9 [00:00<00:00, 14.14batch/s, batch_loss=0]     \n"
     ]
    },
    {
     "name": "stdout",
     "output_type": "stream",
     "text": [
      "Train loss:  0.02072458380931302\n",
      "Validation loss:  0.029637159986628428\n",
      "Train accuracy:  93.70860927152317\n",
      "Validation accuracy:  87.6923076923077\n"
     ]
    },
    {
     "name": "stderr",
     "output_type": "stream",
     "text": [
      "Epoch 197 [train]: 100%|██████████| 38/38 [00:00<00:00, 38.52batch/s, batch_loss=0.00607]\n",
      "Epoch 197 [val]: 100%|██████████| 9/9 [00:00<00:00, 14.10batch/s, batch_loss=0]      \n"
     ]
    },
    {
     "name": "stdout",
     "output_type": "stream",
     "text": [
      "Train loss:  0.02211715690301437\n",
      "Validation loss:  0.03337253754337629\n",
      "Train accuracy:  92.71523178807946\n",
      "Validation accuracy:  87.6923076923077\n"
     ]
    },
    {
     "name": "stderr",
     "output_type": "stream",
     "text": [
      "Epoch 198 [train]: 100%|██████████| 38/38 [00:01<00:00, 37.79batch/s, batch_loss=0.00527] \n",
      "Epoch 198 [val]: 100%|██████████| 9/9 [00:00<00:00, 14.61batch/s, batch_loss=0]      \n"
     ]
    },
    {
     "name": "stdout",
     "output_type": "stream",
     "text": [
      "Train loss:  0.02351930825725982\n",
      "Validation loss:  0.03675291563073794\n",
      "Train accuracy:  92.05298013245033\n",
      "Validation accuracy:  84.61538461538461\n"
     ]
    },
    {
     "name": "stderr",
     "output_type": "stream",
     "text": [
      "Epoch 199 [train]: 100%|██████████| 38/38 [00:00<00:00, 39.72batch/s, batch_loss=0.0624]  \n",
      "Epoch 199 [val]: 100%|██████████| 9/9 [00:00<00:00, 14.10batch/s, batch_loss=0]     "
     ]
    },
    {
     "name": "stdout",
     "output_type": "stream",
     "text": [
      "Train loss:  0.020098137816316204\n",
      "Validation loss:  0.027629284809033077\n",
      "Train accuracy:  92.71523178807946\n",
      "Validation accuracy:  90.76923076923077\n"
     ]
    },
    {
     "name": "stderr",
     "output_type": "stream",
     "text": [
      "\n"
     ]
    }
   ],
   "source": [
    "# Define the optimizer\n",
    "optimizer = optim.SGD(model.parameters(),\n",
    "                      lr=LEARNING_PARAMS[\"learning_rate\"],\n",
    "                      momentum=LEARNING_PARAMS[\"momentum\"],\n",
    "                      weight_decay=LEARNING_PARAMS[\"weight_decay\"])\n",
    "\n",
    "# Create tensors to store the loss values\n",
    "loss_values = torch.zeros(2, LEARNING_PARAMS[\"nb_epochs\"])\n",
    "\n",
    "# Create tensors to store the accuracy values\n",
    "accuracy_values = torch.zeros(2, LEARNING_PARAMS[\"nb_epochs\"])\n",
    "\n",
    "# Loop over the epochs\n",
    "for epoch in range(LEARNING_PARAMS[\"nb_epochs\"]):\n",
    "    \n",
    "    # Training\n",
    "    train_loss, train_accuracy = train(model,\n",
    "                                       device,\n",
    "                                       train_loader,\n",
    "                                       optimizer,\n",
    "                                       criterion,\n",
    "                                       epoch)\n",
    "    \n",
    "    # Validation\n",
    "    val_loss, val_accuracy = validate(model,\n",
    "                                      device,\n",
    "                                      val_loader,\n",
    "                                      criterion,\n",
    "                                      epoch) \n",
    "    \n",
    "    print(\"Train loss: \", train_loss)\n",
    "    print(\"Validation loss: \", val_loss)\n",
    "    print(\"Train accuracy: \", train_accuracy)\n",
    "    print(\"Validation accuracy: \", val_accuracy)\n",
    "    \n",
    "    # Store the computed losses\n",
    "    loss_values[0, epoch] = train_loss\n",
    "    loss_values[1, epoch] = val_loss\n",
    "    \n",
    "    # Store the computed accuracies\n",
    "    accuracy_values[0, epoch] = train_accuracy\n",
    "    accuracy_values[1, epoch] = val_accuracy"
   ]
  },
  {
   "attachments": {},
   "cell_type": "markdown",
   "metadata": {},
   "source": [
    "### Visualization"
   ]
  },
  {
   "cell_type": "code",
   "execution_count": 10,
   "metadata": {},
   "outputs": [
    {
     "data": {
      "text/plain": [
       "Text(0.5, 0, 'Epoch')"
      ]
     },
     "execution_count": 10,
     "metadata": {},
     "output_type": "execute_result"
    },
    {
     "data": {
      "image/png": "[encoded data removed]",
      "text/plain": [
       "<Figure size 640x480 with 1 Axes>"
      ]
     },
     "metadata": {},
     "output_type": "display_data"
    }
   ],
   "source": [
    "# Loss\n",
    "train_losses = loss_values[0]\n",
    "val_losses = loss_values[1]\n",
    "\n",
    "figure = plt.figure()\n",
    "\n",
    "plt.plot(train_losses, \"b\", label=\"train loss\")\n",
    "plt.plot(val_losses, \"r\", label=\"validation loss\")\n",
    "\n",
    "plt.legend()\n",
    "plt.xlabel(\"Epoch\")\n",
    "\n",
    "# # Converts the figure to an image\n",
    "# learning_curve = io.BytesIO()\n",
    "# figure.savefig(learning_curve, format=\"png\")\n",
    "# learning_curve.seek(0)\n",
    "\n",
    "# # Create a PIL image from the image stream\n",
    "# learning_curve = Image.open(learning_curve)"
   ]
  },
  {
   "cell_type": "code",
   "execution_count": 11,
   "metadata": {},
   "outputs": [
    {
     "data": {
      "text/plain": [
       "Text(0.5, 0, 'Epoch')"
      ]
     },
     "execution_count": 11,
     "metadata": {},
     "output_type": "execute_result"
    },
    {
     "data": {
      "image/png": "[encoded data removed]",
      "text/plain": [
       "<Figure size 640x480 with 1 Axes>"
      ]
     },
     "metadata": {},
     "output_type": "display_data"
    }
   ],
   "source": [
    "# Accuracy\n",
    "train_accuracies = accuracy_values[0]\n",
    "val_accuracies = accuracy_values[1]\n",
    "\n",
    "plt.plot(train_accuracies, \"b\", label=\"train accuracy\")\n",
    "plt.plot(val_accuracies, \"r\", label=\"validation accuracy\")\n",
    "\n",
    "plt.legend()\n",
    "plt.xlabel(\"Epoch\")"
   ]
  },
  {
   "attachments": {},
   "cell_type": "markdown",
   "metadata": {},
   "source": [
    "## Testing"
   ]
  },
  {
   "cell_type": "code",
   "execution_count": 12,
   "metadata": {},
   "outputs": [
    {
     "name": "stdout",
     "output_type": "stream",
     "text": [
      "Test loss:  0.01132226942314042\n",
      "Test accuracy:  93.84615384615384\n"
     ]
    }
   ],
   "source": [
    "# Test the model\n",
    "test_loss, test_accuracy = test(model,\n",
    "                                device,\n",
    "                                test_loader,\n",
    "                                criterion)\n",
    "\n",
    "print(\"Test loss: \", test_loss)\n",
    "print(\"Test accuracy: \", test_accuracy)"
   ]
  },
  {
   "attachments": {},
   "cell_type": "markdown",
   "metadata": {},
   "source": [
    "## Compute and display traversal costs"
   ]
  },
  {
   "cell_type": "code",
   "execution_count": 13,
   "metadata": {},
   "outputs": [],
   "source": [
    "# Compute the traversal costs from the features of the dataset\n",
    "costs_df = traversalcost.utils.compute_traversal_costs(\n",
    "    dataset=params.siamese.DATASET,\n",
    "    cost_function=model.to(device=\"cpu\"),\n",
    "    to_tensor=True\n",
    ")"
   ]
  },
  {
   "cell_type": "code",
   "execution_count": 14,
   "metadata": {},
   "outputs": [
    {
     "data": {
      "image/png": "[encoded data removed]",
      "text/plain": [
       "<Figure size 640x480 with 1 Axes>"
      ]
     },
     "metadata": {},
     "output_type": "display_data"
    }
   ],
   "source": [
    "# Display the traversal costs\n",
    "cost_graph = traversalcost.utils.display_traversal_costs(costs_df)"
   ]
  },
  {
   "attachments": {},
   "cell_type": "markdown",
   "metadata": {},
   "source": [
    "## Generate a log directory"
   ]
  },
  {
   "cell_type": "code",
   "execution_count": 15,
   "metadata": {},
   "outputs": [
    {
     "data": {
      "image/png": "[encoded data removed]",
      "text/plain": [
       "<Figure size 640x480 with 1 Axes>"
      ]
     },
     "metadata": {},
     "output_type": "display_data"
    },
    {
     "data": {
      "image/png": "[encoded data removed]",
      "text/plain": [
       "<Figure size 640x480 with 1 Axes>"
      ]
     },
     "metadata": {},
     "output_type": "display_data"
    },
    {
     "data": {
      "image/png": "[encoded data removed]",
      "text/plain": [
       "<Figure size 640x480 with 1 Axes>"
      ]
     },
     "metadata": {},
     "output_type": "display_data"
    }
   ],
   "source": [
    "# Get the learning parameters table\n",
    "params_table = parameters_table(dataset=params.siamese.DATASET,\n",
    "                                learning_params=LEARNING_PARAMS)\n",
    "\n",
    "# Set the path to the results directory\n",
    "if params.siamese.LOG_DIR:\n",
    "    results_directory = \"logs/_\" +\\\n",
    "                        params.siamese.LOG_DIR\n",
    "else:\n",
    "    results_directory = \"logs/_\" +\\\n",
    "                        datetime.now().strftime(\"%Y-%m-%d-%H-%M-%S\")\n",
    "                        \n",
    "# Generate the log directory\n",
    "generate_log(dataset_directory=params.siamese.DATASET,\n",
    "             results_directory=results_directory,\n",
    "             test_loss=test_loss,\n",
    "             test_accuracy=test_accuracy,\n",
    "             parameters_table=params_table,\n",
    "             model=model,\n",
    "             loss_values=loss_values,\n",
    "             accuracy_values=accuracy_values)"
   ]
  }
 ],
 "metadata": {
  "kernelspec": {
   "display_name": "Python 3",
   "language": "python",
   "name": "python3"
  },
  "language_info": {
   "codemirror_mode": {
    "name": "ipython",
    "version": 3
   },
   "file_extension": ".py",
   "mimetype": "text/x-python",
   "name": "python",
   "nbconvert_exporter": "python",
   "pygments_lexer": "ipython3",
   "version": "3.8.10"
  },
  "orig_nbformat": 4
 },
 "nbformat": 4,
 "nbformat_minor": 2
}
