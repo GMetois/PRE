{
 "cells": [
  {
   "cell_type": "code",
   "execution_count": 27,
   "metadata": {},
   "outputs": [],
   "source": [
    "# Import libraries\n",
    "import torch\n",
    "import torch.nn as nn\n",
    "from torch import optim\n",
    "import torchvision.models as models\n",
    "from torchvision import transforms\n",
    "from torch.utils.data import DataLoader, Dataset, random_split, Subset\n",
    "\n",
    "# A module to print a model summary (outputs shape, number of parameters, ...)\n",
    "import torchsummary\n",
    "\n",
    "# TensorBoard for visualization\n",
    "from torch.utils.tensorboard import SummaryWriter\n",
    "\n",
    "from tqdm import tqdm\n",
    "\n",
    "import pandas as pd\n",
    "import numpy as np\n",
    "import os\n",
    "import matplotlib.pyplot as plt\n",
    "plt.rcParams.update({\n",
    "    \"pgf.texsystem\": \"pdflatex\",\n",
    "    'font.family': 'serif',\n",
    "    'text.usetex': True,\n",
    "    'pgf.rcfonts': False,\n",
    "})\n",
    "# plt.rcParams['text.usetex'] = True  # Render Matplotlib text with Tex\n",
    "from PIL import Image\n",
    "from sklearn.model_selection import train_test_split\n",
    "import time\n",
    "\n",
    "import cv2"
   ]
  },
  {
   "attachments": {},
   "cell_type": "markdown",
   "metadata": {},
   "source": [
    "## Prepare data"
   ]
  },
  {
   "cell_type": "code",
   "execution_count": 42,
   "metadata": {},
   "outputs": [],
   "source": [
    "# Define the data to be used\n",
    "DATASET = \"../../datasets/dataset_3+8bags_3var3sc_regression_classification_kmeans_split/\"\n",
    "\n",
    "\n",
    "class TraversabilityDataset(Dataset):\n",
    "    \"\"\"Custom Dataset class to represent our dataset\n",
    "    It includes data and information about the data\n",
    "\n",
    "    Args:\n",
    "        Dataset (class): Abstract class which represents a dataset\n",
    "    \"\"\"\n",
    "    \n",
    "    def __init__(self, traversal_costs_file, images_directory,\n",
    "                 transform=None):\n",
    "        \"\"\"Constructor of the class\n",
    "\n",
    "        Args:\n",
    "            traversal_costs_file (string): Path to the csv file which contains\n",
    "            images index and their associated traversal cost\n",
    "            images_directory (string): Directory with all the images\n",
    "            transform (callable, optional): Transforms to be applied on a\n",
    "            sample. Defaults to None.\n",
    "        \"\"\"\n",
    "        # Read the csv file\n",
    "        self.traversal_costs_frame = pd.read_csv(traversal_costs_file)\n",
    "        \n",
    "        # Initialize the name of the images directory\n",
    "        self.images_directory = images_directory\n",
    "        \n",
    "        # Initialize the transforms\n",
    "        self.transform = transform\n",
    "\n",
    "    def __len__(self):\n",
    "        \"\"\"Return the size of the dataset\n",
    "\n",
    "        Returns:\n",
    "            int: Number of samples\n",
    "        \"\"\"\n",
    "        # Count the number of files in the image directory\n",
    "        # return len(os.listdir(self.images_directory))\n",
    "        return len(self.traversal_costs_frame)\n",
    "\n",
    "    def __getitem__(self, idx):\n",
    "        \"\"\"Allow to access a sample by its index\n",
    "\n",
    "        Args:\n",
    "            idx (int): Index of a sample\n",
    "\n",
    "        Returns:\n",
    "            list: Sample at index idx\n",
    "            ([image, traversal_cost])\n",
    "        \"\"\"\n",
    "        # Get the image name at index idx\n",
    "        image_name = os.path.join(self.images_directory,\n",
    "                                  self.traversal_costs_frame.loc[idx, \"image_id\"])\n",
    "        \n",
    "        # Read the image\n",
    "        image = Image.open(image_name)\n",
    "        \n",
    "        # Eventually apply transforms to the image\n",
    "        if self.transform:\n",
    "            image = self.transform(image)\n",
    "        \n",
    "        # Get the corresponding traversal cost\n",
    "        traversal_cost = self.traversal_costs_frame.loc[idx, \"traversal_cost\"]\n",
    "        \n",
    "        # Get the corresponding traversability label\n",
    "        traversability_label = self.traversal_costs_frame.loc[idx, \"traversability_label\"]\n",
    "\n",
    "        return image, traversal_cost, traversability_label"
   ]
  },
  {
   "cell_type": "code",
   "execution_count": 43,
   "metadata": {},
   "outputs": [],
   "source": [
    "def compute_mean_std(images_directory, traversal_costs_file):\n",
    "    transform = transforms.Compose([\n",
    "        # Reduce the size of the images\n",
    "        # (if size is an int, the smaller edge of the\n",
    "        # image will be matched to this number and the ration is kept)\n",
    "        transforms.Resize((70, 210)),\n",
    "\n",
    "        # Convert a PIL Image or numpy.ndarray to tensor\n",
    "        transforms.ToTensor(),\n",
    "    ])\n",
    "    \n",
    "    # Create a Dataset for training\n",
    "    dataset = TraversabilityDataset(\n",
    "        traversal_costs_file=DATASET+traversal_costs_file,\n",
    "        images_directory=DATASET+images_directory,\n",
    "        transform=transform\n",
    "    )\n",
    "    \n",
    "    loader = DataLoader(\n",
    "        dataset=dataset,\n",
    "        batch_size=1,\n",
    "        shuffle=False,\n",
    "        num_workers=12,\n",
    "        pin_memory=True\n",
    "    )\n",
    "\n",
    "    cnt = 0\n",
    "    first_moment = torch.empty(3)\n",
    "    second_moment = torch.empty(3)\n",
    "\n",
    "    for images, traversal_costs, traversability_labels in loader:\n",
    "        b, c, h, w = images.shape\n",
    "        nb_pixels = b * h * w\n",
    "        sum_ = torch.sum(images, dim=[0, 2, 3])\n",
    "        sum_of_square = torch.sum(images ** 2, dim=[0, 2, 3])\n",
    "        first_moment = (cnt * first_moment + sum_) / (cnt + nb_pixels)\n",
    "        second_moment = (cnt * second_moment + sum_of_square) / (cnt + nb_pixels)\n",
    "        cnt += nb_pixels\n",
    "\n",
    "    mean = first_moment\n",
    "    std = torch.sqrt(second_moment - first_moment ** 2)\n",
    "    \n",
    "    return mean, std"
   ]
  },
  {
   "cell_type": "code",
   "execution_count": 44,
   "metadata": {},
   "outputs": [
    {
     "name": "stdout",
     "output_type": "stream",
     "text": [
      "tensor([0.3426, 0.3569, 0.2914]) tensor([0.1363, 0.1248, 0.1302])\n"
     ]
    }
   ],
   "source": [
    "mean, std = compute_mean_std(\"images_train\", \"traversal_costs_train.csv\")\n",
    "print(mean, std)"
   ]
  },
  {
   "cell_type": "code",
   "execution_count": 45,
   "metadata": {},
   "outputs": [],
   "source": [
    "# Compose several transforms together to be applied to training data\n",
    "# (Note that transforms are not applied yet)\n",
    "train_transform = transforms.Compose([\n",
    "    # Reduce the size of the images\n",
    "    # (if size is an int, the smaller edge of the\n",
    "    # image will be matched to this number and the ration is kept)\n",
    "    # transforms.Resize(100),\n",
    "    transforms.Resize((70, 210)),\n",
    "    \n",
    "    # Perform horizontal flip of the image with a probability of 0.5\n",
    "    transforms.RandomHorizontalFlip(p=0.5),\n",
    "    \n",
    "    # Modify the brightness and the contrast of the image\n",
    "    transforms.ColorJitter(contrast=0.5, brightness=0.5),\n",
    "    \n",
    "    # Convert a PIL Image or numpy.ndarray to tensor\n",
    "    transforms.ToTensor(),\n",
    "    \n",
    "    # Add some random gaussian noise to the image\n",
    "    transforms.Lambda(lambda x: x + (0.001**0.5)*torch.randn(x.shape)),\n",
    "    \n",
    "    # Normalize a tensor image with pre-computed mean and standard deviation\n",
    "    # (based on the data used to train the model(s))\n",
    "    # (be careful, it only works on torch.*Tensor)\n",
    "    transforms.Normalize(\n",
    "        mean=mean,\n",
    "        std=std,\n",
    "        # mean=[0.485, 0.456, 0.406],\n",
    "        # std=[0.229, 0.224, 0.225],\n",
    "    ),\n",
    "])\n",
    "\n",
    "# Define a different set of transforms testing\n",
    "# (for instance we do not need to flip the image)\n",
    "test_transform = transforms.Compose([\n",
    "    # transforms.Resize(100),\n",
    "    transforms.Resize((70, 210)),\n",
    "    # transforms.Grayscale(),\n",
    "    # transforms.CenterCrop(100),\n",
    "    # transforms.RandomCrop(100),\n",
    "    transforms.ToTensor(),\n",
    "    \n",
    "    # Mean and standard deviation were pre-computed on the training data\n",
    "    # (on the ImageNet dataset)\n",
    "    transforms.Normalize(\n",
    "        mean=mean,\n",
    "        std=std,\n",
    "        # mean=[0.485, 0.456, 0.406],\n",
    "        # std=[0.229, 0.224, 0.225],\n",
    "    ),\n",
    "])\n",
    "\n",
    "\n",
    "# # Create a Dataset instance for our training data\n",
    "# data = TraversabilityDataset(\n",
    "#     traversal_costs_file=DATASET+\"traversal_costs.csv\",\n",
    "#     images_directory=DATASET+\"images\",\n",
    "#     transform=train_transform\n",
    "# )\n",
    "\n",
    "# # Split our training dataset into a training dataset and a validation dataset\n",
    "# train_set, val_set, test_set = random_split(data, [0.8, 0.1, 0.1])\n",
    "\n",
    "\n",
    "# Create a Dataset for training\n",
    "train_set = TraversabilityDataset(\n",
    "    traversal_costs_file=DATASET+\"traversal_costs_train.csv\",\n",
    "    images_directory=DATASET+\"images_train\",\n",
    "    transform=train_transform\n",
    ")\n",
    "\n",
    "# Create a Dataset for validation\n",
    "val_set = TraversabilityDataset(\n",
    "    traversal_costs_file=DATASET+\"traversal_costs_train.csv\",\n",
    "    images_directory=DATASET+\"images_train\",\n",
    "    transform=test_transform\n",
    ")\n",
    "\n",
    "# Create a Dataset for testin\n",
    "test_set = TraversabilityDataset(\n",
    "    traversal_costs_file=DATASET+\"traversal_costs_test.csv\",\n",
    "    images_directory=DATASET+\"images_test\",\n",
    "    transform=test_transform\n",
    ")\n",
    "\n",
    "# Set the train dataset size\n",
    "# 70% of the total data is used for training, 15% for validation\n",
    "# and 15% for testing\n",
    "train_size = 70/(100-15)\n",
    "\n",
    "# Splits train data indices into train and validation data indices\n",
    "train_indices, val_indices = train_test_split(range(len(train_set)), train_size=train_size)\n",
    "\n",
    "# Extract the corresponding subsets of the train dataset\n",
    "train_set = Subset(train_set, train_indices)\n",
    "val_set = Subset(val_set, val_indices)\n",
    "\n",
    "\n",
    "BATCH_SIZE = 32\n",
    "\n",
    "# Combine a dataset and a sampler, and provide an iterable over the dataset\n",
    "# (setting shuffle argument to True calls a RandomSampler, and avoids to\n",
    "# have to create a Sampler object)\n",
    "train_loader = DataLoader(\n",
    "    train_set,\n",
    "    batch_size=BATCH_SIZE,\n",
    "    shuffle=True,\n",
    "    num_workers=12,  # Asynchronous data loading and augmentation\n",
    "    pin_memory=True,  # Increase the transferring speed of the data to the GPU\n",
    ")\n",
    "\n",
    "val_loader = DataLoader(\n",
    "    val_set,\n",
    "    batch_size=BATCH_SIZE,\n",
    "    shuffle=True,\n",
    "    num_workers=12,\n",
    "    pin_memory=True,\n",
    ")\n",
    "\n",
    "test_loader = DataLoader(\n",
    "    test_set,\n",
    "    batch_size=BATCH_SIZE,\n",
    "    shuffle=False,  # SequentialSampler\n",
    "    num_workers=12,\n",
    "    pin_memory=True,\n",
    ")"
   ]
  },
  {
   "cell_type": "code",
   "execution_count": 46,
   "metadata": {},
   "outputs": [],
   "source": [
    "# Get the number of samples per split\n",
    "NB_TRAIN = len(train_set)\n",
    "NB_VAL = len(val_set)\n",
    "NB_TEST = len(test_set)"
   ]
  },
  {
   "cell_type": "code",
   "execution_count": 47,
   "metadata": {},
   "outputs": [
    {
     "name": "stdout",
     "output_type": "stream",
     "text": [
      "70.0 % of the data for training (6239 samples)\n",
      "15.0 % of the data for validation (1337 samples)\n",
      "15.0 % of the data for testing (1338 samples)\n"
     ]
    }
   ],
   "source": [
    "# Display the splits ratio\n",
    "NB_SAMPLES = NB_TRAIN + NB_VAL + NB_TEST\n",
    "\n",
    "print(f\"{np.round(NB_TRAIN/NB_SAMPLES*100)} % of the data for training ({NB_TRAIN} samples)\")\n",
    "print(f\"{np.round(NB_VAL/NB_SAMPLES*100)} % of the data for validation ({NB_VAL} samples)\")\n",
    "print(f\"{np.round(NB_TEST/NB_SAMPLES*100)} % of the data for testing ({NB_TEST} samples)\")"
   ]
  },
  {
   "attachments": {},
   "cell_type": "markdown",
   "metadata": {},
   "source": [
    "## GPU?"
   ]
  },
  {
   "cell_type": "code",
   "execution_count": 48,
   "metadata": {},
   "outputs": [
    {
     "name": "stdout",
     "output_type": "stream",
     "text": [
      "Device: cuda\n",
      "\n"
     ]
    }
   ],
   "source": [
    "# Use a GPU if available\n",
    "# device = \"cpu\"\n",
    "device = \"cuda\" if torch.cuda.is_available() else \"cpu\"\n",
    "print(f\"Device: {device}\\n\")"
   ]
  },
  {
   "attachments": {},
   "cell_type": "markdown",
   "metadata": {},
   "source": [
    "## Model design and initialization"
   ]
  },
  {
   "cell_type": "code",
   "execution_count": 59,
   "metadata": {},
   "outputs": [],
   "source": [
    "# Open TensorBoard\n",
    "tensorboard = SummaryWriter()\n",
    "\n",
    "# Load the pre-trained ResNet model\n",
    "model = models.resnet18().to(device=device)\n",
    "\n",
    "# model = models.resnet18(weights=models.ResNet18_Weights.DEFAULT).to(device=device)\n",
    "\n",
    "# Replace the last layer by a fully-connected one with 1 output\n",
    "model.fc = nn.Linear(model.fc.in_features, 1, device=device)\n",
    "\n",
    "# Initialize the last layer using Xavier initialization\n",
    "# nn.init.xavier_uniform_(model.fc.weight)\n",
    "\n",
    "# Display the architecture in TensorBoard\n",
    "images, traversal_costs, traversability_labels = next(iter(train_loader))\n",
    "images = images.to(device)\n",
    "tensorboard.add_graph(model, images)\n",
    "\n",
    "# print(model)\n",
    "# print(torchsummary.summary(model, (3, 100, 100)))"
   ]
  },
  {
   "cell_type": "code",
   "execution_count": 60,
   "metadata": {},
   "outputs": [
    {
     "data": {
      "text/plain": [
       "[('conv1.weight', torch.Size([64, 3, 7, 7])),\n",
       " ('bn1.weight', torch.Size([64])),\n",
       " ('bn1.bias', torch.Size([64])),\n",
       " ('layer1.0.conv1.weight', torch.Size([64, 64, 3, 3])),\n",
       " ('layer1.0.bn1.weight', torch.Size([64])),\n",
       " ('layer1.0.bn1.bias', torch.Size([64])),\n",
       " ('layer1.0.conv2.weight', torch.Size([64, 64, 3, 3])),\n",
       " ('layer1.0.bn2.weight', torch.Size([64])),\n",
       " ('layer1.0.bn2.bias', torch.Size([64])),\n",
       " ('layer1.1.conv1.weight', torch.Size([64, 64, 3, 3])),\n",
       " ('layer1.1.bn1.weight', torch.Size([64])),\n",
       " ('layer1.1.bn1.bias', torch.Size([64])),\n",
       " ('layer1.1.conv2.weight', torch.Size([64, 64, 3, 3])),\n",
       " ('layer1.1.bn2.weight', torch.Size([64])),\n",
       " ('layer1.1.bn2.bias', torch.Size([64])),\n",
       " ('layer2.0.conv1.weight', torch.Size([128, 64, 3, 3])),\n",
       " ('layer2.0.bn1.weight', torch.Size([128])),\n",
       " ('layer2.0.bn1.bias', torch.Size([128])),\n",
       " ('layer2.0.conv2.weight', torch.Size([128, 128, 3, 3])),\n",
       " ('layer2.0.bn2.weight', torch.Size([128])),\n",
       " ('layer2.0.bn2.bias', torch.Size([128])),\n",
       " ('layer2.0.downsample.0.weight', torch.Size([128, 64, 1, 1])),\n",
       " ('layer2.0.downsample.1.weight', torch.Size([128])),\n",
       " ('layer2.0.downsample.1.bias', torch.Size([128])),\n",
       " ('layer2.1.conv1.weight', torch.Size([128, 128, 3, 3])),\n",
       " ('layer2.1.bn1.weight', torch.Size([128])),\n",
       " ('layer2.1.bn1.bias', torch.Size([128])),\n",
       " ('layer2.1.conv2.weight', torch.Size([128, 128, 3, 3])),\n",
       " ('layer2.1.bn2.weight', torch.Size([128])),\n",
       " ('layer2.1.bn2.bias', torch.Size([128])),\n",
       " ('layer3.0.conv1.weight', torch.Size([256, 128, 3, 3])),\n",
       " ('layer3.0.bn1.weight', torch.Size([256])),\n",
       " ('layer3.0.bn1.bias', torch.Size([256])),\n",
       " ('layer3.0.conv2.weight', torch.Size([256, 256, 3, 3])),\n",
       " ('layer3.0.bn2.weight', torch.Size([256])),\n",
       " ('layer3.0.bn2.bias', torch.Size([256])),\n",
       " ('layer3.0.downsample.0.weight', torch.Size([256, 128, 1, 1])),\n",
       " ('layer3.0.downsample.1.weight', torch.Size([256])),\n",
       " ('layer3.0.downsample.1.bias', torch.Size([256])),\n",
       " ('layer3.1.conv1.weight', torch.Size([256, 256, 3, 3])),\n",
       " ('layer3.1.bn1.weight', torch.Size([256])),\n",
       " ('layer3.1.bn1.bias', torch.Size([256])),\n",
       " ('layer3.1.conv2.weight', torch.Size([256, 256, 3, 3])),\n",
       " ('layer3.1.bn2.weight', torch.Size([256])),\n",
       " ('layer3.1.bn2.bias', torch.Size([256])),\n",
       " ('layer4.0.conv1.weight', torch.Size([512, 256, 3, 3])),\n",
       " ('layer4.0.bn1.weight', torch.Size([512])),\n",
       " ('layer4.0.bn1.bias', torch.Size([512])),\n",
       " ('layer4.0.conv2.weight', torch.Size([512, 512, 3, 3])),\n",
       " ('layer4.0.bn2.weight', torch.Size([512])),\n",
       " ('layer4.0.bn2.bias', torch.Size([512])),\n",
       " ('layer4.0.downsample.0.weight', torch.Size([512, 256, 1, 1])),\n",
       " ('layer4.0.downsample.1.weight', torch.Size([512])),\n",
       " ('layer4.0.downsample.1.bias', torch.Size([512])),\n",
       " ('layer4.1.conv1.weight', torch.Size([512, 512, 3, 3])),\n",
       " ('layer4.1.bn1.weight', torch.Size([512])),\n",
       " ('layer4.1.bn1.bias', torch.Size([512])),\n",
       " ('layer4.1.conv2.weight', torch.Size([512, 512, 3, 3])),\n",
       " ('layer4.1.bn2.weight', torch.Size([512])),\n",
       " ('layer4.1.bn2.bias', torch.Size([512])),\n",
       " ('fc.weight', torch.Size([1, 512])),\n",
       " ('fc.bias', torch.Size([1]))]"
      ]
     },
     "execution_count": 60,
     "metadata": {},
     "output_type": "execute_result"
    }
   ],
   "source": [
    "[(name, param.shape) for name, param in model.named_parameters()]"
   ]
  },
  {
   "cell_type": "code",
   "execution_count": 61,
   "metadata": {},
   "outputs": [
    {
     "name": "stdout",
     "output_type": "stream",
     "text": [
      "OrderedDict([('weight', tensor([[-0.0390, -0.0057, -0.0246, -0.0063, -0.0090, -0.0424, -0.0067, -0.0173,\n",
      "         -0.0407,  0.0207, -0.0349,  0.0081, -0.0363,  0.0298,  0.0390,  0.0081,\n",
      "         -0.0123, -0.0167,  0.0013, -0.0196, -0.0289, -0.0229, -0.0392,  0.0226,\n",
      "         -0.0315,  0.0410, -0.0250,  0.0108, -0.0165,  0.0085, -0.0038, -0.0185,\n",
      "         -0.0252,  0.0433, -0.0234,  0.0013, -0.0095,  0.0361, -0.0396,  0.0296,\n",
      "         -0.0433, -0.0246,  0.0319,  0.0093, -0.0193,  0.0157, -0.0352,  0.0051,\n",
      "          0.0274, -0.0419,  0.0054, -0.0108, -0.0040,  0.0282,  0.0160, -0.0355,\n",
      "         -0.0346,  0.0407, -0.0209,  0.0158,  0.0269, -0.0441, -0.0113, -0.0129,\n",
      "          0.0251,  0.0102, -0.0293,  0.0410,  0.0185, -0.0302, -0.0441, -0.0097,\n",
      "         -0.0297, -0.0219,  0.0032, -0.0127, -0.0179,  0.0118,  0.0090,  0.0023,\n",
      "         -0.0184,  0.0103, -0.0213,  0.0265,  0.0229, -0.0212, -0.0150,  0.0199,\n",
      "          0.0062, -0.0339,  0.0184,  0.0042,  0.0305, -0.0085, -0.0101,  0.0312,\n",
      "          0.0263, -0.0145, -0.0322,  0.0368, -0.0241, -0.0105,  0.0073, -0.0061,\n",
      "          0.0132,  0.0368, -0.0393, -0.0143,  0.0115, -0.0068,  0.0085,  0.0273,\n",
      "         -0.0214,  0.0222,  0.0418, -0.0397,  0.0373, -0.0291, -0.0386,  0.0297,\n",
      "          0.0186,  0.0148,  0.0319,  0.0164, -0.0005,  0.0028, -0.0363, -0.0373,\n",
      "          0.0395, -0.0098,  0.0014, -0.0019,  0.0202,  0.0202, -0.0141, -0.0228,\n",
      "         -0.0195,  0.0226,  0.0082,  0.0374, -0.0350,  0.0284,  0.0063,  0.0229,\n",
      "          0.0280,  0.0298, -0.0233, -0.0029,  0.0275,  0.0177,  0.0375,  0.0281,\n",
      "          0.0289,  0.0350, -0.0354,  0.0081, -0.0098, -0.0294, -0.0090,  0.0354,\n",
      "          0.0111,  0.0016, -0.0211,  0.0116,  0.0296,  0.0320,  0.0334, -0.0266,\n",
      "          0.0014,  0.0071, -0.0213, -0.0200, -0.0036,  0.0143, -0.0295, -0.0155,\n",
      "          0.0417, -0.0310, -0.0296, -0.0233, -0.0330, -0.0239, -0.0307, -0.0323,\n",
      "         -0.0423, -0.0313, -0.0280,  0.0372,  0.0127, -0.0115, -0.0370,  0.0342,\n",
      "         -0.0112,  0.0424, -0.0019, -0.0163,  0.0258,  0.0374, -0.0186,  0.0081,\n",
      "         -0.0441, -0.0264, -0.0391, -0.0070, -0.0157, -0.0088,  0.0325,  0.0091,\n",
      "          0.0373, -0.0030, -0.0042,  0.0025, -0.0017, -0.0358,  0.0065,  0.0001,\n",
      "          0.0436,  0.0150,  0.0334, -0.0112, -0.0297, -0.0286, -0.0250,  0.0188,\n",
      "          0.0417,  0.0207,  0.0302,  0.0370,  0.0303, -0.0012, -0.0214, -0.0307,\n",
      "          0.0091,  0.0094, -0.0172, -0.0128, -0.0420, -0.0343,  0.0231,  0.0369,\n",
      "         -0.0244, -0.0129,  0.0401, -0.0300,  0.0134,  0.0351,  0.0397, -0.0423,\n",
      "         -0.0067, -0.0418, -0.0110,  0.0034,  0.0160,  0.0432,  0.0288,  0.0090,\n",
      "         -0.0268,  0.0216,  0.0412, -0.0282, -0.0278, -0.0124, -0.0133, -0.0048,\n",
      "          0.0136,  0.0103,  0.0288,  0.0415,  0.0177, -0.0025,  0.0069,  0.0022,\n",
      "          0.0306, -0.0231,  0.0083,  0.0403,  0.0389,  0.0294, -0.0372, -0.0190,\n",
      "         -0.0274, -0.0004,  0.0361, -0.0368,  0.0407, -0.0110, -0.0325, -0.0040,\n",
      "         -0.0088,  0.0406,  0.0159, -0.0243,  0.0267, -0.0372, -0.0028,  0.0329,\n",
      "         -0.0024, -0.0370,  0.0289,  0.0012,  0.0368, -0.0301, -0.0271, -0.0010,\n",
      "         -0.0243, -0.0048,  0.0175, -0.0415,  0.0380, -0.0251,  0.0394,  0.0267,\n",
      "          0.0145, -0.0052, -0.0337, -0.0014,  0.0403,  0.0125, -0.0326, -0.0279,\n",
      "         -0.0020,  0.0259, -0.0412,  0.0328,  0.0352, -0.0193,  0.0123, -0.0131,\n",
      "          0.0187, -0.0181,  0.0198,  0.0176,  0.0189, -0.0112, -0.0199,  0.0082,\n",
      "          0.0285, -0.0012,  0.0425,  0.0152, -0.0287,  0.0066,  0.0273,  0.0321,\n",
      "         -0.0207,  0.0324,  0.0371,  0.0162, -0.0052,  0.0276, -0.0173,  0.0048,\n",
      "          0.0015, -0.0333, -0.0248, -0.0132, -0.0111, -0.0395,  0.0354,  0.0401,\n",
      "         -0.0011, -0.0007,  0.0391,  0.0100,  0.0109,  0.0360,  0.0253, -0.0215,\n",
      "          0.0272,  0.0089, -0.0312, -0.0152,  0.0226, -0.0084,  0.0161,  0.0336,\n",
      "         -0.0135, -0.0393,  0.0150,  0.0363,  0.0143,  0.0067,  0.0152, -0.0225,\n",
      "         -0.0217,  0.0367,  0.0103,  0.0122, -0.0144, -0.0026,  0.0103, -0.0382,\n",
      "         -0.0170,  0.0148,  0.0251,  0.0242, -0.0129, -0.0326,  0.0291,  0.0075,\n",
      "         -0.0047,  0.0383,  0.0344,  0.0245, -0.0233, -0.0181,  0.0280,  0.0101,\n",
      "          0.0112, -0.0387, -0.0108, -0.0027,  0.0022,  0.0005, -0.0419, -0.0335,\n",
      "         -0.0171,  0.0208, -0.0060,  0.0321,  0.0223, -0.0067, -0.0070, -0.0414,\n",
      "          0.0299,  0.0429,  0.0379,  0.0299,  0.0371,  0.0033,  0.0025, -0.0233,\n",
      "         -0.0159, -0.0139,  0.0229,  0.0050,  0.0026, -0.0383, -0.0085,  0.0105,\n",
      "         -0.0200, -0.0391, -0.0353, -0.0175,  0.0341, -0.0040, -0.0122,  0.0241,\n",
      "         -0.0217, -0.0340,  0.0271, -0.0198,  0.0158,  0.0367, -0.0128, -0.0210,\n",
      "         -0.0126, -0.0347,  0.0256, -0.0323, -0.0356,  0.0224,  0.0099,  0.0076,\n",
      "         -0.0139,  0.0066, -0.0204,  0.0076,  0.0194,  0.0232,  0.0003, -0.0367,\n",
      "         -0.0355,  0.0244, -0.0005,  0.0209,  0.0387,  0.0272,  0.0118,  0.0116,\n",
      "         -0.0399, -0.0047, -0.0350,  0.0259, -0.0407, -0.0113,  0.0316, -0.0355,\n",
      "          0.0073,  0.0410, -0.0352, -0.0405, -0.0439, -0.0308,  0.0110,  0.0125,\n",
      "         -0.0267, -0.0197,  0.0226, -0.0287, -0.0068,  0.0272, -0.0304, -0.0327,\n",
      "         -0.0175, -0.0090, -0.0141, -0.0184,  0.0016,  0.0361,  0.0123, -0.0114]],\n",
      "       device='cuda:0')), ('bias', tensor([-0.0279], device='cuda:0'))])\n"
     ]
    }
   ],
   "source": [
    "print(model.fc.state_dict())"
   ]
  },
  {
   "attachments": {},
   "cell_type": "markdown",
   "metadata": {},
   "source": [
    "## Training and validation loops"
   ]
  },
  {
   "cell_type": "code",
   "execution_count": 56,
   "metadata": {},
   "outputs": [
    {
     "name": "stderr",
     "output_type": "stream",
     "text": [
      "Epoch 0 [train]: 100%|██████████| 195/195 [00:06<00:00, 29.59batch/s, batch_loss=0.182] \n",
      "Epoch 0 [val]: 100%|██████████| 42/42 [00:01<00:00, 36.16batch/s, batch_loss=0.312] \n"
     ]
    },
    {
     "name": "stdout",
     "output_type": "stream",
     "text": [
      "Train loss:  0.3429989586273829\n",
      "Validation loss:  0.20681149406092508\n"
     ]
    },
    {
     "name": "stderr",
     "output_type": "stream",
     "text": [
      "Epoch 1 [train]: 100%|██████████| 195/195 [00:06<00:00, 30.69batch/s, batch_loss=0.101] \n",
      "Epoch 1 [val]: 100%|██████████| 42/42 [00:01<00:00, 35.71batch/s, batch_loss=0.165] \n"
     ]
    },
    {
     "name": "stdout",
     "output_type": "stream",
     "text": [
      "Train loss:  0.1258507183729074\n",
      "Validation loss:  0.13330156285138356\n"
     ]
    },
    {
     "name": "stderr",
     "output_type": "stream",
     "text": [
      "Epoch 2 [train]: 100%|██████████| 195/195 [00:06<00:00, 31.44batch/s, batch_loss=0.0698]\n",
      "Epoch 2 [val]: 100%|██████████| 42/42 [00:01<00:00, 34.82batch/s, batch_loss=0.133] \n"
     ]
    },
    {
     "name": "stdout",
     "output_type": "stream",
     "text": [
      "Train loss:  0.10432854460982176\n",
      "Validation loss:  0.11805094911583833\n"
     ]
    },
    {
     "name": "stderr",
     "output_type": "stream",
     "text": [
      "Epoch 3 [train]: 100%|██████████| 195/195 [00:06<00:00, 30.18batch/s, batch_loss=0.0728]\n",
      "Epoch 3 [val]: 100%|██████████| 42/42 [00:01<00:00, 34.21batch/s, batch_loss=0.0843]\n"
     ]
    },
    {
     "name": "stdout",
     "output_type": "stream",
     "text": [
      "Train loss:  0.08425097035673948\n",
      "Validation loss:  0.09348590246268682\n"
     ]
    },
    {
     "name": "stderr",
     "output_type": "stream",
     "text": [
      "Epoch 4 [train]: 100%|██████████| 195/195 [00:06<00:00, 31.17batch/s, batch_loss=0.0763]\n",
      "Epoch 4 [val]: 100%|██████████| 42/42 [00:01<00:00, 34.62batch/s, batch_loss=0.1]   \n"
     ]
    },
    {
     "name": "stdout",
     "output_type": "stream",
     "text": [
      "Train loss:  0.08819914600596979\n",
      "Validation loss:  0.11007757254299663\n"
     ]
    },
    {
     "name": "stderr",
     "output_type": "stream",
     "text": [
      "Epoch 5 [train]: 100%|██████████| 195/195 [00:06<00:00, 31.74batch/s, batch_loss=0.151] \n",
      "Epoch 5 [val]: 100%|██████████| 42/42 [00:01<00:00, 34.07batch/s, batch_loss=0.0772]\n"
     ]
    },
    {
     "name": "stdout",
     "output_type": "stream",
     "text": [
      "Train loss:  0.0755614169419576\n",
      "Validation loss:  0.09997402308952241\n"
     ]
    },
    {
     "name": "stderr",
     "output_type": "stream",
     "text": [
      "Epoch 6 [train]: 100%|██████████| 195/195 [00:06<00:00, 31.31batch/s, batch_loss=0.141] \n",
      "Epoch 6 [val]: 100%|██████████| 42/42 [00:01<00:00, 36.83batch/s, batch_loss=0.241] \n"
     ]
    },
    {
     "name": "stdout",
     "output_type": "stream",
     "text": [
      "Train loss:  0.08310612740042882\n",
      "Validation loss:  0.18160126163136392\n"
     ]
    },
    {
     "name": "stderr",
     "output_type": "stream",
     "text": [
      "Epoch 7 [train]: 100%|██████████| 195/195 [00:06<00:00, 30.46batch/s, batch_loss=0.0414]\n",
      "Epoch 7 [val]: 100%|██████████| 42/42 [00:01<00:00, 35.15batch/s, batch_loss=0.204] \n"
     ]
    },
    {
     "name": "stdout",
     "output_type": "stream",
     "text": [
      "Train loss:  0.08127168799057985\n",
      "Validation loss:  0.13232906286915144\n"
     ]
    },
    {
     "name": "stderr",
     "output_type": "stream",
     "text": [
      "Epoch 8 [train]: 100%|██████████| 195/195 [00:06<00:00, 31.15batch/s, batch_loss=0.0915]\n",
      "Epoch 8 [val]: 100%|██████████| 42/42 [00:01<00:00, 37.39batch/s, batch_loss=0.0695]\n"
     ]
    },
    {
     "name": "stdout",
     "output_type": "stream",
     "text": [
      "Train loss:  0.07813484637210003\n",
      "Validation loss:  0.10233707406691142\n"
     ]
    },
    {
     "name": "stderr",
     "output_type": "stream",
     "text": [
      "Epoch 9 [train]: 100%|██████████| 195/195 [00:06<00:00, 31.63batch/s, batch_loss=0.0917]\n",
      "Epoch 9 [val]: 100%|██████████| 42/42 [00:01<00:00, 37.16batch/s, batch_loss=0.159] \n"
     ]
    },
    {
     "name": "stdout",
     "output_type": "stream",
     "text": [
      "Train loss:  0.07437381457823973\n",
      "Validation loss:  0.09818310015613124\n"
     ]
    },
    {
     "name": "stderr",
     "output_type": "stream",
     "text": [
      "Epoch 10 [train]: 100%|██████████| 195/195 [00:06<00:00, 31.80batch/s, batch_loss=0.106] \n",
      "Epoch 10 [val]: 100%|██████████| 42/42 [00:01<00:00, 34.74batch/s, batch_loss=0.166] \n"
     ]
    },
    {
     "name": "stdout",
     "output_type": "stream",
     "text": [
      "Train loss:  0.08468710702772324\n",
      "Validation loss:  0.11321851965926942\n"
     ]
    },
    {
     "name": "stderr",
     "output_type": "stream",
     "text": [
      "Epoch 11 [train]: 100%|██████████| 195/195 [00:06<00:00, 31.93batch/s, batch_loss=0.0993]\n",
      "Epoch 11 [val]: 100%|██████████| 42/42 [00:01<00:00, 34.05batch/s, batch_loss=0.067] \n"
     ]
    },
    {
     "name": "stdout",
     "output_type": "stream",
     "text": [
      "Train loss:  0.07750909277834954\n",
      "Validation loss:  0.08087557705030554\n"
     ]
    },
    {
     "name": "stderr",
     "output_type": "stream",
     "text": [
      "Epoch 12 [train]: 100%|██████████| 195/195 [00:06<00:00, 30.72batch/s, batch_loss=0.0615]\n",
      "Epoch 12 [val]: 100%|██████████| 42/42 [00:01<00:00, 36.08batch/s, batch_loss=0.0708]\n"
     ]
    },
    {
     "name": "stdout",
     "output_type": "stream",
     "text": [
      "Train loss:  0.07421752988145902\n",
      "Validation loss:  0.07854546100965568\n"
     ]
    },
    {
     "name": "stderr",
     "output_type": "stream",
     "text": [
      "Epoch 13 [train]: 100%|██████████| 195/195 [00:06<00:00, 30.65batch/s, batch_loss=0.069] \n",
      "Epoch 13 [val]: 100%|██████████| 42/42 [00:01<00:00, 35.74batch/s, batch_loss=0.0567]\n"
     ]
    },
    {
     "name": "stdout",
     "output_type": "stream",
     "text": [
      "Train loss:  0.06803052275417706\n",
      "Validation loss:  0.07732757863899072\n"
     ]
    },
    {
     "name": "stderr",
     "output_type": "stream",
     "text": [
      "Epoch 14 [train]: 100%|██████████| 195/195 [00:06<00:00, 31.49batch/s, batch_loss=0.0628]\n",
      "Epoch 14 [val]: 100%|██████████| 42/42 [00:01<00:00, 34.85batch/s, batch_loss=0.076] \n"
     ]
    },
    {
     "name": "stdout",
     "output_type": "stream",
     "text": [
      "Train loss:  0.06837069982519517\n",
      "Validation loss:  0.0801080491039015\n"
     ]
    },
    {
     "name": "stderr",
     "output_type": "stream",
     "text": [
      "Epoch 15 [train]: 100%|██████████| 195/195 [00:06<00:00, 29.62batch/s, batch_loss=0.0329]\n",
      "Epoch 15 [val]: 100%|██████████| 42/42 [00:01<00:00, 34.05batch/s, batch_loss=0.0816]\n"
     ]
    },
    {
     "name": "stdout",
     "output_type": "stream",
     "text": [
      "Train loss:  0.07091262065447294\n",
      "Validation loss:  0.0898172485509089\n"
     ]
    },
    {
     "name": "stderr",
     "output_type": "stream",
     "text": [
      "Epoch 16 [train]: 100%|██████████| 195/195 [00:06<00:00, 31.22batch/s, batch_loss=0.129] \n",
      "Epoch 16 [val]: 100%|██████████| 42/42 [00:01<00:00, 26.48batch/s, batch_loss=0.0992]\n"
     ]
    },
    {
     "name": "stdout",
     "output_type": "stream",
     "text": [
      "Train loss:  0.065859991321579\n",
      "Validation loss:  0.0998790261468717\n"
     ]
    },
    {
     "name": "stderr",
     "output_type": "stream",
     "text": [
      "Epoch 17 [train]: 100%|██████████| 195/195 [00:06<00:00, 28.13batch/s, batch_loss=0.161] \n",
      "Epoch 17 [val]: 100%|██████████| 42/42 [00:01<00:00, 31.80batch/s, batch_loss=0.0777]\n"
     ]
    },
    {
     "name": "stdout",
     "output_type": "stream",
     "text": [
      "Train loss:  0.07159482301809848\n",
      "Validation loss:  0.10858046494069554\n"
     ]
    },
    {
     "name": "stderr",
     "output_type": "stream",
     "text": [
      "Epoch 18 [train]: 100%|██████████| 195/195 [00:06<00:00, 28.76batch/s, batch_loss=0.0427]\n",
      "Epoch 18 [val]: 100%|██████████| 42/42 [00:01<00:00, 32.95batch/s, batch_loss=0.103] \n"
     ]
    },
    {
     "name": "stdout",
     "output_type": "stream",
     "text": [
      "Train loss:  0.07042926764832093\n",
      "Validation loss:  0.07911174416187264\n"
     ]
    },
    {
     "name": "stderr",
     "output_type": "stream",
     "text": [
      "Epoch 19 [train]: 100%|██████████| 195/195 [00:06<00:00, 29.12batch/s, batch_loss=0.0327]\n",
      "Epoch 19 [val]: 100%|██████████| 42/42 [00:01<00:00, 33.21batch/s, batch_loss=0.101] \n"
     ]
    },
    {
     "name": "stdout",
     "output_type": "stream",
     "text": [
      "Train loss:  0.07184643620290818\n",
      "Validation loss:  0.10117130549181075\n"
     ]
    },
    {
     "name": "stderr",
     "output_type": "stream",
     "text": [
      "Epoch 20 [train]: 100%|██████████| 195/195 [00:06<00:00, 28.02batch/s, batch_loss=0.193] \n",
      "Epoch 20 [val]: 100%|██████████| 42/42 [00:01<00:00, 32.55batch/s, batch_loss=0.0455]\n"
     ]
    },
    {
     "name": "stdout",
     "output_type": "stream",
     "text": [
      "Train loss:  0.0682264843239234\n",
      "Validation loss:  0.07938419557398274\n"
     ]
    },
    {
     "name": "stderr",
     "output_type": "stream",
     "text": [
      "Epoch 21 [train]: 100%|██████████| 195/195 [00:07<00:00, 27.66batch/s, batch_loss=0.0661]\n",
      "Epoch 21 [val]: 100%|██████████| 42/42 [00:01<00:00, 32.56batch/s, batch_loss=0.0509]\n"
     ]
    },
    {
     "name": "stdout",
     "output_type": "stream",
     "text": [
      "Train loss:  0.06850482676273738\n",
      "Validation loss:  0.07409845523181416\n"
     ]
    },
    {
     "name": "stderr",
     "output_type": "stream",
     "text": [
      "Epoch 22 [train]: 100%|██████████| 195/195 [00:06<00:00, 28.19batch/s, batch_loss=0.0814]\n",
      "Epoch 22 [val]: 100%|██████████| 42/42 [00:01<00:00, 35.80batch/s, batch_loss=0.104] \n"
     ]
    },
    {
     "name": "stdout",
     "output_type": "stream",
     "text": [
      "Train loss:  0.06800697918694754\n",
      "Validation loss:  0.08847838001591819\n"
     ]
    },
    {
     "name": "stderr",
     "output_type": "stream",
     "text": [
      "Epoch 23 [train]: 100%|██████████| 195/195 [00:06<00:00, 28.55batch/s, batch_loss=0.0233]\n",
      "Epoch 23 [val]: 100%|██████████| 42/42 [00:01<00:00, 35.43batch/s, batch_loss=0.0574]\n"
     ]
    },
    {
     "name": "stdout",
     "output_type": "stream",
     "text": [
      "Train loss:  0.0734382274059149\n",
      "Validation loss:  0.06846942708251022\n"
     ]
    },
    {
     "name": "stderr",
     "output_type": "stream",
     "text": [
      "Epoch 24 [train]: 100%|██████████| 195/195 [00:07<00:00, 27.50batch/s, batch_loss=0.0452]\n",
      "Epoch 24 [val]: 100%|██████████| 42/42 [00:01<00:00, 35.09batch/s, batch_loss=0.09]  \n"
     ]
    },
    {
     "name": "stdout",
     "output_type": "stream",
     "text": [
      "Train loss:  0.06639070308361299\n",
      "Validation loss:  0.07600275036834535\n"
     ]
    },
    {
     "name": "stderr",
     "output_type": "stream",
     "text": [
      "Epoch 25 [train]: 100%|██████████| 195/195 [00:06<00:00, 28.45batch/s, batch_loss=0.0601]\n",
      "Epoch 25 [val]: 100%|██████████| 42/42 [00:01<00:00, 35.26batch/s, batch_loss=0.0424]\n"
     ]
    },
    {
     "name": "stdout",
     "output_type": "stream",
     "text": [
      "Train loss:  0.07295812595731173\n",
      "Validation loss:  0.07015592409741311\n"
     ]
    },
    {
     "name": "stderr",
     "output_type": "stream",
     "text": [
      "Epoch 26 [train]: 100%|██████████| 195/195 [00:06<00:00, 28.07batch/s, batch_loss=0.0538]\n",
      "Epoch 26 [val]: 100%|██████████| 42/42 [00:01<00:00, 34.64batch/s, batch_loss=0.0732]\n"
     ]
    },
    {
     "name": "stdout",
     "output_type": "stream",
     "text": [
      "Train loss:  0.06737934086376275\n",
      "Validation loss:  0.11328353448992684\n"
     ]
    },
    {
     "name": "stderr",
     "output_type": "stream",
     "text": [
      "Epoch 27 [train]: 100%|██████████| 195/195 [00:06<00:00, 29.47batch/s, batch_loss=0.105] \n",
      "Epoch 27 [val]: 100%|██████████| 42/42 [00:01<00:00, 34.10batch/s, batch_loss=0.156] \n"
     ]
    },
    {
     "name": "stdout",
     "output_type": "stream",
     "text": [
      "Train loss:  0.0715328611051425\n",
      "Validation loss:  0.14158935809419268\n"
     ]
    },
    {
     "name": "stderr",
     "output_type": "stream",
     "text": [
      "Epoch 28 [train]: 100%|██████████| 195/195 [00:06<00:00, 28.66batch/s, batch_loss=0.061] \n",
      "Epoch 28 [val]: 100%|██████████| 42/42 [00:01<00:00, 32.89batch/s, batch_loss=0.0849]\n"
     ]
    },
    {
     "name": "stdout",
     "output_type": "stream",
     "text": [
      "Train loss:  0.06353038387038769\n",
      "Validation loss:  0.09834849798963183\n"
     ]
    },
    {
     "name": "stderr",
     "output_type": "stream",
     "text": [
      "Epoch 29 [train]: 100%|██████████| 195/195 [00:06<00:00, 28.24batch/s, batch_loss=0.0965]\n",
      "Epoch 29 [val]: 100%|██████████| 42/42 [00:01<00:00, 31.06batch/s, batch_loss=0.143] \n"
     ]
    },
    {
     "name": "stdout",
     "output_type": "stream",
     "text": [
      "Train loss:  0.07251939942630438\n",
      "Validation loss:  0.14711920367110343\n"
     ]
    },
    {
     "name": "stderr",
     "output_type": "stream",
     "text": [
      "Epoch 30 [train]: 100%|██████████| 195/195 [00:06<00:00, 27.91batch/s, batch_loss=0.0718]\n",
      "Epoch 30 [val]: 100%|██████████| 42/42 [00:01<00:00, 32.65batch/s, batch_loss=0.161] \n"
     ]
    },
    {
     "name": "stdout",
     "output_type": "stream",
     "text": [
      "Train loss:  0.06534375621913335\n",
      "Validation loss:  0.08246614136511371\n"
     ]
    },
    {
     "name": "stderr",
     "output_type": "stream",
     "text": [
      "Epoch 31 [train]: 100%|██████████| 195/195 [00:07<00:00, 27.71batch/s, batch_loss=0.139] \n",
      "Epoch 31 [val]: 100%|██████████| 42/42 [00:01<00:00, 34.69batch/s, batch_loss=0.118] \n"
     ]
    },
    {
     "name": "stdout",
     "output_type": "stream",
     "text": [
      "Train loss:  0.06980224900807326\n",
      "Validation loss:  0.1410217187589123\n"
     ]
    },
    {
     "name": "stderr",
     "output_type": "stream",
     "text": [
      "Epoch 32 [train]: 100%|██████████| 195/195 [00:06<00:00, 28.25batch/s, batch_loss=0.0419]\n",
      "Epoch 32 [val]: 100%|██████████| 42/42 [00:01<00:00, 33.72batch/s, batch_loss=0.0503]\n"
     ]
    },
    {
     "name": "stdout",
     "output_type": "stream",
     "text": [
      "Train loss:  0.06928294440492605\n",
      "Validation loss:  0.11435108303668953\n"
     ]
    },
    {
     "name": "stderr",
     "output_type": "stream",
     "text": [
      "Epoch 33 [train]: 100%|██████████| 195/195 [00:06<00:00, 28.24batch/s, batch_loss=0.0867]\n",
      "Epoch 33 [val]: 100%|██████████| 42/42 [00:01<00:00, 32.20batch/s, batch_loss=0.0579]\n"
     ]
    },
    {
     "name": "stdout",
     "output_type": "stream",
     "text": [
      "Train loss:  0.08081208983292947\n",
      "Validation loss:  0.06579285709276086\n"
     ]
    },
    {
     "name": "stderr",
     "output_type": "stream",
     "text": [
      "Epoch 34 [train]: 100%|██████████| 195/195 [00:07<00:00, 27.27batch/s, batch_loss=0.123] \n",
      "Epoch 34 [val]: 100%|██████████| 42/42 [00:01<00:00, 32.72batch/s, batch_loss=0.102] \n"
     ]
    },
    {
     "name": "stdout",
     "output_type": "stream",
     "text": [
      "Train loss:  0.06473296566460378\n",
      "Validation loss:  0.08629904093132132\n"
     ]
    },
    {
     "name": "stderr",
     "output_type": "stream",
     "text": [
      "Epoch 35 [train]: 100%|██████████| 195/195 [00:06<00:00, 28.74batch/s, batch_loss=0.0297]\n",
      "Epoch 35 [val]: 100%|██████████| 42/42 [00:01<00:00, 34.77batch/s, batch_loss=0.0397]\n"
     ]
    },
    {
     "name": "stdout",
     "output_type": "stream",
     "text": [
      "Train loss:  0.069464214060169\n",
      "Validation loss:  0.0901464360455672\n"
     ]
    },
    {
     "name": "stderr",
     "output_type": "stream",
     "text": [
      "Epoch 36 [train]: 100%|██████████| 195/195 [00:06<00:00, 28.70batch/s, batch_loss=0.113] \n",
      "Epoch 36 [val]: 100%|██████████| 42/42 [00:01<00:00, 32.05batch/s, batch_loss=0.0445]\n"
     ]
    },
    {
     "name": "stdout",
     "output_type": "stream",
     "text": [
      "Train loss:  0.058831883976474784\n",
      "Validation loss:  0.07664926979868185\n"
     ]
    },
    {
     "name": "stderr",
     "output_type": "stream",
     "text": [
      "Epoch 37 [train]: 100%|██████████| 195/195 [00:07<00:00, 27.84batch/s, batch_loss=0.0347]\n",
      "Epoch 37 [val]: 100%|██████████| 42/42 [00:01<00:00, 33.48batch/s, batch_loss=0.0881]\n"
     ]
    },
    {
     "name": "stdout",
     "output_type": "stream",
     "text": [
      "Train loss:  0.06313194221793077\n",
      "Validation loss:  0.11251153619516463\n"
     ]
    },
    {
     "name": "stderr",
     "output_type": "stream",
     "text": [
      "Epoch 38 [train]: 100%|██████████| 195/195 [00:07<00:00, 27.55batch/s, batch_loss=0.0612]\n",
      "Epoch 38 [val]: 100%|██████████| 42/42 [00:01<00:00, 33.25batch/s, batch_loss=0.0286]\n"
     ]
    },
    {
     "name": "stdout",
     "output_type": "stream",
     "text": [
      "Train loss:  0.0608290581844556\n",
      "Validation loss:  0.07112782852103312\n"
     ]
    },
    {
     "name": "stderr",
     "output_type": "stream",
     "text": [
      "Epoch 39 [train]: 100%|██████████| 195/195 [00:06<00:00, 28.92batch/s, batch_loss=0.0473]\n",
      "Epoch 39 [val]: 100%|██████████| 42/42 [00:01<00:00, 34.02batch/s, batch_loss=0.0773]\n"
     ]
    },
    {
     "name": "stdout",
     "output_type": "stream",
     "text": [
      "Train loss:  0.06873671773534555\n",
      "Validation loss:  0.0740763908695607\n"
     ]
    },
    {
     "name": "stderr",
     "output_type": "stream",
     "text": [
      "Epoch 40 [train]: 100%|██████████| 195/195 [00:06<00:00, 28.76batch/s, batch_loss=0.113] \n",
      "Epoch 40 [val]: 100%|██████████| 42/42 [00:01<00:00, 32.22batch/s, batch_loss=0.0553]\n"
     ]
    },
    {
     "name": "stdout",
     "output_type": "stream",
     "text": [
      "Train loss:  0.07671495154500008\n",
      "Validation loss:  0.06766610033810139\n"
     ]
    },
    {
     "name": "stderr",
     "output_type": "stream",
     "text": [
      "Epoch 41 [train]: 100%|██████████| 195/195 [00:06<00:00, 28.23batch/s, batch_loss=0.025] \n",
      "Epoch 41 [val]: 100%|██████████| 42/42 [00:01<00:00, 33.26batch/s, batch_loss=0.0641]\n"
     ]
    },
    {
     "name": "stdout",
     "output_type": "stream",
     "text": [
      "Train loss:  0.0674519462749744\n",
      "Validation loss:  0.06681363027365435\n"
     ]
    },
    {
     "name": "stderr",
     "output_type": "stream",
     "text": [
      "Epoch 42 [train]: 100%|██████████| 195/195 [00:06<00:00, 28.38batch/s, batch_loss=0.0687]\n",
      "Epoch 42 [val]: 100%|██████████| 42/42 [00:01<00:00, 30.87batch/s, batch_loss=0.0667]\n"
     ]
    },
    {
     "name": "stdout",
     "output_type": "stream",
     "text": [
      "Train loss:  0.0613324856528869\n",
      "Validation loss:  0.0709944578952023\n"
     ]
    },
    {
     "name": "stderr",
     "output_type": "stream",
     "text": [
      "Epoch 43 [train]: 100%|██████████| 195/195 [00:06<00:00, 28.82batch/s, batch_loss=0.0485]\n",
      "Epoch 43 [val]: 100%|██████████| 42/42 [00:01<00:00, 31.40batch/s, batch_loss=0.0475]"
     ]
    },
    {
     "name": "stdout",
     "output_type": "stream",
     "text": [
      "Train loss:  0.06878531658305571\n",
      "Validation loss:  0.08054042634155069\n",
      "Early stopping at epoch 43\n"
     ]
    },
    {
     "name": "stderr",
     "output_type": "stream",
     "text": [
      "\n"
     ]
    }
   ],
   "source": [
    "# Define the loss function\n",
    "criterion = nn.MSELoss()\n",
    "\n",
    "# Get all the parameters excepts the weights and bias of fc layer\n",
    "base_params = [param for name, param in model.named_parameters()\n",
    "               if name not in [\"fc.weight\", \"fc.bias\"]]\n",
    "\n",
    "# Define the optimizer, with a greater learning rate for the new fc layer\n",
    "optimizer = optim.SGD([\n",
    "    {\"params\": base_params},\n",
    "    {\"params\": model.fc.parameters(), \"lr\": 1e-3},\n",
    "],\n",
    "    lr=1e-3, momentum=0.9, weight_decay=0.001)\n",
    "\n",
    "# An epoch is one complete pass of the training dataset through the network\n",
    "NB_EPOCHS = 100\n",
    "\n",
    "# Number of epochs we wait for the loss to decrease before stopping\n",
    "# the training process early\n",
    "patience = 10\n",
    "\n",
    "best_val_loss = float('inf')\n",
    "best_epoch = 0\n",
    "\n",
    "loss_values = torch.zeros(2, NB_EPOCHS)\n",
    "\n",
    "# Loop over the epochs\n",
    "for epoch in range(NB_EPOCHS):\n",
    "    \n",
    "    # Training\n",
    "    train_loss = 0.\n",
    "    \n",
    "    # Configure the model for training\n",
    "    # (good practice, only necessary if the model operates differently for\n",
    "    # training and validation)\n",
    "    model.train()\n",
    "    \n",
    "    # Add a progress bar\n",
    "    train_loader_pbar = tqdm(train_loader, unit=\"batch\")\n",
    "    \n",
    "    # Loop over the training batches\n",
    "    for images, traversal_costs, _ in train_loader_pbar:\n",
    "        \n",
    "        # Print the epoch and training mode\n",
    "        train_loader_pbar.set_description(f\"Epoch {epoch} [train]\")\n",
    "        \n",
    "        # Move images and traversal scores to GPU (if available)\n",
    "        images = images.to(device)\n",
    "        traversal_costs = traversal_costs.type(torch.FloatTensor).to(device)\n",
    "        \n",
    "        # Zero out gradients before each backpropagation pass, to avoid that\n",
    "        # they accumulate\n",
    "        optimizer.zero_grad()\n",
    "        \n",
    "        # Perform forward pass\n",
    "        predicted_traversal_costs = model(images)\n",
    "        \n",
    "        # Compute loss \n",
    "        loss = criterion(predicted_traversal_costs[:, 0], traversal_costs)\n",
    "        \n",
    "        # Print the batch loss next to the progress bar\n",
    "        train_loader_pbar.set_postfix(batch_loss=loss.item())\n",
    "        \n",
    "        # Perform backpropagation (update weights)\n",
    "        loss.backward()\n",
    "        \n",
    "        # Adjust parameters based on gradients\n",
    "        optimizer.step()\n",
    "        \n",
    "        # Accumulate batch loss to average over the epoch\n",
    "        train_loss += loss.item()\n",
    "    \n",
    "    \n",
    "    # Validation\n",
    "    val_loss = 0.\n",
    "    \n",
    "    # Configure the model for testing\n",
    "    # (turn off dropout layers, batchnorm layers, etc)\n",
    "    model.eval()\n",
    "    \n",
    "    # Add a progress bar\n",
    "    val_loader_pbar = tqdm(val_loader, unit=\"batch\")\n",
    "    \n",
    "    # Turn off gradients computation (the backward computational graph is built during\n",
    "    # the forward pass and weights are updated during the backward pass, here we avoid\n",
    "    # building the graph)\n",
    "    with torch.no_grad():\n",
    "        # Loop over the validation batches\n",
    "        for images, traversal_costs, _ in val_loader_pbar:\n",
    "\n",
    "            # Print the epoch and validation mode\n",
    "            val_loader_pbar.set_description(f\"Epoch {epoch} [val]\")\n",
    "\n",
    "            # Move images and traversal scores to GPU (if available)\n",
    "            images = images.to(device)\n",
    "            traversal_costs = traversal_costs.type(torch.FloatTensor).to(device)\n",
    "            \n",
    "            # Perform forward pass (only, no backpropagation)\n",
    "            predicted_traversal_costs = model(images)\n",
    "\n",
    "            # Compute loss\n",
    "            loss = criterion(predicted_traversal_costs[:, 0], traversal_costs)\n",
    "\n",
    "            # Print the batch loss next to the progress bar\n",
    "            val_loader_pbar.set_postfix(batch_loss=loss.item())\n",
    "\n",
    "            # Accumulate batch loss to average over the epoch\n",
    "            val_loss += loss.item()\n",
    "            \n",
    "    \n",
    "    # Compute the losses\n",
    "    train_loss /= len(train_loader)\n",
    "    val_loss /= len(val_loader)\n",
    "    \n",
    "    print(\"Train loss: \", train_loss)\n",
    "    print(\"Validation loss: \", val_loss)\n",
    "    \n",
    "    # Store the computed losses\n",
    "    loss_values[0, epoch] = train_loss\n",
    "    loss_values[1, epoch] = val_loss\n",
    "    \n",
    "    # Add the losses to TensorBoard\n",
    "    tensorboard.add_scalar(\"train_loss\", train_loss, epoch)\n",
    "    tensorboard.add_scalar(\"val_loss\", val_loss, epoch)\n",
    "    \n",
    "    # Early stopping based on validation loss: stop the training if the\n",
    "    # loss has not improved for the last 5 epochs\n",
    "    if val_loss < best_val_loss:\n",
    "        best_val_loss = val_loss\n",
    "        best_epoch = epoch\n",
    "    \n",
    "    elif epoch - best_epoch >= patience:\n",
    "        print(f'Early stopping at epoch {epoch}')\n",
    "        break\n",
    "\n",
    "# Close TensorBoard\n",
    "tensorboard.close()"
   ]
  },
  {
   "attachments": {},
   "cell_type": "markdown",
   "metadata": {},
   "source": [
    "### Visualization"
   ]
  },
  {
   "cell_type": "code",
   "execution_count": 57,
   "metadata": {},
   "outputs": [
    {
     "data": {
      "text/plain": [
       "Text(0.5, 0, 'Epoch')"
      ]
     },
     "execution_count": 57,
     "metadata": {},
     "output_type": "execute_result"
    },
    {
     "data": {
      "image/png": "[encoded data removed]",
      "text/plain": [
       "<Figure size 640x480 with 1 Axes>"
      ]
     },
     "metadata": {},
     "output_type": "display_data"
    }
   ],
   "source": [
    "# Loss\n",
    "indices = loss_values[0] != 0\n",
    "train_losses = loss_values[0][indices]\n",
    "val_losses = loss_values[1][indices]\n",
    "\n",
    "plt.plot(train_losses, label=\"train loss\")\n",
    "plt.plot(val_losses, label=\"validation loss\")\n",
    "\n",
    "plt.legend()\n",
    "plt.xlabel(\"Epoch\")"
   ]
  },
  {
   "cell_type": "markdown",
   "metadata": {},
   "source": [
    "## Testing"
   ]
  },
  {
   "cell_type": "code",
   "execution_count": 58,
   "metadata": {},
   "outputs": [
    {
     "name": "stdout",
     "output_type": "stream",
     "text": [
      "Test loss:  0.07602755005300138\n"
     ]
    }
   ],
   "source": [
    "# Testing\n",
    "test_loss = 0.\n",
    "\n",
    "# Configure the model for testing\n",
    "model.eval()\n",
    "\n",
    "with torch.no_grad():\n",
    "    # Loop over the testing batches\n",
    "    for images, traversal_costs, _ in test_loader:\n",
    "        \n",
    "        images = images.to(device)\n",
    "        traversal_costs = traversal_costs.to(device)\n",
    "        \n",
    "        # Perform forward pass\n",
    "        predicted_traversal_costs = model(images)\n",
    "        \n",
    "        # Compute loss\n",
    "        loss = criterion(predicted_traversal_costs[:, 0], traversal_costs)\n",
    "        \n",
    "        # Accumulate batch loss to average of the entire testing set\n",
    "        test_loss += loss.item()\n",
    "        \n",
    "# Compute the loss and accuracy\n",
    "test_loss /= len(test_loader)\n",
    "\n",
    "print(\"Test loss: \", test_loss)"
   ]
  },
  {
   "cell_type": "code",
   "execution_count": 41,
   "metadata": {},
   "outputs": [
    {
     "name": "stdout",
     "output_type": "stream",
     "text": [
      "Output:\n",
      " tensor([[2.0622],\n",
      "        [1.4585],\n",
      "        [1.9043],\n",
      "        [2.1624],\n",
      "        [1.9757],\n",
      "        [2.0722],\n",
      "        [1.9546],\n",
      "        [1.9779],\n",
      "        [1.9246],\n",
      "        [1.9387],\n",
      "        [1.9201],\n",
      "        [1.6849],\n",
      "        [1.8691],\n",
      "        [2.0227],\n",
      "        [1.7642],\n",
      "        [1.9321],\n",
      "        [1.6783],\n",
      "        [2.1785],\n",
      "        [2.1655],\n",
      "        [1.3817],\n",
      "        [1.9115],\n",
      "        [1.6339],\n",
      "        [1.7190],\n",
      "        [1.8927],\n",
      "        [1.9418],\n",
      "        [1.6963]], device='cuda:0')\n",
      "Ground truth:\n",
      " tensor([1.4431, 1.8142, 1.4213, 1.8988, 1.6864, 1.0896, 1.3164, 1.1830, 1.9168,\n",
      "        1.0740, 1.7578, 1.9497, 1.1054, 1.4927, 2.1730, 1.6349, 1.9143, 1.6020,\n",
      "        1.8331, 2.0072, 1.7344, 1.1041, 1.8847, 1.4045, 0.9980, 2.2835, 1.8514,\n",
      "        1.1247, 2.0487, 1.2955, 1.9082, 1.9524], device='cuda:0',\n",
      "       dtype=torch.float64)\n"
     ]
    }
   ],
   "source": [
    "images, traversal_costs, _ = next(iter(test_loader))\n",
    "\n",
    "images = images.to(device)\n",
    "traversal_costs = traversal_costs.to(device)\n",
    "\n",
    "predicted_traversal_scores = model(images)\n",
    "# predicted_traversal_scores = nn.Softmax(dim=1)(model(images))\n",
    "\n",
    "print(\"Output:\\n\", predicted_traversal_costs)\n",
    "print(\"Ground truth:\\n\", traversal_costs)\n",
    "\n",
    "# print(predicted_traversal_scores-traversal_scores)\n",
    "\n",
    "# predicted_traversal_scores = predicted_traversal_scores.to(\"cpu\").detach().numpy()\n",
    "# plt.hist(predicted_traversal_scores)\n"
   ]
  },
  {
   "cell_type": "code",
   "execution_count": 74,
   "metadata": {},
   "outputs": [
    {
     "data": {
      "text/plain": [
       "(array([  58.,  323.,  565.,  727.,  665.,  921., 1330., 1083.,  458.,\n",
       "         109.]),\n",
       " array([0. , 0.9, 1.8, 2.7, 3.6, 4.5, 5.4, 6.3, 7.2, 8.1, 9. ]),\n",
       " <a list of 10 Patch objects>)"
      ]
     },
     "execution_count": 74,
     "metadata": {},
     "output_type": "execute_result"
    },
    {
     "data": {
      "image/png": "[encoded data removed]",
      "text/plain": [
       "<Figure size 640x480 with 1 Axes>"
      ]
     },
     "metadata": {},
     "output_type": "display_data"
    }
   ],
   "source": [
    "traversal_costs_train = []\n",
    "\n",
    "for _, score in train_set:\n",
    "    traversal_costs_train.append(score)\n",
    "    \n",
    "# print(traversal_scores_train)\n",
    "plt.hist(traversal_costs_train, bins=10)"
   ]
  },
  {
   "attachments": {},
   "cell_type": "markdown",
   "metadata": {},
   "source": [
    "## Save model parameters"
   ]
  },
  {
   "cell_type": "code",
   "execution_count": null,
   "metadata": {},
   "outputs": [],
   "source": [
    "# Save the model parameters\n",
    "torch.save(model.state_dict(), \"resnet18_fine_tuned_3+8bags_3var3sc_classification_kmeans_100epochs.params\")"
   ]
  }
 ],
 "metadata": {
  "kernelspec": {
   "display_name": "Python 3",
   "language": "python",
   "name": "python3"
  },
  "language_info": {
   "codemirror_mode": {
    "name": "ipython",
    "version": 3
   },
   "file_extension": ".py",
   "mimetype": "text/x-python",
   "name": "python",
   "nbconvert_exporter": "python",
   "pygments_lexer": "ipython3",
   "version": "3.8.10"
  },
  "orig_nbformat": 4,
  "vscode": {
   "interpreter": {
    "hash": "916dbcbb3f70747c44a77c7bcd40155683ae19c65e1c03b4aa3499c5328201f1"
   }
  }
 },
 "nbformat": 4,
 "nbformat_minor": 2
}
