{
 "cells": [
  {
   "cell_type": "code",
   "execution_count": 1,
   "metadata": {},
   "outputs": [],
   "source": [
    "# Import libraries\n",
    "import torch\n",
    "import torch.nn as nn\n",
    "from torch import optim\n",
    "import torchvision.models as models\n",
    "from torchvision import transforms\n",
    "from torch.utils.data import DataLoader, Dataset, random_split, Subset\n",
    "import torch.nn.functional as F\n",
    "\n",
    "# A module to print a model summary (outputs shape, number of parameters, ...)\n",
    "import torchsummary\n",
    "\n",
    "# TensorBoard for visualization\n",
    "from torch.utils.tensorboard import SummaryWriter\n",
    "\n",
    "from tqdm import tqdm\n",
    "\n",
    "import pandas as pd\n",
    "import numpy as np\n",
    "import os\n",
    "import matplotlib.pyplot as plt\n",
    "plt.rcParams.update({\n",
    "    \"pgf.texsystem\": \"pdflatex\",\n",
    "    'font.family': 'serif',\n",
    "    'text.usetex': True,\n",
    "    'pgf.rcfonts': False,\n",
    "})\n",
    "\n",
    "from PIL import Image\n",
    "from sklearn.model_selection import train_test_split\n",
    "import time\n",
    "import random\n",
    "from datetime import datetime\n",
    "import cv2\n",
    "\n",
    "# Custom modules and packages\n",
    "import params.learning\n",
    "import uncertainty.functions\n",
    "import uncertainty.evaluation\n",
    "from utils import compute_mean_std\n",
    "from dataset import TraversabilityDataset\n",
    "from model import ResNet18Velocity\n",
    "from train import train\n",
    "from validate import validate\n",
    "from test import test, test_models\n",
    "from result import parameters_table, generate_log\n",
    "from custom_transforms import Cutout, Shadowcasting"
   ]
  },
  {
   "attachments": {},
   "cell_type": "markdown",
   "metadata": {},
   "source": [
    "## Load learning parameters"
   ]
  },
  {
   "cell_type": "code",
   "execution_count": 2,
   "metadata": {},
   "outputs": [],
   "source": [
    "LEARNING_PARAMS = params.learning.LEARNING"
   ]
  },
  {
   "attachments": {},
   "cell_type": "markdown",
   "metadata": {},
   "source": [
    "## Prepare data"
   ]
  },
  {
   "attachments": {},
   "cell_type": "markdown",
   "metadata": {},
   "source": [
    "#### Compute the mean and the standard deviation of the images set"
   ]
  },
  {
   "cell_type": "code",
   "execution_count": 3,
   "metadata": {},
   "outputs": [
    {
     "name": "stdout",
     "output_type": "stream",
     "text": [
      "{'rbg': {'mean': tensor([0.4710, 0.5030, 0.4580]), 'std': tensor([0.1965, 0.1859, 0.1955])}, 'depth': {'mean': tensor([0.0855]), 'std': tensor([0.0684])}, 'normal': {'mean': tensor([0.4981, 0.5832, 0.8387]), 'std': tensor([0.1720, 0.1991, 0.1468])}}\n"
     ]
    }
   ],
   "source": [
    "# Load pre-computed mean and std\n",
    "NORMALIZE_PARAMS = params.learning.NORMALIZE_PARAMS\n",
    "\n",
    "normalize_params_recompute = False\n",
    "\n",
    "if normalize_params_recompute:\n",
    "    mean, std = compute_mean_std(\"images_train\", \"traversal_costs_train.csv\")\n",
    "    NORMALIZE_PARAMS = {\"rbg\": {\"mean\": mean[:3],\n",
    "                                \"std\": std[:3]},\n",
    "                        \"depth\": {\"mean\": mean[3],\n",
    "                                  \"std\": std[3]},\n",
    "                        \"normal\": {\"mean\": mean[4:],\n",
    "                                   \"std\": std[4:]}}\n",
    "\n",
    "print(NORMALIZE_PARAMS)"
   ]
  },
  {
   "cell_type": "code",
   "execution_count": 4,
   "metadata": {},
   "outputs": [],
   "source": [
    "# Compose several transforms together to be applied to training data\n",
    "# (Note that transforms are not applied yet)\n",
    "train_transform = transforms.Compose([\n",
    "    # Reduce the size of the images\n",
    "    # (if size is an int, the smaller edge of the\n",
    "    # image will be matched to this number and the ration is kept)\n",
    "    # transforms.Resize(100),\n",
    "    transforms.Resize(params.learning.IMAGE_SHAPE, antialias=True),\n",
    "    \n",
    "    # Perform horizontal flip of the image with a probability of 0.5\n",
    "    # transforms.RandomHorizontalFlip(p=0.5),\n",
    "    \n",
    "    # Modify the brightness and the contrast of the image\n",
    "    transforms.ColorJitter(**params.learning.JITTER_PARAMS),\n",
    "\n",
    "    # Randomly adds a black patch to the image\n",
    "    Cutout(0.5),\n",
    "    \n",
    "    # Randomly cast a shadow on the image\n",
    "    Shadowcasting(0.5),\n",
    "\n",
    "    # Convert a PIL Image or numpy.ndarray to tensor\n",
    "    transforms.ToTensor(),\n",
    "    \n",
    "    # Add some random gaussian noise to the image\n",
    "    transforms.Lambda(lambda x: x + (0.001**0.5)*torch.randn(x.shape)),\n",
    "    \n",
    "    # Normalize a tensor image with pre-computed mean and standard deviation\n",
    "    # (based on the data used to train the model(s))\n",
    "    # (be careful, it only works on torch.*Tensor)\n",
    "    transforms.Normalize(\n",
    "        mean=NORMALIZE_PARAMS[\"rbg\"][\"mean\"],\n",
    "        std=NORMALIZE_PARAMS[\"rbg\"][\"std\"]\n",
    "    ),\n",
    "])\n",
    "\n",
    "# Define a different set of transforms testing\n",
    "# (for instance we do not need to flip the image)\n",
    "test_transform = transforms.Compose([\n",
    "    # transforms.Resize(100),\n",
    "    transforms.Resize(params.learning.IMAGE_SHAPE, antialias=True),\n",
    "    # transforms.Grayscale(),\n",
    "    # transforms.CenterCrop(100),\n",
    "    # transforms.RandomCrop(100),\n",
    "    transforms.ToTensor(),\n",
    "    \n",
    "    # Mean and standard deviation were pre-computed on the training data\n",
    "    # (on the ImageNet dataset)\n",
    "    transforms.Normalize(\n",
    "        mean=NORMALIZE_PARAMS[\"rbg\"][\"mean\"],\n",
    "        std=NORMALIZE_PARAMS[\"rbg\"][\"std\"]\n",
    "    ),\n",
    "])\n",
    "\n",
    "transform_depth = transforms.Compose([\n",
    "        # Convert a PIL Image or numpy.ndarray to tensor\n",
    "        transforms.ToTensor(),\n",
    "        \n",
    "        # Reduce the size of the images\n",
    "        # (if size is an int, the smaller edge of the\n",
    "        # image will be matched to this number and the ration is kept)\n",
    "        transforms.Resize(params.learning.IMAGE_SHAPE, antialias=True),\n",
    "        \n",
    "        # Normalize a tensor image with pre-computed mean and standard deviation\n",
    "        # (based on the data used to train the model(s))\n",
    "        # (be careful, it only works on torch.*Tensor)\n",
    "        transforms.Normalize(\n",
    "            mean=NORMALIZE_PARAMS[\"depth\"][\"mean\"],\n",
    "            std=NORMALIZE_PARAMS[\"depth\"][\"std\"]\n",
    "        ),\n",
    "])\n",
    "\n",
    "transform_normal = transforms.Compose([\n",
    "        # Convert a PIL Image or numpy.ndarray to tensor\n",
    "        transforms.ToTensor(),\n",
    "        \n",
    "        # Reduce the size of the images\n",
    "        # (if size is an int, the smaller edge of the\n",
    "        # image will be matched to this number and the ration is kept)\n",
    "        transforms.Resize(params.learning.IMAGE_SHAPE, antialias=True),\n",
    "        \n",
    "        # Normalize a tensor image with pre-computed mean and standard deviation\n",
    "        # (based on the data used to train the model(s))\n",
    "        # (be careful, it only works on torch.*Tensor)\n",
    "        transforms.Normalize(\n",
    "            mean=NORMALIZE_PARAMS[\"normal\"][\"mean\"],\n",
    "            std=NORMALIZE_PARAMS[\"normal\"][\"std\"]\n",
    "        ),\n",
    "])\n",
    "\n",
    "\n",
    "# Create a Dataset for training\n",
    "train_set = TraversabilityDataset(\n",
    "    traversal_costs_file=params.learning.DATASET+\"traversal_costs_train.csv\",\n",
    "    images_directory=params.learning.DATASET+\"images_train\",\n",
    "    transform_image=train_transform,\n",
    "    transform_depth=transform_depth,\n",
    "    transform_normal=transform_normal\n",
    ")\n",
    "\n",
    "# Create a Dataset for validation\n",
    "val_set = TraversabilityDataset(\n",
    "    traversal_costs_file=params.learning.DATASET+\"traversal_costs_train.csv\",\n",
    "    images_directory=params.learning.DATASET+\"images_train\",\n",
    "    transform_image=test_transform,\n",
    "    transform_depth=transform_depth,\n",
    "    transform_normal=transform_normal\n",
    ")\n",
    "\n",
    "# Create a Dataset for testin\n",
    "test_set = TraversabilityDataset(\n",
    "    traversal_costs_file=params.learning.DATASET+\"traversal_costs_test.csv\",\n",
    "    images_directory=params.learning.DATASET+\"images_test\",\n",
    "    transform_image=test_transform,\n",
    "    transform_depth=transform_depth,\n",
    "    transform_normal=transform_normal\n",
    ")\n",
    "\n",
    "# Set the train dataset size\n",
    "train_size = params.learning.TRAIN_SIZE/(1-params.learning.TEST_SIZE)\n",
    "\n",
    "# Splits train data indices into train and validation data indices\n",
    "train_indices, val_indices = train_test_split(range(len(train_set)),\n",
    "                                              train_size=train_size)\n",
    "\n",
    "# Extract the corresponding subsets of the train dataset\n",
    "train_set = Subset(train_set, train_indices)\n",
    "val_set = Subset(val_set, val_indices)\n",
    "\n",
    "\n",
    "# Combine a dataset and a sampler, and provide an iterable over the dataset\n",
    "# (setting shuffle argument to True calls a RandomSampler, and avoids to\n",
    "# have to create a Sampler object)\n",
    "train_loader = DataLoader(\n",
    "    train_set,\n",
    "    batch_size=LEARNING_PARAMS[\"batch_size\"],\n",
    "    shuffle=True,\n",
    "    num_workers=12,  # Asynchronous data loading and augmentation\n",
    "    pin_memory=True,  # Increase the transferring speed of the data to the GPU\n",
    ")\n",
    "\n",
    "val_loader = DataLoader(\n",
    "    val_set,\n",
    "    batch_size=LEARNING_PARAMS[\"batch_size\"],\n",
    "    shuffle=True,\n",
    "    num_workers=12,\n",
    "    pin_memory=True,\n",
    ")\n",
    "\n",
    "test_loader = DataLoader(\n",
    "    test_set,\n",
    "    batch_size=LEARNING_PARAMS[\"batch_size\"],\n",
    "    shuffle=False,  # SequentialSampler\n",
    "    num_workers=12,\n",
    "    pin_memory=True,\n",
    ")"
   ]
  },
  {
   "cell_type": "code",
   "execution_count": 5,
   "metadata": {},
   "outputs": [],
   "source": [
    "# Get the number of samples per split\n",
    "NB_TRAIN = len(train_set)\n",
    "NB_VAL = len(val_set)\n",
    "NB_TEST = len(test_set)"
   ]
  },
  {
   "cell_type": "code",
   "execution_count": 6,
   "metadata": {},
   "outputs": [
    {
     "name": "stdout",
     "output_type": "stream",
     "text": [
      "70.0 % of the data for training (9079 samples)\n",
      "15.0 % of the data for validation (1946 samples)\n",
      "15.0 % of the data for testing (1946 samples)\n"
     ]
    }
   ],
   "source": [
    "# Display the splits ratio\n",
    "NB_SAMPLES = NB_TRAIN + NB_VAL + NB_TEST\n",
    "\n",
    "print(f\"{np.round(NB_TRAIN/NB_SAMPLES*100)} % of the data for training ({NB_TRAIN} samples)\")\n",
    "print(f\"{np.round(NB_VAL/NB_SAMPLES*100)} % of the data for validation ({NB_VAL} samples)\")\n",
    "print(f\"{np.round(NB_TEST/NB_SAMPLES*100)} % of the data for testing ({NB_TEST} samples)\")"
   ]
  },
  {
   "attachments": {},
   "cell_type": "markdown",
   "metadata": {},
   "source": [
    "## GPU?"
   ]
  },
  {
   "cell_type": "code",
   "execution_count": 7,
   "metadata": {},
   "outputs": [
    {
     "name": "stdout",
     "output_type": "stream",
     "text": [
      "Device: cuda\n",
      "\n"
     ]
    }
   ],
   "source": [
    "# Use a GPU if available\n",
    "# device = \"cpu\"\n",
    "device = \"cuda\" if torch.cuda.is_available() else \"cpu\"\n",
    "print(f\"Device: {device}\\n\")"
   ]
  },
  {
   "attachments": {},
   "cell_type": "markdown",
   "metadata": {},
   "source": [
    "## Training and validation"
   ]
  },
  {
   "cell_type": "code",
   "execution_count": 8,
   "metadata": {},
   "outputs": [],
   "source": [
    "# Create a model\n",
    "model = ResNet18Velocity(**params.learning.NET_PARAMS).to(device=device)"
   ]
  },
  {
   "cell_type": "code",
   "execution_count": 9,
   "metadata": {},
   "outputs": [
    {
     "name": "stdout",
     "output_type": "stream",
     "text": [
      "torch.Size([32, 10])\n"
     ]
    }
   ],
   "source": [
    "# Create dummy tensors\n",
    "images = torch.randn(32,\n",
    "                     params.learning.NET_PARAMS[\"nb_input_channels\"],\n",
    "                     params.learning.IMAGE_SHAPE[0],\n",
    "                     params.learning.IMAGE_SHAPE[1]).to(device=device)  # (batch, channels, height, width)\n",
    "data = torch.randn(32, 1).to(device=device)  # (batch, features)\n",
    "\n",
    "print(model(images, data).shape)"
   ]
  },
  {
   "attachments": {},
   "cell_type": "markdown",
   "metadata": {},
   "source": [
    "#### Visualize the model"
   ]
  },
  {
   "cell_type": "code",
   "execution_count": 10,
   "metadata": {},
   "outputs": [
    {
     "name": "stdout",
     "output_type": "stream",
     "text": [
      "ResNet18Velocity(\n",
      "  (resnet18): ResNet(\n",
      "    (conv1): Conv2d(7, 64, kernel_size=(7, 7), stride=(2, 2), padding=(3, 3), bias=False)\n",
      "    (bn1): BatchNorm2d(64, eps=1e-05, momentum=0.1, affine=True, track_running_stats=True)\n",
      "    (relu): ReLU(inplace=True)\n",
      "    (maxpool): MaxPool2d(kernel_size=3, stride=2, padding=1, dilation=1, ceil_mode=False)\n",
      "    (layer1): Sequential(\n",
      "      (0): BasicBlock(\n",
      "        (conv1): Conv2d(64, 64, kernel_size=(3, 3), stride=(1, 1), padding=(1, 1), bias=False)\n",
      "        (bn1): BatchNorm2d(64, eps=1e-05, momentum=0.1, affine=True, track_running_stats=True)\n",
      "        (relu): ReLU(inplace=True)\n",
      "        (conv2): Conv2d(64, 64, kernel_size=(3, 3), stride=(1, 1), padding=(1, 1), bias=False)\n",
      "        (bn2): BatchNorm2d(64, eps=1e-05, momentum=0.1, affine=True, track_running_stats=True)\n",
      "      )\n",
      "      (1): BasicBlock(\n",
      "        (conv1): Conv2d(64, 64, kernel_size=(3, 3), stride=(1, 1), padding=(1, 1), bias=False)\n",
      "        (bn1): BatchNorm2d(64, eps=1e-05, momentum=0.1, affine=True, track_running_stats=True)\n",
      "        (relu): ReLU(inplace=True)\n",
      "        (conv2): Conv2d(64, 64, kernel_size=(3, 3), stride=(1, 1), padding=(1, 1), bias=False)\n",
      "        (bn2): BatchNorm2d(64, eps=1e-05, momentum=0.1, affine=True, track_running_stats=True)\n",
      "      )\n",
      "    )\n",
      "    (layer2): Sequential(\n",
      "      (0): BasicBlock(\n",
      "        (conv1): Conv2d(64, 128, kernel_size=(3, 3), stride=(2, 2), padding=(1, 1), bias=False)\n",
      "        (bn1): BatchNorm2d(128, eps=1e-05, momentum=0.1, affine=True, track_running_stats=True)\n",
      "        (relu): ReLU(inplace=True)\n",
      "        (conv2): Conv2d(128, 128, kernel_size=(3, 3), stride=(1, 1), padding=(1, 1), bias=False)\n",
      "        (bn2): BatchNorm2d(128, eps=1e-05, momentum=0.1, affine=True, track_running_stats=True)\n",
      "        (downsample): Sequential(\n",
      "          (0): Conv2d(64, 128, kernel_size=(1, 1), stride=(2, 2), bias=False)\n",
      "          (1): BatchNorm2d(128, eps=1e-05, momentum=0.1, affine=True, track_running_stats=True)\n",
      "        )\n",
      "      )\n",
      "      (1): BasicBlock(\n",
      "        (conv1): Conv2d(128, 128, kernel_size=(3, 3), stride=(1, 1), padding=(1, 1), bias=False)\n",
      "        (bn1): BatchNorm2d(128, eps=1e-05, momentum=0.1, affine=True, track_running_stats=True)\n",
      "        (relu): ReLU(inplace=True)\n",
      "        (conv2): Conv2d(128, 128, kernel_size=(3, 3), stride=(1, 1), padding=(1, 1), bias=False)\n",
      "        (bn2): BatchNorm2d(128, eps=1e-05, momentum=0.1, affine=True, track_running_stats=True)\n",
      "      )\n",
      "    )\n",
      "    (layer3): Sequential(\n",
      "      (0): BasicBlock(\n",
      "        (conv1): Conv2d(128, 256, kernel_size=(3, 3), stride=(2, 2), padding=(1, 1), bias=False)\n",
      "        (bn1): BatchNorm2d(256, eps=1e-05, momentum=0.1, affine=True, track_running_stats=True)\n",
      "        (relu): ReLU(inplace=True)\n",
      "        (conv2): Conv2d(256, 256, kernel_size=(3, 3), stride=(1, 1), padding=(1, 1), bias=False)\n",
      "        (bn2): BatchNorm2d(256, eps=1e-05, momentum=0.1, affine=True, track_running_stats=True)\n",
      "        (downsample): Sequential(\n",
      "          (0): Conv2d(128, 256, kernel_size=(1, 1), stride=(2, 2), bias=False)\n",
      "          (1): BatchNorm2d(256, eps=1e-05, momentum=0.1, affine=True, track_running_stats=True)\n",
      "        )\n",
      "      )\n",
      "      (1): BasicBlock(\n",
      "        (conv1): Conv2d(256, 256, kernel_size=(3, 3), stride=(1, 1), padding=(1, 1), bias=False)\n",
      "        (bn1): BatchNorm2d(256, eps=1e-05, momentum=0.1, affine=True, track_running_stats=True)\n",
      "        (relu): ReLU(inplace=True)\n",
      "        (conv2): Conv2d(256, 256, kernel_size=(3, 3), stride=(1, 1), padding=(1, 1), bias=False)\n",
      "        (bn2): BatchNorm2d(256, eps=1e-05, momentum=0.1, affine=True, track_running_stats=True)\n",
      "      )\n",
      "    )\n",
      "    (layer4): Sequential(\n",
      "      (0): BasicBlock(\n",
      "        (conv1): Conv2d(256, 512, kernel_size=(3, 3), stride=(2, 2), padding=(1, 1), bias=False)\n",
      "        (bn1): BatchNorm2d(512, eps=1e-05, momentum=0.1, affine=True, track_running_stats=True)\n",
      "        (relu): ReLU(inplace=True)\n",
      "        (conv2): Conv2d(512, 512, kernel_size=(3, 3), stride=(1, 1), padding=(1, 1), bias=False)\n",
      "        (bn2): BatchNorm2d(512, eps=1e-05, momentum=0.1, affine=True, track_running_stats=True)\n",
      "        (downsample): Sequential(\n",
      "          (0): Conv2d(256, 512, kernel_size=(1, 1), stride=(2, 2), bias=False)\n",
      "          (1): BatchNorm2d(512, eps=1e-05, momentum=0.1, affine=True, track_running_stats=True)\n",
      "        )\n",
      "      )\n",
      "      (1): BasicBlock(\n",
      "        (conv1): Conv2d(512, 512, kernel_size=(3, 3), stride=(1, 1), padding=(1, 1), bias=False)\n",
      "        (bn1): BatchNorm2d(512, eps=1e-05, momentum=0.1, affine=True, track_running_stats=True)\n",
      "        (relu): ReLU(inplace=True)\n",
      "        (conv2): Conv2d(512, 512, kernel_size=(3, 3), stride=(1, 1), padding=(1, 1), bias=False)\n",
      "        (bn2): BatchNorm2d(512, eps=1e-05, momentum=0.1, affine=True, track_running_stats=True)\n",
      "      )\n",
      "    )\n",
      "    (avgpool): AdaptiveAvgPool2d(output_size=(1, 1))\n",
      "    (fc): Linear(in_features=513, out_features=256, bias=True)\n",
      "  )\n",
      "  (fc): Linear(in_features=256, out_features=10, bias=True)\n",
      ")\n"
     ]
    }
   ],
   "source": [
    "# Open TensorBoard\n",
    "# tensorboard = SummaryWriter()\n",
    "\n",
    "# Display the architecture in TensorBoard\n",
    "# images, traversal_costs, traversability_labels, linear_velocities = next(iter(train_loader))\n",
    "# images = images.to(device)\n",
    "# linear_velocities = linear_velocities.type(torch.float32).to(device)\n",
    "\n",
    "# Add a dimension to the linear velocities tensor\n",
    "# linear_velocities.unsqueeze_(1)\n",
    "\n",
    "# tensorboard.add_graph(model, (images, linear_velocities))\n",
    "\n",
    "print(model)\n",
    "# print(torchsummary.summary(model, (3, 100, 100)))\n",
    "# print([(name, param.shape) for name, param in model.named_parameters()])\n",
    "# print(model.fc.state_dict())"
   ]
  },
  {
   "cell_type": "code",
   "execution_count": 11,
   "metadata": {},
   "outputs": [
    {
     "data": {
      "application/vnd.jupyter.widget-view+json": {
       "model_id": "47757c66bd6d440d8cacf0e5e28dd368",
       "version_major": 2,
       "version_minor": 0
      },
      "text/plain": [
       "  0%|          | 0/284 [00:00<?, ?batch/s]"
      ]
     },
     "metadata": {},
     "output_type": "display_data"
    },
    {
     "data": {
      "application/vnd.jupyter.widget-view+json": {
       "model_id": "fe748ee1e47f4a6ba80bcce4732511b4",
       "version_major": 2,
       "version_minor": 0
      },
      "text/plain": [
       "  0%|          | 0/61 [00:00<?, ?batch/s]"
      ]
     },
     "metadata": {},
     "output_type": "display_data"
    },
    {
     "name": "stdout",
     "output_type": "stream",
     "text": [
      "Train accuracy:  20.66306861989206\n",
      "Validation accuracy:  24.922918807810895\n",
      "Train regression loss:  4.30839186843852\n",
      "Validation regression loss:  1.7188421722318306\n"
     ]
    },
    {
     "data": {
      "application/vnd.jupyter.widget-view+json": {
       "model_id": "ded70d96b6cf4941afcf383656a73078",
       "version_major": 2,
       "version_minor": 0
      },
      "text/plain": [
       "  0%|          | 0/284 [00:00<?, ?batch/s]"
      ]
     },
     "metadata": {},
     "output_type": "display_data"
    },
    {
     "data": {
      "application/vnd.jupyter.widget-view+json": {
       "model_id": "66ef058d359940a28b97c3b737174eb7",
       "version_major": 2,
       "version_minor": 0
      },
      "text/plain": [
       "  0%|          | 0/61 [00:00<?, ?batch/s]"
      ]
     },
     "metadata": {},
     "output_type": "display_data"
    },
    {
     "name": "stdout",
     "output_type": "stream",
     "text": [
      "Train accuracy:  25.78477805925763\n",
      "Validation accuracy:  25.847893114080165\n",
      "Train regression loss:  1.2713888833220577\n",
      "Validation regression loss:  1.1889397247892912\n"
     ]
    },
    {
     "data": {
      "application/vnd.jupyter.widget-view+json": {
       "model_id": "adcaf4396445484c8f0cb5583d58c9eb",
       "version_major": 2,
       "version_minor": 0
      },
      "text/plain": [
       "  0%|          | 0/284 [00:00<?, ?batch/s]"
      ]
     },
     "metadata": {},
     "output_type": "display_data"
    },
    {
     "data": {
      "application/vnd.jupyter.widget-view+json": {
       "model_id": "1d251b2171b8451585f009e28e0c2616",
       "version_major": 2,
       "version_minor": 0
      },
      "text/plain": [
       "  0%|          | 0/61 [00:00<?, ?batch/s]"
      ]
     },
     "metadata": {},
     "output_type": "display_data"
    },
    {
     "name": "stdout",
     "output_type": "stream",
     "text": [
      "Train accuracy:  27.690274259279658\n",
      "Validation accuracy:  28.776978417266186\n",
      "Train regression loss:  1.0781209959950246\n",
      "Validation regression loss:  1.078558690235263\n"
     ]
    },
    {
     "data": {
      "application/vnd.jupyter.widget-view+json": {
       "model_id": "0235d1ed1e8546949617d624f7659a83",
       "version_major": 2,
       "version_minor": 0
      },
      "text/plain": [
       "  0%|          | 0/284 [00:00<?, ?batch/s]"
      ]
     },
     "metadata": {},
     "output_type": "display_data"
    },
    {
     "data": {
      "application/vnd.jupyter.widget-view+json": {
       "model_id": "0b47f2116bdb43a99272984619f4dae1",
       "version_major": 2,
       "version_minor": 0
      },
      "text/plain": [
       "  0%|          | 0/61 [00:00<?, ?batch/s]"
      ]
     },
     "metadata": {},
     "output_type": "display_data"
    },
    {
     "name": "stdout",
     "output_type": "stream",
     "text": [
      "Train accuracy:  28.49432756911554\n",
      "Validation accuracy:  29.393627954779035\n",
      "Train regression loss:  1.0124351673982512\n",
      "Validation regression loss:  1.0168296899951872\n"
     ]
    },
    {
     "data": {
      "application/vnd.jupyter.widget-view+json": {
       "model_id": "d4e916fab02b4e899d6c2e75c75d1a36",
       "version_major": 2,
       "version_minor": 0
      },
      "text/plain": [
       "  0%|          | 0/284 [00:00<?, ?batch/s]"
      ]
     },
     "metadata": {},
     "output_type": "display_data"
    },
    {
     "data": {
      "application/vnd.jupyter.widget-view+json": {
       "model_id": "4f9bfd94ec2245159752c1c221365fe7",
       "version_major": 2,
       "version_minor": 0
      },
      "text/plain": [
       "  0%|          | 0/61 [00:00<?, ?batch/s]"
      ]
     },
     "metadata": {},
     "output_type": "display_data"
    },
    {
     "name": "stdout",
     "output_type": "stream",
     "text": [
      "Train accuracy:  29.63982817490913\n",
      "Validation accuracy:  28.365878725590957\n",
      "Train regression loss:  0.9662727515252543\n",
      "Validation regression loss:  0.9680447368348231\n"
     ]
    },
    {
     "data": {
      "application/vnd.jupyter.widget-view+json": {
       "model_id": "eb7658de285e45bdad972bec698e9d1e",
       "version_major": 2,
       "version_minor": 0
      },
      "text/plain": [
       "  0%|          | 0/284 [00:00<?, ?batch/s]"
      ]
     },
     "metadata": {},
     "output_type": "display_data"
    },
    {
     "data": {
      "application/vnd.jupyter.widget-view+json": {
       "model_id": "00db1490a3fc4b139bf013f057d6dacd",
       "version_major": 2,
       "version_minor": 0
      },
      "text/plain": [
       "  0%|          | 0/61 [00:00<?, ?batch/s]"
      ]
     },
     "metadata": {},
     "output_type": "display_data"
    },
    {
     "name": "stdout",
     "output_type": "stream",
     "text": [
      "Train accuracy:  29.55171274369424\n",
      "Validation accuracy:  29.18807810894142\n",
      "Train regression loss:  0.932942099974189\n",
      "Validation regression loss:  0.937987675432299\n"
     ]
    },
    {
     "data": {
      "application/vnd.jupyter.widget-view+json": {
       "model_id": "855806f983984b03b121a10d3523efd0",
       "version_major": 2,
       "version_minor": 0
      },
      "text/plain": [
       "  0%|          | 0/284 [00:00<?, ?batch/s]"
      ]
     },
     "metadata": {},
     "output_type": "display_data"
    },
    {
     "data": {
      "application/vnd.jupyter.widget-view+json": {
       "model_id": "1c2a29fac9f94a1c98d43038dab91591",
       "version_major": 2,
       "version_minor": 0
      },
      "text/plain": [
       "  0%|          | 0/61 [00:00<?, ?batch/s]"
      ]
     },
     "metadata": {},
     "output_type": "display_data"
    },
    {
     "name": "stdout",
     "output_type": "stream",
     "text": [
      "Train accuracy:  29.298380878951427\n",
      "Validation accuracy:  30.318602261048305\n",
      "Train regression loss:  0.9138322260598062\n",
      "Validation regression loss:  0.9264096490672378\n"
     ]
    },
    {
     "data": {
      "application/vnd.jupyter.widget-view+json": {
       "model_id": "eb7080f2a47d4bd8b32db1603d453f8f",
       "version_major": 2,
       "version_minor": 0
      },
      "text/plain": [
       "  0%|          | 0/284 [00:00<?, ?batch/s]"
      ]
     },
     "metadata": {},
     "output_type": "display_data"
    },
    {
     "data": {
      "application/vnd.jupyter.widget-view+json": {
       "model_id": "56f4789aafe6461d94a17aff98552d1e",
       "version_major": 2,
       "version_minor": 0
      },
      "text/plain": [
       "  0%|          | 0/61 [00:00<?, ?batch/s]"
      ]
     },
     "metadata": {},
     "output_type": "display_data"
    },
    {
     "name": "stdout",
     "output_type": "stream",
     "text": [
      "Train accuracy:  29.78301575063333\n",
      "Validation accuracy:  28.520041109969167\n",
      "Train regression loss:  0.9029198647804664\n",
      "Validation regression loss:  0.9125356048834129\n"
     ]
    },
    {
     "data": {
      "application/vnd.jupyter.widget-view+json": {
       "model_id": "9494b5459216405196b28268b1501c27",
       "version_major": 2,
       "version_minor": 0
      },
      "text/plain": [
       "  0%|          | 0/284 [00:00<?, ?batch/s]"
      ]
     },
     "metadata": {},
     "output_type": "display_data"
    },
    {
     "data": {
      "application/vnd.jupyter.widget-view+json": {
       "model_id": "0b58d4a2a1b4446ca6828921b5f95092",
       "version_major": 2,
       "version_minor": 0
      },
      "text/plain": [
       "  0%|          | 0/61 [00:00<?, ?batch/s]"
      ]
     },
     "metadata": {},
     "output_type": "display_data"
    },
    {
     "name": "stdout",
     "output_type": "stream",
     "text": [
      "Train accuracy:  29.056063443110475\n",
      "Validation accuracy:  29.23946557040082\n",
      "Train regression loss:  0.8961168549640078\n",
      "Validation regression loss:  0.9135369106394345\n"
     ]
    },
    {
     "data": {
      "application/vnd.jupyter.widget-view+json": {
       "model_id": "8e73d39997ff41efaa41b4ecf38107e7",
       "version_major": 2,
       "version_minor": 0
      },
      "text/plain": [
       "  0%|          | 0/284 [00:00<?, ?batch/s]"
      ]
     },
     "metadata": {},
     "output_type": "display_data"
    },
    {
     "data": {
      "application/vnd.jupyter.widget-view+json": {
       "model_id": "e6e14a23722143c78a403efbc8daa8c2",
       "version_major": 2,
       "version_minor": 0
      },
      "text/plain": [
       "  0%|          | 0/61 [00:00<?, ?batch/s]"
      ]
     },
     "metadata": {},
     "output_type": "display_data"
    },
    {
     "name": "stdout",
     "output_type": "stream",
     "text": [
      "Train accuracy:  30.48793920035246\n",
      "Validation accuracy:  30.215827338129497\n",
      "Train regression loss:  0.8814113854732312\n",
      "Validation regression loss:  0.9028791868295826\n"
     ]
    },
    {
     "data": {
      "application/vnd.jupyter.widget-view+json": {
       "model_id": "4ffe725ab44f4754b758f236d7d7bb46",
       "version_major": 2,
       "version_minor": 0
      },
      "text/plain": [
       "  0%|          | 0/284 [00:00<?, ?batch/s]"
      ]
     },
     "metadata": {},
     "output_type": "display_data"
    },
    {
     "data": {
      "application/vnd.jupyter.widget-view+json": {
       "model_id": "026174a53e3f4c0eb7652ce2c74e04fd",
       "version_major": 2,
       "version_minor": 0
      },
      "text/plain": [
       "  0%|          | 0/61 [00:00<?, ?batch/s]"
      ]
     },
     "metadata": {},
     "output_type": "display_data"
    },
    {
     "name": "stdout",
     "output_type": "stream",
     "text": [
      "Train accuracy:  30.48793920035246\n",
      "Validation accuracy:  30.472764645426516\n",
      "Train regression loss:  0.874222021602409\n",
      "Validation regression loss:  0.8954993530375058\n"
     ]
    },
    {
     "data": {
      "application/vnd.jupyter.widget-view+json": {
       "model_id": "ed9a91d6e78a45ce90877f6538089b1e",
       "version_major": 2,
       "version_minor": 0
      },
      "text/plain": [
       "  0%|          | 0/284 [00:00<?, ?batch/s]"
      ]
     },
     "metadata": {},
     "output_type": "display_data"
    },
    {
     "data": {
      "application/vnd.jupyter.widget-view+json": {
       "model_id": "4f4a370a98434cdcbb2b8122fef7301f",
       "version_major": 2,
       "version_minor": 0
      },
      "text/plain": [
       "  0%|          | 0/61 [00:00<?, ?batch/s]"
      ]
     },
     "metadata": {},
     "output_type": "display_data"
    },
    {
     "name": "stdout",
     "output_type": "stream",
     "text": [
      "Train accuracy:  31.060689503249257\n",
      "Validation accuracy:  30.52415210688592\n",
      "Train regression loss:  0.8741352812085353\n",
      "Validation regression loss:  0.8875720774541136\n"
     ]
    },
    {
     "data": {
      "application/vnd.jupyter.widget-view+json": {
       "model_id": "e6c3dffa09e94f3d937f7c86a690b72f",
       "version_major": 2,
       "version_minor": 0
      },
      "text/plain": [
       "  0%|          | 0/284 [00:00<?, ?batch/s]"
      ]
     },
     "metadata": {},
     "output_type": "display_data"
    },
    {
     "data": {
      "application/vnd.jupyter.widget-view+json": {
       "model_id": "a2e85624134041a1b2f3f40f78887120",
       "version_major": 2,
       "version_minor": 0
      },
      "text/plain": [
       "  0%|          | 0/61 [00:00<?, ?batch/s]"
      ]
     },
     "metadata": {},
     "output_type": "display_data"
    },
    {
     "name": "stdout",
     "output_type": "stream",
     "text": [
      "Train accuracy:  30.950545214230644\n",
      "Validation accuracy:  30.11305241521069\n",
      "Train regression loss:  0.8673055737581051\n",
      "Validation regression loss:  0.8961398723672648\n"
     ]
    },
    {
     "data": {
      "application/vnd.jupyter.widget-view+json": {
       "model_id": "ba3455708466447a8581598926fff4cd",
       "version_major": 2,
       "version_minor": 0
      },
      "text/plain": [
       "  0%|          | 0/284 [00:00<?, ?batch/s]"
      ]
     },
     "metadata": {},
     "output_type": "display_data"
    },
    {
     "data": {
      "application/vnd.jupyter.widget-view+json": {
       "model_id": "7d0503a8f6bb4ca993131e2a5e80efd2",
       "version_major": 2,
       "version_minor": 0
      },
      "text/plain": [
       "  0%|          | 0/61 [00:00<?, ?batch/s]"
      ]
     },
     "metadata": {},
     "output_type": "display_data"
    },
    {
     "name": "stdout",
     "output_type": "stream",
     "text": [
      "Train accuracy:  31.21489150787532\n",
      "Validation accuracy:  30.575539568345324\n",
      "Train regression loss:  0.8629210002615418\n",
      "Validation regression loss:  0.8864373227611917\n"
     ]
    },
    {
     "data": {
      "application/vnd.jupyter.widget-view+json": {
       "model_id": "5947e2ffa862404f8b286ed28526553b",
       "version_major": 2,
       "version_minor": 0
      },
      "text/plain": [
       "  0%|          | 0/284 [00:00<?, ?batch/s]"
      ]
     },
     "metadata": {},
     "output_type": "display_data"
    },
    {
     "data": {
      "application/vnd.jupyter.widget-view+json": {
       "model_id": "e7bc0572d4f241b0b8cbe223a679771e",
       "version_major": 2,
       "version_minor": 0
      },
      "text/plain": [
       "  0%|          | 0/61 [00:00<?, ?batch/s]"
      ]
     },
     "metadata": {},
     "output_type": "display_data"
    },
    {
     "name": "stdout",
     "output_type": "stream",
     "text": [
      "Train accuracy:  31.181848221169734\n",
      "Validation accuracy:  30.11305241521069\n",
      "Train regression loss:  0.8598936745818232\n",
      "Validation regression loss:  0.8693845355119861\n"
     ]
    },
    {
     "data": {
      "application/vnd.jupyter.widget-view+json": {
       "model_id": "df8ea6e85e424c7eabd3721e74d97166",
       "version_major": 2,
       "version_minor": 0
      },
      "text/plain": [
       "  0%|          | 0/284 [00:00<?, ?batch/s]"
      ]
     },
     "metadata": {},
     "output_type": "display_data"
    },
    {
     "data": {
      "application/vnd.jupyter.widget-view+json": {
       "model_id": "5f3ae8cfe93846da842103342772f9d0",
       "version_major": 2,
       "version_minor": 0
      },
      "text/plain": [
       "  0%|          | 0/61 [00:00<?, ?batch/s]"
      ]
     },
     "metadata": {},
     "output_type": "display_data"
    },
    {
     "name": "stdout",
     "output_type": "stream",
     "text": [
      "Train accuracy:  31.049675074347395\n",
      "Validation accuracy:  30.16443987667009\n",
      "Train regression loss:  0.8551161898903443\n",
      "Validation regression loss:  0.8713304292960246\n"
     ]
    },
    {
     "data": {
      "application/vnd.jupyter.widget-view+json": {
       "model_id": "db9edd4d304b4275bb5ce5b5caabae33",
       "version_major": 2,
       "version_minor": 0
      },
      "text/plain": [
       "  0%|          | 0/284 [00:00<?, ?batch/s]"
      ]
     },
     "metadata": {},
     "output_type": "display_data"
    },
    {
     "data": {
      "application/vnd.jupyter.widget-view+json": {
       "model_id": "5e67318f6ac44b868f430e04a259b9fe",
       "version_major": 2,
       "version_minor": 0
      },
      "text/plain": [
       "  0%|          | 0/61 [00:00<?, ?batch/s]"
      ]
     },
     "metadata": {},
     "output_type": "display_data"
    },
    {
     "name": "stdout",
     "output_type": "stream",
     "text": [
      "Train accuracy:  31.600396519440466\n",
      "Validation accuracy:  30.832476875642342\n",
      "Train regression loss:  0.8472395980022323\n",
      "Validation regression loss:  0.8645507996199561\n"
     ]
    },
    {
     "data": {
      "application/vnd.jupyter.widget-view+json": {
       "model_id": "74d08909b7c1469a9dec001fb0e86057",
       "version_major": 2,
       "version_minor": 0
      },
      "text/plain": [
       "  0%|          | 0/284 [00:00<?, ?batch/s]"
      ]
     },
     "metadata": {},
     "output_type": "display_data"
    },
    {
     "data": {
      "application/vnd.jupyter.widget-view+json": {
       "model_id": "99d6360af18b4074999933889992e377",
       "version_major": 2,
       "version_minor": 0
      },
      "text/plain": [
       "  0%|          | 0/61 [00:00<?, ?batch/s]"
      ]
     },
     "metadata": {},
     "output_type": "display_data"
    },
    {
     "name": "stdout",
     "output_type": "stream",
     "text": [
      "Train accuracy:  31.01663178764181\n",
      "Validation accuracy:  32.168550873586845\n",
      "Train regression loss:  0.8478783266225332\n",
      "Validation regression loss:  0.8629382633772053\n"
     ]
    },
    {
     "data": {
      "application/vnd.jupyter.widget-view+json": {
       "model_id": "d7a830b5061e4a3ca12346719f6d035a",
       "version_major": 2,
       "version_minor": 0
      },
      "text/plain": [
       "  0%|          | 0/284 [00:00<?, ?batch/s]"
      ]
     },
     "metadata": {},
     "output_type": "display_data"
    },
    {
     "data": {
      "application/vnd.jupyter.widget-view+json": {
       "model_id": "98a8c3dca7034cccb8d7917294708461",
       "version_major": 2,
       "version_minor": 0
      },
      "text/plain": [
       "  0%|          | 0/61 [00:00<?, ?batch/s]"
      ]
     },
     "metadata": {},
     "output_type": "display_data"
    },
    {
     "name": "stdout",
     "output_type": "stream",
     "text": [
      "Train accuracy:  31.820685097477696\n",
      "Validation accuracy:  31.551901336074\n",
      "Train regression loss:  0.839847475919925\n",
      "Validation regression loss:  0.8682218570201123\n"
     ]
    },
    {
     "data": {
      "application/vnd.jupyter.widget-view+json": {
       "model_id": "cf317449070145c49c9ccc31e803ae3e",
       "version_major": 2,
       "version_minor": 0
      },
      "text/plain": [
       "  0%|          | 0/284 [00:00<?, ?batch/s]"
      ]
     },
     "metadata": {},
     "output_type": "display_data"
    },
    {
     "data": {
      "application/vnd.jupyter.widget-view+json": {
       "model_id": "7892fc8e83da4183adb9d6a8e0b1c16a",
       "version_major": 2,
       "version_minor": 0
      },
      "text/plain": [
       "  0%|          | 0/61 [00:00<?, ?batch/s]"
      ]
     },
     "metadata": {},
     "output_type": "display_data"
    },
    {
     "name": "stdout",
     "output_type": "stream",
     "text": [
      "Train accuracy:  31.69952637955722\n",
      "Validation accuracy:  31.911613566289827\n",
      "Train regression loss:  0.8423196559011097\n",
      "Validation regression loss:  0.8649851533233143\n"
     ]
    },
    {
     "data": {
      "application/vnd.jupyter.widget-view+json": {
       "model_id": "1834524bc64d425ca03562fee65782f8",
       "version_major": 2,
       "version_minor": 0
      },
      "text/plain": [
       "  0%|          | 0/284 [00:00<?, ?batch/s]"
      ]
     },
     "metadata": {},
     "output_type": "display_data"
    },
    {
     "data": {
      "application/vnd.jupyter.widget-view+json": {
       "model_id": "2075e1c8fe884d8a966400abed1c8794",
       "version_major": 2,
       "version_minor": 0
      },
      "text/plain": [
       "  0%|          | 0/61 [00:00<?, ?batch/s]"
      ]
     },
     "metadata": {},
     "output_type": "display_data"
    },
    {
     "name": "stdout",
     "output_type": "stream",
     "text": [
      "Train accuracy:  32.118074677827956\n",
      "Validation accuracy:  32.52826310380267\n",
      "Train regression loss:  0.8383377214342775\n",
      "Validation regression loss:  0.8591500852928787\n"
     ]
    },
    {
     "data": {
      "application/vnd.jupyter.widget-view+json": {
       "model_id": "a77cebede7c54d3ba8bcb68509120f2e",
       "version_major": 2,
       "version_minor": 0
      },
      "text/plain": [
       "  0%|          | 0/284 [00:00<?, ?batch/s]"
      ]
     },
     "metadata": {},
     "output_type": "display_data"
    },
    {
     "data": {
      "application/vnd.jupyter.widget-view+json": {
       "model_id": "20f62109e5e5454caf2244bbbabee350",
       "version_major": 2,
       "version_minor": 0
      },
      "text/plain": [
       "  0%|          | 0/61 [00:00<?, ?batch/s]"
      ]
     },
     "metadata": {},
     "output_type": "display_data"
    },
    {
     "name": "stdout",
     "output_type": "stream",
     "text": [
      "Train accuracy:  32.09604582002423\n",
      "Validation accuracy:  31.80883864337102\n",
      "Train regression loss:  0.8323094504819789\n",
      "Validation regression loss:  0.8749291711166257\n"
     ]
    },
    {
     "data": {
      "application/vnd.jupyter.widget-view+json": {
       "model_id": "a6568efbf04b4921aa09326571ac1364",
       "version_major": 2,
       "version_minor": 0
      },
      "text/plain": [
       "  0%|          | 0/284 [00:00<?, ?batch/s]"
      ]
     },
     "metadata": {},
     "output_type": "display_data"
    },
    {
     "data": {
      "application/vnd.jupyter.widget-view+json": {
       "model_id": "ae267e7614a84696b570ca8c5a79d285",
       "version_major": 2,
       "version_minor": 0
      },
      "text/plain": [
       "  0%|          | 0/61 [00:00<?, ?batch/s]"
      ]
     },
     "metadata": {},
     "output_type": "display_data"
    },
    {
     "name": "stdout",
     "output_type": "stream",
     "text": [
      "Train accuracy:  32.0189448177112\n",
      "Validation accuracy:  32.476875642343266\n",
      "Train regression loss:  0.8371293608781317\n",
      "Validation regression loss:  0.8700364520315265\n"
     ]
    },
    {
     "data": {
      "application/vnd.jupyter.widget-view+json": {
       "model_id": "237311a003164060ac65d3e2574781ca",
       "version_major": 2,
       "version_minor": 0
      },
      "text/plain": [
       "  0%|          | 0/284 [00:00<?, ?batch/s]"
      ]
     },
     "metadata": {},
     "output_type": "display_data"
    },
    {
     "data": {
      "application/vnd.jupyter.widget-view+json": {
       "model_id": "83b0a5756cfb4e5892f9538ce91f2c1f",
       "version_major": 2,
       "version_minor": 0
      },
      "text/plain": [
       "  0%|          | 0/61 [00:00<?, ?batch/s]"
      ]
     },
     "metadata": {},
     "output_type": "display_data"
    },
    {
     "name": "stdout",
     "output_type": "stream",
     "text": [
      "Train accuracy:  32.0189448177112\n",
      "Validation accuracy:  31.911613566289827\n",
      "Train regression loss:  0.8301593308717432\n",
      "Validation regression loss:  0.8571557275584487\n"
     ]
    },
    {
     "data": {
      "application/vnd.jupyter.widget-view+json": {
       "model_id": "714364bf0cb3450c981a729ebe4ee61d",
       "version_major": 2,
       "version_minor": 0
      },
      "text/plain": [
       "  0%|          | 0/284 [00:00<?, ?batch/s]"
      ]
     },
     "metadata": {},
     "output_type": "display_data"
    },
    {
     "data": {
      "application/vnd.jupyter.widget-view+json": {
       "model_id": "a26d35ad4f2646609d5446862071897f",
       "version_major": 2,
       "version_minor": 0
      },
      "text/plain": [
       "  0%|          | 0/61 [00:00<?, ?batch/s]"
      ]
     },
     "metadata": {},
     "output_type": "display_data"
    },
    {
     "name": "stdout",
     "output_type": "stream",
     "text": [
      "Train accuracy:  32.184161251239125\n",
      "Validation accuracy:  29.650565262076054\n",
      "Train regression loss:  0.8281194936011879\n",
      "Validation regression loss:  0.8587525355034187\n"
     ]
    },
    {
     "data": {
      "application/vnd.jupyter.widget-view+json": {
       "model_id": "412b0887ad86442da49f0c40c408ef3c",
       "version_major": 2,
       "version_minor": 0
      },
      "text/plain": [
       "  0%|          | 0/284 [00:00<?, ?batch/s]"
      ]
     },
     "metadata": {},
     "output_type": "display_data"
    },
    {
     "data": {
      "application/vnd.jupyter.widget-view+json": {
       "model_id": "c5ef3b87b6b84a639b7ebc00045d6dc4",
       "version_major": 2,
       "version_minor": 0
      },
      "text/plain": [
       "  0%|          | 0/61 [00:00<?, ?batch/s]"
      ]
     },
     "metadata": {},
     "output_type": "display_data"
    },
    {
     "name": "stdout",
     "output_type": "stream",
     "text": [
      "Train accuracy:  32.00793038880934\n",
      "Validation accuracy:  31.757451181911613\n",
      "Train regression loss:  0.8226789897176582\n",
      "Validation regression loss:  0.8582320472256082\n"
     ]
    },
    {
     "data": {
      "application/vnd.jupyter.widget-view+json": {
       "model_id": "1220628d43af444f8ea86b164c9e4b9f",
       "version_major": 2,
       "version_minor": 0
      },
      "text/plain": [
       "  0%|          | 0/284 [00:00<?, ?batch/s]"
      ]
     },
     "metadata": {},
     "output_type": "display_data"
    },
    {
     "data": {
      "application/vnd.jupyter.widget-view+json": {
       "model_id": "917d2e95dfae40aa9d71990406d6ab1b",
       "version_major": 2,
       "version_minor": 0
      },
      "text/plain": [
       "  0%|          | 0/61 [00:00<?, ?batch/s]"
      ]
     },
     "metadata": {},
     "output_type": "display_data"
    },
    {
     "name": "stdout",
     "output_type": "stream",
     "text": [
      "Train accuracy:  32.62473840731358\n",
      "Validation accuracy:  32.322713257965056\n",
      "Train regression loss:  0.8237550950176279\n",
      "Validation regression loss:  0.8696177723954935\n"
     ]
    },
    {
     "data": {
      "application/vnd.jupyter.widget-view+json": {
       "model_id": "b479c3cf89bc41c096f89df06055043f",
       "version_major": 2,
       "version_minor": 0
      },
      "text/plain": [
       "  0%|          | 0/284 [00:00<?, ?batch/s]"
      ]
     },
     "metadata": {},
     "output_type": "display_data"
    },
    {
     "data": {
      "application/vnd.jupyter.widget-view+json": {
       "model_id": "60ea09f38c9d40b3815522aaeb49e94f",
       "version_major": 2,
       "version_minor": 0
      },
      "text/plain": [
       "  0%|          | 0/61 [00:00<?, ?batch/s]"
      ]
     },
     "metadata": {},
     "output_type": "display_data"
    },
    {
     "name": "stdout",
     "output_type": "stream",
     "text": [
      "Train accuracy:  32.22821896684657\n",
      "Validation accuracy:  31.86022610483042\n",
      "Train regression loss:  0.8289106709646507\n",
      "Validation regression loss:  0.8587575120026948\n"
     ]
    },
    {
     "data": {
      "application/vnd.jupyter.widget-view+json": {
       "model_id": "5254e86e419b47a390d797d2a12d8a73",
       "version_major": 2,
       "version_minor": 0
      },
      "text/plain": [
       "  0%|          | 0/284 [00:00<?, ?batch/s]"
      ]
     },
     "metadata": {},
     "output_type": "display_data"
    },
    {
     "data": {
      "application/vnd.jupyter.widget-view+json": {
       "model_id": "2616d98f0c034fc8bf6e67d23e8bbceb",
       "version_major": 2,
       "version_minor": 0
      },
      "text/plain": [
       "  0%|          | 0/61 [00:00<?, ?batch/s]"
      ]
     },
     "metadata": {},
     "output_type": "display_data"
    },
    {
     "name": "stdout",
     "output_type": "stream",
     "text": [
      "Train accuracy:  32.67981055182289\n",
      "Validation accuracy:  32.37410071942446\n",
      "Train regression loss:  0.8222361147193842\n",
      "Validation regression loss:  0.887382761376803\n"
     ]
    },
    {
     "data": {
      "application/vnd.jupyter.widget-view+json": {
       "model_id": "c5b8da813b484df586ee36af27b5ca7d",
       "version_major": 2,
       "version_minor": 0
      },
      "text/plain": [
       "  0%|          | 0/284 [00:00<?, ?batch/s]"
      ]
     },
     "metadata": {},
     "output_type": "display_data"
    },
    {
     "data": {
      "application/vnd.jupyter.widget-view+json": {
       "model_id": "806421f878694846b6ce40d4efb8e352",
       "version_major": 2,
       "version_minor": 0
      },
      "text/plain": [
       "  0%|          | 0/61 [00:00<?, ?batch/s]"
      ]
     },
     "metadata": {},
     "output_type": "display_data"
    },
    {
     "name": "stdout",
     "output_type": "stream",
     "text": [
      "Train accuracy:  32.47053640268752\n",
      "Validation accuracy:  31.19218910585817\n",
      "Train regression loss:  0.8187520020234753\n",
      "Validation regression loss:  0.8682635797828925\n"
     ]
    },
    {
     "data": {
      "application/vnd.jupyter.widget-view+json": {
       "model_id": "7c23b549ec78424793d29fea6ebc5ce4",
       "version_major": 2,
       "version_minor": 0
      },
      "text/plain": [
       "  0%|          | 0/284 [00:00<?, ?batch/s]"
      ]
     },
     "metadata": {},
     "output_type": "display_data"
    },
    {
     "data": {
      "application/vnd.jupyter.widget-view+json": {
       "model_id": "8dd2a996124849cf875d86b0e92c854c",
       "version_major": 2,
       "version_minor": 0
      },
      "text/plain": [
       "  0%|          | 0/61 [00:00<?, ?batch/s]"
      ]
     },
     "metadata": {},
     "output_type": "display_data"
    },
    {
     "name": "stdout",
     "output_type": "stream",
     "text": [
      "Train accuracy:  32.69082498072475\n",
      "Validation accuracy:  31.19218910585817\n",
      "Train regression loss:  0.8156759706391415\n",
      "Validation regression loss:  0.8550643617989587\n"
     ]
    },
    {
     "data": {
      "application/vnd.jupyter.widget-view+json": {
       "model_id": "685dac4612824632b1b41d7e8a497fb6",
       "version_major": 2,
       "version_minor": 0
      },
      "text/plain": [
       "  0%|          | 0/284 [00:00<?, ?batch/s]"
      ]
     },
     "metadata": {},
     "output_type": "display_data"
    },
    {
     "data": {
      "application/vnd.jupyter.widget-view+json": {
       "model_id": "7f03caa1fe2145ca849f33da8d704f83",
       "version_major": 2,
       "version_minor": 0
      },
      "text/plain": [
       "  0%|          | 0/61 [00:00<?, ?batch/s]"
      ]
     },
     "metadata": {},
     "output_type": "display_data"
    },
    {
     "name": "stdout",
     "output_type": "stream",
     "text": [
      "Train accuracy:  32.7899548408415\n",
      "Validation accuracy:  31.70606372045221\n",
      "Train regression loss:  0.8206704384844068\n",
      "Validation regression loss:  0.8860812319106743\n"
     ]
    },
    {
     "data": {
      "application/vnd.jupyter.widget-view+json": {
       "model_id": "6fcfdaca10704c9580816b93fcf41197",
       "version_major": 2,
       "version_minor": 0
      },
      "text/plain": [
       "  0%|          | 0/284 [00:00<?, ?batch/s]"
      ]
     },
     "metadata": {},
     "output_type": "display_data"
    },
    {
     "data": {
      "application/vnd.jupyter.widget-view+json": {
       "model_id": "f21e9cdb668b4d63bb830cbae221a2c8",
       "version_major": 2,
       "version_minor": 0
      },
      "text/plain": [
       "  0%|          | 0/61 [00:00<?, ?batch/s]"
      ]
     },
     "metadata": {},
     "output_type": "display_data"
    },
    {
     "name": "stdout",
     "output_type": "stream",
     "text": [
      "Train accuracy:  32.845026985350806\n",
      "Validation accuracy:  32.11716341212744\n",
      "Train regression loss:  0.8145613721768621\n",
      "Validation regression loss:  0.8480643478573345\n"
     ]
    },
    {
     "data": {
      "application/vnd.jupyter.widget-view+json": {
       "model_id": "5c964d4eabe94025ad9808f0f2cf3ae2",
       "version_major": 2,
       "version_minor": 0
      },
      "text/plain": [
       "  0%|          | 0/284 [00:00<?, ?batch/s]"
      ]
     },
     "metadata": {},
     "output_type": "display_data"
    },
    {
     "data": {
      "application/vnd.jupyter.widget-view+json": {
       "model_id": "00067f6480c047e5894ac7d434a6660a",
       "version_major": 2,
       "version_minor": 0
      },
      "text/plain": [
       "  0%|          | 0/61 [00:00<?, ?batch/s]"
      ]
     },
     "metadata": {},
     "output_type": "display_data"
    },
    {
     "name": "stdout",
     "output_type": "stream",
     "text": [
      "Train accuracy:  32.525608547196825\n",
      "Validation accuracy:  32.476875642343266\n",
      "Train regression loss:  0.8149427131447994\n",
      "Validation regression loss:  0.8480355656537854\n"
     ]
    },
    {
     "data": {
      "application/vnd.jupyter.widget-view+json": {
       "model_id": "c39d88041da2440da25cf48feb3443b7",
       "version_major": 2,
       "version_minor": 0
      },
      "text/plain": [
       "  0%|          | 0/284 [00:00<?, ?batch/s]"
      ]
     },
     "metadata": {},
     "output_type": "display_data"
    },
    {
     "data": {
      "application/vnd.jupyter.widget-view+json": {
       "model_id": "6a102d6a460d422f94e65645b13cf94e",
       "version_major": 2,
       "version_minor": 0
      },
      "text/plain": [
       "  0%|          | 0/61 [00:00<?, ?batch/s]"
      ]
     },
     "metadata": {},
     "output_type": "display_data"
    },
    {
     "name": "stdout",
     "output_type": "stream",
     "text": [
      "Train accuracy:  32.83401255644895\n",
      "Validation accuracy:  32.37410071942446\n",
      "Train regression loss:  0.8099404388750103\n",
      "Validation regression loss:  0.8509803707482385\n"
     ]
    },
    {
     "data": {
      "application/vnd.jupyter.widget-view+json": {
       "model_id": "2c97b960092a43da93ad3bf54719294b",
       "version_major": 2,
       "version_minor": 0
      },
      "text/plain": [
       "  0%|          | 0/284 [00:00<?, ?batch/s]"
      ]
     },
     "metadata": {},
     "output_type": "display_data"
    },
    {
     "data": {
      "application/vnd.jupyter.widget-view+json": {
       "model_id": "6d5ad0834927423ea1d75446a43d2183",
       "version_major": 2,
       "version_minor": 0
      },
      "text/plain": [
       "  0%|          | 0/61 [00:00<?, ?batch/s]"
      ]
     },
     "metadata": {},
     "output_type": "display_data"
    },
    {
     "name": "stdout",
     "output_type": "stream",
     "text": [
      "Train accuracy:  32.81198369864523\n",
      "Validation accuracy:  32.168550873586845\n",
      "Train regression loss:  0.8097293866457234\n",
      "Validation regression loss:  0.8425154319552125\n"
     ]
    },
    {
     "data": {
      "application/vnd.jupyter.widget-view+json": {
       "model_id": "478592053d664003a3d1885340efe0a1",
       "version_major": 2,
       "version_minor": 0
      },
      "text/plain": [
       "  0%|          | 0/284 [00:00<?, ?batch/s]"
      ]
     },
     "metadata": {},
     "output_type": "display_data"
    },
    {
     "data": {
      "application/vnd.jupyter.widget-view+json": {
       "model_id": "238e5e8c261049aaba72687ea8b3eaaa",
       "version_major": 2,
       "version_minor": 0
      },
      "text/plain": [
       "  0%|          | 0/61 [00:00<?, ?batch/s]"
      ]
     },
     "metadata": {},
     "output_type": "display_data"
    },
    {
     "name": "stdout",
     "output_type": "stream",
     "text": [
      "Train accuracy:  32.98821456107501\n",
      "Validation accuracy:  32.476875642343266\n",
      "Train regression loss:  0.8106379985389575\n",
      "Validation regression loss:  0.8540645153796087\n"
     ]
    },
    {
     "data": {
      "application/vnd.jupyter.widget-view+json": {
       "model_id": "4fc864b9243a4a2fb12a9e2d27b2a0b7",
       "version_major": 2,
       "version_minor": 0
      },
      "text/plain": [
       "  0%|          | 0/284 [00:00<?, ?batch/s]"
      ]
     },
     "metadata": {},
     "output_type": "display_data"
    },
    {
     "data": {
      "application/vnd.jupyter.widget-view+json": {
       "model_id": "e12fee9f782745d3b98baa9bf52d2b54",
       "version_major": 2,
       "version_minor": 0
      },
      "text/plain": [
       "  0%|          | 0/61 [00:00<?, ?batch/s]"
      ]
     },
     "metadata": {},
     "output_type": "display_data"
    },
    {
     "name": "stdout",
     "output_type": "stream",
     "text": [
      "Train accuracy:  32.635752836215445\n",
      "Validation accuracy:  32.168550873586845\n",
      "Train regression loss:  0.8117462600200949\n",
      "Validation regression loss:  0.8548152583544372\n"
     ]
    },
    {
     "data": {
      "application/vnd.jupyter.widget-view+json": {
       "model_id": "507cb4a568f24ed8a96f4a8b00cd85ec",
       "version_major": 2,
       "version_minor": 0
      },
      "text/plain": [
       "  0%|          | 0/284 [00:00<?, ?batch/s]"
      ]
     },
     "metadata": {},
     "output_type": "display_data"
    },
    {
     "data": {
      "application/vnd.jupyter.widget-view+json": {
       "model_id": "d77c46419a5148ce8194993737df5162",
       "version_major": 2,
       "version_minor": 0
      },
      "text/plain": [
       "  0%|          | 0/61 [00:00<?, ?batch/s]"
      ]
     },
     "metadata": {},
     "output_type": "display_data"
    },
    {
     "name": "stdout",
     "output_type": "stream",
     "text": [
      "Train accuracy:  33.18647428130851\n",
      "Validation accuracy:  31.86022610483042\n",
      "Train regression loss:  0.8084322264496709\n",
      "Validation regression loss:  0.8641968486738987\n"
     ]
    },
    {
     "data": {
      "application/vnd.jupyter.widget-view+json": {
       "model_id": "d3fc6f5f27f840558fdafb27c255d07a",
       "version_major": 2,
       "version_minor": 0
      },
      "text/plain": [
       "  0%|          | 0/284 [00:00<?, ?batch/s]"
      ]
     },
     "metadata": {},
     "output_type": "display_data"
    },
    {
     "data": {
      "application/vnd.jupyter.widget-view+json": {
       "model_id": "431ad80b2d274fc280507a1533c292fe",
       "version_major": 2,
       "version_minor": 0
      },
      "text/plain": [
       "  0%|          | 0/61 [00:00<?, ?batch/s]"
      ]
     },
     "metadata": {},
     "output_type": "display_data"
    },
    {
     "name": "stdout",
     "output_type": "stream",
     "text": [
      "Train accuracy:  32.977200132173145\n",
      "Validation accuracy:  32.83658787255909\n",
      "Train regression loss:  0.8111636512716052\n",
      "Validation regression loss:  0.839346102515205\n"
     ]
    }
   ],
   "source": [
    "# Define the loss function (combines nn.LogSoftmax() and nn.NLLLoss())\n",
    "criterion_classification = nn.CrossEntropyLoss()\n",
    "\n",
    "# Loss function to compare the expected traversal cost over the bins\n",
    "# and the ground truth traversal cost\n",
    "criterion_regression = nn.MSELoss()\n",
    "\n",
    "# Load the bins midpoints\n",
    "bins_midpoints = np.load(params.learning.DATASET+\"bins_midpoints.npy\")\n",
    "bins_midpoints = torch.tensor(bins_midpoints[:, None],\n",
    "                              dtype=torch.float32,\n",
    "                              device=device)\n",
    "\n",
    "# Get all the parameters excepts the weights and bias of fc layer\n",
    "base_params = [param for name, param in model.named_parameters()\n",
    "               if name not in [\"resnet18.fc.weight\", \"resnet18.fc.bias\"]]\n",
    "\n",
    "# Define the optimizer, with a greater learning rate for the new fc layer\n",
    "# optimizer = optim.SGD([\n",
    "#     {\"params\": base_params},\n",
    "#     {\"params\": model.resnet18.fc.parameters(),\n",
    "#      \"lr\": LEARNING_PARAMS[\"learning_rate\"]*10},\n",
    "# ],\n",
    "#     lr=LEARNING_PARAMS[\"learning_rate\"],\n",
    "#     momentum=LEARNING_PARAMS[\"momentum\"],\n",
    "#     weight_decay=LEARNING_PARAMS[\"weight_decay\"])\n",
    "\n",
    "optimizer = optim.SGD(model.parameters(),\n",
    "                      lr=LEARNING_PARAMS[\"learning_rate\"],\n",
    "                      momentum=LEARNING_PARAMS[\"momentum\"],\n",
    "                      weight_decay=LEARNING_PARAMS[\"weight_decay\"])\n",
    "\n",
    "# Create tensors to store the loss and accuracy values\n",
    "loss_values = torch.zeros(2, LEARNING_PARAMS[\"nb_epochs\"])\n",
    "accuracy_values = torch.zeros(2, LEARNING_PARAMS[\"nb_epochs\"])\n",
    "regression_loss_values = torch.zeros(2, LEARNING_PARAMS[\"nb_epochs\"])\n",
    "\n",
    "# Loop over the epochs\n",
    "for epoch in range(LEARNING_PARAMS[\"nb_epochs\"]):\n",
    "    \n",
    "    # Training\n",
    "    train_loss, train_accuracy, train_regression_loss = train(model,\n",
    "                                                              device,\n",
    "                                                              train_loader,\n",
    "                                                              optimizer,\n",
    "                                                              criterion_classification,\n",
    "                                                              criterion_regression,\n",
    "                                                              bins_midpoints,\n",
    "                                                              epoch)\n",
    "    \n",
    "    # Validation\n",
    "    val_loss, val_accuracy, val_regression_loss = validate(model,\n",
    "                                                           device,\n",
    "                                                           val_loader,\n",
    "                                                           criterion_classification,\n",
    "                                                           criterion_regression,\n",
    "                                                           bins_midpoints,\n",
    "                                                           epoch) \n",
    "    \n",
    "    print(\"Train accuracy: \", train_accuracy)\n",
    "    print(\"Validation accuracy: \", val_accuracy)\n",
    "    print(\"Train regression loss: \", train_regression_loss)\n",
    "    print(\"Validation regression loss: \", val_regression_loss)\n",
    "    \n",
    "    # Store the computed losses\n",
    "    loss_values[0, epoch] = train_loss\n",
    "    loss_values[1, epoch] = val_loss\n",
    "    # Store the computed accuracies\n",
    "    accuracy_values[0, epoch] = train_accuracy\n",
    "    accuracy_values[1, epoch] = val_accuracy\n",
    "    # Store the computed regression losses\n",
    "    regression_loss_values[0, epoch] = train_regression_loss\n",
    "    regression_loss_values[1, epoch] = val_regression_loss\n",
    "    \n",
    "#     # Add the losses to TensorBoard\n",
    "#     tensorboard.add_scalar(\"train_loss\", train_loss, epoch)\n",
    "#     tensorboard.add_scalar(\"val_loss\", val_loss, epoch)\n",
    "#     # Add the accuracies to TensorBoard\n",
    "#     tensorboard.add_scalar(\"train_accuracy\", train_accuracy, epoch)\n",
    "#     tensorboard.add_scalar(\"val_accuracy\", val_accuracy, epoch)\n",
    "#     # Add the regression losses to TensorBoard\n",
    "#     tensorboard.add_scalar(\"train_regression_loss\", train_regression_loss, epoch)\n",
    "#     tensorboard.add_scalar(\"val_regression_loss\", val_regression_loss, epoch)\n",
    "\n",
    "# # Close TensorBoard\n",
    "# tensorboard.close()"
   ]
  },
  {
   "attachments": {},
   "cell_type": "markdown",
   "metadata": {},
   "source": [
    "### Visualization"
   ]
  },
  {
   "cell_type": "code",
   "execution_count": 12,
   "metadata": {},
   "outputs": [
    {
     "data": {
      "text/plain": [
       "Text(0.5, 0, 'Epoch')"
      ]
     },
     "execution_count": 12,
     "metadata": {},
     "output_type": "execute_result"
    },
    {
     "data": {
      "image/png": "[encoded data removed]",
      "text/plain": [
       "<Figure size 640x480 with 1 Axes>"
      ]
     },
     "metadata": {},
     "output_type": "display_data"
    }
   ],
   "source": [
    "# Loss\n",
    "train_losses = loss_values[0]\n",
    "val_losses = loss_values[1]\n",
    "\n",
    "plt.plot(train_losses, \"b\", label=\"train loss\")\n",
    "plt.plot(val_losses, \"r\", label=\"validation loss\")\n",
    "\n",
    "plt.legend()\n",
    "plt.xlabel(\"Epoch\")"
   ]
  },
  {
   "cell_type": "code",
   "execution_count": 13,
   "metadata": {},
   "outputs": [
    {
     "data": {
      "text/plain": [
       "Text(0.5, 0, 'Epoch')"
      ]
     },
     "execution_count": 13,
     "metadata": {},
     "output_type": "execute_result"
    },
    {
     "data": {
      "image/png": "[encoded data removed]",
      "text/plain": [
       "<Figure size 640x480 with 1 Axes>"
      ]
     },
     "metadata": {},
     "output_type": "display_data"
    }
   ],
   "source": [
    "# Accuracy\n",
    "train_accuracies = accuracy_values[0]\n",
    "val_accuracies = accuracy_values[1]\n",
    "\n",
    "plt.plot(train_accuracies, \"b\", label=\"train accuracy\")\n",
    "plt.plot(val_accuracies, \"r\", label=\"validation accuracy\")\n",
    "\n",
    "plt.legend()\n",
    "plt.xlabel(\"Epoch\")"
   ]
  },
  {
   "cell_type": "code",
   "execution_count": 14,
   "metadata": {},
   "outputs": [
    {
     "data": {
      "text/plain": [
       "Text(0.5, 0, 'Epoch')"
      ]
     },
     "execution_count": 14,
     "metadata": {},
     "output_type": "execute_result"
    },
    {
     "data": {
      "image/png": "[encoded data removed]",
      "text/plain": [
       "<Figure size 640x480 with 1 Axes>"
      ]
     },
     "metadata": {},
     "output_type": "display_data"
    }
   ],
   "source": [
    "# Regression loss\n",
    "train_regression_losses = regression_loss_values[0]\n",
    "val_regression_losses = regression_loss_values[1]\n",
    "\n",
    "plt.plot(train_regression_losses, \"b\", label=\"train regression loss\")\n",
    "plt.plot(val_regression_losses, \"r\", label=\"validation regression loss\")\n",
    "\n",
    "plt.legend()\n",
    "plt.xlabel(\"Epoch\")"
   ]
  },
  {
   "attachments": {},
   "cell_type": "markdown",
   "metadata": {},
   "source": [
    "## Testing"
   ]
  },
  {
   "attachments": {},
   "cell_type": "markdown",
   "metadata": {},
   "source": [
    "#### Testing the model"
   ]
  },
  {
   "cell_type": "code",
   "execution_count": 15,
   "metadata": {},
   "outputs": [
    {
     "name": "stdout",
     "output_type": "stream",
     "text": [
      "Test accuracy:  32.476875642343266\n",
      "Regression loss:  0.8073451177018588\n"
     ]
    }
   ],
   "source": [
    "# Set the uncertainty function\n",
    "uncertainty_function = uncertainty.functions.shannon_entropy\n",
    "\n",
    "# Test the model\n",
    "_,\\\n",
    "test_accuracy,\\\n",
    "test_regression_loss,\\\n",
    "test_regression_losses,\\\n",
    "uncertainties = test(model,\n",
    "                     device,\n",
    "                     test_loader,\n",
    "                     criterion_classification,\n",
    "                     criterion_regression,\n",
    "                     bins_midpoints,\n",
    "                     uncertainty_function)\n",
    "\n",
    "print(\"Test accuracy: \", test_accuracy)\n",
    "print(\"Regression loss: \", test_regression_loss)"
   ]
  },
  {
   "attachments": {},
   "cell_type": "markdown",
   "metadata": {},
   "source": [
    "## Save model parameters"
   ]
  },
  {
   "cell_type": "code",
   "execution_count": 16,
   "metadata": {},
   "outputs": [],
   "source": [
    "# Save the model parameters\n",
    "# torch.save(model.state_dict(), \"multimodal_velocity.params\")"
   ]
  },
  {
   "attachments": {},
   "cell_type": "markdown",
   "metadata": {},
   "source": [
    "## Assessing the relevance of the uncertainty"
   ]
  },
  {
   "cell_type": "code",
   "execution_count": 17,
   "metadata": {},
   "outputs": [],
   "source": [
    "# Compute the test losses after successive removal of the samples\n",
    "# with the highest loss and uncertainty\n",
    "test_losses_loss, test_losses_uncertainty =\\\n",
    "    uncertainty.evaluation.uncertainty_relevance(\n",
    "        model,\n",
    "        device,\n",
    "        criterion_classification,\n",
    "        criterion_regression,\n",
    "        bins_midpoints,\n",
    "        uncertainty_function,\n",
    "        test,\n",
    "        test_set,\n",
    "        test_regression_loss,\n",
    "        test_regression_losses,\n",
    "        uncertainties)"
   ]
  },
  {
   "attachments": {},
   "cell_type": "markdown",
   "metadata": {},
   "source": [
    "#### Plotting the results"
   ]
  },
  {
   "cell_type": "code",
   "execution_count": 18,
   "metadata": {},
   "outputs": [
    {
     "data": {
      "text/plain": [
       "Text(0, 0.5, 'Regression error (MSE)')"
      ]
     },
     "execution_count": 18,
     "metadata": {},
     "output_type": "execute_result"
    },
    {
     "data": {
      "image/png": "[encoded data removed]",
      "text/plain": [
       "<Figure size 640x480 with 1 Axes>"
      ]
     },
     "metadata": {},
     "output_type": "display_data"
    }
   ],
   "source": [
    "plt.plot(range(0, 100, 10),\n",
    "         test_losses_loss,\n",
    "         \"bo--\",\n",
    "         label=\"removing samples with highest regression loss\",\n",
    "         markersize=4)\n",
    "plt.plot(range(0, 100, 10),\n",
    "         test_losses_uncertainty,\n",
    "         \"ro--\",\n",
    "         label=\"removing samples with highest uncertainty\",\n",
    "         markersize=4)\n",
    "\n",
    "plt.legend(loc=\"upper right\")\n",
    "plt.xlabel(\"Percentage of samples removed\")\n",
    "plt.ylabel(\"Regression error (MSE)\")"
   ]
  },
  {
   "attachments": {},
   "cell_type": "markdown",
   "metadata": {},
   "source": [
    "## Generate a log directory"
   ]
  },
  {
   "cell_type": "code",
   "execution_count": 19,
   "metadata": {},
   "outputs": [
    {
     "data": {
      "image/png": "[encoded data removed]",
      "text/plain": [
       "<Figure size 640x480 with 1 Axes>"
      ]
     },
     "metadata": {},
     "output_type": "display_data"
    },
    {
     "data": {
      "image/png": "[encoded data removed]",
      "text/plain": [
       "<Figure size 640x480 with 1 Axes>"
      ]
     },
     "metadata": {},
     "output_type": "display_data"
    },
    {
     "data": {
      "image/png": "[encoded data removed]",
      "text/plain": [
       "<Figure size 640x480 with 1 Axes>"
      ]
     },
     "metadata": {},
     "output_type": "display_data"
    }
   ],
   "source": [
    "# Get the learning parameters table\n",
    "params_table = parameters_table(dataset=params.learning.DATASET,\n",
    "                                learning_params=LEARNING_PARAMS)\n",
    "\n",
    "# Set the path to the results directory\n",
    "if params.learning.LOG_DIR:\n",
    "    results_directory = \"logs/_\" +\\\n",
    "                        params.learning.LOG_DIR\n",
    "else:\n",
    "    results_directory = \"logs/_\" +\\\n",
    "                        datetime.now().strftime(\"%Y-%m-%d-%H-%M-%S\")\n",
    "                        \n",
    "# Generate the log directory\n",
    "generate_log(results_directory=results_directory,\n",
    "             test_regression_loss=test_regression_loss,\n",
    "             test_accuracy=test_accuracy,\n",
    "             parameters_table=params_table,\n",
    "             model=model,\n",
    "             regression_loss_values=regression_loss_values,\n",
    "             accuracy_values=accuracy_values,\n",
    "             test_losses_loss=test_losses_loss,\n",
    "             test_losses_uncertainty=test_losses_uncertainty)"
   ]
  },
  {
   "attachments": {},
   "cell_type": "markdown",
   "metadata": {},
   "source": [
    "### Ensemble learning"
   ]
  },
  {
   "attachments": {},
   "cell_type": "markdown",
   "metadata": {},
   "source": [
    "#### Training the models"
   ]
  },
  {
   "cell_type": "code",
   "execution_count": 20,
   "metadata": {},
   "outputs": [
    {
     "name": "stdout",
     "output_type": "stream",
     "text": [
      "Training model 1/3\n"
     ]
    },
    {
     "data": {
      "application/vnd.jupyter.widget-view+json": {
       "model_id": "25544505f1de45efb945fef74e54953b",
       "version_major": 2,
       "version_minor": 0
      },
      "text/plain": [
       "  0%|          | 0/284 [00:00<?, ?batch/s]"
      ]
     },
     "metadata": {},
     "output_type": "display_data"
    },
    {
     "data": {
      "application/vnd.jupyter.widget-view+json": {
       "model_id": "0b482f12a3214bb0bda82bf5cf89e52b",
       "version_major": 2,
       "version_minor": 0
      },
      "text/plain": [
       "  0%|          | 0/284 [00:00<?, ?batch/s]"
      ]
     },
     "metadata": {},
     "output_type": "display_data"
    },
    {
     "ename": "KeyboardInterrupt",
     "evalue": "",
     "output_type": "error",
     "traceback": [
      "\u001b[0;31m---------------------------------------------------------------------------\u001b[0m",
      "\u001b[0;31mKeyboardInterrupt\u001b[0m                         Traceback (most recent call last)",
      "Cell \u001b[0;32mIn[20], line 28\u001b[0m\n\u001b[1;32m     24\u001b[0m \u001b[39m# Loop over the epochs\u001b[39;00m\n\u001b[1;32m     25\u001b[0m \u001b[39mfor\u001b[39;00m epoch \u001b[39min\u001b[39;00m \u001b[39mrange\u001b[39m(LEARNING_PARAMS[\u001b[39m\"\u001b[39m\u001b[39mnb_epochs\u001b[39m\u001b[39m\"\u001b[39m]):\n\u001b[1;32m     26\u001b[0m \n\u001b[1;32m     27\u001b[0m     \u001b[39m# Train the model\u001b[39;00m\n\u001b[0;32m---> 28\u001b[0m     train_loss, train_accuracy, train_regression_loss \u001b[39m=\u001b[39m train(some_models[i],\n\u001b[1;32m     29\u001b[0m                                                               device,\n\u001b[1;32m     30\u001b[0m                                                               train_loader,\n\u001b[1;32m     31\u001b[0m                                                               optimizer,\n\u001b[1;32m     32\u001b[0m                                                               criterion_classification,\n\u001b[1;32m     33\u001b[0m                                                               criterion_regression,\n\u001b[1;32m     34\u001b[0m                                                               bins_midpoints,\n\u001b[1;32m     35\u001b[0m                                                               epoch)\n",
      "File \u001b[0;32m~/PRE/src/models_development/multimodal_velocity/train.py:84\u001b[0m, in \u001b[0;36mtrain\u001b[0;34m(model, device, train_loader, optimizer, criterion_classification, criterion_regression, bins_midpoints, epoch)\u001b[0m\n\u001b[1;32m     81\u001b[0m optimizer\u001b[39m.\u001b[39mstep()\n\u001b[1;32m     83\u001b[0m \u001b[39m# Accumulate batch loss to average over the epoch\u001b[39;00m\n\u001b[0;32m---> 84\u001b[0m train_loss \u001b[39m+\u001b[39m\u001b[39m=\u001b[39m loss\u001b[39m.\u001b[39;49mitem()\n\u001b[1;32m     86\u001b[0m \u001b[39m# Get the number of correct predictions\u001b[39;00m\n\u001b[1;32m     87\u001b[0m train_correct \u001b[39m+\u001b[39m\u001b[39m=\u001b[39m torch\u001b[39m.\u001b[39msum(\n\u001b[1;32m     88\u001b[0m     torch\u001b[39m.\u001b[39margmax(predicted_traversability_labels, dim\u001b[39m=\u001b[39m\u001b[39m1\u001b[39m) \u001b[39m==\u001b[39m traversability_labels\n\u001b[1;32m     89\u001b[0m     )\u001b[39m.\u001b[39mitem()\n",
      "\u001b[0;31mKeyboardInterrupt\u001b[0m: "
     ]
    }
   ],
   "source": [
    "# Create a list of models\n",
    "nb_models = 3\n",
    "some_models = [ResNet18Velocity().to(device=device) for _ in range(nb_models)]\n",
    "\n",
    "# Loop over the models\n",
    "for i in range(nb_models):\n",
    "    \n",
    "    print(f\"Training model {i+1}/{nb_models}\")\n",
    "    \n",
    "    # Get all the parameters excepts the weights and bias of fc layer\n",
    "    base_params = [param for name, param in some_models[i].named_parameters()\n",
    "                   if name not in [\"resnet18.fc.weight\", \"resnet18.fc.bias\"]]\n",
    "\n",
    "    # Define the optimizer, with a greater learning rate for the new fc layer\n",
    "    optimizer = optim.SGD([\n",
    "        {\"params\": base_params},\n",
    "        {\"params\": some_models[i].resnet18.fc.parameters(),\n",
    "         \"lr\": LEARNING_PARAMS[\"learning_rate\"] * 10},\n",
    "    ],\n",
    "        lr=LEARNING_PARAMS[\"learning_rate\"],\n",
    "        momentum=LEARNING_PARAMS[\"momentum\"],\n",
    "        weight_decay=LEARNING_PARAMS[\"weight_decay\"])\n",
    "    \n",
    "    # Loop over the epochs\n",
    "    for epoch in range(LEARNING_PARAMS[\"nb_epochs\"]):\n",
    "\n",
    "        # Train the model\n",
    "        train_loss, train_accuracy, train_regression_loss = train(some_models[i],\n",
    "                                                                  device,\n",
    "                                                                  train_loader,\n",
    "                                                                  optimizer,\n",
    "                                                                  criterion_classification,\n",
    "                                                                  criterion_regression,\n",
    "                                                                  bins_midpoints,\n",
    "                                                                  epoch)"
   ]
  },
  {
   "cell_type": "code",
   "execution_count": null,
   "metadata": {},
   "outputs": [],
   "source": [
    "# Create arrays to store the test losses\n",
    "# test_losses_loss = np.zeros((nb_models, 10))\n",
    "# test_losses_uncertainty = np.zeros((nb_models, 10))\n",
    "\n",
    "uncertainty_function = uncertainty.functions.shannon_entropy\n",
    "\n",
    "# Test the models\n",
    "test_regression_loss, test_regression_losses, uncertainties = test_models(some_models,\n",
    "                                                                          device,\n",
    "                                                                          test_loader,\n",
    "                                                                          criterion_classification,\n",
    "                                                                          criterion_regression,\n",
    "                                                                          bins_midpoints,\n",
    "                                                                          uncertainty_function)\n",
    "print(\"Test regression loss: \", test_regression_loss)\n",
    "\n",
    "# Compute the test losses after successive removal of the samples with the highest loss and uncertainty\n",
    "test_losses_loss, test_losses_uncertainty = \\\n",
    "    uncertainty.evaluation.uncertainty_relevance_models(some_models,\n",
    "                                                        device,\n",
    "                                                        criterion_classification,\n",
    "                                                        criterion_regression,\n",
    "                                                        bins_midpoints,\n",
    "                                                        uncertainty_function,\n",
    "                                                        test_models,\n",
    "                                                        test_set,\n",
    "                                                        test_regression_loss,\n",
    "                                                        test_regression_losses,\n",
    "                                                        uncertainties)"
   ]
  },
  {
   "attachments": {},
   "cell_type": "markdown",
   "metadata": {},
   "source": [
    "#### Plotting the results"
   ]
  },
  {
   "cell_type": "code",
   "execution_count": null,
   "metadata": {},
   "outputs": [],
   "source": [
    "plt.plot(range(0, 100, 10),\n",
    "         test_losses_loss,\n",
    "         \"bo--\",\n",
    "         label=\"removing samples with highest regression loss\",\n",
    "         markersize=4)\n",
    "plt.plot(range(0, 100, 10),\n",
    "         test_losses_uncertainty,\n",
    "         \"ro--\",\n",
    "         label=\"removing samples with highest uncertainty\",\n",
    "         markersize=4)\n",
    "\n",
    "plt.legend(loc=\"upper right\")\n",
    "plt.xlabel(\"Percentage of samples removed\")\n",
    "plt.ylabel(\"Regression error (MSE)\")"
   ]
  }
 ],
 "metadata": {
  "kernelspec": {
   "display_name": "Python 3",
   "language": "python",
   "name": "python3"
  },
  "language_info": {
   "codemirror_mode": {
    "name": "ipython",
    "version": 3
   },
   "file_extension": ".py",
   "mimetype": "text/x-python",
   "name": "python",
   "nbconvert_exporter": "python",
   "pygments_lexer": "ipython3",
   "version": "3.8.10"
  },
  "orig_nbformat": 4,
  "vscode": {
   "interpreter": {
    "hash": "916dbcbb3f70747c44a77c7bcd40155683ae19c65e1c03b4aa3499c5328201f1"
   }
  }
 },
 "nbformat": 4,
 "nbformat_minor": 2
}
