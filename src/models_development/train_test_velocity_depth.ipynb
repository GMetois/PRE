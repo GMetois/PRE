{
 "cells": [
  {
   "cell_type": "code",
   "execution_count": 295,
   "metadata": {},
   "outputs": [],
   "source": [
    "# Import libraries\n",
    "import torch\n",
    "import torch.nn as nn\n",
    "from torch import optim\n",
    "import torchvision.models as models\n",
    "from torchvision import transforms\n",
    "from torch.utils.data import DataLoader, Dataset, random_split, Subset\n",
    "import torch.nn.functional as F\n",
    "\n",
    "# A module to print a model summary (outputs shape, number of parameters, ...)\n",
    "import torchsummary\n",
    "\n",
    "# TensorBoard for visualization\n",
    "from torch.utils.tensorboard import SummaryWriter\n",
    "\n",
    "from tqdm import tqdm\n",
    "\n",
    "import pandas as pd\n",
    "import numpy as np\n",
    "import os\n",
    "import matplotlib.pyplot as plt\n",
    "plt.rcParams.update({\n",
    "    \"pgf.texsystem\": \"pdflatex\",\n",
    "    'font.family': 'serif',\n",
    "    'text.usetex': True,\n",
    "    'pgf.rcfonts': False,\n",
    "})\n",
    "\n",
    "from PIL import Image\n",
    "from sklearn.model_selection import train_test_split\n",
    "import time\n",
    "import random\n",
    "\n",
    "import cv2\n",
    "\n",
    "# Custom modules and packages\n",
    "import params.learning\n"
   ]
  },
  {
   "attachments": {},
   "cell_type": "markdown",
   "metadata": {},
   "source": [
    "## Prepare data"
   ]
  },
  {
   "cell_type": "code",
   "execution_count": 296,
   "metadata": {},
   "outputs": [],
   "source": [
    "# Define the data to be used\n",
    "DATASET = \"../../datasets/dataset_to_delete/\"\n",
    "\n",
    "\n",
    "class TraversabilityDataset(Dataset):\n",
    "    \"\"\"Custom Dataset class to represent our dataset\n",
    "    It includes data and information about the data\n",
    "\n",
    "    Args:\n",
    "        Dataset (class): Abstract class which represents a dataset\n",
    "    \"\"\"\n",
    "    \n",
    "    def __init__(self, traversal_costs_file, images_directory,\n",
    "                 transform_image=None,\n",
    "                 transform_depth=None,):\n",
    "        \"\"\"Constructor of the class\n",
    "\n",
    "        Args:\n",
    "            traversal_costs_file (string): Path to the csv file which contains\n",
    "            images index and their associated traversal cost\n",
    "            images_directory (string): Directory with all the images\n",
    "            transform (callable, optional): Transforms to be applied on a\n",
    "            sample. Defaults to None.\n",
    "        \"\"\"\n",
    "        # Read the csv file\n",
    "        self.traversal_costs_frame = pd.read_csv(traversal_costs_file,\n",
    "                                                 converters={\"image_id\": str})\n",
    "        \n",
    "        # Initialize the name of the images directory\n",
    "        self.images_directory = images_directory\n",
    "        \n",
    "        # Initialize the transforms\n",
    "        self.transform_image = transform_image\n",
    "        self.transform_depth = transform_depth\n",
    "\n",
    "    def __len__(self):\n",
    "        \"\"\"Return the size of the dataset\n",
    "\n",
    "        Returns:\n",
    "            int: Number of samples\n",
    "        \"\"\"\n",
    "        # Count the number of files in the image directory\n",
    "        # return len(os.listdir(self.images_directory))\n",
    "        return len(self.traversal_costs_frame)\n",
    "\n",
    "    def __getitem__(self, idx):\n",
    "        \"\"\"Allow to access a sample by its index\n",
    "\n",
    "        Args:\n",
    "            idx (int): Index of a sample\n",
    "\n",
    "        Returns:\n",
    "            list: Sample at index idx\n",
    "            ([image, traversal_cost])\n",
    "        \"\"\"\n",
    "        # Get the image name at index idx\n",
    "        image_name = os.path.join(self.images_directory,\n",
    "                                  self.traversal_costs_frame.loc[idx, \"image_id\"])\n",
    "        \n",
    "        # Read the image\n",
    "        image = Image.open(image_name + \".png\")\n",
    "        \n",
    "        # Eventually apply transforms to the image\n",
    "        if self.transform_image:\n",
    "            image = self.transform_image(image)\n",
    "            \n",
    "        # Read the depth image\n",
    "        depth_image = Image.open(image_name + \".tiff\")\n",
    "        \n",
    "        # Eventually apply transforms to the depth image\n",
    "        if self.transform_depth:\n",
    "            depth_image = self.transform_depth(depth_image)\n",
    "        \n",
    "        # Concatenate the image and depth image\n",
    "        multimodal_image = torch.cat((image, depth_image))\n",
    "        \n",
    "        # Get the corresponding traversal cost\n",
    "        traversal_cost = self.traversal_costs_frame.loc[idx, \"traversal_cost\"]\n",
    "        \n",
    "        # Get the corresponding traversability label\n",
    "        traversability_label = self.traversal_costs_frame.loc[idx, \"traversability_label\"]\n",
    "        \n",
    "        # Get the corresponding linear velocity\n",
    "        linear_velocity = self.traversal_costs_frame.loc[idx, \"linear_velocity\"]\n",
    "\n",
    "        return multimodal_image, traversal_cost, traversability_label, linear_velocity"
   ]
  },
  {
   "cell_type": "code",
   "execution_count": 297,
   "metadata": {},
   "outputs": [],
   "source": [
    "def compute_mean_std(images_directory, traversal_costs_file):\n",
    "    \"\"\"Compute the mean and standard deviation of the images of the dataset\n",
    "\n",
    "    Args:\n",
    "        images_directory (string): Directory with all the images\n",
    "        traversal_costs_file (string): Name of the csv file which contains\n",
    "        images index and their associated traversal cost\n",
    "\n",
    "    Returns:\n",
    "        torch::Tensor: Mean and standard deviation of the dataset\n",
    "    \"\"\"\n",
    "    transform = transforms.Compose([\n",
    "        # Reduce the size of the images\n",
    "        # (if size is an int, the smaller edge of the\n",
    "        # image will be matched to this number and the ration is kept)\n",
    "        transforms.Resize((70, 210)),\n",
    "\n",
    "        # Convert a PIL Image or numpy.ndarray to tensor\n",
    "        transforms.ToTensor(),\n",
    "    ])\n",
    "     \n",
    "    # Create a Dataset for training\n",
    "    dataset = TraversabilityDataset(\n",
    "        traversal_costs_file=DATASET+traversal_costs_file,\n",
    "        images_directory=DATASET+images_directory,\n",
    "        transform_image=transform,\n",
    "        transform_depth=transform\n",
    "    )\n",
    "     \n",
    "    loader = DataLoader(\n",
    "        dataset=dataset,\n",
    "        batch_size=1,\n",
    "        shuffle=False,\n",
    "        num_workers=12,\n",
    "        pin_memory=True\n",
    "    )\n",
    "\n",
    "    cnt = 0\n",
    "    first_moment = torch.empty(4)\n",
    "    second_moment = torch.empty(4)\n",
    "\n",
    "    for images, traversal_costs, traversability_labels, linear_velocity in loader:\n",
    "        b, c, h, w = images.shape\n",
    "        nb_pixels = b * h * w\n",
    "        sum_ = torch.sum(images, dim=[0, 2, 3])\n",
    "        sum_of_square = torch.sum(images ** 2, dim=[0, 2, 3])\n",
    "        first_moment = (cnt * first_moment + sum_) / (cnt + nb_pixels)\n",
    "        second_moment = (cnt * second_moment + sum_of_square) / (cnt + nb_pixels)\n",
    "        cnt += nb_pixels\n",
    "\n",
    "    mean = first_moment\n",
    "    std = torch.sqrt(second_moment - first_moment ** 2)\n",
    "    \n",
    "    return mean, std"
   ]
  },
  {
   "cell_type": "code",
   "execution_count": 298,
   "metadata": {},
   "outputs": [
    {
     "name": "stdout",
     "output_type": "stream",
     "text": [
      "tensor([0.4292, 0.4311, 0.4138, 1.2411]) tensor([0.1345, 0.1260, 0.1251, 0.4020])\n"
     ]
    }
   ],
   "source": [
    "mean, std = compute_mean_std(\"images_train\", \"traversal_costs_train.csv\")\n",
    "print(mean, std)"
   ]
  },
  {
   "cell_type": "code",
   "execution_count": 299,
   "metadata": {},
   "outputs": [],
   "source": [
    "# Compose several transforms together to be applied to training data\n",
    "# (Note that transforms are not applied yet)\n",
    "train_transform = transforms.Compose([\n",
    "    # Reduce the size of the images\n",
    "    # (if size is an int, the smaller edge of the\n",
    "    # image will be matched to this number and the ration is kept)\n",
    "    # transforms.Resize(100),\n",
    "    transforms.Resize((70, 210)),\n",
    "    \n",
    "    # Perform horizontal flip of the image with a probability of 0.5\n",
    "    # transforms.RandomHorizontalFlip(p=0.5),\n",
    "    \n",
    "    # Modify the brightness and the contrast of the image\n",
    "    transforms.ColorJitter(contrast=0.5, brightness=0.5),\n",
    "    \n",
    "    # Convert a PIL Image or numpy.ndarray to tensor\n",
    "    transforms.ToTensor(),\n",
    "    \n",
    "    # Add some random gaussian noise to the image\n",
    "    transforms.Lambda(lambda x: x + (0.001**0.5)*torch.randn(x.shape)),\n",
    "    \n",
    "    # Normalize a tensor image with pre-computed mean and standard deviation\n",
    "    # (based on the data used to train the model(s))\n",
    "    # (be careful, it only works on torch.*Tensor)\n",
    "    transforms.Normalize(\n",
    "        # mean=[0.485, 0.456, 0.406],\n",
    "        # std=[0.229, 0.224, 0.225]\n",
    "        mean=mean[:3],\n",
    "        std=std[:3]\n",
    "    ),\n",
    "])\n",
    "\n",
    "# Define a different set of transforms testing\n",
    "# (for instance we do not need to flip the image)\n",
    "test_transform = transforms.Compose([\n",
    "    # transforms.Resize(100),\n",
    "    transforms.Resize((70, 210)),\n",
    "    # transforms.Grayscale(),\n",
    "    # transforms.CenterCrop(100),\n",
    "    # transforms.RandomCrop(100),\n",
    "    transforms.ToTensor(),\n",
    "    \n",
    "    # Mean and standard deviation were pre-computed on the training data\n",
    "    # (on the ImageNet dataset)\n",
    "    transforms.Normalize(\n",
    "        # mean=[0.485, 0.456, 0.406],\n",
    "        # std=[0.229, 0.224, 0.225]\n",
    "        mean=mean[:3],\n",
    "        std=std[:3]\n",
    "    ),\n",
    "])\n",
    "\n",
    "transform_depth = transforms.Compose([\n",
    "        # Reduce the size of the images\n",
    "        # (if size is an int, the smaller edge of the\n",
    "        # image will be matched to this number and the ration is kept)\n",
    "        transforms.Resize((70, 210)),\n",
    "\n",
    "        # Convert a PIL Image or numpy.ndarray to tensor\n",
    "        transforms.ToTensor(),\n",
    "        \n",
    "        # Normalize a tensor image with pre-computed mean and standard deviation\n",
    "        # (based on the data used to train the model(s))\n",
    "        # (be careful, it only works on torch.*Tensor)\n",
    "        transforms.Normalize(\n",
    "            mean=mean[3],\n",
    "            std=std[3]\n",
    "        ),\n",
    "])\n",
    "\n",
    "\n",
    "# Create a Dataset for training\n",
    "train_set = TraversabilityDataset(\n",
    "    traversal_costs_file=DATASET+\"traversal_costs_train.csv\",\n",
    "    images_directory=DATASET+\"images_train\",\n",
    "    transform_image=train_transform,\n",
    "    transform_depth=transform_depth\n",
    ")\n",
    "\n",
    "# Create a Dataset for validation\n",
    "val_set = TraversabilityDataset(\n",
    "    traversal_costs_file=DATASET+\"traversal_costs_train.csv\",\n",
    "    images_directory=DATASET+\"images_train\",\n",
    "    transform_image=test_transform,\n",
    "    transform_depth=transform_depth\n",
    ")\n",
    "\n",
    "# Create a Dataset for testin\n",
    "test_set = TraversabilityDataset(\n",
    "    traversal_costs_file=DATASET+\"traversal_costs_test.csv\",\n",
    "    images_directory=DATASET+\"images_test\",\n",
    "    transform_image=test_transform,\n",
    "    transform_depth=transform_depth\n",
    ")\n",
    "\n",
    "# Set the train dataset size\n",
    "# 70% of the total data is used for training, 15% for validation\n",
    "# and 15% for testing\n",
    "train_size = 70/(100-15)\n",
    "\n",
    "# Splits train data indices into train and validation data indices\n",
    "train_indices, val_indices = train_test_split(range(len(train_set)), train_size=train_size)\n",
    "\n",
    "# Extract the corresponding subsets of the train dataset\n",
    "train_set = Subset(train_set, train_indices)\n",
    "val_set = Subset(val_set, val_indices)\n",
    "\n",
    "\n",
    "# Combine a dataset and a sampler, and provide an iterable over the dataset\n",
    "# (setting shuffle argument to True calls a RandomSampler, and avoids to\n",
    "# have to create a Sampler object)\n",
    "train_loader = DataLoader(\n",
    "    train_set,\n",
    "    batch_size=params.learning.BATCH_SIZE,\n",
    "    shuffle=True,\n",
    "    num_workers=12,  # Asynchronous data loading and augmentation\n",
    "    pin_memory=True,  # Increase the transferring speed of the data to the GPU\n",
    ")\n",
    "\n",
    "val_loader = DataLoader(\n",
    "    val_set,\n",
    "    batch_size=params.learning.BATCH_SIZE,\n",
    "    shuffle=True,\n",
    "    num_workers=12,\n",
    "    pin_memory=True,\n",
    ")\n",
    "\n",
    "test_loader = DataLoader(\n",
    "    test_set,\n",
    "    batch_size=params.learning.BATCH_SIZE,\n",
    "    shuffle=False,  # SequentialSampler\n",
    "    num_workers=12,\n",
    "    pin_memory=True,\n",
    ")"
   ]
  },
  {
   "cell_type": "code",
   "execution_count": 300,
   "metadata": {},
   "outputs": [
    {
     "name": "stdout",
     "output_type": "stream",
     "text": [
      "tensor(5.3203)\n"
     ]
    }
   ],
   "source": [
    "images, traversal_costs, traversability_labels, linear_velocity = next(iter(train_loader))\n",
    "\n",
    "print(torch.max(images[0]))\n",
    "# print((torch.max(train_set[0][1])))"
   ]
  },
  {
   "cell_type": "code",
   "execution_count": 301,
   "metadata": {},
   "outputs": [],
   "source": [
    "# Get the number of samples per split\n",
    "NB_TRAIN = len(train_set)\n",
    "NB_VAL = len(val_set)\n",
    "NB_TEST = len(test_set)"
   ]
  },
  {
   "cell_type": "code",
   "execution_count": 302,
   "metadata": {},
   "outputs": [
    {
     "name": "stdout",
     "output_type": "stream",
     "text": [
      "70.0 % of the data for training (1152 samples)\n",
      "15.0 % of the data for validation (247 samples)\n",
      "15.0 % of the data for testing (247 samples)\n"
     ]
    }
   ],
   "source": [
    "# Display the splits ratio\n",
    "NB_SAMPLES = NB_TRAIN + NB_VAL + NB_TEST\n",
    "\n",
    "print(f\"{np.round(NB_TRAIN/NB_SAMPLES*100)} % of the data for training ({NB_TRAIN} samples)\")\n",
    "print(f\"{np.round(NB_VAL/NB_SAMPLES*100)} % of the data for validation ({NB_VAL} samples)\")\n",
    "print(f\"{np.round(NB_TEST/NB_SAMPLES*100)} % of the data for testing ({NB_TEST} samples)\")"
   ]
  },
  {
   "attachments": {},
   "cell_type": "markdown",
   "metadata": {},
   "source": [
    "## GPU?"
   ]
  },
  {
   "cell_type": "code",
   "execution_count": 303,
   "metadata": {},
   "outputs": [
    {
     "name": "stdout",
     "output_type": "stream",
     "text": [
      "Device: cuda\n",
      "\n"
     ]
    }
   ],
   "source": [
    "# Use a GPU if available\n",
    "# device = \"cpu\"\n",
    "device = \"cuda\" if torch.cuda.is_available() else \"cpu\"\n",
    "print(f\"Device: {device}\\n\")"
   ]
  },
  {
   "attachments": {},
   "cell_type": "markdown",
   "metadata": {},
   "source": [
    "## Model design and initialization"
   ]
  },
  {
   "cell_type": "code",
   "execution_count": 304,
   "metadata": {},
   "outputs": [],
   "source": [
    "class ResNet18Velocity(nn.Module):\n",
    "    \n",
    "    def __init__(self, num_classes=10, num_input_features=1):\n",
    "        \n",
    "        super(ResNet18Velocity, self).__init__()\n",
    "        \n",
    "        ## Image and depth image processing ##\n",
    "        # Load the ResNet18 model with pretrained weights\n",
    "        self.resnet18 = models.resnet18(weights=models.ResNet18_Weights.DEFAULT)\n",
    "        # Replace the first convolutional layer to accept 4 channels\n",
    "        self.resnet18.conv1 = nn.Conv2d(\n",
    "            in_channels=4,\n",
    "            out_channels=64,\n",
    "            kernel_size=7, \n",
    "            stride=2,\n",
    "            padding=3,\n",
    "            bias=False\n",
    "        )\n",
    "        # Replace the last fully-connected layer to have n classes as output\n",
    "        self.resnet18.fc = nn.Linear(self.resnet18.fc.in_features, num_classes)\n",
    "        \n",
    "        ## Numeric input processing ##\n",
    "        self.fc = nn.Linear(num_input_features, 210*70*4)\n",
    "        \n",
    "    \n",
    "    def forward(self, x_img, x_dense):\n",
    "        \n",
    "        # FC layer to convert the numeric input to the same shape as the\n",
    "        # activation map\n",
    "        x_dense = self.fc(x_dense)\n",
    "        x_dense = x_dense.view(-1, 4, 70, 210) \n",
    "        \n",
    "        # Element-wise product of the activation map and the main-\n",
    "        # channel input\n",
    "        x = x_img * x_dense\n",
    "        \n",
    "        # Forward pass through the ResNet18\n",
    "        x = self.resnet18.conv1(x)\n",
    "        x = self.resnet18.bn1(x)\n",
    "        x = self.resnet18.relu(x)\n",
    "        x = self.resnet18.maxpool(x)\n",
    "        \n",
    "        x = self.resnet18.layer1(x)\n",
    "        x = self.resnet18.layer2(x)\n",
    "        x = self.resnet18.layer3(x)\n",
    "        x = self.resnet18.layer4(x)\n",
    "        \n",
    "        x = F.avg_pool2d(x, x.size()[2:])\n",
    "        x = x.view(x.size(0), -1)\n",
    "        x = self.resnet18.fc(x)\n",
    "        \n",
    "        return x"
   ]
  },
  {
   "cell_type": "code",
   "execution_count": 305,
   "metadata": {},
   "outputs": [],
   "source": [
    "# Create a ResNet18 model\n",
    "model = ResNet18Velocity().to(device=device)"
   ]
  },
  {
   "cell_type": "code",
   "execution_count": 306,
   "metadata": {},
   "outputs": [
    {
     "name": "stdout",
     "output_type": "stream",
     "text": [
      "torch.Size([32, 10])\n"
     ]
    }
   ],
   "source": [
    "# Create dummy tensors\n",
    "images = torch.randn(32, 4, 70, 210).to(device=device)  # (batch, channels, height, width)\n",
    "data = torch.randn(32, 1).to(device=device)  # (batch, features)\n",
    "\n",
    "print(model(images, data).shape)"
   ]
  },
  {
   "attachments": {},
   "cell_type": "markdown",
   "metadata": {},
   "source": [
    "#### Visualize the model"
   ]
  },
  {
   "cell_type": "code",
   "execution_count": 307,
   "metadata": {},
   "outputs": [
    {
     "name": "stdout",
     "output_type": "stream",
     "text": [
      "[('resnet18.conv1.weight', torch.Size([64, 4, 7, 7])), ('resnet18.bn1.weight', torch.Size([64])), ('resnet18.bn1.bias', torch.Size([64])), ('resnet18.layer1.0.conv1.weight', torch.Size([64, 64, 3, 3])), ('resnet18.layer1.0.bn1.weight', torch.Size([64])), ('resnet18.layer1.0.bn1.bias', torch.Size([64])), ('resnet18.layer1.0.conv2.weight', torch.Size([64, 64, 3, 3])), ('resnet18.layer1.0.bn2.weight', torch.Size([64])), ('resnet18.layer1.0.bn2.bias', torch.Size([64])), ('resnet18.layer1.1.conv1.weight', torch.Size([64, 64, 3, 3])), ('resnet18.layer1.1.bn1.weight', torch.Size([64])), ('resnet18.layer1.1.bn1.bias', torch.Size([64])), ('resnet18.layer1.1.conv2.weight', torch.Size([64, 64, 3, 3])), ('resnet18.layer1.1.bn2.weight', torch.Size([64])), ('resnet18.layer1.1.bn2.bias', torch.Size([64])), ('resnet18.layer2.0.conv1.weight', torch.Size([128, 64, 3, 3])), ('resnet18.layer2.0.bn1.weight', torch.Size([128])), ('resnet18.layer2.0.bn1.bias', torch.Size([128])), ('resnet18.layer2.0.conv2.weight', torch.Size([128, 128, 3, 3])), ('resnet18.layer2.0.bn2.weight', torch.Size([128])), ('resnet18.layer2.0.bn2.bias', torch.Size([128])), ('resnet18.layer2.0.downsample.0.weight', torch.Size([128, 64, 1, 1])), ('resnet18.layer2.0.downsample.1.weight', torch.Size([128])), ('resnet18.layer2.0.downsample.1.bias', torch.Size([128])), ('resnet18.layer2.1.conv1.weight', torch.Size([128, 128, 3, 3])), ('resnet18.layer2.1.bn1.weight', torch.Size([128])), ('resnet18.layer2.1.bn1.bias', torch.Size([128])), ('resnet18.layer2.1.conv2.weight', torch.Size([128, 128, 3, 3])), ('resnet18.layer2.1.bn2.weight', torch.Size([128])), ('resnet18.layer2.1.bn2.bias', torch.Size([128])), ('resnet18.layer3.0.conv1.weight', torch.Size([256, 128, 3, 3])), ('resnet18.layer3.0.bn1.weight', torch.Size([256])), ('resnet18.layer3.0.bn1.bias', torch.Size([256])), ('resnet18.layer3.0.conv2.weight', torch.Size([256, 256, 3, 3])), ('resnet18.layer3.0.bn2.weight', torch.Size([256])), ('resnet18.layer3.0.bn2.bias', torch.Size([256])), ('resnet18.layer3.0.downsample.0.weight', torch.Size([256, 128, 1, 1])), ('resnet18.layer3.0.downsample.1.weight', torch.Size([256])), ('resnet18.layer3.0.downsample.1.bias', torch.Size([256])), ('resnet18.layer3.1.conv1.weight', torch.Size([256, 256, 3, 3])), ('resnet18.layer3.1.bn1.weight', torch.Size([256])), ('resnet18.layer3.1.bn1.bias', torch.Size([256])), ('resnet18.layer3.1.conv2.weight', torch.Size([256, 256, 3, 3])), ('resnet18.layer3.1.bn2.weight', torch.Size([256])), ('resnet18.layer3.1.bn2.bias', torch.Size([256])), ('resnet18.layer4.0.conv1.weight', torch.Size([512, 256, 3, 3])), ('resnet18.layer4.0.bn1.weight', torch.Size([512])), ('resnet18.layer4.0.bn1.bias', torch.Size([512])), ('resnet18.layer4.0.conv2.weight', torch.Size([512, 512, 3, 3])), ('resnet18.layer4.0.bn2.weight', torch.Size([512])), ('resnet18.layer4.0.bn2.bias', torch.Size([512])), ('resnet18.layer4.0.downsample.0.weight', torch.Size([512, 256, 1, 1])), ('resnet18.layer4.0.downsample.1.weight', torch.Size([512])), ('resnet18.layer4.0.downsample.1.bias', torch.Size([512])), ('resnet18.layer4.1.conv1.weight', torch.Size([512, 512, 3, 3])), ('resnet18.layer4.1.bn1.weight', torch.Size([512])), ('resnet18.layer4.1.bn1.bias', torch.Size([512])), ('resnet18.layer4.1.conv2.weight', torch.Size([512, 512, 3, 3])), ('resnet18.layer4.1.bn2.weight', torch.Size([512])), ('resnet18.layer4.1.bn2.bias', torch.Size([512])), ('resnet18.fc.weight', torch.Size([10, 512])), ('resnet18.fc.bias', torch.Size([10])), ('fc.weight', torch.Size([58800, 1])), ('fc.bias', torch.Size([58800]))]\n"
     ]
    }
   ],
   "source": [
    "# Open TensorBoard\n",
    "tensorboard = SummaryWriter()\n",
    "\n",
    "# Display the architecture in TensorBoard\n",
    "images, traversal_costs, traversability_labels, linear_velocities = next(iter(train_loader))\n",
    "images = images.to(device)\n",
    "linear_velocities = linear_velocities.type(torch.float32).to(device)\n",
    "\n",
    "# Add a dimension to the linear velocities tensor\n",
    "linear_velocities.unsqueeze_(1)\n",
    "\n",
    "tensorboard.add_graph(model, (images, linear_velocities))\n",
    "\n",
    "# print(model)\n",
    "# print(torchsummary.summary(model, (3, 100, 100)))\n",
    "print([(name, param.shape) for name, param in model.named_parameters()])\n",
    "# print(model.fc.state_dict())"
   ]
  },
  {
   "attachments": {},
   "cell_type": "markdown",
   "metadata": {},
   "source": [
    "## Training and validation loops"
   ]
  },
  {
   "cell_type": "code",
   "execution_count": 308,
   "metadata": {},
   "outputs": [],
   "source": [
    "def train(model, device, train_loader, optimizer, criterion_classification, criterion_regression, bins_midpoints, epoch):\n",
    "    \"\"\"Train the model for one epoch\n",
    "\n",
    "    Args:\n",
    "        model (Model): The model to train\n",
    "        device (string): The device to use (cpu or cuda)\n",
    "        train_loader (Dataloader): The training data loader\n",
    "        optimizer (Optimizer): The optimizer to use\n",
    "        criterion_classification (Loss): The classification loss to use\n",
    "        criterion_regression (Loss): The regression loss to use\n",
    "        bins_midpoints (ndarray): The midpoints of the bins used to discretize the traversal costs\n",
    "        epoch (int): The current epoch\n",
    "\n",
    "    Returns:\n",
    "        double, double, double: The training loss, the training accuracy and the training regression loss\n",
    "    \"\"\"\n",
    "    # Initialize the training loss and accuracy\n",
    "    train_loss = 0.\n",
    "    train_correct = 0\n",
    "    train_regression_loss = 0.\n",
    "    \n",
    "    # Configure the model for training\n",
    "    # (good practice, only necessary if the model operates differently for\n",
    "    # training and validation)\n",
    "    model.train()\n",
    "    \n",
    "    # Add a progress bar\n",
    "    train_loader_pbar = tqdm(train_loader, unit=\"batch\")\n",
    "    \n",
    "    # Loop over the training batches\n",
    "    for images, traversal_costs, traversability_labels, linear_velocities in train_loader_pbar:\n",
    "        \n",
    "        # Print the epoch and training mode\n",
    "        train_loader_pbar.set_description(f\"Epoch {epoch} [train]\")\n",
    "        \n",
    "        # Move images and traversal scores to GPU (if available)\n",
    "        images = images.to(device)\n",
    "        traversal_costs = traversal_costs.to(device)\n",
    "        traversability_labels = traversability_labels.to(device)\n",
    "        linear_velocities = linear_velocities.type(torch.float32).to(device)\n",
    "        \n",
    "        # Add a dimension to the linear velocities tensor\n",
    "        linear_velocities.unsqueeze_(1)\n",
    "        \n",
    "        # Zero out gradients before each backpropagation pass, to avoid that\n",
    "        # they accumulate\n",
    "        optimizer.zero_grad()\n",
    "        \n",
    "        # Perform forward pass\n",
    "        predicted_traversability_labels = model(images, linear_velocities)\n",
    "        # predicted_traversal_scores = nn.Softmax(dim=1)(model(images))\n",
    "        \n",
    "        # Compute loss \n",
    "        loss = criterion_classification(predicted_traversability_labels, traversability_labels)\n",
    "        \n",
    "        # Print the batch loss next to the progress bar\n",
    "        train_loader_pbar.set_postfix(batch_loss=loss.item())\n",
    "        \n",
    "        # Perform backpropagation (update weights)\n",
    "        loss.backward()\n",
    "        \n",
    "        # Adjust parameters based on gradients\n",
    "        optimizer.step()\n",
    "        \n",
    "        # Accumulate batch loss to average over the epoch\n",
    "        train_loss += loss.item()\n",
    "    \n",
    "        # Get the number of correct predictions\n",
    "        train_correct += torch.sum(\n",
    "            torch.argmax(predicted_traversability_labels, dim=1) == traversability_labels\n",
    "            ).item()\n",
    "        \n",
    "        # Compute the expected traversal cost over the bins\n",
    "        expected_traversal_costs = torch.matmul(nn.Softmax(dim=1)(predicted_traversability_labels), bins_midpoints)\n",
    "        \n",
    "        # Compute and accumulate the batch loss\n",
    "        train_regression_loss += criterion_regression(expected_traversal_costs[:, 0], traversal_costs).item()\n",
    "    \n",
    "    # Compute the losses and accuracies\n",
    "    train_loss /= len(train_loader)\n",
    "    train_accuracy = 100*train_correct/NB_TRAIN\n",
    "    train_regression_loss /= len(train_loader)\n",
    "        \n",
    "    return train_loss, train_accuracy, train_regression_loss"
   ]
  },
  {
   "cell_type": "code",
   "execution_count": 309,
   "metadata": {},
   "outputs": [],
   "source": [
    "def validate(model, device, val_loader, criterion_classification, criterion_regression, bins_midpoints, epoch):\n",
    "    \"\"\"Validate the model for one epoch\n",
    "\n",
    "    Args:\n",
    "        model (Model): The model to validate\n",
    "        device (string): The device to use (cpu or cuda)\n",
    "        val_loader (Dataloader): The validation data loader\n",
    "        criterion_classification (Loss): The classification loss to use\n",
    "        criterion_regression (Loss): The regression loss to use\n",
    "        bins_midpoints (ndarray): The midpoints of the bins used to discretize the traversal costs\n",
    "        epoch (int): The current epoch\n",
    "        \n",
    "    Returns:\n",
    "        double, double, double: The validation loss, the validation accuracy and the validation regression loss\n",
    "    \"\"\"\n",
    "    # Initialize the validation loss and accuracy\n",
    "    val_loss = 0.\n",
    "    val_correct = 0\n",
    "    val_regression_loss = 0.\n",
    "    \n",
    "    # Configure the model for testing\n",
    "    # (turn off dropout layers, batchnorm layers, etc)\n",
    "    model.eval()\n",
    "    \n",
    "    # Add a progress bar\n",
    "    val_loader_pbar = tqdm(val_loader, unit=\"batch\")\n",
    "    \n",
    "    # Turn off gradients computation (the backward computational graph is built during\n",
    "    # the forward pass and weights are updated during the backward pass, here we avoid\n",
    "    # building the graph)\n",
    "    with torch.no_grad():\n",
    "        # Loop over the validation batches\n",
    "        for images, traversal_costs, traversability_labels, linear_velocities in val_loader_pbar:\n",
    "\n",
    "            # Print the epoch and validation mode\n",
    "            val_loader_pbar.set_description(f\"Epoch {epoch} [val]\")\n",
    "\n",
    "            # Move images and traversal scores to GPU (if available)\n",
    "            images = images.to(device)\n",
    "            traversal_costs = traversal_costs.to(device)\n",
    "            traversability_labels = traversability_labels.to(device)\n",
    "            linear_velocities = linear_velocities.type(torch.float32).to(device)\n",
    "            \n",
    "            # Add a dimension to the linear velocities tensor\n",
    "            linear_velocities.unsqueeze_(1)\n",
    "            \n",
    "            # Perform forward pass (only, no backpropagation)\n",
    "            predicted_traversability_labels = model(images, linear_velocities)\n",
    "            # predicted_traversal_scores = nn.Softmax(dim=1)(model(images))\n",
    "\n",
    "            # Compute loss\n",
    "            loss = criterion_classification(predicted_traversability_labels, traversability_labels)\n",
    "\n",
    "            # Print the batch loss next to the progress bar\n",
    "            val_loader_pbar.set_postfix(batch_loss=loss.item())\n",
    "\n",
    "            # Accumulate batch loss to average over the epoch\n",
    "            val_loss += loss.item()\n",
    "            \n",
    "            # Get the number of correct predictions\n",
    "            val_correct += torch.sum(\n",
    "                torch.argmax(predicted_traversability_labels, dim=1) == traversability_labels\n",
    "                ).item()\n",
    "            \n",
    "            # Compute the expected traversal cost over the bins\n",
    "            expected_traversal_costs = torch.matmul(nn.Softmax(dim=1)(predicted_traversability_labels), bins_midpoints)\n",
    "\n",
    "            # Compute and accumulate the batch loss\n",
    "            val_regression_loss += criterion_regression(expected_traversal_costs[:, 0], traversal_costs).item()\n",
    "        \n",
    "    # Compute the losses and accuracies\n",
    "    val_loss /= len(val_loader)\n",
    "    val_accuracy = 100*val_correct/NB_VAL\n",
    "    val_regression_loss /= len(val_loader)\n",
    "    \n",
    "    return val_loss, val_accuracy, val_regression_loss"
   ]
  },
  {
   "cell_type": "code",
   "execution_count": 310,
   "metadata": {},
   "outputs": [
    {
     "name": "stderr",
     "output_type": "stream",
     "text": [
      "Epoch 0 [train]: 100%|██████████| 36/36 [00:02<00:00, 12.67batch/s, batch_loss=1.93] \n",
      "Epoch 0 [val]: 100%|██████████| 8/8 [00:01<00:00,  5.94batch/s, batch_loss=1.19]\n"
     ]
    },
    {
     "name": "stdout",
     "output_type": "stream",
     "text": [
      "Train accuracy:  41.927083333333336\n",
      "Validation accuracy:  51.821862348178136\n",
      "Train regression loss:  0.00018335102949242939\n",
      "Validation regression loss:  4.744055429945122e-05\n"
     ]
    },
    {
     "name": "stderr",
     "output_type": "stream",
     "text": [
      "Epoch 1 [train]: 100%|██████████| 36/36 [00:02<00:00, 14.09batch/s, batch_loss=1.66]\n",
      "Epoch 1 [val]: 100%|██████████| 8/8 [00:01<00:00,  6.26batch/s, batch_loss=1.69] \n"
     ]
    },
    {
     "name": "stdout",
     "output_type": "stream",
     "text": [
      "Train accuracy:  50.78125\n",
      "Validation accuracy:  54.25101214574899\n",
      "Train regression loss:  6.522878583346904e-05\n",
      "Validation regression loss:  4.900080734643508e-05\n"
     ]
    },
    {
     "name": "stderr",
     "output_type": "stream",
     "text": [
      "Epoch 2 [train]: 100%|██████████| 36/36 [00:02<00:00, 13.98batch/s, batch_loss=1.34] \n",
      "Epoch 2 [val]: 100%|██████████| 8/8 [00:01<00:00,  5.98batch/s, batch_loss=1.27]\n"
     ]
    },
    {
     "name": "stdout",
     "output_type": "stream",
     "text": [
      "Train accuracy:  50.954861111111114\n",
      "Validation accuracy:  48.178137651821864\n",
      "Train regression loss:  6.403845397984405e-05\n",
      "Validation regression loss:  4.5233201991663e-05\n"
     ]
    },
    {
     "name": "stderr",
     "output_type": "stream",
     "text": [
      "Epoch 3 [train]: 100%|██████████| 36/36 [00:02<00:00, 13.72batch/s, batch_loss=1.36] \n",
      "Epoch 3 [val]: 100%|██████████| 8/8 [00:01<00:00,  5.97batch/s, batch_loss=1.18]\n"
     ]
    },
    {
     "name": "stdout",
     "output_type": "stream",
     "text": [
      "Train accuracy:  52.083333333333336\n",
      "Validation accuracy:  44.12955465587044\n",
      "Train regression loss:  6.314536885567466e-05\n",
      "Validation regression loss:  4.556474758240102e-05\n"
     ]
    },
    {
     "name": "stderr",
     "output_type": "stream",
     "text": [
      "Epoch 4 [train]: 100%|██████████| 36/36 [00:02<00:00, 13.61batch/s, batch_loss=1.01] \n",
      "Epoch 4 [val]: 100%|██████████| 8/8 [00:01<00:00,  6.24batch/s, batch_loss=0.852]\n"
     ]
    },
    {
     "name": "stdout",
     "output_type": "stream",
     "text": [
      "Train accuracy:  54.6875\n",
      "Validation accuracy:  55.06072874493927\n",
      "Train regression loss:  6.112440886512034e-05\n",
      "Validation regression loss:  4.4139632207586404e-05\n"
     ]
    },
    {
     "name": "stderr",
     "output_type": "stream",
     "text": [
      "Epoch 5 [train]: 100%|██████████| 36/36 [00:02<00:00, 14.62batch/s, batch_loss=1.41] \n",
      "Epoch 5 [val]: 100%|██████████| 8/8 [00:01<00:00,  6.15batch/s, batch_loss=1.31]\n"
     ]
    },
    {
     "name": "stdout",
     "output_type": "stream",
     "text": [
      "Train accuracy:  52.517361111111114\n",
      "Validation accuracy:  55.06072874493927\n",
      "Train regression loss:  5.972371788773673e-05\n",
      "Validation regression loss:  4.4332874781300005e-05\n"
     ]
    },
    {
     "name": "stderr",
     "output_type": "stream",
     "text": [
      "Epoch 6 [train]: 100%|██████████| 36/36 [00:02<00:00, 13.63batch/s, batch_loss=0.834]\n",
      "Epoch 6 [val]: 100%|██████████| 8/8 [00:01<00:00,  6.08batch/s, batch_loss=1.18] \n"
     ]
    },
    {
     "name": "stdout",
     "output_type": "stream",
     "text": [
      "Train accuracy:  55.642361111111114\n",
      "Validation accuracy:  52.63157894736842\n",
      "Train regression loss:  6.092067711755463e-05\n",
      "Validation regression loss:  4.3999958387766395e-05\n"
     ]
    },
    {
     "name": "stderr",
     "output_type": "stream",
     "text": [
      "Epoch 7 [train]: 100%|██████████| 36/36 [00:02<00:00, 13.45batch/s, batch_loss=0.978]\n",
      "Epoch 7 [val]: 100%|██████████| 8/8 [00:01<00:00,  6.25batch/s, batch_loss=1.13]\n"
     ]
    },
    {
     "name": "stdout",
     "output_type": "stream",
     "text": [
      "Train accuracy:  52.864583333333336\n",
      "Validation accuracy:  55.06072874493927\n",
      "Train regression loss:  5.945255708949743e-05\n",
      "Validation regression loss:  4.4021454739090944e-05\n"
     ]
    },
    {
     "name": "stderr",
     "output_type": "stream",
     "text": [
      "Epoch 8 [train]: 100%|██████████| 36/36 [00:02<00:00, 13.27batch/s, batch_loss=1.09] \n",
      "Epoch 8 [val]: 100%|██████████| 8/8 [00:01<00:00,  5.87batch/s, batch_loss=1.29]\n"
     ]
    },
    {
     "name": "stdout",
     "output_type": "stream",
     "text": [
      "Train accuracy:  55.642361111111114\n",
      "Validation accuracy:  56.2753036437247\n",
      "Train regression loss:  5.816203098081847e-05\n",
      "Validation regression loss:  4.399075415252094e-05\n"
     ]
    },
    {
     "name": "stderr",
     "output_type": "stream",
     "text": [
      "Epoch 9 [train]: 100%|██████████| 36/36 [00:02<00:00, 13.71batch/s, batch_loss=1.12] \n",
      "Epoch 9 [val]: 100%|██████████| 8/8 [00:01<00:00,  6.18batch/s, batch_loss=1.26] \n"
     ]
    },
    {
     "name": "stdout",
     "output_type": "stream",
     "text": [
      "Train accuracy:  53.21180555555556\n",
      "Validation accuracy:  52.63157894736842\n",
      "Train regression loss:  5.847204959458394e-05\n",
      "Validation regression loss:  4.470390262408911e-05\n"
     ]
    },
    {
     "name": "stderr",
     "output_type": "stream",
     "text": [
      "Epoch 10 [train]: 100%|██████████| 36/36 [00:02<00:00, 13.91batch/s, batch_loss=1.14] \n",
      "Epoch 10 [val]: 100%|██████████| 8/8 [00:01<00:00,  6.14batch/s, batch_loss=1.09]\n"
     ]
    },
    {
     "name": "stdout",
     "output_type": "stream",
     "text": [
      "Train accuracy:  53.298611111111114\n",
      "Validation accuracy:  55.06072874493927\n",
      "Train regression loss:  5.853536921633552e-05\n",
      "Validation regression loss:  4.28955314966112e-05\n"
     ]
    },
    {
     "name": "stderr",
     "output_type": "stream",
     "text": [
      "Epoch 11 [train]: 100%|██████████| 36/36 [00:02<00:00, 13.86batch/s, batch_loss=1.1]  \n",
      "Epoch 11 [val]: 100%|██████████| 8/8 [00:01<00:00,  6.16batch/s, batch_loss=1.4]  \n"
     ]
    },
    {
     "name": "stdout",
     "output_type": "stream",
     "text": [
      "Train accuracy:  56.510416666666664\n",
      "Validation accuracy:  56.68016194331984\n",
      "Train regression loss:  5.5943059886555536e-05\n",
      "Validation regression loss:  4.3282591645142244e-05\n"
     ]
    },
    {
     "name": "stderr",
     "output_type": "stream",
     "text": [
      "Epoch 12 [train]: 100%|██████████| 36/36 [00:02<00:00, 13.98batch/s, batch_loss=1.14] \n",
      "Epoch 12 [val]: 100%|██████████| 8/8 [00:01<00:00,  5.82batch/s, batch_loss=1.03] \n"
     ]
    },
    {
     "name": "stdout",
     "output_type": "stream",
     "text": [
      "Train accuracy:  54.60069444444444\n",
      "Validation accuracy:  57.08502024291498\n",
      "Train regression loss:  5.722509919394843e-05\n",
      "Validation regression loss:  4.250219269397505e-05\n"
     ]
    },
    {
     "name": "stderr",
     "output_type": "stream",
     "text": [
      "Epoch 13 [train]: 100%|██████████| 36/36 [00:02<00:00, 13.55batch/s, batch_loss=1.07] \n",
      "Epoch 13 [val]: 100%|██████████| 8/8 [00:01<00:00,  6.18batch/s, batch_loss=1.24] \n"
     ]
    },
    {
     "name": "stdout",
     "output_type": "stream",
     "text": [
      "Train accuracy:  57.204861111111114\n",
      "Validation accuracy:  56.68016194331984\n",
      "Train regression loss:  5.724437148112201e-05\n",
      "Validation regression loss:  4.335993991586941e-05\n"
     ]
    },
    {
     "name": "stderr",
     "output_type": "stream",
     "text": [
      "Epoch 14 [train]: 100%|██████████| 36/36 [00:02<00:00, 14.19batch/s, batch_loss=1.23] \n",
      "Epoch 14 [val]: 100%|██████████| 8/8 [00:01<00:00,  6.03batch/s, batch_loss=1.09]\n"
     ]
    },
    {
     "name": "stdout",
     "output_type": "stream",
     "text": [
      "Train accuracy:  54.166666666666664\n",
      "Validation accuracy:  55.465587044534416\n",
      "Train regression loss:  5.535716007603061e-05\n",
      "Validation regression loss:  4.5671038748132534e-05\n"
     ]
    },
    {
     "name": "stderr",
     "output_type": "stream",
     "text": [
      "Epoch 15 [train]: 100%|██████████| 36/36 [00:02<00:00, 13.57batch/s, batch_loss=1.19] \n",
      "Epoch 15 [val]: 100%|██████████| 8/8 [00:01<00:00,  6.11batch/s, batch_loss=1.2]  \n"
     ]
    },
    {
     "name": "stdout",
     "output_type": "stream",
     "text": [
      "Train accuracy:  54.77430555555556\n",
      "Validation accuracy:  56.2753036437247\n",
      "Train regression loss:  5.679738501657898e-05\n",
      "Validation regression loss:  4.344038777623514e-05\n"
     ]
    },
    {
     "name": "stderr",
     "output_type": "stream",
     "text": [
      "Epoch 16 [train]: 100%|██████████| 36/36 [00:02<00:00, 13.49batch/s, batch_loss=0.871]\n",
      "Epoch 16 [val]: 100%|██████████| 8/8 [00:01<00:00,  5.62batch/s, batch_loss=0.943]\n"
     ]
    },
    {
     "name": "stdout",
     "output_type": "stream",
     "text": [
      "Train accuracy:  56.25\n",
      "Validation accuracy:  56.2753036437247\n",
      "Train regression loss:  5.618651946651674e-05\n",
      "Validation regression loss:  4.346561768988543e-05\n"
     ]
    },
    {
     "name": "stderr",
     "output_type": "stream",
     "text": [
      "Epoch 17 [train]: 100%|██████████| 36/36 [00:02<00:00, 13.54batch/s, batch_loss=1.11] \n",
      "Epoch 17 [val]: 100%|██████████| 8/8 [00:01<00:00,  5.83batch/s, batch_loss=1.12] \n"
     ]
    },
    {
     "name": "stdout",
     "output_type": "stream",
     "text": [
      "Train accuracy:  56.423611111111114\n",
      "Validation accuracy:  54.25101214574899\n",
      "Train regression loss:  5.5557415847155705e-05\n",
      "Validation regression loss:  4.3113628878139524e-05\n"
     ]
    },
    {
     "name": "stderr",
     "output_type": "stream",
     "text": [
      "Epoch 18 [train]: 100%|██████████| 36/36 [00:02<00:00, 14.17batch/s, batch_loss=1.08] \n",
      "Epoch 18 [val]: 100%|██████████| 8/8 [00:01<00:00,  6.11batch/s, batch_loss=0.955]\n"
     ]
    },
    {
     "name": "stdout",
     "output_type": "stream",
     "text": [
      "Train accuracy:  55.81597222222222\n",
      "Validation accuracy:  56.2753036437247\n",
      "Train regression loss:  5.381957156312606e-05\n",
      "Validation regression loss:  4.389750434233979e-05\n"
     ]
    },
    {
     "name": "stderr",
     "output_type": "stream",
     "text": [
      "Epoch 19 [train]: 100%|██████████| 36/36 [00:02<00:00, 13.99batch/s, batch_loss=1.09] \n",
      "Epoch 19 [val]: 100%|██████████| 8/8 [00:01<00:00,  6.28batch/s, batch_loss=1]    \n"
     ]
    },
    {
     "name": "stdout",
     "output_type": "stream",
     "text": [
      "Train accuracy:  57.72569444444444\n",
      "Validation accuracy:  57.48987854251012\n",
      "Train regression loss:  5.533659637636043e-05\n",
      "Validation regression loss:  4.404031544394045e-05\n"
     ]
    },
    {
     "name": "stderr",
     "output_type": "stream",
     "text": [
      "Epoch 20 [train]: 100%|██████████| 36/36 [00:02<00:00, 13.49batch/s, batch_loss=1.07] \n",
      "Epoch 20 [val]: 100%|██████████| 8/8 [00:01<00:00,  5.83batch/s, batch_loss=1.32] \n"
     ]
    },
    {
     "name": "stdout",
     "output_type": "stream",
     "text": [
      "Train accuracy:  57.638888888888886\n",
      "Validation accuracy:  54.65587044534413\n",
      "Train regression loss:  5.385031646422286e-05\n",
      "Validation regression loss:  4.393122338694376e-05\n"
     ]
    },
    {
     "name": "stderr",
     "output_type": "stream",
     "text": [
      "Epoch 21 [train]: 100%|██████████| 36/36 [00:02<00:00, 14.09batch/s, batch_loss=1.25] \n",
      "Epoch 21 [val]: 100%|██████████| 8/8 [00:01<00:00,  6.09batch/s, batch_loss=1.45] \n"
     ]
    },
    {
     "name": "stdout",
     "output_type": "stream",
     "text": [
      "Train accuracy:  58.420138888888886\n",
      "Validation accuracy:  55.87044534412956\n",
      "Train regression loss:  5.349232375757761e-05\n",
      "Validation regression loss:  4.461609574594108e-05\n"
     ]
    },
    {
     "name": "stderr",
     "output_type": "stream",
     "text": [
      "Epoch 22 [train]: 100%|██████████| 36/36 [00:02<00:00, 13.33batch/s, batch_loss=1.36] \n",
      "Epoch 22 [val]: 100%|██████████| 8/8 [00:01<00:00,  6.26batch/s, batch_loss=1.37] \n"
     ]
    },
    {
     "name": "stdout",
     "output_type": "stream",
     "text": [
      "Train accuracy:  59.46180555555556\n",
      "Validation accuracy:  57.08502024291498\n",
      "Train regression loss:  5.134782017867616e-05\n",
      "Validation regression loss:  4.280419341341408e-05\n"
     ]
    },
    {
     "name": "stderr",
     "output_type": "stream",
     "text": [
      "Epoch 23 [train]: 100%|██████████| 36/36 [00:02<00:00, 13.51batch/s, batch_loss=1.04] \n",
      "Epoch 23 [val]: 100%|██████████| 8/8 [00:01<00:00,  6.28batch/s, batch_loss=1.11]\n"
     ]
    },
    {
     "name": "stdout",
     "output_type": "stream",
     "text": [
      "Train accuracy:  60.59027777777778\n",
      "Validation accuracy:  57.89473684210526\n",
      "Train regression loss:  5.218128775889039e-05\n",
      "Validation regression loss:  4.270686065321546e-05\n"
     ]
    },
    {
     "name": "stderr",
     "output_type": "stream",
     "text": [
      "Epoch 24 [train]: 100%|██████████| 36/36 [00:02<00:00, 14.46batch/s, batch_loss=0.804]\n",
      "Epoch 24 [val]: 100%|██████████| 8/8 [00:01<00:00,  6.17batch/s, batch_loss=1.48] \n"
     ]
    },
    {
     "name": "stdout",
     "output_type": "stream",
     "text": [
      "Train accuracy:  61.71875\n",
      "Validation accuracy:  55.465587044534416\n",
      "Train regression loss:  5.0060516849897806e-05\n",
      "Validation regression loss:  4.3577938943863123e-05\n"
     ]
    },
    {
     "name": "stderr",
     "output_type": "stream",
     "text": [
      "Epoch 25 [train]: 100%|██████████| 36/36 [00:02<00:00, 13.68batch/s, batch_loss=1.34] \n",
      "Epoch 25 [val]: 100%|██████████| 8/8 [00:01<00:00,  5.92batch/s, batch_loss=1.1]  \n"
     ]
    },
    {
     "name": "stdout",
     "output_type": "stream",
     "text": [
      "Train accuracy:  59.72222222222222\n",
      "Validation accuracy:  56.2753036437247\n",
      "Train regression loss:  5.019811489403198e-05\n",
      "Validation regression loss:  4.234206741961135e-05\n"
     ]
    },
    {
     "name": "stderr",
     "output_type": "stream",
     "text": [
      "Epoch 26 [train]: 100%|██████████| 36/36 [00:02<00:00, 13.79batch/s, batch_loss=0.992]\n",
      "Epoch 26 [val]: 100%|██████████| 8/8 [00:01<00:00,  6.35batch/s, batch_loss=1.29] \n"
     ]
    },
    {
     "name": "stdout",
     "output_type": "stream",
     "text": [
      "Train accuracy:  60.763888888888886\n",
      "Validation accuracy:  53.84615384615385\n",
      "Train regression loss:  5.1532721287892966e-05\n",
      "Validation regression loss:  4.2353608533761114e-05\n"
     ]
    },
    {
     "name": "stderr",
     "output_type": "stream",
     "text": [
      "Epoch 27 [train]: 100%|██████████| 36/36 [00:02<00:00, 14.41batch/s, batch_loss=0.821]\n",
      "Epoch 27 [val]: 100%|██████████| 8/8 [00:01<00:00,  5.94batch/s, batch_loss=1.33] \n"
     ]
    },
    {
     "name": "stdout",
     "output_type": "stream",
     "text": [
      "Train accuracy:  60.329861111111114\n",
      "Validation accuracy:  55.06072874493927\n",
      "Train regression loss:  5.14194960471595e-05\n",
      "Validation regression loss:  4.1970429070774454e-05\n"
     ]
    },
    {
     "name": "stderr",
     "output_type": "stream",
     "text": [
      "Epoch 28 [train]: 100%|██████████| 36/36 [00:02<00:00, 14.06batch/s, batch_loss=0.89] \n",
      "Epoch 28 [val]: 100%|██████████| 8/8 [00:01<00:00,  6.08batch/s, batch_loss=1.37] \n"
     ]
    },
    {
     "name": "stdout",
     "output_type": "stream",
     "text": [
      "Train accuracy:  62.15277777777778\n",
      "Validation accuracy:  57.48987854251012\n",
      "Train regression loss:  4.996191492298001e-05\n",
      "Validation regression loss:  4.15144473701327e-05\n"
     ]
    },
    {
     "name": "stderr",
     "output_type": "stream",
     "text": [
      "Epoch 29 [train]: 100%|██████████| 36/36 [00:02<00:00, 13.65batch/s, batch_loss=0.897]\n",
      "Epoch 29 [val]: 100%|██████████| 8/8 [00:01<00:00,  6.01batch/s, batch_loss=0.895]\n"
     ]
    },
    {
     "name": "stdout",
     "output_type": "stream",
     "text": [
      "Train accuracy:  61.63194444444444\n",
      "Validation accuracy:  56.2753036437247\n",
      "Train regression loss:  4.775312096821928e-05\n",
      "Validation regression loss:  4.1921484597063134e-05\n"
     ]
    },
    {
     "name": "stderr",
     "output_type": "stream",
     "text": [
      "Epoch 30 [train]: 100%|██████████| 36/36 [00:02<00:00, 13.69batch/s, batch_loss=0.954]\n",
      "Epoch 30 [val]: 100%|██████████| 8/8 [00:01<00:00,  6.30batch/s, batch_loss=1.12] \n"
     ]
    },
    {
     "name": "stdout",
     "output_type": "stream",
     "text": [
      "Train accuracy:  62.41319444444444\n",
      "Validation accuracy:  59.10931174089069\n",
      "Train regression loss:  4.8525635304360043e-05\n",
      "Validation regression loss:  4.1196451042480576e-05\n"
     ]
    },
    {
     "name": "stderr",
     "output_type": "stream",
     "text": [
      "Epoch 31 [train]: 100%|██████████| 36/36 [00:02<00:00, 14.33batch/s, batch_loss=1.26] \n",
      "Epoch 31 [val]: 100%|██████████| 8/8 [00:01<00:00,  6.26batch/s, batch_loss=1.35]\n"
     ]
    },
    {
     "name": "stdout",
     "output_type": "stream",
     "text": [
      "Train accuracy:  63.802083333333336\n",
      "Validation accuracy:  57.48987854251012\n",
      "Train regression loss:  4.7536964534710084e-05\n",
      "Validation regression loss:  4.138255310294268e-05\n"
     ]
    },
    {
     "name": "stderr",
     "output_type": "stream",
     "text": [
      "Epoch 32 [train]: 100%|██████████| 36/36 [00:02<00:00, 13.68batch/s, batch_loss=1.31] \n",
      "Epoch 32 [val]: 100%|██████████| 8/8 [00:01<00:00,  5.88batch/s, batch_loss=1.09] \n"
     ]
    },
    {
     "name": "stdout",
     "output_type": "stream",
     "text": [
      "Train accuracy:  62.93402777777778\n",
      "Validation accuracy:  57.08502024291498\n",
      "Train regression loss:  4.6065727237864465e-05\n",
      "Validation regression loss:  4.1192688088142354e-05\n"
     ]
    },
    {
     "name": "stderr",
     "output_type": "stream",
     "text": [
      "Epoch 33 [train]: 100%|██████████| 36/36 [00:02<00:00, 14.04batch/s, batch_loss=0.724]\n",
      "Epoch 33 [val]: 100%|██████████| 8/8 [00:01<00:00,  5.84batch/s, batch_loss=1.11] \n"
     ]
    },
    {
     "name": "stdout",
     "output_type": "stream",
     "text": [
      "Train accuracy:  59.635416666666664\n",
      "Validation accuracy:  54.65587044534413\n",
      "Train regression loss:  4.9036102311096785e-05\n",
      "Validation regression loss:  4.3682813550277085e-05\n"
     ]
    },
    {
     "name": "stderr",
     "output_type": "stream",
     "text": [
      "Epoch 34 [train]: 100%|██████████| 36/36 [00:02<00:00, 13.58batch/s, batch_loss=0.877]\n",
      "Epoch 34 [val]: 100%|██████████| 8/8 [00:01<00:00,  5.93batch/s, batch_loss=1.43] \n"
     ]
    },
    {
     "name": "stdout",
     "output_type": "stream",
     "text": [
      "Train accuracy:  63.888888888888886\n",
      "Validation accuracy:  57.89473684210526\n",
      "Train regression loss:  4.966243297983955e-05\n",
      "Validation regression loss:  4.164412950298545e-05\n"
     ]
    },
    {
     "name": "stderr",
     "output_type": "stream",
     "text": [
      "Epoch 35 [train]: 100%|██████████| 36/36 [00:02<00:00, 14.36batch/s, batch_loss=0.884]\n",
      "Epoch 35 [val]: 100%|██████████| 8/8 [00:01<00:00,  5.78batch/s, batch_loss=0.869]\n"
     ]
    },
    {
     "name": "stdout",
     "output_type": "stream",
     "text": [
      "Train accuracy:  64.0625\n",
      "Validation accuracy:  56.68016194331984\n",
      "Train regression loss:  4.829503360502036e-05\n",
      "Validation regression loss:  4.488505598515929e-05\n"
     ]
    },
    {
     "name": "stderr",
     "output_type": "stream",
     "text": [
      "Epoch 36 [train]: 100%|██████████| 36/36 [00:02<00:00, 14.01batch/s, batch_loss=0.933]\n",
      "Epoch 36 [val]: 100%|██████████| 8/8 [00:01<00:00,  5.99batch/s, batch_loss=0.795]\n"
     ]
    },
    {
     "name": "stdout",
     "output_type": "stream",
     "text": [
      "Train accuracy:  63.541666666666664\n",
      "Validation accuracy:  53.441295546558706\n",
      "Train regression loss:  4.625463051586797e-05\n",
      "Validation regression loss:  4.070136157629107e-05\n"
     ]
    },
    {
     "name": "stderr",
     "output_type": "stream",
     "text": [
      "Epoch 37 [train]: 100%|██████████| 36/36 [00:02<00:00, 13.72batch/s, batch_loss=0.703]\n",
      "Epoch 37 [val]: 100%|██████████| 8/8 [00:01<00:00,  6.25batch/s, batch_loss=1.17]\n"
     ]
    },
    {
     "name": "stdout",
     "output_type": "stream",
     "text": [
      "Train accuracy:  63.71527777777778\n",
      "Validation accuracy:  57.89473684210526\n",
      "Train regression loss:  4.6923621942396114e-05\n",
      "Validation regression loss:  4.1779581016015235e-05\n"
     ]
    },
    {
     "name": "stderr",
     "output_type": "stream",
     "text": [
      "Epoch 38 [train]: 100%|██████████| 36/36 [00:02<00:00, 13.96batch/s, batch_loss=1.43] \n",
      "Epoch 38 [val]: 100%|██████████| 8/8 [00:01<00:00,  6.18batch/s, batch_loss=1.36]\n"
     ]
    },
    {
     "name": "stdout",
     "output_type": "stream",
     "text": [
      "Train accuracy:  65.10416666666667\n",
      "Validation accuracy:  53.441295546558706\n",
      "Train regression loss:  4.7757383692010595e-05\n",
      "Validation regression loss:  4.407594934564574e-05\n"
     ]
    },
    {
     "name": "stderr",
     "output_type": "stream",
     "text": [
      "Epoch 39 [train]: 100%|██████████| 36/36 [00:02<00:00, 14.38batch/s, batch_loss=1.18] \n",
      "Epoch 39 [val]: 100%|██████████| 8/8 [00:01<00:00,  6.02batch/s, batch_loss=0.934]"
     ]
    },
    {
     "name": "stdout",
     "output_type": "stream",
     "text": [
      "Train accuracy:  63.71527777777778\n",
      "Validation accuracy:  54.65587044534413\n",
      "Train regression loss:  5.112048659740273e-05\n",
      "Validation regression loss:  4.1033212537618695e-05\n"
     ]
    },
    {
     "name": "stderr",
     "output_type": "stream",
     "text": [
      "\n"
     ]
    }
   ],
   "source": [
    "# Define the loss function (combines nn.LogSoftmax() and nn.NLLLoss())\n",
    "criterion_classification = nn.CrossEntropyLoss()\n",
    "\n",
    "# Loss function to compare the expected traversal cost over the bins\n",
    "# and the ground truth traversal cost\n",
    "criterion_regression = nn.MSELoss()\n",
    "\n",
    "# Load the bins midpoints\n",
    "bins_midpoints = np.load(DATASET+\"bins_midpoints.npy\")\n",
    "bins_midpoints = torch.tensor(bins_midpoints[:, None], dtype=torch.float32, device=device)\n",
    "\n",
    "# Get all the parameters excepts the weights and bias of fc layer\n",
    "base_params = [param for name, param in model.named_parameters()\n",
    "               if name not in [\"resnet18.fc.weight\", \"resnet18.fc.bias\"]]\n",
    "\n",
    "# Define the optimizer, with a greater learning rate for the new fc layer\n",
    "optimizer = optim.SGD([\n",
    "    {\"params\": base_params},\n",
    "    {\"params\": model.resnet18.fc.parameters(), \"lr\": 1e-3},\n",
    "],\n",
    "    lr=1e-4, momentum=0.9, weight_decay=0.001)\n",
    "\n",
    "# Create tensors to store the loss and accuracy values\n",
    "loss_values = torch.zeros(2, params.learning.NB_EPOCHS)\n",
    "accuracy_values = torch.zeros(2, params.learning.NB_EPOCHS)\n",
    "regression_loss_values = torch.zeros(2, params.learning.NB_EPOCHS)\n",
    "\n",
    "# Loop over the epochs\n",
    "for epoch in range(params.learning.NB_EPOCHS):\n",
    "    \n",
    "    # Training\n",
    "    train_loss, train_accuracy, train_regression_loss = train(model,\n",
    "                                                              device,\n",
    "                                                              train_loader,\n",
    "                                                              optimizer,\n",
    "                                                              criterion_classification,\n",
    "                                                              criterion_regression,\n",
    "                                                              bins_midpoints,\n",
    "                                                              epoch)\n",
    "    \n",
    "    # Validation\n",
    "    val_loss, val_accuracy, val_regression_loss = validate(model,\n",
    "                                                           device,\n",
    "                                                           val_loader,\n",
    "                                                           criterion_classification,\n",
    "                                                           criterion_regression,\n",
    "                                                           bins_midpoints,\n",
    "                                                           epoch) \n",
    "    \n",
    "    print(\"Train accuracy: \", train_accuracy)\n",
    "    print(\"Validation accuracy: \", val_accuracy)\n",
    "    print(\"Train regression loss: \", train_regression_loss)\n",
    "    print(\"Validation regression loss: \", val_regression_loss)\n",
    "    \n",
    "    # Store the computed losses\n",
    "    loss_values[0, epoch] = train_loss\n",
    "    loss_values[1, epoch] = val_loss\n",
    "    # Store the computed accuracies\n",
    "    accuracy_values[0, epoch] = train_accuracy\n",
    "    accuracy_values[1, epoch] = val_accuracy\n",
    "    # Store the computed regression losses\n",
    "    regression_loss_values[0, epoch] = train_regression_loss\n",
    "    regression_loss_values[1, epoch] = val_regression_loss\n",
    "    \n",
    "    # Add the losses to TensorBoard\n",
    "    tensorboard.add_scalar(\"train_loss\", train_loss, epoch)\n",
    "    tensorboard.add_scalar(\"val_loss\", val_loss, epoch)\n",
    "    # Add the accuracies to TensorBoard\n",
    "    tensorboard.add_scalar(\"train_accuracy\", train_accuracy, epoch)\n",
    "    tensorboard.add_scalar(\"val_accuracy\", val_accuracy, epoch)\n",
    "    # Add the regression losses to TensorBoard\n",
    "    tensorboard.add_scalar(\"train_regression_loss\", train_regression_loss, epoch)\n",
    "    tensorboard.add_scalar(\"val_regression_loss\", val_regression_loss, epoch)\n",
    "\n",
    "# Close TensorBoard\n",
    "tensorboard.close()"
   ]
  },
  {
   "attachments": {},
   "cell_type": "markdown",
   "metadata": {},
   "source": [
    "### Visualization"
   ]
  },
  {
   "cell_type": "code",
   "execution_count": 311,
   "metadata": {},
   "outputs": [
    {
     "data": {
      "text/plain": [
       "Text(0.5, 0, 'Epoch')"
      ]
     },
     "execution_count": 311,
     "metadata": {},
     "output_type": "execute_result"
    },
    {
     "data": {
      "image/png": "[encoded data removed]",
      "text/plain": [
       "<Figure size 640x480 with 1 Axes>"
      ]
     },
     "metadata": {},
     "output_type": "display_data"
    }
   ],
   "source": [
    "# Loss\n",
    "train_losses = loss_values[0]\n",
    "val_losses = loss_values[1]\n",
    "\n",
    "plt.plot(train_losses, \"b\", label=\"train loss\")\n",
    "plt.plot(val_losses, \"r\", label=\"validation loss\")\n",
    "\n",
    "plt.legend()\n",
    "plt.xlabel(\"Epoch\")"
   ]
  },
  {
   "cell_type": "code",
   "execution_count": 312,
   "metadata": {},
   "outputs": [
    {
     "data": {
      "text/plain": [
       "Text(0.5, 0, 'Epoch')"
      ]
     },
     "execution_count": 312,
     "metadata": {},
     "output_type": "execute_result"
    },
    {
     "data": {
      "image/png": "[encoded data removed]",
      "text/plain": [
       "<Figure size 640x480 with 1 Axes>"
      ]
     },
     "metadata": {},
     "output_type": "display_data"
    }
   ],
   "source": [
    "# Accuracy\n",
    "train_accuracies = accuracy_values[0]\n",
    "val_accuracies = accuracy_values[1]\n",
    "\n",
    "plt.plot(train_accuracies, \"b\", label=\"train accuracy\")\n",
    "plt.plot(val_accuracies, \"r\", label=\"validation accuracy\")\n",
    "\n",
    "plt.legend()\n",
    "plt.xlabel(\"Epoch\")"
   ]
  },
  {
   "cell_type": "code",
   "execution_count": 313,
   "metadata": {},
   "outputs": [
    {
     "data": {
      "text/plain": [
       "Text(0.5, 0, 'Epoch')"
      ]
     },
     "execution_count": 313,
     "metadata": {},
     "output_type": "execute_result"
    },
    {
     "data": {
      "image/png": "[encoded data removed]",
      "text/plain": [
       "<Figure size 640x480 with 1 Axes>"
      ]
     },
     "metadata": {},
     "output_type": "display_data"
    }
   ],
   "source": [
    "# Regression loss\n",
    "train_regression_losses = regression_loss_values[0]\n",
    "val_regression_losses = regression_loss_values[1]\n",
    "\n",
    "plt.plot(train_regression_losses, \"b\", label=\"train regression loss\")\n",
    "plt.plot(val_regression_losses, \"r\", label=\"validation regression loss\")\n",
    "\n",
    "plt.legend()\n",
    "plt.xlabel(\"Epoch\")"
   ]
  },
  {
   "attachments": {},
   "cell_type": "markdown",
   "metadata": {},
   "source": [
    "## Testing"
   ]
  },
  {
   "attachments": {},
   "cell_type": "markdown",
   "metadata": {},
   "source": [
    "#### Uncertainty functions"
   ]
  },
  {
   "cell_type": "code",
   "execution_count": 314,
   "metadata": {},
   "outputs": [],
   "source": [
    "def shannon_entropy(p):\n",
    "    \"\"\"\n",
    "    Apply the Shannon entropy function to a probability distribution\n",
    "    \"\"\"\n",
    "    return -torch.sum(p*torch.log(p), dim=1)\n",
    "\n",
    "def least_confidence(p):\n",
    "    \"\"\"\n",
    "    Apply the least confidence function to a probability distribution\n",
    "    \"\"\"\n",
    "    return 1 - torch.max(p, dim=1)[0]\n",
    "\n",
    "def confidence_margin(p):\n",
    "    \"\"\"\n",
    "    Apply the margin sampling function to a probability distribution\n",
    "    \"\"\"\n",
    "    sorted_p, _ = torch.sort(p, dim=1, descending=True)\n",
    "    return 1 - (sorted_p[:, 0] - sorted_p[:, 1])\n"
   ]
  },
  {
   "attachments": {},
   "cell_type": "markdown",
   "metadata": {},
   "source": [
    "#### Regression error function"
   ]
  },
  {
   "cell_type": "code",
   "execution_count": 315,
   "metadata": {},
   "outputs": [],
   "source": [
    "def squared_error(predicted_costs, true_costs):\n",
    "    \"\"\"\n",
    "    Apply the squared error function to a predicted and true traversal cost\n",
    "    \"\"\"\n",
    "    return (predicted_costs - true_costs)**2"
   ]
  },
  {
   "attachments": {},
   "cell_type": "markdown",
   "metadata": {},
   "source": [
    "#### Test function"
   ]
  },
  {
   "cell_type": "code",
   "execution_count": 316,
   "metadata": {},
   "outputs": [],
   "source": [
    "def test(model, device, test_loader, criterion_classification, criterion_regression, bins_midpoints, uncertainty_function):\n",
    "    \"\"\"Test the model on the test set\n",
    "\n",
    "    Args:\n",
    "        model (Model): The model to test\n",
    "        device (string): The device to use for the computations\n",
    "        test_loader (Dataloader): The dataloader for the test set\n",
    "        criterion_classification (Loss): The loss function for the classification task\n",
    "        criterion_regression (Loss): The loss function for the regression task\n",
    "        bins_midpoints (ndarray): The midpoints of the bins used for the discretization of the traversal cost\n",
    "        uncertainty_function (function): The function to use to compute the uncertainty\n",
    "\n",
    "    Returns:\n",
    "        double, double, double, list, list: The average loss, the accuracy, the regression loss,\n",
    "        the list of the uncertainties, the list of regression losses\n",
    "    \"\"\"\n",
    "    # Testing\n",
    "    test_loss = 0.\n",
    "    test_correct = 0\n",
    "    test_regression_loss = 0.\n",
    "\n",
    "    # Configure the model for testing\n",
    "    model.eval()\n",
    "\n",
    "    test_regression_losses = []\n",
    "    uncertainties = []\n",
    "\n",
    "    with torch.no_grad():\n",
    "        # Loop over the testing batches\n",
    "        for images, traversal_costs, traversability_labels, linear_velocities in test_loader:\n",
    "\n",
    "            images = images.to(device)\n",
    "            traversal_costs = traversal_costs.to(device)\n",
    "            traversability_labels = traversability_labels.to(device)\n",
    "            linear_velocities = linear_velocities.type(torch.float32).to(device)\n",
    "\n",
    "            # Add a dimension to the linear velocities tensor\n",
    "            linear_velocities.unsqueeze_(1)\n",
    "            \n",
    "            # Perform forward pass\n",
    "            predicted_traversability_labels = model(images, linear_velocities)\n",
    "\n",
    "            # Compute loss\n",
    "            loss = criterion_classification(predicted_traversability_labels, traversability_labels)\n",
    "            \n",
    "            # Accumulate batch loss to average of the entire testing set\n",
    "            test_loss += loss.item()\n",
    "\n",
    "            # Get the number of correct predictions\n",
    "            test_correct += torch.sum(\n",
    "                torch.argmax(predicted_traversability_labels, dim=1) == traversability_labels\n",
    "                ).item()\n",
    "\n",
    "            # Apply the softmax function to the predicted traversability labels\n",
    "            probabilities = nn.Softmax(dim=1)(predicted_traversability_labels)\n",
    "\n",
    "            # Compute the expected traversal cost over the bins\n",
    "            expected_traversal_costs = torch.matmul(probabilities, bins_midpoints)\n",
    "            \n",
    "            # Compute and accumulate the batch loss\n",
    "            test_regression_loss += criterion_regression(expected_traversal_costs[:, 0], traversal_costs).item()\n",
    "\n",
    "            # Compute the loss for each sample\n",
    "            test_regression_losses.append(squared_error(expected_traversal_costs[:, 0], traversal_costs).to(\"cpu\"))\n",
    "            \n",
    "            # Compute the uncertainty\n",
    "            uncertainties.append(uncertainty_function(probabilities).to(\"cpu\"))\n",
    "\n",
    "    # Compute the loss and accuracy\n",
    "    test_loss /= len(test_loader)\n",
    "    test_accuracy = 100*test_correct/NB_TEST\n",
    "    \n",
    "    # Compute the regression loss\n",
    "    test_regression_loss /= len(test_loader)\n",
    "   \n",
    "    return test_loss, test_accuracy, test_regression_loss, test_regression_losses, uncertainties"
   ]
  },
  {
   "attachments": {},
   "cell_type": "markdown",
   "metadata": {},
   "source": [
    "#### Testing the model"
   ]
  },
  {
   "cell_type": "code",
   "execution_count": 317,
   "metadata": {},
   "outputs": [
    {
     "name": "stdout",
     "output_type": "stream",
     "text": [
      "Test accuracy:  57.89473684210526\n",
      "Regression loss:  4.786596442439425e-05\n"
     ]
    }
   ],
   "source": [
    "# Set the uncertainty function\n",
    "uncertainty_function = shannon_entropy\n",
    "\n",
    "# Test the model\n",
    "_, test_accuracy, test_regression_loss, test_regression_losses, uncertainties = test(model,\n",
    "                                                                                     device,\n",
    "                                                                                     test_loader,\n",
    "                                                                                     criterion_classification,\n",
    "                                                                                     criterion_regression,\n",
    "                                                                                     bins_midpoints,\n",
    "                                                                                     uncertainty_function)\n",
    "\n",
    "print(\"Test accuracy: \", test_accuracy)\n",
    "print(\"Regression loss: \", test_regression_loss)"
   ]
  },
  {
   "attachments": {},
   "cell_type": "markdown",
   "metadata": {},
   "source": [
    "## Save model parameters"
   ]
  },
  {
   "cell_type": "code",
   "execution_count": 25,
   "metadata": {},
   "outputs": [],
   "source": [
    "# Save the model parameters\n",
    "torch.save(model.state_dict(), \"resnet18_velocity.params\")"
   ]
  },
  {
   "attachments": {},
   "cell_type": "markdown",
   "metadata": {},
   "source": [
    "## Assessing the relevance of the uncertainty"
   ]
  },
  {
   "cell_type": "code",
   "execution_count": 320,
   "metadata": {},
   "outputs": [],
   "source": [
    "def uncertainty_relevance(model,\n",
    "                          device,\n",
    "                          criterion_classification,\n",
    "                          criterion_regression,\n",
    "                          bins_midpoints,\n",
    "                          uncertainty_function,\n",
    "                          test_set,\n",
    "                          test_regression_loss,\n",
    "                          test_regression_losses,\n",
    "                          uncertainties,\n",
    "                          nb_samples=len(test_set)):\n",
    "    \"\"\"Compute the regression losses after successive removal of the samples with the highest loss and uncertainty\n",
    "\n",
    "    Args:\n",
    "        model (Model): The model to test\n",
    "        device (string): The device to use for the computations\n",
    "        criterion_classification (Loss): The loss function for the classification task\n",
    "        criterion_regression (Loss): The loss function for the regression task\n",
    "        bins_midpoints (ndarray): The midpoints of the bins used for the discretization of the traversal cost\n",
    "        uncertainty_function (function): The function to use to compute the uncertainty\n",
    "        test_set (Dataset): The test set\n",
    "        test_regression_loss (double): The regression loss on the test set\n",
    "        test_regression_losses (list): The list of the regression losses for each sample\n",
    "        uncertainties (list): The list of the uncertainties for each sample\n",
    "        nb_samples (int, optional): The number of samples in the test set. Defaults to len(test_set).\n",
    "\n",
    "    Returns:\n",
    "        list, list: The list of the regression losses after successive removal of the samples with the highest loss,\n",
    "        the list of the regression losses after successive removal of the samples with the highest uncertainty\n",
    "    \"\"\"\n",
    "    # Create lists to store the test losses\n",
    "    test_losses_loss = [test_regression_loss]\n",
    "    test_losses_uncertainty = [test_regression_loss]\n",
    "    \n",
    "    # Concatenate the regression losses and convert to numpy array\n",
    "    test_regression_losses = torch.cat(test_regression_losses, dim=0).numpy()\n",
    "\n",
    "    # Concatenate the uncertainties and convert to numpy array\n",
    "    uncertainties = torch.cat(uncertainties, dim=0).numpy()\n",
    "\n",
    "    # Loop over the different percentages of samples to keep\n",
    "    for i in range(1, 10):\n",
    "\n",
    "        # Calculate the number of samples to keep\n",
    "        nb_samples_to_keep = int((1 - i*0.1)*nb_samples)\n",
    "        # Calculate the indices of the samples with the lowest losses\n",
    "        indices_to_keep_loss = test_regression_losses.argsort()[:nb_samples_to_keep]\n",
    "        # Calculate the indices of the samples with the lowest uncertainties\n",
    "        indices_to_keep_uncertainty = uncertainties.argsort()[:nb_samples_to_keep]\n",
    "        \n",
    "        if i == 1:\n",
    "            test_set_display = Subset(test_set, indices=uncertainties.argsort()[nb_samples_to_keep:])\n",
    "            \n",
    "            for tensor, tcost, tclass, vel in test_set_display:\n",
    "                # De-normalize the normalized tensor\n",
    "                tensor_denormalized = transforms.Compose([\n",
    "                    transforms.Normalize(\n",
    "                        mean=[0., 0., 0., 0.],\n",
    "                        std=1/std\n",
    "                        ),\n",
    "                    transforms.Normalize(\n",
    "                        mean=-mean,\n",
    "                        std=[1., 1., 1., 1.]\n",
    "                        ),\n",
    "                    ])(tensor)\n",
    "\n",
    "                # Convert the tensor to a PIL Image\n",
    "                image_denormalized = transforms.ToPILImage()(tensor_denormalized)\n",
    "                \n",
    "                plt.imshow(image_denormalized)\n",
    "                plt.title(\"De-normalized image\")\n",
    "                \n",
    "                # print(type(image))\n",
    "                # image = image.numpy().transpose(1, 2, 0)\n",
    "                \n",
    "                # cv2.imshow(\"Image\", image)\n",
    "                # cv2.waitKey()\n",
    "\n",
    "        # Create a new test dataset without the samples with the largest losses\n",
    "        test_set_loss = Subset(test_set, indices=indices_to_keep_loss)\n",
    "        # Create a new test dataset without the samples with the largest uncertainties\n",
    "        test_set_uncertainty = Subset(test_set, indices=indices_to_keep_uncertainty)\n",
    "\n",
    "        # Create a new test dataloader without the samples with the largest losses\n",
    "        test_loader_loss = DataLoader(test_set_loss,\n",
    "                                      batch_size=params.learning.BATCH_SIZE,\n",
    "                                      shuffle=False,\n",
    "                                      num_workers=12,\n",
    "                                      pin_memory=True,\n",
    "                                      )\n",
    "        # Create a new test dataloader without the samples with the largest uncertainties\n",
    "        test_loader_uncertainty = DataLoader(test_set_uncertainty,\n",
    "                                             batch_size=params.learning.BATCH_SIZE,\n",
    "                                             shuffle=False,\n",
    "                                             num_workers=12,\n",
    "                                             pin_memory=True,\n",
    "                                             )\n",
    "\n",
    "        # Test the model on the new test dataset without the samples with the largest losses\n",
    "        test_regression_loss_loss = test(model, \n",
    "                                         device,\n",
    "                                         test_loader_loss,\n",
    "                                         criterion_classification,\n",
    "                                         criterion_regression,\n",
    "                                         bins_midpoints,\n",
    "                                         uncertainty_function)[2]\n",
    "        # Test the model on the new test dataset without the samples with the largest uncertainties\n",
    "        test_regression_loss_uncertainty = test(model,\n",
    "                                                device,\n",
    "                                                test_loader_uncertainty,\n",
    "                                                criterion_classification,\n",
    "                                                criterion_regression,\n",
    "                                                bins_midpoints,\n",
    "                                                uncertainty_function)[2]\n",
    "\n",
    "        # Append the test loss to the list\n",
    "        test_losses_loss.append(test_regression_loss_loss)\n",
    "        test_losses_uncertainty.append(test_regression_loss_uncertainty)\n",
    "        \n",
    "    return test_losses_loss, test_losses_uncertainty"
   ]
  },
  {
   "cell_type": "code",
   "execution_count": 321,
   "metadata": {},
   "outputs": [
    {
     "data": {
      "image/png": "[encoded data removed]",
      "text/plain": [
       "<Figure size 640x480 with 1 Axes>"
      ]
     },
     "metadata": {},
     "output_type": "display_data"
    }
   ],
   "source": [
    "# Compute the test losses after successive removal of the samples with the highest loss and uncertainty\n",
    "test_losses_loss, test_losses_uncertainty = uncertainty_relevance(model,\n",
    "                                                                  device,\n",
    "                                                                  criterion_classification,\n",
    "                                                                  criterion_regression,\n",
    "                                                                  bins_midpoints,\n",
    "                                                                  uncertainty_function,\n",
    "                                                                  test_set,\n",
    "                                                                  test_regression_loss,\n",
    "                                                                  test_regression_losses,\n",
    "                                                                  uncertainties)"
   ]
  },
  {
   "attachments": {},
   "cell_type": "markdown",
   "metadata": {},
   "source": [
    "#### Plotting the results"
   ]
  },
  {
   "cell_type": "code",
   "execution_count": 322,
   "metadata": {},
   "outputs": [
    {
     "data": {
      "text/plain": [
       "Text(0, 0.5, 'Regression error (MSE)')"
      ]
     },
     "execution_count": 322,
     "metadata": {},
     "output_type": "execute_result"
    },
    {
     "data": {
      "image/png": "[encoded data removed]",
      "text/plain": [
       "<Figure size 640x480 with 1 Axes>"
      ]
     },
     "metadata": {},
     "output_type": "display_data"
    }
   ],
   "source": [
    "plt.plot(range(0, 100, 10), test_losses_loss, \"bo--\", label=\"removing samples with highest regression loss\", markersize=4)\n",
    "plt.plot(range(0, 100, 10), test_losses_uncertainty, \"ro--\", label=\"removing samples with highest uncertainty\", markersize=4)\n",
    "\n",
    "plt.legend(loc=\"upper right\")\n",
    "plt.xlabel(\"Percentage of samples removed\")\n",
    "plt.ylabel(\"Regression error (MSE)\")"
   ]
  },
  {
   "attachments": {},
   "cell_type": "markdown",
   "metadata": {},
   "source": [
    "### Ensemble learning"
   ]
  },
  {
   "attachments": {},
   "cell_type": "markdown",
   "metadata": {},
   "source": [
    "#### Training the models"
   ]
  },
  {
   "cell_type": "code",
   "execution_count": 113,
   "metadata": {},
   "outputs": [
    {
     "name": "stdout",
     "output_type": "stream",
     "text": [
      "Training model 1/3\n"
     ]
    },
    {
     "name": "stderr",
     "output_type": "stream",
     "text": [
      "Epoch 0 [train]: 100%|██████████| 22/22 [00:02<00:00, 10.33batch/s, batch_loss=1.55]\n",
      "Epoch 1 [train]: 100%|██████████| 22/22 [00:02<00:00, 10.40batch/s, batch_loss=1.57]\n",
      "Epoch 2 [train]: 100%|██████████| 22/22 [00:01<00:00, 11.14batch/s, batch_loss=1.64]\n",
      "Epoch 3 [train]: 100%|██████████| 22/22 [00:02<00:00, 10.97batch/s, batch_loss=1.44]\n",
      "Epoch 4 [train]: 100%|██████████| 22/22 [00:02<00:00, 10.69batch/s, batch_loss=1.48]\n",
      "Epoch 5 [train]: 100%|██████████| 22/22 [00:02<00:00, 10.92batch/s, batch_loss=1.36]\n",
      "Epoch 6 [train]: 100%|██████████| 22/22 [00:02<00:00, 10.96batch/s, batch_loss=1.38]\n",
      "Epoch 7 [train]: 100%|██████████| 22/22 [00:02<00:00, 10.94batch/s, batch_loss=1.49]\n",
      "Epoch 8 [train]: 100%|██████████| 22/22 [00:02<00:00, 10.59batch/s, batch_loss=1.62]\n",
      "Epoch 9 [train]: 100%|██████████| 22/22 [00:01<00:00, 11.14batch/s, batch_loss=1.66]\n",
      "Epoch 10 [train]: 100%|██████████| 22/22 [00:02<00:00, 10.83batch/s, batch_loss=1.42]\n",
      "Epoch 11 [train]: 100%|██████████| 22/22 [00:01<00:00, 11.33batch/s, batch_loss=1.37]\n",
      "Epoch 12 [train]: 100%|██████████| 22/22 [00:02<00:00, 10.45batch/s, batch_loss=1.47]\n",
      "Epoch 13 [train]: 100%|██████████| 22/22 [00:02<00:00, 10.98batch/s, batch_loss=1.39]\n",
      "Epoch 14 [train]: 100%|██████████| 22/22 [00:02<00:00, 10.68batch/s, batch_loss=1.73]\n",
      "Epoch 15 [train]: 100%|██████████| 22/22 [00:01<00:00, 11.08batch/s, batch_loss=1.69]\n",
      "Epoch 16 [train]: 100%|██████████| 22/22 [00:01<00:00, 11.18batch/s, batch_loss=1.45]\n",
      "Epoch 17 [train]: 100%|██████████| 22/22 [00:02<00:00, 10.54batch/s, batch_loss=1.62]\n",
      "Epoch 18 [train]: 100%|██████████| 22/22 [00:02<00:00, 10.75batch/s, batch_loss=1.41]\n",
      "Epoch 19 [train]: 100%|██████████| 22/22 [00:01<00:00, 11.54batch/s, batch_loss=1.55]\n",
      "Epoch 20 [train]: 100%|██████████| 22/22 [00:02<00:00, 10.91batch/s, batch_loss=1.46]\n",
      "Epoch 21 [train]: 100%|██████████| 22/22 [00:02<00:00, 10.67batch/s, batch_loss=1.25]\n",
      "Epoch 22 [train]: 100%|██████████| 22/22 [00:02<00:00, 10.94batch/s, batch_loss=1.38]\n",
      "Epoch 23 [train]: 100%|██████████| 22/22 [00:01<00:00, 11.43batch/s, batch_loss=1.17]\n",
      "Epoch 24 [train]: 100%|██████████| 22/22 [00:02<00:00, 10.95batch/s, batch_loss=1.36]\n",
      "Epoch 25 [train]: 100%|██████████| 22/22 [00:02<00:00, 10.87batch/s, batch_loss=1.3] \n",
      "Epoch 26 [train]: 100%|██████████| 22/22 [00:01<00:00, 11.21batch/s, batch_loss=1.63]\n",
      "Epoch 27 [train]: 100%|██████████| 22/22 [00:02<00:00, 10.56batch/s, batch_loss=1.49]\n",
      "Epoch 28 [train]: 100%|██████████| 22/22 [00:02<00:00, 10.83batch/s, batch_loss=1.41]\n",
      "Epoch 29 [train]: 100%|██████████| 22/22 [00:01<00:00, 11.16batch/s, batch_loss=1.25]\n",
      "Epoch 30 [train]: 100%|██████████| 22/22 [00:01<00:00, 11.31batch/s, batch_loss=1.38]\n",
      "Epoch 31 [train]: 100%|██████████| 22/22 [00:02<00:00, 10.82batch/s, batch_loss=1.17]\n",
      "Epoch 32 [train]: 100%|██████████| 22/22 [00:02<00:00, 10.94batch/s, batch_loss=1.4] \n",
      "Epoch 33 [train]: 100%|██████████| 22/22 [00:02<00:00, 10.67batch/s, batch_loss=1.36]\n",
      "Epoch 34 [train]: 100%|██████████| 22/22 [00:01<00:00, 11.14batch/s, batch_loss=0.966]\n",
      "Epoch 35 [train]: 100%|██████████| 22/22 [00:01<00:00, 11.23batch/s, batch_loss=1.15]\n",
      "Epoch 36 [train]: 100%|██████████| 22/22 [00:02<00:00, 10.98batch/s, batch_loss=1.46]\n",
      "Epoch 37 [train]: 100%|██████████| 22/22 [00:02<00:00, 10.28batch/s, batch_loss=1.46]\n",
      "Epoch 38 [train]: 100%|██████████| 22/22 [00:02<00:00, 10.54batch/s, batch_loss=1.25]\n",
      "Epoch 39 [train]: 100%|██████████| 22/22 [00:02<00:00, 10.65batch/s, batch_loss=1.3] \n"
     ]
    },
    {
     "name": "stdout",
     "output_type": "stream",
     "text": [
      "Training model 2/3\n"
     ]
    },
    {
     "name": "stderr",
     "output_type": "stream",
     "text": [
      "Epoch 0 [train]: 100%|██████████| 22/22 [00:02<00:00, 10.69batch/s, batch_loss=1.64]\n",
      "Epoch 1 [train]: 100%|██████████| 22/22 [00:02<00:00, 10.99batch/s, batch_loss=1.29]\n",
      "Epoch 2 [train]: 100%|██████████| 22/22 [00:01<00:00, 11.16batch/s, batch_loss=1.62]\n",
      "Epoch 3 [train]: 100%|██████████| 22/22 [00:01<00:00, 11.19batch/s, batch_loss=1.45]\n",
      "Epoch 4 [train]: 100%|██████████| 22/22 [00:01<00:00, 11.04batch/s, batch_loss=1.67]\n",
      "Epoch 5 [train]: 100%|██████████| 22/22 [00:01<00:00, 11.52batch/s, batch_loss=1.45]\n",
      "Epoch 6 [train]: 100%|██████████| 22/22 [00:01<00:00, 11.21batch/s, batch_loss=1.71]\n",
      "Epoch 7 [train]: 100%|██████████| 22/22 [00:01<00:00, 11.09batch/s, batch_loss=1.55]\n",
      "Epoch 8 [train]: 100%|██████████| 22/22 [00:01<00:00, 11.44batch/s, batch_loss=1.47]\n",
      "Epoch 9 [train]: 100%|██████████| 22/22 [00:01<00:00, 11.20batch/s, batch_loss=1.26]\n",
      "Epoch 10 [train]: 100%|██████████| 22/22 [00:01<00:00, 11.32batch/s, batch_loss=1.71]\n",
      "Epoch 11 [train]: 100%|██████████| 22/22 [00:02<00:00, 10.74batch/s, batch_loss=1.36]\n",
      "Epoch 12 [train]: 100%|██████████| 22/22 [00:01<00:00, 11.17batch/s, batch_loss=1.13]\n",
      "Epoch 13 [train]: 100%|██████████| 22/22 [00:01<00:00, 11.46batch/s, batch_loss=1.7] \n",
      "Epoch 14 [train]: 100%|██████████| 22/22 [00:01<00:00, 11.49batch/s, batch_loss=1.61]\n",
      "Epoch 15 [train]: 100%|██████████| 22/22 [00:02<00:00, 10.45batch/s, batch_loss=1.54]\n",
      "Epoch 16 [train]: 100%|██████████| 22/22 [00:02<00:00, 10.55batch/s, batch_loss=1.35]\n",
      "Epoch 17 [train]: 100%|██████████| 22/22 [00:02<00:00, 10.92batch/s, batch_loss=1.28]\n",
      "Epoch 18 [train]: 100%|██████████| 22/22 [00:02<00:00, 10.66batch/s, batch_loss=1.66]\n",
      "Epoch 19 [train]: 100%|██████████| 22/22 [00:02<00:00, 10.68batch/s, batch_loss=1.38]\n",
      "Epoch 20 [train]: 100%|██████████| 22/22 [00:02<00:00, 10.61batch/s, batch_loss=1.52]\n",
      "Epoch 21 [train]: 100%|██████████| 22/22 [00:01<00:00, 11.04batch/s, batch_loss=1.48]\n",
      "Epoch 22 [train]: 100%|██████████| 22/22 [00:02<00:00, 10.55batch/s, batch_loss=1.66]\n",
      "Epoch 23 [train]: 100%|██████████| 22/22 [00:01<00:00, 11.33batch/s, batch_loss=1.27]\n",
      "Epoch 24 [train]: 100%|██████████| 22/22 [00:01<00:00, 11.05batch/s, batch_loss=1.61]\n",
      "Epoch 25 [train]: 100%|██████████| 22/22 [00:02<00:00, 10.64batch/s, batch_loss=1.39]\n",
      "Epoch 26 [train]: 100%|██████████| 22/22 [00:01<00:00, 11.41batch/s, batch_loss=1.44]\n",
      "Epoch 27 [train]: 100%|██████████| 22/22 [00:02<00:00, 10.62batch/s, batch_loss=1.51]\n",
      "Epoch 28 [train]: 100%|██████████| 22/22 [00:02<00:00, 10.26batch/s, batch_loss=1.06]\n",
      "Epoch 29 [train]: 100%|██████████| 22/22 [00:02<00:00, 10.79batch/s, batch_loss=1.27]\n",
      "Epoch 30 [train]: 100%|██████████| 22/22 [00:01<00:00, 11.06batch/s, batch_loss=1.29]\n",
      "Epoch 31 [train]: 100%|██████████| 22/22 [00:02<00:00, 10.42batch/s, batch_loss=1.54]\n",
      "Epoch 32 [train]: 100%|██████████| 22/22 [00:02<00:00, 10.31batch/s, batch_loss=1.44]\n",
      "Epoch 33 [train]: 100%|██████████| 22/22 [00:02<00:00, 10.70batch/s, batch_loss=1.11]\n",
      "Epoch 34 [train]: 100%|██████████| 22/22 [00:02<00:00, 10.92batch/s, batch_loss=1.18]\n",
      "Epoch 35 [train]: 100%|██████████| 22/22 [00:02<00:00, 10.97batch/s, batch_loss=1.55]\n",
      "Epoch 36 [train]: 100%|██████████| 22/22 [00:01<00:00, 11.20batch/s, batch_loss=1.4] \n",
      "Epoch 37 [train]: 100%|██████████| 22/22 [00:01<00:00, 11.01batch/s, batch_loss=1.73]\n",
      "Epoch 38 [train]: 100%|██████████| 22/22 [00:02<00:00, 10.46batch/s, batch_loss=1.34]\n",
      "Epoch 39 [train]: 100%|██████████| 22/22 [00:01<00:00, 11.42batch/s, batch_loss=1.35]\n"
     ]
    },
    {
     "name": "stdout",
     "output_type": "stream",
     "text": [
      "Training model 3/3\n"
     ]
    },
    {
     "name": "stderr",
     "output_type": "stream",
     "text": [
      "Epoch 0 [train]: 100%|██████████| 22/22 [00:02<00:00, 10.92batch/s, batch_loss=1.66]\n",
      "Epoch 1 [train]: 100%|██████████| 22/22 [00:01<00:00, 11.62batch/s, batch_loss=1.76]\n",
      "Epoch 2 [train]: 100%|██████████| 22/22 [00:01<00:00, 11.02batch/s, batch_loss=1.57]\n",
      "Epoch 3 [train]: 100%|██████████| 22/22 [00:01<00:00, 11.03batch/s, batch_loss=1.47]\n",
      "Epoch 4 [train]: 100%|██████████| 22/22 [00:02<00:00, 10.83batch/s, batch_loss=1.32]\n",
      "Epoch 5 [train]: 100%|██████████| 22/22 [00:01<00:00, 11.21batch/s, batch_loss=1.89]\n",
      "Epoch 6 [train]: 100%|██████████| 22/22 [00:01<00:00, 11.02batch/s, batch_loss=1.55]\n",
      "Epoch 7 [train]: 100%|██████████| 22/22 [00:01<00:00, 11.14batch/s, batch_loss=1.55]\n",
      "Epoch 8 [train]: 100%|██████████| 22/22 [00:02<00:00, 10.78batch/s, batch_loss=1.56]\n",
      "Epoch 9 [train]: 100%|██████████| 22/22 [00:01<00:00, 11.08batch/s, batch_loss=1.52]\n",
      "Epoch 10 [train]: 100%|██████████| 22/22 [00:01<00:00, 11.25batch/s, batch_loss=1.39]\n",
      "Epoch 11 [train]: 100%|██████████| 22/22 [00:02<00:00, 10.63batch/s, batch_loss=1.21]\n",
      "Epoch 12 [train]: 100%|██████████| 22/22 [00:02<00:00, 10.82batch/s, batch_loss=1.44]\n",
      "Epoch 13 [train]: 100%|██████████| 22/22 [00:01<00:00, 11.06batch/s, batch_loss=1.45]\n",
      "Epoch 14 [train]: 100%|██████████| 22/22 [00:01<00:00, 11.26batch/s, batch_loss=1.58]\n",
      "Epoch 15 [train]: 100%|██████████| 22/22 [00:01<00:00, 11.24batch/s, batch_loss=1.48]\n",
      "Epoch 16 [train]: 100%|██████████| 22/22 [00:02<00:00, 10.55batch/s, batch_loss=1.27]\n",
      "Epoch 17 [train]: 100%|██████████| 22/22 [00:02<00:00, 10.95batch/s, batch_loss=1.25]\n",
      "Epoch 18 [train]: 100%|██████████| 22/22 [00:02<00:00, 10.62batch/s, batch_loss=1.58]\n",
      "Epoch 19 [train]: 100%|██████████| 22/22 [00:01<00:00, 11.02batch/s, batch_loss=1.27]\n",
      "Epoch 20 [train]: 100%|██████████| 22/22 [00:02<00:00, 10.62batch/s, batch_loss=1.71]\n",
      "Epoch 21 [train]: 100%|██████████| 22/22 [00:01<00:00, 11.44batch/s, batch_loss=1.67]\n",
      "Epoch 22 [train]: 100%|██████████| 22/22 [00:02<00:00, 10.93batch/s, batch_loss=1.07]\n",
      "Epoch 23 [train]: 100%|██████████| 22/22 [00:02<00:00, 10.36batch/s, batch_loss=1.54]\n",
      "Epoch 24 [train]: 100%|██████████| 22/22 [00:01<00:00, 11.27batch/s, batch_loss=1.62]\n",
      "Epoch 25 [train]: 100%|██████████| 22/22 [00:01<00:00, 11.30batch/s, batch_loss=1.48]\n",
      "Epoch 26 [train]: 100%|██████████| 22/22 [00:01<00:00, 11.16batch/s, batch_loss=1.63]\n",
      "Epoch 27 [train]: 100%|██████████| 22/22 [00:02<00:00, 10.78batch/s, batch_loss=1.78]\n",
      "Epoch 28 [train]: 100%|██████████| 22/22 [00:01<00:00, 11.06batch/s, batch_loss=1.62]\n",
      "Epoch 29 [train]: 100%|██████████| 22/22 [00:01<00:00, 11.12batch/s, batch_loss=1.26]\n",
      "Epoch 30 [train]: 100%|██████████| 22/22 [00:02<00:00, 10.57batch/s, batch_loss=1.46]\n",
      "Epoch 31 [train]: 100%|██████████| 22/22 [00:02<00:00, 10.99batch/s, batch_loss=1.18]\n",
      "Epoch 32 [train]: 100%|██████████| 22/22 [00:01<00:00, 11.14batch/s, batch_loss=1.55]\n",
      "Epoch 33 [train]: 100%|██████████| 22/22 [00:01<00:00, 11.01batch/s, batch_loss=1.11]\n",
      "Epoch 34 [train]: 100%|██████████| 22/22 [00:01<00:00, 11.14batch/s, batch_loss=1.38]\n",
      "Epoch 35 [train]: 100%|██████████| 22/22 [00:02<00:00, 10.15batch/s, batch_loss=1.28]\n",
      "Epoch 36 [train]: 100%|██████████| 22/22 [00:02<00:00, 10.70batch/s, batch_loss=1.24]\n",
      "Epoch 37 [train]: 100%|██████████| 22/22 [00:01<00:00, 11.12batch/s, batch_loss=1.28]\n",
      "Epoch 38 [train]: 100%|██████████| 22/22 [00:01<00:00, 11.05batch/s, batch_loss=1.21]\n",
      "Epoch 39 [train]: 100%|██████████| 22/22 [00:02<00:00, 10.96batch/s, batch_loss=1.17]\n"
     ]
    }
   ],
   "source": [
    "# Create a list of models\n",
    "nb_models = 3\n",
    "some_models = [ResNet18Velocity().to(device=device) for _ in range(nb_models)]\n",
    "\n",
    "# Loop over the models\n",
    "for i in range(nb_models):\n",
    "    \n",
    "    print(f\"Training model {i+1}/{nb_models}\")\n",
    "    \n",
    "    # Get all the parameters excepts the weights and bias of fc layer\n",
    "    base_params = [param for name, param in some_models[i].named_parameters()\n",
    "                   if name not in [\"resnet18.fc.weight\", \"resnet18.fc.bias\"]]\n",
    "\n",
    "    # Define the optimizer, with a greater learning rate for the new fc layer\n",
    "    optimizer = optim.SGD([\n",
    "        {\"params\": base_params},\n",
    "        {\"params\": some_models[i].resnet18.fc.parameters(), \"lr\": 1e-3},\n",
    "    ],\n",
    "        lr=1e-4, momentum=0.9, weight_decay=0.001)\n",
    "    \n",
    "    # Loop over the epochs\n",
    "    for epoch in range(params.learning.NB_EPOCHS):\n",
    "\n",
    "        # Train the model\n",
    "        train_loss, train_accuracy, train_regression_loss = train(some_models[i],\n",
    "                                                                  device,\n",
    "                                                                  train_loader,\n",
    "                                                                  optimizer,\n",
    "                                                                  criterion_classification,\n",
    "                                                                  criterion_regression,\n",
    "                                                                  bins_midpoints,\n",
    "                                                                  epoch)"
   ]
  },
  {
   "cell_type": "code",
   "execution_count": 114,
   "metadata": {},
   "outputs": [],
   "source": [
    "def test_models(models, device, test_loader, criterion_classification, criterion_regression, bins_midpoints, uncertainty_function):\n",
    "    \"\"\"Test the models on the test set\n",
    "\n",
    "    Args:\n",
    "        models (list): List of models to test\n",
    "        device (string): The device to use for the computations\n",
    "        test_loader (Dataloader): The dataloader for the test set\n",
    "        criterion_classification (Loss): The loss function for the classification task\n",
    "        criterion_regression (Loss): The loss function for the regression task\n",
    "        bins_midpoints (ndarray): The midpoints of the bins used for the discretization of the traversal cost\n",
    "        uncertainty_function (function): The function to use to compute the uncertainty\n",
    "\n",
    "    Returns:\n",
    "        double, double, double, list, list: The average loss, the accuracy, the regression loss,\n",
    "        the list of the uncertainties, the list of regression losses\n",
    "    \"\"\"\n",
    "    # Testing\n",
    "    test_regression_loss = 0.\n",
    "\n",
    "    # Configure the models for testing\n",
    "    for model in models:\n",
    "        model.eval()\n",
    "\n",
    "    test_regression_losses = []\n",
    "    uncertainties = []\n",
    "\n",
    "    with torch.no_grad():\n",
    "        # Loop over the testing batches\n",
    "        for images, traversal_costs, traversability_labels, linear_velocities in test_loader:\n",
    "\n",
    "            images = images.to(device)\n",
    "            traversal_costs = traversal_costs.to(device)\n",
    "            linear_velocities = linear_velocities.type(torch.float32).to(device)\n",
    "            \n",
    "            # Add a dimension to the linear velocities tensor\n",
    "            linear_velocities = linear_velocities.unsqueeze_(1)\n",
    "\n",
    "            # expected_traversal_costs = torch.zeros(traversal_costs.shape[0], 1).to(device)\n",
    "            \n",
    "            # uncert = torch.zeros(traversal_costs.shape[0]).to(device)\n",
    "            \n",
    "            probabilities = torch.zeros(traversal_costs.shape[0], 10).to(device)\n",
    "            \n",
    "            exp_costs = torch.zeros(traversal_costs.shape[0], len(models)).to(device)\n",
    "            \n",
    "            # Perform forward pass\n",
    "            for index, model in enumerate(models):\n",
    "                \n",
    "                predicted_traversability_labels = model(images, linear_velocities)\n",
    "\n",
    "                # Apply the softmax function to the predicted traversability labels\n",
    "                probabilities += nn.Softmax(dim=1)(predicted_traversability_labels)\n",
    "\n",
    "                # Compute the expected traversal cost over the bins\n",
    "                # expected_traversal_costs += torch.matmul(probabilities, bins_midpoints)\n",
    "                \n",
    "                # Compute the uncertainty\n",
    "                # uncert += uncertainty_function(probabilities)\n",
    "                \n",
    "                exp_costs[:, index] = torch.matmul(nn.Softmax(dim=1)(predicted_traversability_labels), bins_midpoints)[:, 0]\n",
    "            \n",
    "            probabilities /= len(models)\n",
    "            \n",
    "            # Compute the expected traversal cost over the bins\n",
    "            expected_traversal_costs = torch.matmul(probabilities, bins_midpoints)\n",
    "            \n",
    "            variance = torch.var(exp_costs, dim=1)\n",
    "            uncertainties.append(variance.to(\"cpu\"))\n",
    "            \n",
    "            # uncertainties.append(uncertainty_function(probabilities).to(\"cpu\"))\n",
    "                \n",
    "            # Compute and accumulate the batch loss\n",
    "            test_regression_loss += criterion_regression(expected_traversal_costs[:, 0], traversal_costs).item()\n",
    "\n",
    "            # Compute the loss for each sample\n",
    "            test_regression_losses.append(squared_error(expected_traversal_costs[:, 0], traversal_costs).to(\"cpu\"))\n",
    "\n",
    "    # Compute the regression loss\n",
    "    test_regression_loss /= len(test_loader)\n",
    "   \n",
    "    return test_regression_loss, test_regression_losses, uncertainties"
   ]
  },
  {
   "cell_type": "code",
   "execution_count": 115,
   "metadata": {},
   "outputs": [],
   "source": [
    "def uncertainty_relevance_models(models,\n",
    "                          device,\n",
    "                          criterion_classification,\n",
    "                          criterion_regression,\n",
    "                          bins_midpoints,\n",
    "                          uncertainty_function,\n",
    "                          test_set,\n",
    "                          test_regression_loss,\n",
    "                          test_regression_losses,\n",
    "                          uncertainties,\n",
    "                          nb_samples=len(test_set)):\n",
    "    \"\"\"Compute the regression losses after successive removal of the samples with the highest loss and uncertainty\n",
    "\n",
    "    Args:\n",
    "        model (Model): The model to test\n",
    "        device (string): The device to use for the computations\n",
    "        criterion_classification (Loss): The loss function for the classification task\n",
    "        criterion_regression (Loss): The loss function for the regression task\n",
    "        bins_midpoints (ndarray): The midpoints of the bins used for the discretization of the traversal cost\n",
    "        uncertainty_function (function): The function to use to compute the uncertainty\n",
    "        test_set (Dataset): The test set\n",
    "        test_regression_loss (double): The regression loss on the test set\n",
    "        test_regression_losses (list): The list of the regression losses for each sample\n",
    "        uncertainties (list): The list of the uncertainties for each sample\n",
    "        nb_samples (int, optional): The number of samples in the test set. Defaults to len(test_set).\n",
    "\n",
    "    Returns:\n",
    "        list, list: The list of the regression losses after successive removal of the samples with the highest loss,\n",
    "        the list of the regression losses after successive removal of the samples with the highest uncertainty\n",
    "    \"\"\"\n",
    "    # Create lists to store the test losses\n",
    "    test_losses_loss = [test_regression_loss]\n",
    "    test_losses_uncertainty = [test_regression_loss]\n",
    "    \n",
    "    # Concatenate the regression losses and convert to numpy array\n",
    "    test_regression_losses = torch.cat(test_regression_losses, dim=0).numpy()\n",
    "\n",
    "    # Concatenate the uncertainties and convert to numpy array\n",
    "    uncertainties = torch.cat(uncertainties, dim=0).numpy()\n",
    "\n",
    "    # Loop over the different percentages of samples to keep\n",
    "    for i in range(1, 10):\n",
    "\n",
    "        # Calculate the number of samples to keep\n",
    "        nb_samples_to_keep = int((1 - i*0.1)*nb_samples)\n",
    "        # Calculate the indices of the samples with the lowest losses\n",
    "        indices_to_keep_loss = test_regression_losses.argsort()[:nb_samples_to_keep]\n",
    "        # Calculate the indices of the samples with the lowest uncertainties\n",
    "        indices_to_keep_uncertainty = uncertainties.argsort()[:nb_samples_to_keep]\n",
    "\n",
    "        # Create a new test dataset without the samples with the largest losses\n",
    "        test_set_loss = Subset(test_set, indices=indices_to_keep_loss)\n",
    "        # Create a new test dataset without the samples with the largest uncertainties\n",
    "        test_set_uncertainty = Subset(test_set, indices=indices_to_keep_uncertainty)\n",
    "\n",
    "        # Create a new test dataloader without the samples with the largest losses\n",
    "        test_loader_loss = DataLoader(test_set_loss,\n",
    "                                      batch_size=BATCH_SIZE,\n",
    "                                      shuffle=False,\n",
    "                                      num_workers=12,\n",
    "                                      pin_memory=True,\n",
    "                                      )\n",
    "        # Create a new test dataloader without the samples with the largest uncertainties\n",
    "        test_loader_uncertainty = DataLoader(test_set_uncertainty,\n",
    "                                             batch_size=BATCH_SIZE,\n",
    "                                             shuffle=False,\n",
    "                                             num_workers=12,\n",
    "                                             pin_memory=True,\n",
    "                                             )\n",
    "\n",
    "        # Test the model on the new test dataset without the samples with the largest losses\n",
    "        test_regression_loss_loss = test_models(models, \n",
    "                                         device,\n",
    "                                         test_loader_loss,\n",
    "                                         criterion_classification,\n",
    "                                         criterion_regression,\n",
    "                                         bins_midpoints,\n",
    "                                         uncertainty_function)[0]\n",
    "        # Test the model on the new test dataset without the samples with the largest uncertainties\n",
    "        test_regression_loss_uncertainty = test_models(models,\n",
    "                                                device,\n",
    "                                                test_loader_uncertainty,\n",
    "                                                criterion_classification,\n",
    "                                                criterion_regression,\n",
    "                                                bins_midpoints,\n",
    "                                                uncertainty_function)[0]\n",
    "        \n",
    "        # Append the test loss to the list\n",
    "        test_losses_loss.append(test_regression_loss_loss)\n",
    "        test_losses_uncertainty.append(test_regression_loss_uncertainty)\n",
    "        \n",
    "    return test_losses_loss, test_losses_uncertainty"
   ]
  },
  {
   "cell_type": "code",
   "execution_count": 116,
   "metadata": {},
   "outputs": [
    {
     "name": "stdout",
     "output_type": "stream",
     "text": [
      "Test regression loss:  0.00031919827654147063\n"
     ]
    }
   ],
   "source": [
    "# Create arrays to store the test losses\n",
    "# test_losses_loss = np.zeros((nb_models, 10))\n",
    "# test_losses_uncertainty = np.zeros((nb_models, 10))\n",
    "\n",
    "uncertainty_function = shannon_entropy\n",
    "\n",
    "# Loop over the models\n",
    "# for i in range(nb_models):\n",
    "    \n",
    "    \n",
    "test_regression_loss, test_regression_losses, uncertainties = test_models(some_models,\n",
    "                                                                          device,\n",
    "                                                                          test_loader,\n",
    "                                                                          criterion_classification,\n",
    "                                                                          criterion_regression,\n",
    "                                                                          bins_midpoints,\n",
    "                                                                          uncertainty_function)\n",
    "print(\"Test regression loss: \", test_regression_loss)\n",
    "\n",
    "# Compute the test losses after successive removal of the samples with the highest loss and uncertainty\n",
    "test_losses_loss, test_losses_uncertainty = uncertainty_relevance_models(some_models,\n",
    "                                                                  device,\n",
    "                                                                  criterion_classification,\n",
    "                                                                  criterion_regression,\n",
    "                                                                  bins_midpoints,\n",
    "                                                                  uncertainty_function,\n",
    "                                                                  test_set,\n",
    "                                                                  test_regression_loss,\n",
    "                                                                  test_regression_losses,\n",
    "                                                                  uncertainties)"
   ]
  },
  {
   "attachments": {},
   "cell_type": "markdown",
   "metadata": {},
   "source": [
    "#### Plotting the results"
   ]
  },
  {
   "cell_type": "code",
   "execution_count": 117,
   "metadata": {},
   "outputs": [
    {
     "data": {
      "text/plain": [
       "Text(0, 0.5, 'Regression error (MSE)')"
      ]
     },
     "execution_count": 117,
     "metadata": {},
     "output_type": "execute_result"
    },
    {
     "data": {
      "image/png": "[encoded data removed]",
      "text/plain": [
       "<Figure size 640x480 with 1 Axes>"
      ]
     },
     "metadata": {},
     "output_type": "display_data"
    }
   ],
   "source": [
    "plt.plot(range(0, 100, 10), test_losses_loss, \"bo--\", label=\"removing samples with highest regression loss\", markersize=4)\n",
    "plt.plot(range(0, 100, 10), test_losses_uncertainty, \"ro--\", label=\"removing samples with highest uncertainty\", markersize=4)\n",
    "\n",
    "plt.legend(loc=\"upper right\")\n",
    "plt.xlabel(\"Percentage of samples removed\")\n",
    "plt.ylabel(\"Regression error (MSE)\")"
   ]
  },
  {
   "cell_type": "code",
   "execution_count": null,
   "metadata": {},
   "outputs": [],
   "source": []
  }
 ],
 "metadata": {
  "kernelspec": {
   "display_name": "Python 3",
   "language": "python",
   "name": "python3"
  },
  "language_info": {
   "codemirror_mode": {
    "name": "ipython",
    "version": 3
   },
   "file_extension": ".py",
   "mimetype": "text/x-python",
   "name": "python",
   "nbconvert_exporter": "python",
   "pygments_lexer": "ipython3",
   "version": "3.8.10"
  },
  "orig_nbformat": 4,
  "vscode": {
   "interpreter": {
    "hash": "916dbcbb3f70747c44a77c7bcd40155683ae19c65e1c03b4aa3499c5328201f1"
   }
  }
 },
 "nbformat": 4,
 "nbformat_minor": 2
}
