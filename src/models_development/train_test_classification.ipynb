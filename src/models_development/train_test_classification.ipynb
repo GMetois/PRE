{
 "cells": [
  {
   "cell_type": "code",
   "execution_count": 14,
   "metadata": {},
   "outputs": [],
   "source": [
    "# Import libraries\n",
    "import torch\n",
    "import torch.nn as nn\n",
    "from torch import optim\n",
    "import torchvision.models as models\n",
    "from torchvision import transforms\n",
    "from torch.utils.data import DataLoader, Dataset, random_split, Subset\n",
    "\n",
    "# A module to print a model summary (outputs shape, number of parameters, ...)\n",
    "import torchsummary\n",
    "\n",
    "# TensorBoard for visualization\n",
    "from torch.utils.tensorboard import SummaryWriter\n",
    "\n",
    "from tqdm import tqdm\n",
    "\n",
    "import pandas as pd\n",
    "import numpy as np\n",
    "import os\n",
    "import matplotlib.pyplot as plt\n",
    "from PIL import Image\n",
    "from sklearn.model_selection import train_test_split\n",
    "import time\n",
    "\n",
    "import cv2"
   ]
  },
  {
   "attachments": {},
   "cell_type": "markdown",
   "metadata": {},
   "source": [
    "## Prepare data"
   ]
  },
  {
   "cell_type": "code",
   "execution_count": 15,
   "metadata": {},
   "outputs": [],
   "source": [
    "# Define the data to be used\n",
    "DATASET = \"../../datasets/dataset_3+8bags_3var3sc_regression_classification_kmeans_split/\"\n",
    "\n",
    "\n",
    "class TraversabilityDataset(Dataset):\n",
    "    \"\"\"Custom Dataset class to represent our dataset\n",
    "    It includes data and information about the data\n",
    "\n",
    "    Args:\n",
    "        Dataset (class): Abstract class which represents a dataset\n",
    "    \"\"\"\n",
    "    \n",
    "    def __init__(self, traversal_costs_file, images_directory,\n",
    "                 transform=None):\n",
    "        \"\"\"Constructor of the class\n",
    "\n",
    "        Args:\n",
    "            traversal_costs_file (string): Path to the csv file which contains\n",
    "            images index and their associated traversal cost\n",
    "            images_directory (string): Directory with all the images\n",
    "            transform (callable, optional): Transforms to be applied on a\n",
    "            sample. Defaults to None.\n",
    "        \"\"\"\n",
    "        # Read the csv file\n",
    "        self.traversal_costs_frame = pd.read_csv(traversal_costs_file)\n",
    "        \n",
    "        # Initialize the name of the images directory\n",
    "        self.images_directory = images_directory\n",
    "        \n",
    "        # Initialize the transforms\n",
    "        self.transform = transform\n",
    "\n",
    "    def __len__(self):\n",
    "        \"\"\"Return the size of the dataset\n",
    "\n",
    "        Returns:\n",
    "            int: Number of samples\n",
    "        \"\"\"\n",
    "        # Count the number of files in the image directory\n",
    "        # return len(os.listdir(self.images_directory))\n",
    "        return len(self.traversal_costs_frame)\n",
    "\n",
    "    def __getitem__(self, idx):\n",
    "        \"\"\"Allow to access a sample by its index\n",
    "\n",
    "        Args:\n",
    "            idx (int): Index of a sample\n",
    "\n",
    "        Returns:\n",
    "            list: Sample at index idx\n",
    "            ([image, traversal_cost])\n",
    "        \"\"\"\n",
    "        # Get the image name at index idx\n",
    "        image_name = os.path.join(self.images_directory,\n",
    "                                  self.traversal_costs_frame.loc[idx, \"image_id\"])\n",
    "        \n",
    "        # Read the image\n",
    "        image = Image.open(image_name)\n",
    "        \n",
    "        # Eventually apply transforms to the image\n",
    "        if self.transform:\n",
    "            image = self.transform(image)\n",
    "        \n",
    "        # Get the corresponding traversal cost\n",
    "        traversal_cost = self.traversal_costs_frame.loc[idx, \"traversal_cost\"]\n",
    "        \n",
    "        # Get the corresponding traversability label\n",
    "        traversability_label = self.traversal_costs_frame.loc[idx, \"traversability_label\"]\n",
    "\n",
    "        return image, traversal_cost, traversability_label\n",
    " \n",
    "\n",
    "# Compose several transforms together to be applied to training data\n",
    "# (Note that transforms are not applied yet)\n",
    "train_transform = transforms.Compose([\n",
    "    # Reduce the size of the images\n",
    "    # (if size is an int, the smaller edge of the\n",
    "    # image will be matched to this number and the ration is kept)\n",
    "    # transforms.Resize(100),\n",
    "    transforms.Resize((70, 210)),\n",
    "    \n",
    "    # Perform horizontal flip of the image with a probability of 0.5\n",
    "    transforms.RandomHorizontalFlip(p=0.5),\n",
    "    \n",
    "    # Modify the brightness and the contrast of the image\n",
    "    transforms.ColorJitter(contrast=0.5, brightness=0.5),\n",
    "    \n",
    "    # Convert a PIL Image or numpy.ndarray to tensor\n",
    "    transforms.ToTensor(),\n",
    "    \n",
    "    # Add some random gaussian noise to the image\n",
    "    transforms.Lambda(lambda x: x + (0.001**0.5)*torch.randn(x.shape)),\n",
    "    \n",
    "    # Normalize a tensor image with pre-computed mean and standard deviation\n",
    "    # (based on the data used to train the model(s))\n",
    "    # (be careful, it only works on torch.*Tensor)\n",
    "    transforms.Normalize(\n",
    "        mean=[0.485, 0.456, 0.406],\n",
    "        std=[0.229, 0.224, 0.225]\n",
    "    ),\n",
    "])\n",
    "\n",
    "# Define a different set of transforms testing\n",
    "# (for instance we do not need to flip the image)\n",
    "test_transform = transforms.Compose([\n",
    "    # transforms.Resize(100),\n",
    "    transforms.Resize((70, 210)),\n",
    "    # transforms.Grayscale(),\n",
    "    # transforms.CenterCrop(100),\n",
    "    # transforms.RandomCrop(100),\n",
    "    transforms.ToTensor(),\n",
    "    \n",
    "    # Mean and standard deviation were pre-computed on the training data\n",
    "    # (on the ImageNet dataset)\n",
    "    transforms.Normalize(\n",
    "        mean=[0.485, 0.456, 0.406],\n",
    "        std=[0.229, 0.224, 0.225]\n",
    "    ),\n",
    "])\n",
    "\n",
    "\n",
    "# # Create a Dataset instance for our training data\n",
    "# data = TraversabilityDataset(\n",
    "#     traversal_costs_file=DATASET+\"traversal_costs.csv\",\n",
    "#     images_directory=DATASET+\"images\",\n",
    "#     transform=train_transform\n",
    "# )\n",
    "\n",
    "# # Split our training dataset into a training dataset and a validation dataset\n",
    "# train_set, val_set, test_set = random_split(data, [0.8, 0.1, 0.1])\n",
    "\n",
    "\n",
    "# Create a Dataset for training\n",
    "train_set = TraversabilityDataset(\n",
    "    traversal_costs_file=DATASET+\"traversal_costs_train.csv\",\n",
    "    images_directory=DATASET+\"images_train\",\n",
    "    transform=train_transform\n",
    ")\n",
    "\n",
    "# Create a Dataset for validation\n",
    "val_set = TraversabilityDataset(\n",
    "    traversal_costs_file=DATASET+\"traversal_costs_train.csv\",\n",
    "    images_directory=DATASET+\"images_train\",\n",
    "    transform=test_transform\n",
    ")\n",
    "\n",
    "# Create a Dataset for testin\n",
    "test_set = TraversabilityDataset(\n",
    "    traversal_costs_file=DATASET+\"traversal_costs_test.csv\",\n",
    "    images_directory=DATASET+\"images_test\",\n",
    "    transform=test_transform\n",
    ")\n",
    "\n",
    "# Set the train dataset size\n",
    "# 70% of the total data is used for training, 15% for validation\n",
    "# and 15% for testing\n",
    "train_size = 70/(100-15)\n",
    "\n",
    "# Splits train data indices into train and validation data indices\n",
    "train_indices, val_indices = train_test_split(range(len(train_set)), train_size=train_size)\n",
    "\n",
    "# Extract the corresponding subsets of the train dataset\n",
    "train_set = Subset(train_set, train_indices)\n",
    "val_set = Subset(val_set, val_indices)\n",
    "\n",
    "\n",
    "BATCH_SIZE = 32\n",
    "\n",
    "# Combine a dataset and a sampler, and provide an iterable over the dataset\n",
    "# (setting shuffle argument to True calls a RandomSampler, and avoids to\n",
    "# have to create a Sampler object)\n",
    "train_loader = DataLoader(\n",
    "    train_set,\n",
    "    batch_size=BATCH_SIZE,\n",
    "    shuffle=True,\n",
    "    num_workers=12,  # Asynchronous data loading and augmentation\n",
    "    pin_memory=True,  # Increase the transferring speed of the data to the GPU\n",
    ")\n",
    "\n",
    "val_loader = DataLoader(\n",
    "    val_set,\n",
    "    batch_size=BATCH_SIZE,\n",
    "    shuffle=True,\n",
    "    num_workers=12,\n",
    "    pin_memory=True,\n",
    ")\n",
    "\n",
    "test_loader = DataLoader(\n",
    "    test_set,\n",
    "    batch_size=BATCH_SIZE,\n",
    "    shuffle=False,  # SequentialSampler\n",
    "    num_workers=12,\n",
    "    pin_memory=True,\n",
    ")"
   ]
  },
  {
   "cell_type": "code",
   "execution_count": 16,
   "metadata": {},
   "outputs": [],
   "source": [
    "# Get the number of samples per split\n",
    "NB_TRAIN = len(train_set)\n",
    "NB_VAL = len(val_set)\n",
    "NB_TEST = len(test_set)"
   ]
  },
  {
   "cell_type": "code",
   "execution_count": 17,
   "metadata": {},
   "outputs": [
    {
     "name": "stdout",
     "output_type": "stream",
     "text": [
      "70.0 % of the data for training (6239 samples)\n",
      "15.0 % of the data for validation (1337 samples)\n",
      "15.0 % of the data for testing (1338 samples)\n"
     ]
    }
   ],
   "source": [
    "# Display the splits ratio\n",
    "NB_SAMPLES = NB_TRAIN + NB_VAL + NB_TEST\n",
    "\n",
    "print(f\"{np.round(NB_TRAIN/NB_SAMPLES*100)} % of the data for training ({NB_TRAIN} samples)\")\n",
    "print(f\"{np.round(NB_VAL/NB_SAMPLES*100)} % of the data for validation ({NB_VAL} samples)\")\n",
    "print(f\"{np.round(NB_TEST/NB_SAMPLES*100)} % of the data for testing ({NB_TEST} samples)\")"
   ]
  },
  {
   "cell_type": "code",
   "execution_count": 20,
   "metadata": {},
   "outputs": [
    {
     "name": "stdout",
     "output_type": "stream",
     "text": [
      "195\n"
     ]
    }
   ],
   "source": [
    "print(len(train_loader.dataset))"
   ]
  },
  {
   "attachments": {},
   "cell_type": "markdown",
   "metadata": {},
   "source": [
    "## GPU?"
   ]
  },
  {
   "cell_type": "code",
   "execution_count": 18,
   "metadata": {},
   "outputs": [
    {
     "name": "stdout",
     "output_type": "stream",
     "text": [
      "Device: cuda\n",
      "\n"
     ]
    }
   ],
   "source": [
    "# Use a GPU if available\n",
    "# device = \"cpu\"\n",
    "device = \"cuda\" if torch.cuda.is_available() else \"cpu\"\n",
    "print(f\"Device: {device}\\n\")"
   ]
  },
  {
   "attachments": {},
   "cell_type": "markdown",
   "metadata": {},
   "source": [
    "## Model design and initialization"
   ]
  },
  {
   "cell_type": "code",
   "execution_count": 6,
   "metadata": {},
   "outputs": [
    {
     "data": {
      "text/plain": [
       "Parameter containing:\n",
       "tensor([[ 0.0732,  0.0339,  0.0991,  ..., -0.1010,  0.0647, -0.0498],\n",
       "        [ 0.0857, -0.0189, -0.0119,  ...,  0.0490,  0.0172, -0.0968],\n",
       "        [-0.0772, -0.1034, -0.0432,  ..., -0.1044, -0.0593,  0.0474],\n",
       "        ...,\n",
       "        [ 0.0381,  0.0163,  0.0429,  ...,  0.0390,  0.0531,  0.0706],\n",
       "        [-0.1005, -0.0338, -0.0790,  ..., -0.0153, -0.0704,  0.0238],\n",
       "        [-0.0441,  0.0462,  0.0614,  ...,  0.1017, -0.0448,  0.0354]],\n",
       "       device='cuda:0', requires_grad=True)"
      ]
     },
     "execution_count": 6,
     "metadata": {},
     "output_type": "execute_result"
    }
   ],
   "source": [
    "# Open TensorBoard\n",
    "tensorboard = SummaryWriter()\n",
    "\n",
    "# Load the pre-trained ResNet model\n",
    "model = models.resnet18(weights=models.ResNet18_Weights.DEFAULT).to(device=device)\n",
    "\n",
    "# Replace the last layer by a fully-connected one with N outputs\n",
    "# (N being the number of classes)\n",
    "model.fc = nn.Linear(model.fc.in_features, 10, device=device)\n",
    "\n",
    "# Display the architecture in TensorBoard\n",
    "images, traversal_costs, traversability_labels = next(iter(train_loader))\n",
    "images = images.to(device)\n",
    "tensorboard.add_graph(model, images)\n",
    "\n",
    "# print(model)\n",
    "# print(torchsummary.summary(model, (3, 100, 100)))\n",
    "\n",
    "# Initialize the last layer using Xavier initialization\n",
    "nn.init.xavier_uniform_(model.fc.weight)"
   ]
  },
  {
   "cell_type": "code",
   "execution_count": 7,
   "metadata": {},
   "outputs": [
    {
     "data": {
      "text/plain": [
       "[('conv1.weight', torch.Size([64, 3, 7, 7])),\n",
       " ('bn1.weight', torch.Size([64])),\n",
       " ('bn1.bias', torch.Size([64])),\n",
       " ('layer1.0.conv1.weight', torch.Size([64, 64, 3, 3])),\n",
       " ('layer1.0.bn1.weight', torch.Size([64])),\n",
       " ('layer1.0.bn1.bias', torch.Size([64])),\n",
       " ('layer1.0.conv2.weight', torch.Size([64, 64, 3, 3])),\n",
       " ('layer1.0.bn2.weight', torch.Size([64])),\n",
       " ('layer1.0.bn2.bias', torch.Size([64])),\n",
       " ('layer1.1.conv1.weight', torch.Size([64, 64, 3, 3])),\n",
       " ('layer1.1.bn1.weight', torch.Size([64])),\n",
       " ('layer1.1.bn1.bias', torch.Size([64])),\n",
       " ('layer1.1.conv2.weight', torch.Size([64, 64, 3, 3])),\n",
       " ('layer1.1.bn2.weight', torch.Size([64])),\n",
       " ('layer1.1.bn2.bias', torch.Size([64])),\n",
       " ('layer2.0.conv1.weight', torch.Size([128, 64, 3, 3])),\n",
       " ('layer2.0.bn1.weight', torch.Size([128])),\n",
       " ('layer2.0.bn1.bias', torch.Size([128])),\n",
       " ('layer2.0.conv2.weight', torch.Size([128, 128, 3, 3])),\n",
       " ('layer2.0.bn2.weight', torch.Size([128])),\n",
       " ('layer2.0.bn2.bias', torch.Size([128])),\n",
       " ('layer2.0.downsample.0.weight', torch.Size([128, 64, 1, 1])),\n",
       " ('layer2.0.downsample.1.weight', torch.Size([128])),\n",
       " ('layer2.0.downsample.1.bias', torch.Size([128])),\n",
       " ('layer2.1.conv1.weight', torch.Size([128, 128, 3, 3])),\n",
       " ('layer2.1.bn1.weight', torch.Size([128])),\n",
       " ('layer2.1.bn1.bias', torch.Size([128])),\n",
       " ('layer2.1.conv2.weight', torch.Size([128, 128, 3, 3])),\n",
       " ('layer2.1.bn2.weight', torch.Size([128])),\n",
       " ('layer2.1.bn2.bias', torch.Size([128])),\n",
       " ('layer3.0.conv1.weight', torch.Size([256, 128, 3, 3])),\n",
       " ('layer3.0.bn1.weight', torch.Size([256])),\n",
       " ('layer3.0.bn1.bias', torch.Size([256])),\n",
       " ('layer3.0.conv2.weight', torch.Size([256, 256, 3, 3])),\n",
       " ('layer3.0.bn2.weight', torch.Size([256])),\n",
       " ('layer3.0.bn2.bias', torch.Size([256])),\n",
       " ('layer3.0.downsample.0.weight', torch.Size([256, 128, 1, 1])),\n",
       " ('layer3.0.downsample.1.weight', torch.Size([256])),\n",
       " ('layer3.0.downsample.1.bias', torch.Size([256])),\n",
       " ('layer3.1.conv1.weight', torch.Size([256, 256, 3, 3])),\n",
       " ('layer3.1.bn1.weight', torch.Size([256])),\n",
       " ('layer3.1.bn1.bias', torch.Size([256])),\n",
       " ('layer3.1.conv2.weight', torch.Size([256, 256, 3, 3])),\n",
       " ('layer3.1.bn2.weight', torch.Size([256])),\n",
       " ('layer3.1.bn2.bias', torch.Size([256])),\n",
       " ('layer4.0.conv1.weight', torch.Size([512, 256, 3, 3])),\n",
       " ('layer4.0.bn1.weight', torch.Size([512])),\n",
       " ('layer4.0.bn1.bias', torch.Size([512])),\n",
       " ('layer4.0.conv2.weight', torch.Size([512, 512, 3, 3])),\n",
       " ('layer4.0.bn2.weight', torch.Size([512])),\n",
       " ('layer4.0.bn2.bias', torch.Size([512])),\n",
       " ('layer4.0.downsample.0.weight', torch.Size([512, 256, 1, 1])),\n",
       " ('layer4.0.downsample.1.weight', torch.Size([512])),\n",
       " ('layer4.0.downsample.1.bias', torch.Size([512])),\n",
       " ('layer4.1.conv1.weight', torch.Size([512, 512, 3, 3])),\n",
       " ('layer4.1.bn1.weight', torch.Size([512])),\n",
       " ('layer4.1.bn1.bias', torch.Size([512])),\n",
       " ('layer4.1.conv2.weight', torch.Size([512, 512, 3, 3])),\n",
       " ('layer4.1.bn2.weight', torch.Size([512])),\n",
       " ('layer4.1.bn2.bias', torch.Size([512])),\n",
       " ('fc.weight', torch.Size([10, 512])),\n",
       " ('fc.bias', torch.Size([10]))]"
      ]
     },
     "execution_count": 7,
     "metadata": {},
     "output_type": "execute_result"
    }
   ],
   "source": [
    "[(name, param.shape) for name, param in model.named_parameters()]"
   ]
  },
  {
   "cell_type": "code",
   "execution_count": 8,
   "metadata": {},
   "outputs": [
    {
     "name": "stdout",
     "output_type": "stream",
     "text": [
      "OrderedDict([('weight', tensor([[ 0.0732,  0.0339,  0.0991,  ..., -0.1010,  0.0647, -0.0498],\n",
      "        [ 0.0857, -0.0189, -0.0119,  ...,  0.0490,  0.0172, -0.0968],\n",
      "        [-0.0772, -0.1034, -0.0432,  ..., -0.1044, -0.0593,  0.0474],\n",
      "        ...,\n",
      "        [ 0.0381,  0.0163,  0.0429,  ...,  0.0390,  0.0531,  0.0706],\n",
      "        [-0.1005, -0.0338, -0.0790,  ..., -0.0153, -0.0704,  0.0238],\n",
      "        [-0.0441,  0.0462,  0.0614,  ...,  0.1017, -0.0448,  0.0354]],\n",
      "       device='cuda:0')), ('bias', tensor([ 0.0297, -0.0105, -0.0192, -0.0220, -0.0426, -0.0267,  0.0122, -0.0220,\n",
      "         0.0281,  0.0407], device='cuda:0'))])\n"
     ]
    }
   ],
   "source": [
    "print(model.fc.state_dict())"
   ]
  },
  {
   "attachments": {},
   "cell_type": "markdown",
   "metadata": {},
   "source": [
    "## Training and validation loops"
   ]
  },
  {
   "cell_type": "code",
   "execution_count": 9,
   "metadata": {},
   "outputs": [
    {
     "name": "stderr",
     "output_type": "stream",
     "text": [
      "Epoch 0 [train]: 100%|██████████| 195/195 [00:06<00:00, 30.51batch/s, batch_loss=2.19]\n",
      "Epoch 0 [val]: 100%|██████████| 42/42 [00:01<00:00, 35.82batch/s, batch_loss=1.94]\n"
     ]
    },
    {
     "name": "stdout",
     "output_type": "stream",
     "text": [
      "Train accuracy:  24.52316076294278\n",
      "Validation accuracy:  26.925953627524308\n",
      "Train regression loss:  0.06626318856501304\n",
      "Validation regression loss:  0.05983901895850585\n"
     ]
    },
    {
     "name": "stderr",
     "output_type": "stream",
     "text": [
      "Epoch 1 [train]: 100%|██████████| 195/195 [00:06<00:00, 28.51batch/s, batch_loss=2.03]\n",
      "Epoch 1 [val]: 100%|██████████| 42/42 [00:01<00:00, 35.00batch/s, batch_loss=1.82]\n"
     ]
    },
    {
     "name": "stdout",
     "output_type": "stream",
     "text": [
      "Train accuracy:  28.834749158518992\n",
      "Validation accuracy:  26.402393418100225\n",
      "Train regression loss:  0.049672318182236344\n",
      "Validation regression loss:  0.058814523001531054\n"
     ]
    },
    {
     "name": "stderr",
     "output_type": "stream",
     "text": [
      "Epoch 2 [train]: 100%|██████████| 195/195 [00:06<00:00, 29.12batch/s, batch_loss=1.63]\n",
      "Epoch 2 [val]: 100%|██████████| 42/42 [00:01<00:00, 34.32batch/s, batch_loss=1.74]\n"
     ]
    },
    {
     "name": "stdout",
     "output_type": "stream",
     "text": [
      "Train accuracy:  30.854303574290753\n",
      "Validation accuracy:  26.776364996260284\n",
      "Train regression loss:  0.04656361683741712\n",
      "Validation regression loss:  0.06584015385694386\n"
     ]
    },
    {
     "name": "stderr",
     "output_type": "stream",
     "text": [
      "Epoch 3 [train]: 100%|██████████| 195/195 [00:06<00:00, 28.32batch/s, batch_loss=1.79]\n",
      "Epoch 3 [val]: 100%|██████████| 42/42 [00:01<00:00, 34.97batch/s, batch_loss=1.8] \n"
     ]
    },
    {
     "name": "stdout",
     "output_type": "stream",
     "text": [
      "Train accuracy:  32.761660522519634\n",
      "Validation accuracy:  29.020194465220644\n",
      "Train regression loss:  0.0442164997246839\n",
      "Validation regression loss:  0.060296825743019256\n"
     ]
    },
    {
     "name": "stderr",
     "output_type": "stream",
     "text": [
      "Epoch 4 [train]: 100%|██████████| 195/195 [00:06<00:00, 29.43batch/s, batch_loss=2.21]\n",
      "Epoch 4 [val]: 100%|██████████| 42/42 [00:01<00:00, 33.25batch/s, batch_loss=2.01]\n"
     ]
    },
    {
     "name": "stdout",
     "output_type": "stream",
     "text": [
      "Train accuracy:  33.53101458567078\n",
      "Validation accuracy:  28.646222887060585\n",
      "Train regression loss:  0.043121184476077955\n",
      "Validation regression loss:  0.05929426831487396\n"
     ]
    },
    {
     "name": "stderr",
     "output_type": "stream",
     "text": [
      "Epoch 5 [train]: 100%|██████████| 195/195 [00:06<00:00, 28.64batch/s, batch_loss=1.77]\n",
      "Epoch 5 [val]: 100%|██████████| 42/42 [00:01<00:00, 33.26batch/s, batch_loss=1.77]\n"
     ]
    },
    {
     "name": "stdout",
     "output_type": "stream",
     "text": [
      "Train accuracy:  33.53101458567078\n",
      "Validation accuracy:  27.898279730740462\n",
      "Train regression loss:  0.042458017377640864\n",
      "Validation regression loss:  0.06008637981962249\n"
     ]
    },
    {
     "name": "stderr",
     "output_type": "stream",
     "text": [
      "Epoch 6 [train]: 100%|██████████| 195/195 [00:06<00:00, 28.73batch/s, batch_loss=1.73]\n",
      "Epoch 6 [val]: 100%|██████████| 42/42 [00:01<00:00, 32.78batch/s, batch_loss=1.96]\n"
     ]
    },
    {
     "name": "stdout",
     "output_type": "stream",
     "text": [
      "Train accuracy:  33.54704279531976\n",
      "Validation accuracy:  26.701570680628272\n",
      "Train regression loss:  0.040707160813067196\n",
      "Validation regression loss:  0.058791926922975385\n"
     ]
    },
    {
     "name": "stderr",
     "output_type": "stream",
     "text": [
      "Epoch 7 [train]: 100%|██████████| 195/195 [00:06<00:00, 28.37batch/s, batch_loss=1.73]\n",
      "Epoch 7 [val]: 100%|██████████| 42/42 [00:01<00:00, 36.01batch/s, batch_loss=1.74]\n"
     ]
    },
    {
     "name": "stdout",
     "output_type": "stream",
     "text": [
      "Train accuracy:  34.58887642250361\n",
      "Validation accuracy:  27.225130890052355\n",
      "Train regression loss:  0.040554656009559986\n",
      "Validation regression loss:  0.05792301553416844\n"
     ]
    },
    {
     "name": "stderr",
     "output_type": "stream",
     "text": [
      "Epoch 8 [train]: 100%|██████████| 195/195 [00:06<00:00, 30.15batch/s, batch_loss=1.29]\n",
      "Epoch 8 [val]: 100%|██████████| 42/42 [00:01<00:00, 33.52batch/s, batch_loss=1.92]\n"
     ]
    },
    {
     "name": "stdout",
     "output_type": "stream",
     "text": [
      "Train accuracy:  35.614681840038465\n",
      "Validation accuracy:  25.35527299925206\n",
      "Train regression loss:  0.03924655594105038\n",
      "Validation regression loss:  0.05584010333958903\n"
     ]
    },
    {
     "name": "stderr",
     "output_type": "stream",
     "text": [
      "Epoch 9 [train]: 100%|██████████| 195/195 [00:06<00:00, 28.19batch/s, batch_loss=1.5] \n",
      "Epoch 9 [val]: 100%|██████████| 42/42 [00:01<00:00, 34.52batch/s, batch_loss=1.83]\n"
     ]
    },
    {
     "name": "stdout",
     "output_type": "stream",
     "text": [
      "Train accuracy:  36.72062830581824\n",
      "Validation accuracy:  29.169783096484668\n",
      "Train regression loss:  0.03866168786374684\n",
      "Validation regression loss:  0.050613042811032315\n"
     ]
    },
    {
     "name": "stderr",
     "output_type": "stream",
     "text": [
      "Epoch 10 [train]: 100%|██████████| 195/195 [00:06<00:00, 28.15batch/s, batch_loss=1.38]\n",
      "Epoch 10 [val]: 100%|██████████| 42/42 [00:01<00:00, 34.95batch/s, batch_loss=1.72]\n"
     ]
    },
    {
     "name": "stdout",
     "output_type": "stream",
     "text": [
      "Train accuracy:  37.313672062830584\n",
      "Validation accuracy:  26.327599102468213\n",
      "Train regression loss:  0.03840689003184612\n",
      "Validation regression loss:  0.06421855960472411\n"
     ]
    },
    {
     "name": "stderr",
     "output_type": "stream",
     "text": [
      "Epoch 11 [train]: 100%|██████████| 195/195 [00:06<00:00, 28.26batch/s, batch_loss=1.59]\n",
      "Epoch 11 [val]: 100%|██████████| 42/42 [00:01<00:00, 37.07batch/s, batch_loss=1.82]\n"
     ]
    },
    {
     "name": "stdout",
     "output_type": "stream",
     "text": [
      "Train accuracy:  37.92274402949191\n",
      "Validation accuracy:  26.028421839940165\n",
      "Train regression loss:  0.037388923946032326\n",
      "Validation regression loss:  0.05398200359468442\n"
     ]
    },
    {
     "name": "stderr",
     "output_type": "stream",
     "text": [
      "Epoch 12 [train]: 100%|██████████| 195/195 [00:06<00:00, 28.72batch/s, batch_loss=1.64]\n",
      "Epoch 12 [val]: 100%|██████████| 42/42 [00:01<00:00, 34.93batch/s, batch_loss=1.67]\n"
     ]
    },
    {
     "name": "stdout",
     "output_type": "stream",
     "text": [
      "Train accuracy:  37.23353101458567\n",
      "Validation accuracy:  28.42183994016455\n",
      "Train regression loss:  0.037196810382451324\n",
      "Validation regression loss:  0.05293694746413042\n"
     ]
    },
    {
     "name": "stderr",
     "output_type": "stream",
     "text": [
      "Epoch 13 [train]: 100%|██████████| 195/195 [00:06<00:00, 29.87batch/s, batch_loss=1.26]\n",
      "Epoch 13 [val]: 100%|██████████| 42/42 [00:01<00:00, 33.84batch/s, batch_loss=2.42]\n"
     ]
    },
    {
     "name": "stdout",
     "output_type": "stream",
     "text": [
      "Train accuracy:  39.09280333386761\n",
      "Validation accuracy:  31.039640987284965\n",
      "Train regression loss:  0.03661769897988706\n",
      "Validation regression loss:  0.047585229930836526\n"
     ]
    },
    {
     "name": "stderr",
     "output_type": "stream",
     "text": [
      "Epoch 14 [train]: 100%|██████████| 195/195 [00:06<00:00, 29.25batch/s, batch_loss=1.62]\n",
      "Epoch 14 [val]: 100%|██████████| 42/42 [00:01<00:00, 34.51batch/s, batch_loss=1.87]\n"
     ]
    },
    {
     "name": "stdout",
     "output_type": "stream",
     "text": [
      "Train accuracy:  39.028690495271675\n",
      "Validation accuracy:  26.477187733732237\n",
      "Train regression loss:  0.036025466078667114\n",
      "Validation regression loss:  0.04865571328486864\n"
     ]
    },
    {
     "name": "stderr",
     "output_type": "stream",
     "text": [
      "Epoch 15 [train]: 100%|██████████| 195/195 [00:06<00:00, 28.15batch/s, batch_loss=1.36]\n",
      "Epoch 15 [val]: 100%|██████████| 42/42 [00:01<00:00, 34.61batch/s, batch_loss=1.54]\n"
     ]
    },
    {
     "name": "stdout",
     "output_type": "stream",
     "text": [
      "Train accuracy:  39.70187530052893\n",
      "Validation accuracy:  28.571428571428573\n",
      "Train regression loss:  0.03638954012653003\n",
      "Validation regression loss:  0.04899415500357761\n"
     ]
    },
    {
     "name": "stderr",
     "output_type": "stream",
     "text": [
      "Epoch 16 [train]: 100%|██████████| 195/195 [00:06<00:00, 29.65batch/s, batch_loss=1.42]\n",
      "Epoch 16 [val]: 100%|██████████| 42/42 [00:01<00:00, 31.79batch/s, batch_loss=1.73]\n"
     ]
    },
    {
     "name": "stdout",
     "output_type": "stream",
     "text": [
      "Train accuracy:  40.00641128385959\n",
      "Validation accuracy:  29.094988780852656\n",
      "Train regression loss:  0.03475531330405383\n",
      "Validation regression loss:  0.050295714338125845\n"
     ]
    },
    {
     "name": "stderr",
     "output_type": "stream",
     "text": [
      "Epoch 17 [train]: 100%|██████████| 195/195 [00:06<00:00, 30.03batch/s, batch_loss=1.53]\n",
      "Epoch 17 [val]: 100%|██████████| 42/42 [00:01<00:00, 32.05batch/s, batch_loss=1.71]\n"
     ]
    },
    {
     "name": "stdout",
     "output_type": "stream",
     "text": [
      "Train accuracy:  39.84612918736977\n",
      "Validation accuracy:  30.216903515332834\n",
      "Train regression loss:  0.035527386699678476\n",
      "Validation regression loss:  0.0490633420542185\n"
     ]
    },
    {
     "name": "stderr",
     "output_type": "stream",
     "text": [
      "Epoch 18 [train]: 100%|██████████| 195/195 [00:06<00:00, 30.44batch/s, batch_loss=1.27]\n",
      "Epoch 18 [val]: 100%|██████████| 42/42 [00:01<00:00, 30.69batch/s, batch_loss=1.63]\n"
     ]
    },
    {
     "name": "stdout",
     "output_type": "stream",
     "text": [
      "Train accuracy:  40.98413207244751\n",
      "Validation accuracy:  32.38593866866118\n",
      "Train regression loss:  0.03493379084379837\n",
      "Validation regression loss:  0.04722000307908841\n"
     ]
    },
    {
     "name": "stderr",
     "output_type": "stream",
     "text": [
      "Epoch 19 [train]: 100%|██████████| 195/195 [00:06<00:00, 30.19batch/s, batch_loss=1.76]\n",
      "Epoch 19 [val]: 100%|██████████| 42/42 [00:01<00:00, 36.82batch/s, batch_loss=1.56]\n"
     ]
    },
    {
     "name": "stdout",
     "output_type": "stream",
     "text": [
      "Train accuracy:  40.61548325052092\n",
      "Validation accuracy:  30.590875093492894\n",
      "Train regression loss:  0.034952961843051154\n",
      "Validation regression loss:  0.049778304441499444\n"
     ]
    },
    {
     "name": "stderr",
     "output_type": "stream",
     "text": [
      "Epoch 20 [train]: 100%|██████████| 195/195 [00:06<00:00, 29.20batch/s, batch_loss=1.42]\n",
      "Epoch 20 [val]: 100%|██████████| 42/42 [00:01<00:00, 31.59batch/s, batch_loss=1.42]\n"
     ]
    },
    {
     "name": "stdout",
     "output_type": "stream",
     "text": [
      "Train accuracy:  42.18624779612117\n",
      "Validation accuracy:  29.24457741211668\n",
      "Train regression loss:  0.0345246466161667\n",
      "Validation regression loss:  0.04806560245794399\n"
     ]
    },
    {
     "name": "stderr",
     "output_type": "stream",
     "text": [
      "Epoch 21 [train]: 100%|██████████| 195/195 [00:06<00:00, 28.81batch/s, batch_loss=1.61]\n",
      "Epoch 21 [val]: 100%|██████████| 42/42 [00:01<00:00, 36.30batch/s, batch_loss=1.47]\n"
     ]
    },
    {
     "name": "stdout",
     "output_type": "stream",
     "text": [
      "Train accuracy:  42.10610674787626\n",
      "Validation accuracy:  29.768137621540763\n",
      "Train regression loss:  0.033800102807616826\n",
      "Validation regression loss:  0.047177210475301476\n"
     ]
    },
    {
     "name": "stderr",
     "output_type": "stream",
     "text": [
      "Epoch 22 [train]: 100%|██████████| 195/195 [00:06<00:00, 28.86batch/s, batch_loss=1.44]\n",
      "Epoch 22 [val]: 100%|██████████| 42/42 [00:01<00:00, 34.18batch/s, batch_loss=1.86]\n"
     ]
    },
    {
     "name": "stdout",
     "output_type": "stream",
     "text": [
      "Train accuracy:  43.11588395576214\n",
      "Validation accuracy:  28.49663425579656\n",
      "Train regression loss:  0.032926866239874494\n",
      "Validation regression loss:  0.049462373359216716\n"
     ]
    },
    {
     "name": "stderr",
     "output_type": "stream",
     "text": [
      "Epoch 23 [train]: 100%|██████████| 195/195 [00:06<00:00, 29.11batch/s, batch_loss=1.3] \n",
      "Epoch 23 [val]: 100%|██████████| 42/42 [00:01<00:00, 34.21batch/s, batch_loss=1.52]\n"
     ]
    },
    {
     "name": "stdout",
     "output_type": "stream",
     "text": [
      "Train accuracy:  43.228081423305014\n",
      "Validation accuracy:  30.89005235602094\n",
      "Train regression loss:  0.033164671094963884\n",
      "Validation regression loss:  0.048572717178406034\n"
     ]
    },
    {
     "name": "stderr",
     "output_type": "stream",
     "text": [
      "Epoch 24 [train]: 100%|██████████| 195/195 [00:06<00:00, 29.03batch/s, batch_loss=1.21]\n",
      "Epoch 24 [val]: 100%|██████████| 42/42 [00:01<00:00, 34.37batch/s, batch_loss=1.59]\n"
     ]
    },
    {
     "name": "stdout",
     "output_type": "stream",
     "text": [
      "Train accuracy:  44.89501522679917\n",
      "Validation accuracy:  30.44128646222887\n",
      "Train regression loss:  0.03223665789203576\n",
      "Validation regression loss:  0.044804649173616255\n"
     ]
    },
    {
     "name": "stderr",
     "output_type": "stream",
     "text": [
      "Epoch 25 [train]: 100%|██████████| 195/195 [00:06<00:00, 28.78batch/s, batch_loss=1.46]\n",
      "Epoch 25 [val]: 100%|██████████| 42/42 [00:01<00:00, 35.64batch/s, batch_loss=1.9] \n"
     ]
    },
    {
     "name": "stdout",
     "output_type": "stream",
     "text": [
      "Train accuracy:  43.53261740663568\n",
      "Validation accuracy:  30.81525804038893\n",
      "Train regression loss:  0.03206535107207807\n",
      "Validation regression loss:  0.04401808950404159\n"
     ]
    },
    {
     "name": "stderr",
     "output_type": "stream",
     "text": [
      "Epoch 26 [train]: 100%|██████████| 195/195 [00:06<00:00, 30.55batch/s, batch_loss=1.31]\n",
      "Epoch 26 [val]: 100%|██████████| 42/42 [00:01<00:00, 34.96batch/s, batch_loss=1.96]\n"
     ]
    },
    {
     "name": "stdout",
     "output_type": "stream",
     "text": [
      "Train accuracy:  45.24763583907678\n",
      "Validation accuracy:  29.842931937172775\n",
      "Train regression loss:  0.031177152616286168\n",
      "Validation regression loss:  0.05297063277966873\n"
     ]
    },
    {
     "name": "stderr",
     "output_type": "stream",
     "text": [
      "Epoch 27 [train]: 100%|██████████| 195/195 [00:06<00:00, 29.31batch/s, batch_loss=1.51] \n",
      "Epoch 27 [val]: 100%|██████████| 42/42 [00:01<00:00, 36.14batch/s, batch_loss=1.65]\n"
     ]
    },
    {
     "name": "stdout",
     "output_type": "stream",
     "text": [
      "Train accuracy:  45.07132553293797\n",
      "Validation accuracy:  29.094988780852656\n",
      "Train regression loss:  0.032161926537383256\n",
      "Validation regression loss:  0.045658541276331545\n"
     ]
    },
    {
     "name": "stderr",
     "output_type": "stream",
     "text": [
      "Epoch 28 [train]: 100%|██████████| 195/195 [00:06<00:00, 29.93batch/s, batch_loss=1.2] \n",
      "Epoch 28 [val]: 100%|██████████| 42/42 [00:01<00:00, 36.10batch/s, batch_loss=1.65]\n"
     ]
    },
    {
     "name": "stdout",
     "output_type": "stream",
     "text": [
      "Train accuracy:  44.9591280653951\n",
      "Validation accuracy:  29.319371727748692\n",
      "Train regression loss:  0.03170807383747867\n",
      "Validation regression loss:  0.047065383987686324\n"
     ]
    },
    {
     "name": "stderr",
     "output_type": "stream",
     "text": [
      "Epoch 29 [train]: 100%|██████████| 195/195 [00:06<00:00, 28.62batch/s, batch_loss=1.76]\n",
      "Epoch 29 [val]: 100%|██████████| 42/42 [00:01<00:00, 35.38batch/s, batch_loss=2.14]\n"
     ]
    },
    {
     "name": "stdout",
     "output_type": "stream",
     "text": [
      "Train accuracy:  46.56194903029331\n",
      "Validation accuracy:  30.590875093492894\n",
      "Train regression loss:  0.030367564128798756\n",
      "Validation regression loss:  0.05220327277107014\n"
     ]
    },
    {
     "name": "stderr",
     "output_type": "stream",
     "text": [
      "Epoch 30 [train]: 100%|██████████| 195/195 [00:06<00:00, 29.90batch/s, batch_loss=1.51] \n",
      "Epoch 30 [val]: 100%|██████████| 42/42 [00:01<00:00, 34.64batch/s, batch_loss=2.03]\n"
     ]
    },
    {
     "name": "stdout",
     "output_type": "stream",
     "text": [
      "Train accuracy:  47.36335951274243\n",
      "Validation accuracy:  30.142109199700823\n",
      "Train regression loss:  0.030597794490374093\n",
      "Validation regression loss:  0.04739409218808296\n"
     ]
    },
    {
     "name": "stderr",
     "output_type": "stream",
     "text": [
      "Epoch 31 [train]: 100%|██████████| 195/195 [00:06<00:00, 28.31batch/s, batch_loss=1.06] \n",
      "Epoch 31 [val]: 100%|██████████| 42/42 [00:01<00:00, 36.09batch/s, batch_loss=1.87]\n"
     ]
    },
    {
     "name": "stdout",
     "output_type": "stream",
     "text": [
      "Train accuracy:  47.860234011860875\n",
      "Validation accuracy:  28.19745699326851\n",
      "Train regression loss:  0.03154695013796543\n",
      "Validation regression loss:  0.04794914736874075\n"
     ]
    },
    {
     "name": "stderr",
     "output_type": "stream",
     "text": [
      "Epoch 32 [train]: 100%|██████████| 195/195 [00:06<00:00, 28.63batch/s, batch_loss=1.14] \n",
      "Epoch 32 [val]: 100%|██████████| 42/42 [00:01<00:00, 33.53batch/s, batch_loss=1.75]\n"
     ]
    },
    {
     "name": "stdout",
     "output_type": "stream",
     "text": [
      "Train accuracy:  47.748036544318\n",
      "Validation accuracy:  30.516080777860882\n",
      "Train regression loss:  0.030489903424647066\n",
      "Validation regression loss:  0.04734683098127769\n"
     ]
    },
    {
     "name": "stderr",
     "output_type": "stream",
     "text": [
      "Epoch 33 [train]: 100%|██████████| 195/195 [00:06<00:00, 29.65batch/s, batch_loss=1.51] \n",
      "Epoch 33 [val]: 100%|██████████| 42/42 [00:01<00:00, 33.02batch/s, batch_loss=1.51]\n"
     ]
    },
    {
     "name": "stdout",
     "output_type": "stream",
     "text": [
      "Train accuracy:  48.59753165571406\n",
      "Validation accuracy:  33.95661929693343\n",
      "Train regression loss:  0.030168191340095282\n",
      "Validation regression loss:  0.04515045409186934\n"
     ]
    },
    {
     "name": "stderr",
     "output_type": "stream",
     "text": [
      "Epoch 34 [train]: 100%|██████████| 195/195 [00:06<00:00, 28.65batch/s, batch_loss=1.21] \n",
      "Epoch 34 [val]: 100%|██████████| 42/42 [00:01<00:00, 33.58batch/s, batch_loss=1.75]\n"
     ]
    },
    {
     "name": "stdout",
     "output_type": "stream",
     "text": [
      "Train accuracy:  49.23866004167334\n",
      "Validation accuracy:  30.81525804038893\n",
      "Train regression loss:  0.029715125070257774\n",
      "Validation regression loss:  0.04781874058212998\n"
     ]
    },
    {
     "name": "stderr",
     "output_type": "stream",
     "text": [
      "Epoch 35 [train]: 100%|██████████| 195/195 [00:06<00:00, 28.92batch/s, batch_loss=1.43] \n",
      "Epoch 35 [val]: 100%|██████████| 42/42 [00:01<00:00, 34.43batch/s, batch_loss=1.74]\n"
     ]
    },
    {
     "name": "stdout",
     "output_type": "stream",
     "text": [
      "Train accuracy:  50.50488860394294\n",
      "Validation accuracy:  32.38593866866118\n",
      "Train regression loss:  0.029598618764111715\n",
      "Validation regression loss:  0.045006030938332386\n"
     ]
    },
    {
     "name": "stderr",
     "output_type": "stream",
     "text": [
      "Epoch 36 [train]: 100%|██████████| 195/195 [00:06<00:00, 29.08batch/s, batch_loss=1.15] \n",
      "Epoch 36 [val]: 100%|██████████| 42/42 [00:01<00:00, 36.13batch/s, batch_loss=1.88]\n"
     ]
    },
    {
     "name": "stdout",
     "output_type": "stream",
     "text": [
      "Train accuracy:  50.07212694342042\n",
      "Validation accuracy:  30.216903515332834\n",
      "Train regression loss:  0.028727683988376614\n",
      "Validation regression loss:  0.0473400172360045\n"
     ]
    },
    {
     "name": "stderr",
     "output_type": "stream",
     "text": [
      "Epoch 37 [train]: 100%|██████████| 195/195 [00:06<00:00, 28.38batch/s, batch_loss=1.46] \n",
      "Epoch 37 [val]: 100%|██████████| 42/42 [00:01<00:00, 34.71batch/s, batch_loss=1.6] \n"
     ]
    },
    {
     "name": "stdout",
     "output_type": "stream",
     "text": [
      "Train accuracy:  50.82545279692258\n",
      "Validation accuracy:  30.964846671652953\n",
      "Train regression loss:  0.027795900073199407\n",
      "Validation regression loss:  0.0447324092509903\n"
     ]
    },
    {
     "name": "stderr",
     "output_type": "stream",
     "text": [
      "Epoch 38 [train]: 100%|██████████| 195/195 [00:06<00:00, 28.33batch/s, batch_loss=1.26] \n",
      "Epoch 38 [val]: 100%|██████████| 42/42 [00:01<00:00, 35.07batch/s, batch_loss=1.7] \n"
     ]
    },
    {
     "name": "stdout",
     "output_type": "stream",
     "text": [
      "Train accuracy:  51.01779131271037\n",
      "Validation accuracy:  30.89005235602094\n",
      "Train regression loss:  0.029355337164152936\n",
      "Validation regression loss:  0.04588741505018678\n"
     ]
    },
    {
     "name": "stderr",
     "output_type": "stream",
     "text": [
      "Epoch 39 [train]: 100%|██████████| 195/195 [00:06<00:00, 28.59batch/s, batch_loss=1]    \n",
      "Epoch 39 [val]: 100%|██████████| 42/42 [00:01<00:00, 31.09batch/s, batch_loss=1.85]"
     ]
    },
    {
     "name": "stdout",
     "output_type": "stream",
     "text": [
      "Train accuracy:  52.47635839076775\n",
      "Validation accuracy:  32.53552729992521\n",
      "Train regression loss:  0.02786337353147077\n",
      "Validation regression loss:  0.04241229830185623\n"
     ]
    },
    {
     "name": "stderr",
     "output_type": "stream",
     "text": [
      "\n"
     ]
    }
   ],
   "source": [
    "# Define the loss function (combines nn.LogSoftmax() and nn.NLLLoss())\n",
    "criterion_classification = nn.CrossEntropyLoss()\n",
    "\n",
    "# Loss function to compare the expected traversal cost over the bins\n",
    "# and the ground truth traversal cost\n",
    "criterion_regression = nn.MSELoss()\n",
    "\n",
    "# Load the bins midpoints\n",
    "bins_midpoints = np.load(DATASET+\"bins_midpoints.npy\")\n",
    "bins_midpoints = torch.tensor(bins_midpoints[:, None], dtype=torch.float32, device=device)\n",
    "\n",
    "# Get all the parameters excepts the weights and bias of fc layer\n",
    "base_params = [param for name, param in model.named_parameters()\n",
    "               if name not in [\"fc.weight\", \"fc.bias\"]]\n",
    "\n",
    "# Define the optimizer, with a greater learning rate for the new fc layer\n",
    "optimizer = optim.SGD([\n",
    "    {\"params\": base_params},\n",
    "    {\"params\": model.fc.parameters(), \"lr\": 1e-3},\n",
    "],\n",
    "    lr=1e-4, momentum=0.9, weight_decay=0.001)\n",
    "\n",
    "# An epoch is one complete pass of the training dataset through the network\n",
    "NB_EPOCHS = 40\n",
    "\n",
    "loss_values = torch.zeros(2, NB_EPOCHS)\n",
    "accuracy_values = torch.zeros(2, NB_EPOCHS)\n",
    "regression_loss_values = torch.zeros(2, NB_EPOCHS)\n",
    "\n",
    "# Loop over the epochs\n",
    "for epoch in range(NB_EPOCHS):\n",
    "    \n",
    "    # Training\n",
    "    train_loss = 0.\n",
    "    train_correct = 0\n",
    "    train_regression_loss = 0.\n",
    "    \n",
    "    # Configure the model for training\n",
    "    # (good practice, only necessary if the model operates differently for\n",
    "    # training and validation)\n",
    "    model.train()\n",
    "    \n",
    "    # Add a progress bar\n",
    "    train_loader_pbar = tqdm(train_loader, unit=\"batch\")\n",
    "    \n",
    "    # Loop over the training batches\n",
    "    for images, traversal_costs, traversability_labels in train_loader_pbar:\n",
    "        \n",
    "        # Print the epoch and training mode\n",
    "        train_loader_pbar.set_description(f\"Epoch {epoch} [train]\")\n",
    "        \n",
    "        # Move images and traversal scores to GPU (if available)\n",
    "        images = images.to(device)\n",
    "        traversal_costs = traversal_costs.to(device)\n",
    "        traversability_labels = traversability_labels.to(device)\n",
    "        \n",
    "        # Zero out gradients before each backpropagation pass, to avoid that\n",
    "        # they accumulate\n",
    "        optimizer.zero_grad()\n",
    "        \n",
    "        # Perform forward pass\n",
    "        predicted_traversability_labels = model(images)\n",
    "        # predicted_traversal_scores = nn.Softmax(dim=1)(model(images))\n",
    "        \n",
    "        # Compute loss \n",
    "        loss = criterion_classification(predicted_traversability_labels, traversability_labels)\n",
    "        \n",
    "        # Print the batch loss next to the progress bar\n",
    "        train_loader_pbar.set_postfix(batch_loss=loss.item())\n",
    "        \n",
    "        # Perform backpropagation (update weights)\n",
    "        loss.backward()\n",
    "        \n",
    "        # Adjust parameters based on gradients\n",
    "        optimizer.step()\n",
    "        \n",
    "        # Accumulate batch loss to average over the epoch\n",
    "        train_loss += loss.item()\n",
    "    \n",
    "        # Get the number of correct predictions\n",
    "        train_correct += torch.sum(\n",
    "            torch.argmax(predicted_traversability_labels, dim=1) == traversability_labels\n",
    "            ).item()\n",
    "        \n",
    "        # Compute the expected traversal cost over the bins\n",
    "        expected_traversal_costs = torch.matmul(nn.Softmax(dim=1)(predicted_traversability_labels), bins_midpoints)\n",
    "        \n",
    "        # Compute and accumulate the batch loss\n",
    "        train_regression_loss += criterion_regression(expected_traversal_costs[:, 0], traversal_costs).item()\n",
    "    \n",
    "    \n",
    "    # Validation\n",
    "    val_loss = 0.\n",
    "    val_correct = 0\n",
    "    val_regression_loss = 0.\n",
    "    \n",
    "    # Configure the model for testing\n",
    "    # (turn off dropout layers, batchnorm layers, etc)\n",
    "    model.eval()\n",
    "    \n",
    "    # Add a progress bar\n",
    "    val_loader_pbar = tqdm(val_loader, unit=\"batch\")\n",
    "    \n",
    "    # Turn off gradients computation (the backward computational graph is built during\n",
    "    # the forward pass and weights are updated during the backward pass, here we avoid\n",
    "    # building the graph)\n",
    "    with torch.no_grad():\n",
    "        # Loop over the validation batches\n",
    "        for images, traversal_costs, traversability_labels in val_loader_pbar:\n",
    "\n",
    "            # Print the epoch and validation mode\n",
    "            val_loader_pbar.set_description(f\"Epoch {epoch} [val]\")\n",
    "\n",
    "            # Move images and traversal scores to GPU (if available)\n",
    "            images = images.to(device)\n",
    "            traversal_costs = traversal_costs.to(device)\n",
    "            traversability_labels = traversability_labels.to(device)\n",
    "            \n",
    "            # Perform forward pass (only, no backpropagation)\n",
    "            predicted_traversability_labels = model(images)\n",
    "            # predicted_traversal_scores = nn.Softmax(dim=1)(model(images))\n",
    "\n",
    "            # Compute loss\n",
    "            loss = criterion_classification(predicted_traversability_labels, traversability_labels)\n",
    "\n",
    "            # Print the batch loss next to the progress bar\n",
    "            val_loader_pbar.set_postfix(batch_loss=loss.item())\n",
    "\n",
    "            # Accumulate batch loss to average over the epoch\n",
    "            val_loss += loss.item()\n",
    "            \n",
    "            # Get the number of correct predictions\n",
    "            val_correct += torch.sum(\n",
    "                torch.argmax(predicted_traversability_labels, dim=1) == traversability_labels\n",
    "                ).item()\n",
    "            \n",
    "            # Compute the expected traversal cost over the bins\n",
    "            expected_traversal_costs = torch.matmul(nn.Softmax(dim=1)(predicted_traversability_labels), bins_midpoints)\n",
    "\n",
    "            # Compute and accumulate the batch loss\n",
    "            val_regression_loss += criterion_regression(expected_traversal_costs[:, 0], traversal_costs).item()\n",
    "    \n",
    "    \n",
    "    # Compute the losses and accuracies\n",
    "    train_loss /= len(train_loader)\n",
    "    val_loss /= len(val_loader)\n",
    "    \n",
    "    train_accuracy = 100*train_correct/NB_TRAIN\n",
    "    val_accuracy = 100*val_correct/NB_VAL\n",
    "    \n",
    "    train_regression_loss /= len(train_loader)\n",
    "    val_regression_loss /= len(val_loader)\n",
    "    \n",
    "    print(\"Train accuracy: \", train_accuracy)\n",
    "    print(\"Validation accuracy: \", val_accuracy)\n",
    "    print(\"Train regression loss: \", train_regression_loss)\n",
    "    print(\"Validation regression loss: \", val_regression_loss)\n",
    "    \n",
    "    # Store the computed losses\n",
    "    loss_values[0, epoch] = train_loss\n",
    "    loss_values[1, epoch] = val_loss\n",
    "    # Store the computed accuracies\n",
    "    accuracy_values[0, epoch] = train_accuracy\n",
    "    accuracy_values[1, epoch] = val_accuracy\n",
    "    # Store the computed regression losses\n",
    "    regression_loss_values[0, epoch] = train_regression_loss\n",
    "    regression_loss_values[1, epoch] = val_regression_loss\n",
    "    \n",
    "    # Add the losses to TensorBoard\n",
    "    tensorboard.add_scalar(\"train_loss\", train_loss, epoch)\n",
    "    tensorboard.add_scalar(\"val_loss\", val_loss, epoch)\n",
    "    # Add the accuracies to TensorBoard\n",
    "    tensorboard.add_scalar(\"train_accuracy\", train_accuracy, epoch)\n",
    "    tensorboard.add_scalar(\"val_accuracy\", val_accuracy, epoch)\n",
    "    # Add the regression losses to TensorBoard\n",
    "    tensorboard.add_scalar(\"train_regression_loss\", train_regression_loss, epoch)\n",
    "    tensorboard.add_scalar(\"val_regression_loss\", val_regression_loss, epoch)\n",
    "\n",
    "# Close TensorBoard\n",
    "tensorboard.close()"
   ]
  },
  {
   "attachments": {},
   "cell_type": "markdown",
   "metadata": {},
   "source": [
    "### Visualization"
   ]
  },
  {
   "cell_type": "code",
   "execution_count": 10,
   "metadata": {},
   "outputs": [
    {
     "data": {
      "text/plain": [
       "Text(0.5, 0, 'Epoch')"
      ]
     },
     "execution_count": 10,
     "metadata": {},
     "output_type": "execute_result"
    },
    {
     "data": {
      "image/png": "[encoded data removed]",
      "text/plain": [
       "<Figure size 640x480 with 1 Axes>"
      ]
     },
     "metadata": {},
     "output_type": "display_data"
    }
   ],
   "source": [
    "# Loss\n",
    "train_losses = loss_values[0]\n",
    "val_losses = loss_values[1]\n",
    "\n",
    "plt.plot(train_losses, label=\"train loss\")\n",
    "plt.plot(val_losses, label=\"validation loss\")\n",
    "\n",
    "plt.legend()\n",
    "plt.xlabel(\"Epoch\")"
   ]
  },
  {
   "cell_type": "code",
   "execution_count": 11,
   "metadata": {},
   "outputs": [
    {
     "data": {
      "text/plain": [
       "Text(0.5, 0, 'Epoch')"
      ]
     },
     "execution_count": 11,
     "metadata": {},
     "output_type": "execute_result"
    },
    {
     "data": {
      "image/png": "[encoded data removed]",
      "text/plain": [
       "<Figure size 640x480 with 1 Axes>"
      ]
     },
     "metadata": {},
     "output_type": "display_data"
    }
   ],
   "source": [
    "# Accuracy\n",
    "train_accuracies = accuracy_values[0]\n",
    "val_accuracies = accuracy_values[1]\n",
    "\n",
    "plt.plot(train_accuracies, label=\"train accuracy\")\n",
    "plt.plot(val_accuracies, label=\"validation accuracy\")\n",
    "\n",
    "plt.legend()\n",
    "plt.xlabel(\"Epoch\")"
   ]
  },
  {
   "cell_type": "code",
   "execution_count": 12,
   "metadata": {},
   "outputs": [
    {
     "data": {
      "text/plain": [
       "Text(0.5, 0, 'Epoch')"
      ]
     },
     "execution_count": 12,
     "metadata": {},
     "output_type": "execute_result"
    },
    {
     "data": {
      "image/png": "[encoded data removed]",
      "text/plain": [
       "<Figure size 640x480 with 1 Axes>"
      ]
     },
     "metadata": {},
     "output_type": "display_data"
    }
   ],
   "source": [
    "# Regression loss\n",
    "train_regression_losses = regression_loss_values[0]\n",
    "val_regression_losses = regression_loss_values[1]\n",
    "\n",
    "plt.plot(train_regression_losses, label=\"train regression loss\")\n",
    "plt.plot(val_regression_losses, label=\"validation regression loss\")\n",
    "\n",
    "plt.legend()\n",
    "plt.xlabel(\"Epoch\")"
   ]
  },
  {
   "cell_type": "markdown",
   "metadata": {},
   "source": [
    "## Testing"
   ]
  },
  {
   "cell_type": "code",
   "execution_count": 13,
   "metadata": {},
   "outputs": [
    {
     "name": "stdout",
     "output_type": "stream",
     "text": [
      "Test loss:  1.875060879048847\n",
      "Test accuracy:  30.86696562032885\n",
      "Regression loss:  0.042249552165416\n"
     ]
    }
   ],
   "source": [
    "# Testing\n",
    "test_loss = 0.\n",
    "test_correct = 0\n",
    "test_regression_loss = 0.\n",
    "\n",
    "# Configure the model for testing\n",
    "model.eval()\n",
    "\n",
    "with torch.no_grad():\n",
    "    # Loop over the testing batches\n",
    "    for images, traversal_costs, traversability_labels in test_loader:\n",
    "        \n",
    "        images = images.to(device)\n",
    "        traversal_costs = traversal_costs.to(device)\n",
    "        traversability_labels = traversability_labels.to(device)\n",
    "        \n",
    "        # Perform forward pass\n",
    "        predicted_traversability_labels = model(images)\n",
    "        \n",
    "        # Compute loss\n",
    "        loss = criterion_classification(predicted_traversability_labels, traversability_labels)\n",
    "        \n",
    "        # Accumulate batch loss to average of the entire testing set\n",
    "        test_loss += loss.item()\n",
    "        \n",
    "        # Get the number of correct predictions\n",
    "        test_correct += torch.sum(\n",
    "            torch.argmax(predicted_traversability_labels, dim=1) == traversability_labels\n",
    "            ).item()\n",
    "\n",
    "        # Compute the expected traversal cost over the bins\n",
    "        expected_traversal_costs = torch.matmul(nn.Softmax(dim=1)(predicted_traversability_labels), bins_midpoints)\n",
    "        # Compute and accumulate the batch loss\n",
    "        test_regression_loss += criterion_regression(expected_traversal_costs[:, 0], traversal_costs).item()\n",
    "        \n",
    "        \n",
    "# Compute the loss and accuracy\n",
    "test_loss /= len(test_loader)\n",
    "test_accuracy = 100*test_correct/NB_TEST\n",
    "\n",
    "print(\"Test loss: \", test_loss)\n",
    "print(\"Test accuracy: \", test_accuracy)\n",
    "\n",
    "test_regression_loss /= len(test_loader)\n",
    "\n",
    "print(\"Regression loss: \", test_regression_loss)"
   ]
  },
  {
   "cell_type": "code",
   "execution_count": 73,
   "metadata": {},
   "outputs": [
    {
     "name": "stdout",
     "output_type": "stream",
     "text": [
      "Output:\n",
      " tensor([[-0.8515,  0.0069,  1.1660,  0.8941,  2.0173,  1.7717,  1.0256,  0.6969,\n",
      "          0.6718, -0.0951],\n",
      "        [-1.6083, -1.6581,  0.0175, -0.4592,  0.1121,  2.2562,  4.1061,  4.5848,\n",
      "          2.8257, -0.1665],\n",
      "        [-0.6184, -1.7743,  1.2221,  0.7353,  1.7184,  2.4739,  0.7050,  0.2858,\n",
      "         -0.2344,  1.0759],\n",
      "        [-2.2887, -1.7999, -3.2661, -2.3329, -1.6021,  3.9827,  6.3289,  5.8019,\n",
      "          4.0995,  0.4638],\n",
      "        [-2.3536, -2.3906,  0.8915, -0.1349,  2.4820,  2.0621,  2.7095,  2.4689,\n",
      "          0.5712,  1.3396],\n",
      "        [-0.7196,  2.5418,  2.0863,  1.8257,  1.8399,  0.2246, -0.6465,  0.1092,\n",
      "         -0.1289, -0.7326],\n",
      "        [-2.1995, -0.4077,  1.9363,  0.9856,  2.1627,  2.2628,  0.9170,  1.0320,\n",
      "          1.6215, -0.8201],\n",
      "        [-0.4454,  1.0630,  1.3040,  0.5371,  1.3248,  1.6151,  1.1244,  0.4658,\n",
      "         -0.4242,  0.5076],\n",
      "        [-1.3742, -2.2342,  1.1690, -0.7643,  1.0619,  2.0883,  2.0469,  2.8033,\n",
      "          1.2164,  1.2618],\n",
      "        [-1.9878,  1.2910,  3.4394,  1.9195,  0.3727, -1.5793,  0.9760, -0.7223,\n",
      "         -2.9435, -1.3067],\n",
      "        [-0.7736, -0.2181,  0.4771, -0.2137,  1.3677,  1.2066,  1.4731,  2.1581,\n",
      "          1.4035,  0.4412],\n",
      "        [-1.4407,  0.2912, -0.7416, -0.4338,  1.1312,  2.3986,  2.4802,  2.6143,\n",
      "          1.3343,  0.4001],\n",
      "        [-0.7850, -0.1447,  0.9251,  0.7838,  1.7170,  1.7434,  1.1168,  0.1836,\n",
      "         -0.0165,  0.6201],\n",
      "        [-0.2211,  0.3342,  0.9634,  0.2206,  0.6772,  1.4589,  0.0882, -0.0219,\n",
      "          0.2561,  0.0855],\n",
      "        [-4.5097, -3.9594, -4.9472, -0.1974, -2.8187,  0.0526,  3.1790,  2.1627,\n",
      "          3.5498,  3.4172],\n",
      "        [-0.0786, -0.5184,  1.4416,  0.5602,  1.3426,  2.1362,  0.6874,  1.2080,\n",
      "          0.4685, -0.4197],\n",
      "        [-2.2749, -3.2202, -1.4507, -1.0300,  1.1920,  2.9273,  4.1296,  2.3651,\n",
      "          0.5581,  2.1227],\n",
      "        [-1.1285,  1.6900,  2.0185,  2.3834,  2.5300,  0.9159, -0.1342, -2.3689,\n",
      "         -0.7304,  0.6346],\n",
      "        [-1.7133, -1.0242, -0.0351, -0.2624,  1.3789,  2.5991,  2.4634,  2.6450,\n",
      "          2.3659,  2.0756],\n",
      "        [-2.2507, -0.8334, -0.4024, -0.7594,  1.7892,  2.3035,  2.5271,  2.7990,\n",
      "          1.1758,  1.2092],\n",
      "        [-3.1765, -5.4966, -3.2958, -3.3382, -0.8957,  2.5882,  4.4581,  1.8095,\n",
      "          1.9971, -0.6959],\n",
      "        [-0.7215,  0.1492,  0.9761,  0.1001,  0.6417,  1.1197,  0.5073,  0.2126,\n",
      "          0.0890,  0.0133],\n",
      "        [-4.4365, -2.7771, -1.4433, -2.7783,  0.5680,  3.2962,  3.1928,  4.1345,\n",
      "          2.9299,  2.1665],\n",
      "        [-0.0496,  1.5173,  2.5586,  1.7401,  2.6408,  0.5363, -0.2062, -1.4416,\n",
      "         -1.3541,  0.0587],\n",
      "        [-1.1693,  0.2323,  0.3934,  0.1806,  0.8376,  1.7822,  1.0289, -0.0099,\n",
      "          0.2186,  0.3972],\n",
      "        [-2.1054, -2.3399, -2.9588, -2.5776, -0.5438,  2.7886,  2.8705,  3.0333,\n",
      "          2.4842,  0.6055],\n",
      "        [-1.9922, -3.5957, -4.0381, -3.1410,  0.2328,  5.0559,  6.3240,  5.2535,\n",
      "          3.6959,  2.0399],\n",
      "        [-1.2613,  2.2213,  2.9296,  2.5727,  2.9055, -0.5554,  1.0290, -1.7497,\n",
      "         -2.7320,  0.4750],\n",
      "        [-1.8244, -1.6920, -0.1382,  0.0467,  2.0468,  3.4423,  2.9075,  3.9599,\n",
      "          0.8191,  1.9984],\n",
      "        [-0.7341, -1.1206,  0.1557,  1.2969,  2.1987,  1.1554,  1.2744, -0.3892,\n",
      "         -2.3141, -1.0618],\n",
      "        [-1.9761, -2.9157, -3.1111, -1.1408, -1.2649,  3.3088,  5.1285,  5.4407,\n",
      "          4.2882,  1.4547],\n",
      "        [-2.6404, -2.2642,  0.3391, -1.2719, -0.8096,  3.6268,  5.4231,  4.0804,\n",
      "          0.0195,  0.6155]], device='cuda:0', grad_fn=<AddmmBackward0>)\n",
      "Softmax output:\n",
      " tensor([[1.5160e-02, 3.5768e-02, 1.1400e-01, 8.6857e-02, 2.6708e-01, 2.0891e-01,\n",
      "         9.9065e-02, 7.1317e-02, 6.9546e-02, 3.2301e-02],\n",
      "        [1.0587e-03, 1.0073e-03, 5.3808e-03, 3.3406e-03, 5.9148e-03, 5.0481e-02,\n",
      "         3.2103e-01, 5.1810e-01, 8.9215e-02, 4.4769e-03],\n",
      "        [1.7545e-02, 5.5226e-03, 1.1052e-01, 6.7929e-02, 1.8155e-01, 3.8645e-01,\n",
      "         6.5897e-02, 4.3333e-02, 2.5756e-02, 9.5489e-02],\n",
      "        [1.0063e-04, 1.6406e-04, 3.7868e-05, 9.6282e-05, 1.9994e-04, 5.3255e-02,\n",
      "         5.5629e-01, 3.2842e-01, 5.9857e-02, 1.5780e-03],\n",
      "        [1.7046e-03, 1.6426e-03, 4.3746e-02, 1.5675e-02, 2.1463e-01, 1.4104e-01,\n",
      "         2.6947e-01, 2.1185e-01, 3.1757e-02, 6.8482e-02],\n",
      "        [1.2815e-02, 3.3429e-01, 2.1199e-01, 1.6335e-01, 1.6569e-01, 3.2945e-02,\n",
      "         1.3786e-02, 2.9355e-02, 2.3135e-02, 1.2649e-02],\n",
      "        [2.8065e-03, 1.6839e-02, 1.7551e-01, 6.7827e-02, 2.2010e-01, 2.4329e-01,\n",
      "         6.3331e-02, 7.1051e-02, 1.2811e-01, 1.1148e-02],\n",
      "        [2.5926e-02, 1.1717e-01, 1.4910e-01, 6.9253e-02, 1.5223e-01, 2.0352e-01,\n",
      "         1.2459e-01, 6.4484e-02, 2.6482e-02, 6.7240e-02],\n",
      "        [5.4819e-03, 2.3198e-03, 6.9737e-02, 1.0089e-02, 6.2651e-02, 1.7486e-01,\n",
      "         1.6777e-01, 3.5745e-01, 7.3122e-02, 7.6514e-02],\n",
      "        [2.9221e-03, 7.7569e-02, 6.6487e-01, 1.4542e-01, 3.0964e-02, 4.3969e-03,\n",
      "         5.6606e-02, 1.0359e-02, 1.1237e-03, 5.7748e-03],\n",
      "        [1.5589e-02, 2.7168e-02, 5.4448e-02, 2.7288e-02, 1.3267e-01, 1.1294e-01,\n",
      "         1.4742e-01, 2.9244e-01, 1.3751e-01, 5.2531e-02],\n",
      "        [4.9640e-03, 2.8054e-02, 9.9869e-03, 1.3587e-02, 6.4981e-02, 2.3078e-01,\n",
      "         2.5041e-01, 2.8634e-01, 7.9615e-02, 3.1281e-02],\n",
      "        [1.8680e-02, 3.5438e-02, 1.0330e-01, 8.9682e-02, 2.2802e-01, 2.3413e-01,\n",
      "         1.2513e-01, 4.9207e-02, 4.0286e-02, 7.6137e-02],\n",
      "        [4.7753e-02, 8.3208e-02, 1.5611e-01, 7.4271e-02, 1.1725e-01, 2.5622e-01,\n",
      "         6.5061e-02, 5.8282e-02, 7.6958e-02, 6.4889e-02],\n",
      "        [1.1004e-04, 1.9079e-04, 7.1045e-05, 8.2108e-03, 5.9695e-04, 1.0542e-02,\n",
      "         2.4027e-01, 8.6965e-02, 3.4814e-01, 3.0490e-01],\n",
      "        [3.3756e-02, 2.1745e-02, 1.5438e-01, 6.3946e-02, 1.3983e-01, 3.0918e-01,\n",
      "         7.2615e-02, 1.2221e-01, 5.8339e-02, 2.4001e-02],\n",
      "        [9.7350e-04, 3.7830e-04, 2.2197e-03, 3.3806e-03, 3.1191e-02, 1.7686e-01,\n",
      "         5.8854e-01, 1.0081e-01, 1.6547e-02, 7.9108e-02],\n",
      "        [7.6124e-03, 1.2751e-01, 1.7711e-01, 2.5510e-01, 2.9537e-01, 5.8799e-02,\n",
      "         2.0575e-02, 2.2019e-03, 1.1334e-02, 4.4381e-02],\n",
      "        [2.8103e-03, 5.5979e-03, 1.5051e-02, 1.1991e-02, 6.1895e-02, 2.0970e-01,\n",
      "         1.8309e-01, 2.1954e-01, 1.6608e-01, 1.2424e-01],\n",
      "        [1.9796e-03, 8.1674e-03, 1.2568e-02, 8.7949e-03, 1.1247e-01, 1.8811e-01,\n",
      "         2.3524e-01, 3.0878e-01, 6.0909e-02, 6.2975e-02],\n",
      "        [3.6563e-04, 3.5927e-05, 3.2452e-04, 3.1104e-04, 3.5776e-03, 1.1658e-01,\n",
      "         7.5637e-01, 5.3509e-02, 6.4556e-02, 4.3689e-03],\n",
      "        [3.1613e-02, 7.5508e-02, 1.7264e-01, 7.1894e-02, 1.2356e-01, 1.9928e-01,\n",
      "         1.0803e-01, 8.0452e-02, 7.1100e-02, 6.5916e-02],\n",
      "        [8.2538e-05, 4.3385e-04, 1.6465e-03, 4.3332e-04, 1.2305e-02, 1.8834e-01,\n",
      "         1.6982e-01, 4.3551e-01, 1.3057e-01, 6.0857e-02],\n",
      "        [2.2534e-02, 1.0798e-01, 3.0588e-01, 1.3493e-01, 3.3210e-01, 4.0484e-02,\n",
      "         1.9267e-02, 5.6015e-03, 6.1138e-03, 2.5112e-02],\n",
      "        [1.6325e-02, 6.6305e-02, 7.7896e-02, 6.2959e-02, 1.2146e-01, 3.1237e-01,\n",
      "         1.4706e-01, 5.2043e-02, 6.5399e-02, 7.8191e-02],\n",
      "        [1.7545e-03, 1.3878e-03, 7.4736e-04, 1.0942e-03, 8.3626e-03, 2.3419e-01,\n",
      "         2.5419e-01, 2.9914e-01, 1.7274e-01, 2.6393e-02],\n",
      "        [1.4275e-04, 2.8722e-05, 1.8453e-05, 4.5256e-05, 1.3210e-03, 1.6426e-01,\n",
      "         5.8382e-01, 2.0016e-01, 4.2161e-02, 8.0483e-03],\n",
      "        [4.3705e-03, 1.4223e-01, 2.8882e-01, 2.0212e-01, 2.8194e-01, 8.8537e-03,\n",
      "         4.3170e-02, 2.6817e-03, 1.0042e-03, 2.4809e-02],\n",
      "        [1.3258e-03, 1.5135e-03, 7.1577e-03, 8.6113e-03, 6.3638e-02, 2.5690e-01,\n",
      "         1.5049e-01, 4.3109e-01, 1.8644e-02, 6.0634e-02],\n",
      "        [2.1311e-02, 1.4480e-02, 5.1885e-02, 1.6243e-01, 4.0023e-01, 1.4101e-01,\n",
      "         1.5882e-01, 3.0090e-02, 4.3895e-03, 1.5357e-02],\n",
      "        [2.7465e-04, 1.0733e-04, 8.8277e-05, 6.3323e-04, 5.5932e-04, 5.4200e-02,\n",
      "         3.3438e-01, 4.5695e-01, 1.4432e-01, 8.4866e-03],\n",
      "        [2.1715e-04, 3.1631e-04, 4.2730e-03, 8.5325e-04, 1.3547e-03, 1.1444e-01,\n",
      "         6.8969e-01, 1.8012e-01, 3.1040e-03, 5.6335e-03]], device='cuda:0',\n",
      "       grad_fn=<SoftmaxBackward0>)\n",
      "Prediction:\n",
      " tensor([4, 7, 5, 6, 6, 1, 5, 5, 7, 2, 7, 7, 5, 5, 8, 5, 6, 4, 7, 7, 6, 5, 7, 4,\n",
      "        5, 7, 6, 2, 7, 4, 7, 6], device='cuda:0')\n",
      "Ground truth:\n",
      " tensor([4, 6, 3, 7, 5, 1, 3, 2, 7, 1, 6, 7, 1, 4, 8, 5, 7, 5, 6, 7, 5, 1, 7, 3,\n",
      "        1, 9, 6, 2, 8, 3, 7, 7], device='cuda:0')\n"
     ]
    }
   ],
   "source": [
    "images, traversal_scores = next(iter(test_loader))\n",
    "\n",
    "images = images.to(device)\n",
    "traversal_scores = traversal_scores.to(device)\n",
    "\n",
    "predicted_traversal_scores = model(images)\n",
    "# predicted_traversal_scores = nn.Softmax(dim=1)(model(images))\n",
    "\n",
    "print(\"Output:\\n\", predicted_traversal_scores)\n",
    "print(\"Softmax output:\\n\", nn.Softmax(dim=1)(predicted_traversal_scores))\n",
    "print(\"Prediction:\\n\", torch.argmax(predicted_traversal_scores, dim=1))\n",
    "print(\"Ground truth:\\n\", traversal_scores)\n",
    "\n",
    "# print(predicted_traversal_scores-traversal_scores)\n",
    "\n",
    "# predicted_traversal_scores = predicted_traversal_scores.to(\"cpu\").detach().numpy()\n",
    "# plt.hist(predicted_traversal_scores)\n"
   ]
  },
  {
   "cell_type": "code",
   "execution_count": 74,
   "metadata": {},
   "outputs": [
    {
     "data": {
      "text/plain": [
       "(array([  58.,  323.,  565.,  727.,  665.,  921., 1330., 1083.,  458.,\n",
       "         109.]),\n",
       " array([0. , 0.9, 1.8, 2.7, 3.6, 4.5, 5.4, 6.3, 7.2, 8.1, 9. ]),\n",
       " <a list of 10 Patch objects>)"
      ]
     },
     "execution_count": 74,
     "metadata": {},
     "output_type": "execute_result"
    },
    {
     "data": {
      "image/png": "[encoded data removed]",
      "text/plain": [
       "<Figure size 640x480 with 1 Axes>"
      ]
     },
     "metadata": {},
     "output_type": "display_data"
    }
   ],
   "source": [
    "traversal_scores_train = []\n",
    "\n",
    "for _, score in train_set:\n",
    "    traversal_scores_train.append(score)\n",
    "    \n",
    "# print(traversal_scores_train)\n",
    "plt.hist(traversal_scores_train, bins=10)"
   ]
  },
  {
   "attachments": {},
   "cell_type": "markdown",
   "metadata": {},
   "source": [
    "## Save model parameters"
   ]
  },
  {
   "cell_type": "code",
   "execution_count": null,
   "metadata": {},
   "outputs": [],
   "source": [
    "# Save the model parameters\n",
    "torch.save(model.state_dict(), \"resnet18_fine_tuned_3+8bags_3var3sc_classification_kmeans_100epochs.params\")"
   ]
  }
 ],
 "metadata": {
  "kernelspec": {
   "display_name": "Python 3",
   "language": "python",
   "name": "python3"
  },
  "language_info": {
   "codemirror_mode": {
    "name": "ipython",
    "version": 3
   },
   "file_extension": ".py",
   "mimetype": "text/x-python",
   "name": "python",
   "nbconvert_exporter": "python",
   "pygments_lexer": "ipython3",
   "version": "3.8.10"
  },
  "orig_nbformat": 4,
  "vscode": {
   "interpreter": {
    "hash": "916dbcbb3f70747c44a77c7bcd40155683ae19c65e1c03b4aa3499c5328201f1"
   }
  }
 },
 "nbformat": 4,
 "nbformat_minor": 2
}
